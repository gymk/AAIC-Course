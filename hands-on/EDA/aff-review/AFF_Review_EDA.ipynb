{
  "nbformat": 4,
  "nbformat_minor": 0,
  "metadata": {
    "colab": {
      "name": "AFF-Review-EDA.ipynb",
      "version": "0.3.2",
      "provenance": [],
      "toc_visible": true
    },
    "kernelspec": {
      "name": "python3",
      "display_name": "Python 3"
    }
  },
  "cells": [
    {
      "metadata": {
        "id": "iQNc_cKjv4Xr",
        "colab_type": "text"
      },
      "cell_type": "markdown",
      "source": [
        " EDA on Amazon Fine Food Review dataset\n",
        " ==="
      ]
    },
    {
      "metadata": {
        "id": "BUiYVTCwuJfD",
        "colab_type": "text"
      },
      "cell_type": "markdown",
      "source": [
        "# Mount Google Drive"
      ]
    },
    {
      "metadata": {
        "id": "EHswEYeuNl6n",
        "colab_type": "code",
        "colab": {
          "base_uri": "https://localhost:8080/",
          "height": 34
        },
        "outputId": "d054c0c1-2d88-4144-90e0-cbe13347d1b7"
      },
      "cell_type": "code",
      "source": [
        "# Mouting Google Drive\n",
        "from google.colab import drive\n",
        "drive.mount('/content/drive')"
      ],
      "execution_count": 1,
      "outputs": [
        {
          "output_type": "stream",
          "text": [
            "Drive already mounted at /content/drive; to attempt to forcibly remount, call drive.mount(\"/content/drive\", force_remount=True).\n"
          ],
          "name": "stdout"
        }
      ]
    },
    {
      "metadata": {
        "id": "tzsW1bPxuOA0",
        "colab_type": "text"
      },
      "cell_type": "markdown",
      "source": [
        "# Import Required Modules"
      ]
    },
    {
      "metadata": {
        "id": "NFRleFnorUVi",
        "colab_type": "code",
        "colab": {}
      },
      "cell_type": "code",
      "source": [
        "import sqlite3\n",
        "import pandas as pd\n",
        "import numpy as np"
      ],
      "execution_count": 0,
      "outputs": []
    },
    {
      "metadata": {
        "id": "Z5p4AvmYuSfR",
        "colab_type": "text"
      },
      "cell_type": "markdown",
      "source": [
        "# Load Data"
      ]
    },
    {
      "metadata": {
        "id": "pGhcctjOrVd1",
        "colab_type": "code",
        "colab": {
          "base_uri": "https://localhost:8080/",
          "height": 459
        },
        "outputId": "4dc0497f-1509-4834-b85e-8a515833e0a9"
      },
      "cell_type": "code",
      "source": [
        "# Using sqlite read data from the database\n",
        "con = sqlite3.connect('/content/drive/My Drive/Colab Notebooks/AFF-Review/database.sqlite')\n",
        "\n",
        "# Get reviews which do not have score as 3\n",
        "filtered_data = pd.read_sql_query(\"\"\" SELECT * FROM Reviews WHERE Score != 3 \"\"\", con)\n",
        "filtered_data.head()"
      ],
      "execution_count": 3,
      "outputs": [
        {
          "output_type": "execute_result",
          "data": {
            "text/html": [
              "<div>\n",
              "<style scoped>\n",
              "    .dataframe tbody tr th:only-of-type {\n",
              "        vertical-align: middle;\n",
              "    }\n",
              "\n",
              "    .dataframe tbody tr th {\n",
              "        vertical-align: top;\n",
              "    }\n",
              "\n",
              "    .dataframe thead th {\n",
              "        text-align: right;\n",
              "    }\n",
              "</style>\n",
              "<table border=\"1\" class=\"dataframe\">\n",
              "  <thead>\n",
              "    <tr style=\"text-align: right;\">\n",
              "      <th></th>\n",
              "      <th>Id</th>\n",
              "      <th>ProductId</th>\n",
              "      <th>UserId</th>\n",
              "      <th>ProfileName</th>\n",
              "      <th>HelpfulnessNumerator</th>\n",
              "      <th>HelpfulnessDenominator</th>\n",
              "      <th>Score</th>\n",
              "      <th>Time</th>\n",
              "      <th>Summary</th>\n",
              "      <th>Text</th>\n",
              "    </tr>\n",
              "  </thead>\n",
              "  <tbody>\n",
              "    <tr>\n",
              "      <th>0</th>\n",
              "      <td>1</td>\n",
              "      <td>B001E4KFG0</td>\n",
              "      <td>A3SGXH7AUHU8GW</td>\n",
              "      <td>delmartian</td>\n",
              "      <td>1</td>\n",
              "      <td>1</td>\n",
              "      <td>5</td>\n",
              "      <td>1303862400</td>\n",
              "      <td>Good Quality Dog Food</td>\n",
              "      <td>I have bought several of the Vitality canned d...</td>\n",
              "    </tr>\n",
              "    <tr>\n",
              "      <th>1</th>\n",
              "      <td>2</td>\n",
              "      <td>B00813GRG4</td>\n",
              "      <td>A1D87F6ZCVE5NK</td>\n",
              "      <td>dll pa</td>\n",
              "      <td>0</td>\n",
              "      <td>0</td>\n",
              "      <td>1</td>\n",
              "      <td>1346976000</td>\n",
              "      <td>Not as Advertised</td>\n",
              "      <td>Product arrived labeled as Jumbo Salted Peanut...</td>\n",
              "    </tr>\n",
              "    <tr>\n",
              "      <th>2</th>\n",
              "      <td>3</td>\n",
              "      <td>B000LQOCH0</td>\n",
              "      <td>ABXLMWJIXXAIN</td>\n",
              "      <td>Natalia Corres \"Natalia Corres\"</td>\n",
              "      <td>1</td>\n",
              "      <td>1</td>\n",
              "      <td>4</td>\n",
              "      <td>1219017600</td>\n",
              "      <td>\"Delight\" says it all</td>\n",
              "      <td>This is a confection that has been around a fe...</td>\n",
              "    </tr>\n",
              "    <tr>\n",
              "      <th>3</th>\n",
              "      <td>4</td>\n",
              "      <td>B000UA0QIQ</td>\n",
              "      <td>A395BORC6FGVXV</td>\n",
              "      <td>Karl</td>\n",
              "      <td>3</td>\n",
              "      <td>3</td>\n",
              "      <td>2</td>\n",
              "      <td>1307923200</td>\n",
              "      <td>Cough Medicine</td>\n",
              "      <td>If you are looking for the secret ingredient i...</td>\n",
              "    </tr>\n",
              "    <tr>\n",
              "      <th>4</th>\n",
              "      <td>5</td>\n",
              "      <td>B006K2ZZ7K</td>\n",
              "      <td>A1UQRSCLF8GW1T</td>\n",
              "      <td>Michael D. Bigham \"M. Wassir\"</td>\n",
              "      <td>0</td>\n",
              "      <td>0</td>\n",
              "      <td>5</td>\n",
              "      <td>1350777600</td>\n",
              "      <td>Great taffy</td>\n",
              "      <td>Great taffy at a great price.  There was a wid...</td>\n",
              "    </tr>\n",
              "  </tbody>\n",
              "</table>\n",
              "</div>"
            ],
            "text/plain": [
              "   Id   ProductId          UserId                      ProfileName  \\\n",
              "0   1  B001E4KFG0  A3SGXH7AUHU8GW                       delmartian   \n",
              "1   2  B00813GRG4  A1D87F6ZCVE5NK                           dll pa   \n",
              "2   3  B000LQOCH0   ABXLMWJIXXAIN  Natalia Corres \"Natalia Corres\"   \n",
              "3   4  B000UA0QIQ  A395BORC6FGVXV                             Karl   \n",
              "4   5  B006K2ZZ7K  A1UQRSCLF8GW1T    Michael D. Bigham \"M. Wassir\"   \n",
              "\n",
              "   HelpfulnessNumerator  HelpfulnessDenominator  Score        Time  \\\n",
              "0                     1                       1      5  1303862400   \n",
              "1                     0                       0      1  1346976000   \n",
              "2                     1                       1      4  1219017600   \n",
              "3                     3                       3      2  1307923200   \n",
              "4                     0                       0      5  1350777600   \n",
              "\n",
              "                 Summary                                               Text  \n",
              "0  Good Quality Dog Food  I have bought several of the Vitality canned d...  \n",
              "1      Not as Advertised  Product arrived labeled as Jumbo Salted Peanut...  \n",
              "2  \"Delight\" says it all  This is a confection that has been around a fe...  \n",
              "3         Cough Medicine  If you are looking for the secret ingredient i...  \n",
              "4            Great taffy  Great taffy at a great price.  There was a wid...  "
            ]
          },
          "metadata": {
            "tags": []
          },
          "execution_count": 3
        }
      ]
    },
    {
      "metadata": {
        "id": "XMJfYN6zs2oK",
        "colab_type": "text"
      },
      "cell_type": "markdown",
      "source": [
        "# Highlevel Statistics"
      ]
    },
    {
      "metadata": {
        "id": "oyMOh4EEs11i",
        "colab_type": "code",
        "colab": {
          "base_uri": "https://localhost:8080/",
          "height": 297
        },
        "outputId": "580cb7f7-bc2a-43d0-ce79-6d94005cf082"
      },
      "cell_type": "code",
      "source": [
        "filtered_data.describe()"
      ],
      "execution_count": 4,
      "outputs": [
        {
          "output_type": "execute_result",
          "data": {
            "text/html": [
              "<div>\n",
              "<style scoped>\n",
              "    .dataframe tbody tr th:only-of-type {\n",
              "        vertical-align: middle;\n",
              "    }\n",
              "\n",
              "    .dataframe tbody tr th {\n",
              "        vertical-align: top;\n",
              "    }\n",
              "\n",
              "    .dataframe thead th {\n",
              "        text-align: right;\n",
              "    }\n",
              "</style>\n",
              "<table border=\"1\" class=\"dataframe\">\n",
              "  <thead>\n",
              "    <tr style=\"text-align: right;\">\n",
              "      <th></th>\n",
              "      <th>Id</th>\n",
              "      <th>HelpfulnessNumerator</th>\n",
              "      <th>HelpfulnessDenominator</th>\n",
              "      <th>Score</th>\n",
              "      <th>Time</th>\n",
              "    </tr>\n",
              "  </thead>\n",
              "  <tbody>\n",
              "    <tr>\n",
              "      <th>count</th>\n",
              "      <td>525814.000000</td>\n",
              "      <td>525814.000000</td>\n",
              "      <td>525814.000000</td>\n",
              "      <td>525814.000000</td>\n",
              "      <td>5.258140e+05</td>\n",
              "    </tr>\n",
              "    <tr>\n",
              "      <th>mean</th>\n",
              "      <td>284599.060038</td>\n",
              "      <td>1.747293</td>\n",
              "      <td>2.209544</td>\n",
              "      <td>4.279148</td>\n",
              "      <td>1.295943e+09</td>\n",
              "    </tr>\n",
              "    <tr>\n",
              "      <th>std</th>\n",
              "      <td>163984.038077</td>\n",
              "      <td>7.575819</td>\n",
              "      <td>8.195329</td>\n",
              "      <td>1.316725</td>\n",
              "      <td>4.828129e+07</td>\n",
              "    </tr>\n",
              "    <tr>\n",
              "      <th>min</th>\n",
              "      <td>1.000000</td>\n",
              "      <td>0.000000</td>\n",
              "      <td>0.000000</td>\n",
              "      <td>1.000000</td>\n",
              "      <td>9.393408e+08</td>\n",
              "    </tr>\n",
              "    <tr>\n",
              "      <th>25%</th>\n",
              "      <td>142730.250000</td>\n",
              "      <td>0.000000</td>\n",
              "      <td>0.000000</td>\n",
              "      <td>4.000000</td>\n",
              "      <td>1.270598e+09</td>\n",
              "    </tr>\n",
              "    <tr>\n",
              "      <th>50%</th>\n",
              "      <td>284989.500000</td>\n",
              "      <td>0.000000</td>\n",
              "      <td>1.000000</td>\n",
              "      <td>5.000000</td>\n",
              "      <td>1.310861e+09</td>\n",
              "    </tr>\n",
              "    <tr>\n",
              "      <th>75%</th>\n",
              "      <td>426446.750000</td>\n",
              "      <td>2.000000</td>\n",
              "      <td>2.000000</td>\n",
              "      <td>5.000000</td>\n",
              "      <td>1.332634e+09</td>\n",
              "    </tr>\n",
              "    <tr>\n",
              "      <th>max</th>\n",
              "      <td>568454.000000</td>\n",
              "      <td>866.000000</td>\n",
              "      <td>878.000000</td>\n",
              "      <td>5.000000</td>\n",
              "      <td>1.351210e+09</td>\n",
              "    </tr>\n",
              "  </tbody>\n",
              "</table>\n",
              "</div>"
            ],
            "text/plain": [
              "                  Id  HelpfulnessNumerator  HelpfulnessDenominator  \\\n",
              "count  525814.000000         525814.000000           525814.000000   \n",
              "mean   284599.060038              1.747293                2.209544   \n",
              "std    163984.038077              7.575819                8.195329   \n",
              "min         1.000000              0.000000                0.000000   \n",
              "25%    142730.250000              0.000000                0.000000   \n",
              "50%    284989.500000              0.000000                1.000000   \n",
              "75%    426446.750000              2.000000                2.000000   \n",
              "max    568454.000000            866.000000              878.000000   \n",
              "\n",
              "               Score          Time  \n",
              "count  525814.000000  5.258140e+05  \n",
              "mean        4.279148  1.295943e+09  \n",
              "std         1.316725  4.828129e+07  \n",
              "min         1.000000  9.393408e+08  \n",
              "25%         4.000000  1.270598e+09  \n",
              "50%         5.000000  1.310861e+09  \n",
              "75%         5.000000  1.332634e+09  \n",
              "max         5.000000  1.351210e+09  "
            ]
          },
          "metadata": {
            "tags": []
          },
          "execution_count": 4
        }
      ]
    },
    {
      "metadata": {
        "id": "aA98xN2syNkZ",
        "colab_type": "text"
      },
      "cell_type": "markdown",
      "source": [
        "## Features/ Labels"
      ]
    },
    {
      "metadata": {
        "id": "P_1bF4ias-c-",
        "colab_type": "code",
        "colab": {
          "base_uri": "https://localhost:8080/",
          "height": 68
        },
        "outputId": "346d6f83-f814-4ae3-99d3-d04cdeb1d111"
      },
      "cell_type": "code",
      "source": [
        "filtered_data.columns"
      ],
      "execution_count": 5,
      "outputs": [
        {
          "output_type": "execute_result",
          "data": {
            "text/plain": [
              "Index(['Id', 'ProductId', 'UserId', 'ProfileName', 'HelpfulnessNumerator',\n",
              "       'HelpfulnessDenominator', 'Score', 'Time', 'Summary', 'Text'],\n",
              "      dtype='object')"
            ]
          },
          "metadata": {
            "tags": []
          },
          "execution_count": 5
        }
      ]
    },
    {
      "metadata": {
        "id": "dOAjn_7UtBt1",
        "colab_type": "code",
        "colab": {
          "base_uri": "https://localhost:8080/",
          "height": 204
        },
        "outputId": "699e44c3-4ed2-4789-fd3c-5dcff4237f06"
      },
      "cell_type": "code",
      "source": [
        "filtered_data.dtypes"
      ],
      "execution_count": 6,
      "outputs": [
        {
          "output_type": "execute_result",
          "data": {
            "text/plain": [
              "Id                         int64\n",
              "ProductId                 object\n",
              "UserId                    object\n",
              "ProfileName               object\n",
              "HelpfulnessNumerator       int64\n",
              "HelpfulnessDenominator     int64\n",
              "Score                      int64\n",
              "Time                       int64\n",
              "Summary                   object\n",
              "Text                      object\n",
              "dtype: object"
            ]
          },
          "metadata": {
            "tags": []
          },
          "execution_count": 6
        }
      ]
    },
    {
      "metadata": {
        "id": "9vCWWfniyVSQ",
        "colab_type": "text"
      },
      "cell_type": "markdown",
      "source": [
        "### Observation\n",
        "- Totally 10 features given\n",
        "- No labels given\n",
        "- From Kaggle below information I have obtained about teach feature\n",
        "  - https://www.kaggle.com/snap/amazon-fine-food-reviews\n",
        "- Id\n",
        "  - Row Id\n",
        "- ProductId\n",
        "  - Unique identifier for the product\n",
        "- UserId\n",
        "  - Unqiue identifier for the user\n",
        "- ProfileName\n",
        "  - Profile name of the user\n",
        "- HelpfulnessNumerator\n",
        "  - Number of users who found the review helpful\n",
        "- HelpfulnessDenominator\n",
        "  - Number of users who indicated whether they found the review helpful\n",
        "- Score\n",
        "  - Rating between 1 and 5\n",
        "- Time\n",
        "  - Timestamp for the review\n",
        "- Summary\n",
        "  - Brief summary of the review\n",
        "- Text\n",
        "  - Text of the review"
      ]
    },
    {
      "metadata": {
        "id": "80EtBiCmz6in",
        "colab_type": "text"
      },
      "cell_type": "markdown",
      "source": [
        "# Data Cleaning"
      ]
    },
    {
      "metadata": {
        "id": "gPu-A1qOz9Gw",
        "colab_type": "text"
      },
      "cell_type": "markdown",
      "source": [
        "## Analysis"
      ]
    },
    {
      "metadata": {
        "id": "N0-Ofr4qvphE",
        "colab_type": "text"
      },
      "cell_type": "markdown",
      "source": [
        "### Id"
      ]
    },
    {
      "metadata": {
        "id": "ihRJz7xHtDB7",
        "colab_type": "code",
        "colab": {
          "base_uri": "https://localhost:8080/",
          "height": 34
        },
        "outputId": "6e9a5361-6783-41d0-c44d-d04bd03ded54"
      },
      "cell_type": "code",
      "source": [
        "u = filtered_data.Id.value_counts()\n",
        "u.unique()"
      ],
      "execution_count": 7,
      "outputs": [
        {
          "output_type": "execute_result",
          "data": {
            "text/plain": [
              "array([1])"
            ]
          },
          "metadata": {
            "tags": []
          },
          "execution_count": 7
        }
      ]
    },
    {
      "metadata": {
        "id": "1zdqMsx6vP6q",
        "colab_type": "text"
      },
      "cell_type": "markdown",
      "source": [
        "#### Observation\n",
        "- No Id repeation"
      ]
    },
    {
      "metadata": {
        "id": "fqq24DJivtxa",
        "colab_type": "text"
      },
      "cell_type": "markdown",
      "source": [
        "### ProductId"
      ]
    },
    {
      "metadata": {
        "id": "fxAoM0yTvScQ",
        "colab_type": "code",
        "colab": {
          "base_uri": "https://localhost:8080/",
          "height": 34
        },
        "outputId": "6649c45e-65d8-439d-cadf-736af1451446"
      },
      "cell_type": "code",
      "source": [
        "len(filtered_data.ProductId.unique())"
      ],
      "execution_count": 8,
      "outputs": [
        {
          "output_type": "execute_result",
          "data": {
            "text/plain": [
              "72005"
            ]
          },
          "metadata": {
            "tags": []
          },
          "execution_count": 8
        }
      ]
    },
    {
      "metadata": {
        "id": "Rxxennk6wnIV",
        "colab_type": "text"
      },
      "cell_type": "markdown",
      "source": [
        "#### Observation\n",
        "- 72005 Products"
      ]
    },
    {
      "metadata": {
        "id": "0dww1DUlwwuT",
        "colab_type": "text"
      },
      "cell_type": "markdown",
      "source": [
        "### UserId"
      ]
    },
    {
      "metadata": {
        "id": "EVCROWUnvdEa",
        "colab_type": "code",
        "colab": {
          "base_uri": "https://localhost:8080/",
          "height": 34
        },
        "outputId": "4cf68f7a-0652-46bf-a7bd-c5e465ff03ac"
      },
      "cell_type": "code",
      "source": [
        "len(filtered_data.UserId.unique())"
      ],
      "execution_count": 9,
      "outputs": [
        {
          "output_type": "execute_result",
          "data": {
            "text/plain": [
              "243414"
            ]
          },
          "metadata": {
            "tags": []
          },
          "execution_count": 9
        }
      ]
    },
    {
      "metadata": {
        "id": "eJnN4_azw3oB",
        "colab_type": "text"
      },
      "cell_type": "markdown",
      "source": [
        "#### Observation\n",
        "- 243414 Users"
      ]
    },
    {
      "metadata": {
        "id": "GUA0qq4_xEcA",
        "colab_type": "text"
      },
      "cell_type": "markdown",
      "source": [
        "### HelpfulnessNumerator "
      ]
    },
    {
      "metadata": {
        "id": "taWumONlw2y8",
        "colab_type": "code",
        "colab": {
          "base_uri": "https://localhost:8080/",
          "height": 34
        },
        "outputId": "9fb2e434-f577-4b8e-fc50-8d7600da4048"
      },
      "cell_type": "code",
      "source": [
        "print(filtered_data.HelpfulnessNumerator.min(),\n",
        "      filtered_data.HelpfulnessNumerator.max(),\n",
        "      len(filtered_data.HelpfulnessNumerator.unique()))"
      ],
      "execution_count": 10,
      "outputs": [
        {
          "output_type": "stream",
          "text": [
            "0 866 222\n"
          ],
          "name": "stdout"
        }
      ]
    },
    {
      "metadata": {
        "id": "n0bQgQW8xVaI",
        "colab_type": "text"
      },
      "cell_type": "markdown",
      "source": [
        "#### Observation\n",
        "- value ranges from 0 to 808\n",
        "- 222 unique entries"
      ]
    },
    {
      "metadata": {
        "id": "IfijHZlcxxhQ",
        "colab_type": "text"
      },
      "cell_type": "markdown",
      "source": [
        "### HelpfulnessDenominator"
      ]
    },
    {
      "metadata": {
        "id": "1dlsXJ18xOTE",
        "colab_type": "code",
        "colab": {
          "base_uri": "https://localhost:8080/",
          "height": 34
        },
        "outputId": "af5b79b9-a588-4b8c-f0e8-f272da20720a"
      },
      "cell_type": "code",
      "source": [
        "print(filtered_data.HelpfulnessDenominator.min(),\n",
        "      filtered_data.HelpfulnessDenominator.max(),\n",
        "      len(filtered_data.HelpfulnessDenominator.unique()))"
      ],
      "execution_count": 11,
      "outputs": [
        {
          "output_type": "stream",
          "text": [
            "0 878 227\n"
          ],
          "name": "stdout"
        }
      ]
    },
    {
      "metadata": {
        "id": "ift3j0fL0VJz",
        "colab_type": "code",
        "colab": {
          "base_uri": "https://localhost:8080/",
          "height": 230
        },
        "outputId": "25b83988-cf2d-41e8-db7e-d2be3aaf086e"
      },
      "cell_type": "code",
      "source": [
        "# As per feature details, Denominator should be greater than Numerator\n",
        "# Lets check whether the data follows that description\n",
        "filtered_data[(filtered_data.HelpfulnessDenominator < filtered_data.HelpfulnessNumerator)]"
      ],
      "execution_count": 12,
      "outputs": [
        {
          "output_type": "execute_result",
          "data": {
            "text/html": [
              "<div>\n",
              "<style scoped>\n",
              "    .dataframe tbody tr th:only-of-type {\n",
              "        vertical-align: middle;\n",
              "    }\n",
              "\n",
              "    .dataframe tbody tr th {\n",
              "        vertical-align: top;\n",
              "    }\n",
              "\n",
              "    .dataframe thead th {\n",
              "        text-align: right;\n",
              "    }\n",
              "</style>\n",
              "<table border=\"1\" class=\"dataframe\">\n",
              "  <thead>\n",
              "    <tr style=\"text-align: right;\">\n",
              "      <th></th>\n",
              "      <th>Id</th>\n",
              "      <th>ProductId</th>\n",
              "      <th>UserId</th>\n",
              "      <th>ProfileName</th>\n",
              "      <th>HelpfulnessNumerator</th>\n",
              "      <th>HelpfulnessDenominator</th>\n",
              "      <th>Score</th>\n",
              "      <th>Time</th>\n",
              "      <th>Summary</th>\n",
              "      <th>Text</th>\n",
              "    </tr>\n",
              "  </thead>\n",
              "  <tbody>\n",
              "    <tr>\n",
              "      <th>41159</th>\n",
              "      <td>44737</td>\n",
              "      <td>B001EQ55RW</td>\n",
              "      <td>A2V0I904FH7ABY</td>\n",
              "      <td>Ram</td>\n",
              "      <td>3</td>\n",
              "      <td>2</td>\n",
              "      <td>4</td>\n",
              "      <td>1212883200</td>\n",
              "      <td>Pure cocoa taste with crunchy almonds inside</td>\n",
              "      <td>It was almost a 'love at first bite' - the per...</td>\n",
              "    </tr>\n",
              "    <tr>\n",
              "      <th>59301</th>\n",
              "      <td>64422</td>\n",
              "      <td>B000MIDROQ</td>\n",
              "      <td>A161DK06JJMCYF</td>\n",
              "      <td>J. E. Stephens \"Jeanne\"</td>\n",
              "      <td>3</td>\n",
              "      <td>1</td>\n",
              "      <td>5</td>\n",
              "      <td>1224892800</td>\n",
              "      <td>Bought This for My Son at College</td>\n",
              "      <td>My son loves spaghetti so I didn't hesitate or...</td>\n",
              "    </tr>\n",
              "  </tbody>\n",
              "</table>\n",
              "</div>"
            ],
            "text/plain": [
              "          Id   ProductId          UserId              ProfileName  \\\n",
              "41159  44737  B001EQ55RW  A2V0I904FH7ABY                      Ram   \n",
              "59301  64422  B000MIDROQ  A161DK06JJMCYF  J. E. Stephens \"Jeanne\"   \n",
              "\n",
              "       HelpfulnessNumerator  HelpfulnessDenominator  Score        Time  \\\n",
              "41159                     3                       2      4  1212883200   \n",
              "59301                     3                       1      5  1224892800   \n",
              "\n",
              "                                            Summary  \\\n",
              "41159  Pure cocoa taste with crunchy almonds inside   \n",
              "59301             Bought This for My Son at College   \n",
              "\n",
              "                                                    Text  \n",
              "41159  It was almost a 'love at first bite' - the per...  \n",
              "59301  My son loves spaghetti so I didn't hesitate or...  "
            ]
          },
          "metadata": {
            "tags": []
          },
          "execution_count": 12
        }
      ]
    },
    {
      "metadata": {
        "id": "ITb9AZQyx1No",
        "colab_type": "text"
      },
      "cell_type": "markdown",
      "source": [
        "#### Observation\n",
        "- value ranges from 0 to 878\n",
        "- 227 unique entries\n",
        "- **2 invalid entries found**\n",
        "  - Denominator is greater than Numerator"
      ]
    },
    {
      "metadata": {
        "id": "QiC1FBva1TzQ",
        "colab_type": "text"
      },
      "cell_type": "markdown",
      "source": [
        "### Score"
      ]
    },
    {
      "metadata": {
        "id": "0860X5gkx3-W",
        "colab_type": "code",
        "colab": {
          "base_uri": "https://localhost:8080/",
          "height": 34
        },
        "outputId": "eb133ad3-53b7-4f83-bcdc-bb3d0d5ca636"
      },
      "cell_type": "code",
      "source": [
        "filtered_data.Score.unique()"
      ],
      "execution_count": 13,
      "outputs": [
        {
          "output_type": "execute_result",
          "data": {
            "text/plain": [
              "array([5, 1, 4, 2])"
            ]
          },
          "metadata": {
            "tags": []
          },
          "execution_count": 13
        }
      ]
    },
    {
      "metadata": {
        "id": "5FqQq3vw1u6P",
        "colab_type": "code",
        "colab": {
          "base_uri": "https://localhost:8080/",
          "height": 102
        },
        "outputId": "13bdbc2b-153a-4fb1-ae6b-9212da09ab08"
      },
      "cell_type": "code",
      "source": [
        "filtered_data.Score.value_counts()"
      ],
      "execution_count": 14,
      "outputs": [
        {
          "output_type": "execute_result",
          "data": {
            "text/plain": [
              "5    363122\n",
              "4     80655\n",
              "1     52268\n",
              "2     29769\n",
              "Name: Score, dtype: int64"
            ]
          },
          "metadata": {
            "tags": []
          },
          "execution_count": 14
        }
      ]
    },
    {
      "metadata": {
        "id": "gzd9lMqp1eeZ",
        "colab_type": "text"
      },
      "cell_type": "markdown",
      "source": [
        "#### Observation\n",
        "- Scores range from 1 to 5 only\n",
        "- No invalid entries found\n",
        "- **No equal amount of data points for each score**\n",
        "  - We have an IMBALANCED dataset"
      ]
    },
    {
      "metadata": {
        "id": "itq13tbI2CiL",
        "colab_type": "text"
      },
      "cell_type": "markdown",
      "source": [
        "### Time"
      ]
    },
    {
      "metadata": {
        "id": "tGA6Zfra1cLc",
        "colab_type": "code",
        "colab": {
          "base_uri": "https://localhost:8080/",
          "height": 34
        },
        "outputId": "fd0d0cfd-6e34-4d39-ead4-89acaee73ef7"
      },
      "cell_type": "code",
      "source": [
        "len(filtered_data.Time.unique())"
      ],
      "execution_count": 15,
      "outputs": [
        {
          "output_type": "execute_result",
          "data": {
            "text/plain": [
              "3157"
            ]
          },
          "metadata": {
            "tags": []
          },
          "execution_count": 15
        }
      ]
    },
    {
      "metadata": {
        "id": "kdMNXasC2J0r",
        "colab_type": "code",
        "colab": {}
      },
      "cell_type": "code",
      "source": [
        "#filtered_data['Time'].value_counts()"
      ],
      "execution_count": 0,
      "outputs": []
    },
    {
      "metadata": {
        "id": "ruY7ehAR2TlA",
        "colab_type": "code",
        "colab": {}
      },
      "cell_type": "code",
      "source": [
        "# Check whether any entry with same time for more than one product\n",
        "# which is practically not possible\n",
        "userid_group = filtered_data.groupby('UserId')\n",
        "#g = userid_group.groups\n",
        "#g.values()"
      ],
      "execution_count": 0,
      "outputs": []
    },
    {
      "metadata": {
        "id": "RLkoLIu2_QM6",
        "colab_type": "code",
        "colab": {
          "base_uri": "https://localhost:8080/",
          "height": 2601
        },
        "outputId": "175dc0cd-e9c0-4ca3-b63c-579a3c27a018"
      },
      "cell_type": "code",
      "source": [
        "userid_group.filter(lambda x:len(x)>1).sort_values('Time')"
      ],
      "execution_count": 18,
      "outputs": [
        {
          "output_type": "execute_result",
          "data": {
            "text/html": [
              "<div>\n",
              "<style scoped>\n",
              "    .dataframe tbody tr th:only-of-type {\n",
              "        vertical-align: middle;\n",
              "    }\n",
              "\n",
              "    .dataframe tbody tr th {\n",
              "        vertical-align: top;\n",
              "    }\n",
              "\n",
              "    .dataframe thead th {\n",
              "        text-align: right;\n",
              "    }\n",
              "</style>\n",
              "<table border=\"1\" class=\"dataframe\">\n",
              "  <thead>\n",
              "    <tr style=\"text-align: right;\">\n",
              "      <th></th>\n",
              "      <th>Id</th>\n",
              "      <th>ProductId</th>\n",
              "      <th>UserId</th>\n",
              "      <th>ProfileName</th>\n",
              "      <th>HelpfulnessNumerator</th>\n",
              "      <th>HelpfulnessDenominator</th>\n",
              "      <th>Score</th>\n",
              "      <th>Time</th>\n",
              "      <th>Summary</th>\n",
              "      <th>Text</th>\n",
              "    </tr>\n",
              "  </thead>\n",
              "  <tbody>\n",
              "    <tr>\n",
              "      <th>346055</th>\n",
              "      <td>374359</td>\n",
              "      <td>B00004CI84</td>\n",
              "      <td>A344SMIA5JECGM</td>\n",
              "      <td>Vincent P. Ross</td>\n",
              "      <td>1</td>\n",
              "      <td>2</td>\n",
              "      <td>5</td>\n",
              "      <td>944438400</td>\n",
              "      <td>A modern day fairy tale</td>\n",
              "      <td>A twist of rumplestiskin captured on film, sta...</td>\n",
              "    </tr>\n",
              "    <tr>\n",
              "      <th>417859</th>\n",
              "      <td>451878</td>\n",
              "      <td>B00004CXX9</td>\n",
              "      <td>A344SMIA5JECGM</td>\n",
              "      <td>Vincent P. Ross</td>\n",
              "      <td>1</td>\n",
              "      <td>2</td>\n",
              "      <td>5</td>\n",
              "      <td>944438400</td>\n",
              "      <td>A modern day fairy tale</td>\n",
              "      <td>A twist of rumplestiskin captured on film, sta...</td>\n",
              "    </tr>\n",
              "    <tr>\n",
              "      <th>212472</th>\n",
              "      <td>230285</td>\n",
              "      <td>B00004RYGX</td>\n",
              "      <td>A344SMIA5JECGM</td>\n",
              "      <td>Vincent P. Ross</td>\n",
              "      <td>1</td>\n",
              "      <td>2</td>\n",
              "      <td>5</td>\n",
              "      <td>944438400</td>\n",
              "      <td>A modern day fairy tale</td>\n",
              "      <td>A twist of rumplestiskin captured on film, sta...</td>\n",
              "    </tr>\n",
              "    <tr>\n",
              "      <th>346116</th>\n",
              "      <td>374422</td>\n",
              "      <td>B00004CI84</td>\n",
              "      <td>A1048CYU0OV4O8</td>\n",
              "      <td>Judy L. Eans</td>\n",
              "      <td>2</td>\n",
              "      <td>2</td>\n",
              "      <td>5</td>\n",
              "      <td>947376000</td>\n",
              "      <td>GREAT</td>\n",
              "      <td>THIS IS ONE MOVIE THAT SHOULD BE IN YOUR MOVIE...</td>\n",
              "    </tr>\n",
              "    <tr>\n",
              "      <th>417927</th>\n",
              "      <td>451949</td>\n",
              "      <td>B00004CXX9</td>\n",
              "      <td>A1048CYU0OV4O8</td>\n",
              "      <td>Judy L. Eans</td>\n",
              "      <td>2</td>\n",
              "      <td>2</td>\n",
              "      <td>5</td>\n",
              "      <td>947376000</td>\n",
              "      <td>GREAT</td>\n",
              "      <td>THIS IS ONE MOVIE THAT SHOULD BE IN YOUR MOVIE...</td>\n",
              "    </tr>\n",
              "    <tr>\n",
              "      <th>212533</th>\n",
              "      <td>230348</td>\n",
              "      <td>B00004RYGX</td>\n",
              "      <td>A1048CYU0OV4O8</td>\n",
              "      <td>Judy L. Eans</td>\n",
              "      <td>2</td>\n",
              "      <td>2</td>\n",
              "      <td>5</td>\n",
              "      <td>947376000</td>\n",
              "      <td>GREAT</td>\n",
              "      <td>THIS IS ONE MOVIE THAT SHOULD BE IN YOUR MOVIE...</td>\n",
              "    </tr>\n",
              "    <tr>\n",
              "      <th>417847</th>\n",
              "      <td>451864</td>\n",
              "      <td>B00004CXX9</td>\n",
              "      <td>A1B2IZU1JLZA6</td>\n",
              "      <td>Wes</td>\n",
              "      <td>19</td>\n",
              "      <td>23</td>\n",
              "      <td>1</td>\n",
              "      <td>948240000</td>\n",
              "      <td>WARNING: CLAMSHELL EDITION IS EDITED TV VERSION</td>\n",
              "      <td>I, myself always enjoyed this movie, it's very...</td>\n",
              "    </tr>\n",
              "    <tr>\n",
              "      <th>212458</th>\n",
              "      <td>230269</td>\n",
              "      <td>B00004RYGX</td>\n",
              "      <td>A1B2IZU1JLZA6</td>\n",
              "      <td>Wes</td>\n",
              "      <td>19</td>\n",
              "      <td>23</td>\n",
              "      <td>1</td>\n",
              "      <td>948240000</td>\n",
              "      <td>WARNING: CLAMSHELL EDITION IS EDITED TV VERSION</td>\n",
              "      <td>I, myself always enjoyed this movie, it's very...</td>\n",
              "    </tr>\n",
              "    <tr>\n",
              "      <th>346041</th>\n",
              "      <td>374343</td>\n",
              "      <td>B00004CI84</td>\n",
              "      <td>A1B2IZU1JLZA6</td>\n",
              "      <td>Wes</td>\n",
              "      <td>19</td>\n",
              "      <td>23</td>\n",
              "      <td>1</td>\n",
              "      <td>948240000</td>\n",
              "      <td>WARNING: CLAMSHELL EDITION IS EDITED TV VERSION</td>\n",
              "      <td>I, myself always enjoyed this movie, it's very...</td>\n",
              "    </tr>\n",
              "    <tr>\n",
              "      <th>346141</th>\n",
              "      <td>374450</td>\n",
              "      <td>B00004CI84</td>\n",
              "      <td>ACJR7EQF9S6FP</td>\n",
              "      <td>Jeremy Robertson</td>\n",
              "      <td>2</td>\n",
              "      <td>3</td>\n",
              "      <td>4</td>\n",
              "      <td>951523200</td>\n",
              "      <td>Bettlejuice...Bettlejuice...BETTLEJUICE!</td>\n",
              "      <td>What happens when you say his name three times...</td>\n",
              "    </tr>\n",
              "    <tr>\n",
              "      <th>212558</th>\n",
              "      <td>230376</td>\n",
              "      <td>B00004RYGX</td>\n",
              "      <td>ACJR7EQF9S6FP</td>\n",
              "      <td>Jeremy Robertson</td>\n",
              "      <td>2</td>\n",
              "      <td>3</td>\n",
              "      <td>4</td>\n",
              "      <td>951523200</td>\n",
              "      <td>Bettlejuice...Bettlejuice...BETTLEJUICE!</td>\n",
              "      <td>What happens when you say his name three times...</td>\n",
              "    </tr>\n",
              "    <tr>\n",
              "      <th>417952</th>\n",
              "      <td>451977</td>\n",
              "      <td>B00004CXX9</td>\n",
              "      <td>ACJR7EQF9S6FP</td>\n",
              "      <td>Jeremy Robertson</td>\n",
              "      <td>2</td>\n",
              "      <td>3</td>\n",
              "      <td>4</td>\n",
              "      <td>951523200</td>\n",
              "      <td>Bettlejuice...Bettlejuice...BETTLEJUICE!</td>\n",
              "      <td>What happens when you say his name three times...</td>\n",
              "    </tr>\n",
              "    <tr>\n",
              "      <th>212511</th>\n",
              "      <td>230326</td>\n",
              "      <td>B00004RYGX</td>\n",
              "      <td>A2DEE7F9XKP3ZR</td>\n",
              "      <td>jerome</td>\n",
              "      <td>0</td>\n",
              "      <td>3</td>\n",
              "      <td>5</td>\n",
              "      <td>959990400</td>\n",
              "      <td>Research - Beatlejuice video - French version</td>\n",
              "      <td>I'm getting crazy.I'm looking for Beatlejuice ...</td>\n",
              "    </tr>\n",
              "    <tr>\n",
              "      <th>346094</th>\n",
              "      <td>374400</td>\n",
              "      <td>B00004CI84</td>\n",
              "      <td>A2DEE7F9XKP3ZR</td>\n",
              "      <td>jerome</td>\n",
              "      <td>0</td>\n",
              "      <td>3</td>\n",
              "      <td>5</td>\n",
              "      <td>959990400</td>\n",
              "      <td>Research - Beatlejuice video - French version</td>\n",
              "      <td>I'm getting crazy.I'm looking for Beatlejuice ...</td>\n",
              "    </tr>\n",
              "    <tr>\n",
              "      <th>417883</th>\n",
              "      <td>451903</td>\n",
              "      <td>B00004CXX9</td>\n",
              "      <td>A2DEE7F9XKP3ZR</td>\n",
              "      <td>jerome</td>\n",
              "      <td>0</td>\n",
              "      <td>1</td>\n",
              "      <td>5</td>\n",
              "      <td>959990400</td>\n",
              "      <td>Research</td>\n",
              "      <td>I'm getting crazy.&lt;p&gt;Is it really impossible t...</td>\n",
              "    </tr>\n",
              "    <tr>\n",
              "      <th>138001</th>\n",
              "      <td>149770</td>\n",
              "      <td>B00004S1C5</td>\n",
              "      <td>A1KXONFPU2XQ5K</td>\n",
              "      <td>Stephanie Manley</td>\n",
              "      <td>8</td>\n",
              "      <td>8</td>\n",
              "      <td>5</td>\n",
              "      <td>965779200</td>\n",
              "      <td>Very easy to use</td>\n",
              "      <td>This are so much easier to use than the Wilson...</td>\n",
              "    </tr>\n",
              "    <tr>\n",
              "      <th>138017</th>\n",
              "      <td>149789</td>\n",
              "      <td>B00004S1C6</td>\n",
              "      <td>A1KXONFPU2XQ5K</td>\n",
              "      <td>Stephanie Manley</td>\n",
              "      <td>26</td>\n",
              "      <td>28</td>\n",
              "      <td>5</td>\n",
              "      <td>965779200</td>\n",
              "      <td>A must have!</td>\n",
              "      <td>These are easy to use, they do not make a mess...</td>\n",
              "    </tr>\n",
              "    <tr>\n",
              "      <th>212532</th>\n",
              "      <td>230347</td>\n",
              "      <td>B00004RYGX</td>\n",
              "      <td>A1FJOY14X3MUHE</td>\n",
              "      <td>Justin Howard</td>\n",
              "      <td>2</td>\n",
              "      <td>2</td>\n",
              "      <td>5</td>\n",
              "      <td>966297600</td>\n",
              "      <td>A fresh, original film from master storyteller...</td>\n",
              "      <td>This is such a great film, I don't even know h...</td>\n",
              "    </tr>\n",
              "    <tr>\n",
              "      <th>417926</th>\n",
              "      <td>451948</td>\n",
              "      <td>B00004CXX9</td>\n",
              "      <td>A1FJOY14X3MUHE</td>\n",
              "      <td>Justin Howard</td>\n",
              "      <td>2</td>\n",
              "      <td>2</td>\n",
              "      <td>5</td>\n",
              "      <td>966297600</td>\n",
              "      <td>A fresh, original film from master storyteller...</td>\n",
              "      <td>This is such a great film, I don't even know h...</td>\n",
              "    </tr>\n",
              "    <tr>\n",
              "      <th>346115</th>\n",
              "      <td>374421</td>\n",
              "      <td>B00004CI84</td>\n",
              "      <td>A1FJOY14X3MUHE</td>\n",
              "      <td>Justin Howard</td>\n",
              "      <td>2</td>\n",
              "      <td>2</td>\n",
              "      <td>5</td>\n",
              "      <td>966297600</td>\n",
              "      <td>A fresh, original film from master storyteller...</td>\n",
              "      <td>This is such a great film, I don't even know h...</td>\n",
              "    </tr>\n",
              "    <tr>\n",
              "      <th>346102</th>\n",
              "      <td>374408</td>\n",
              "      <td>B00004CI84</td>\n",
              "      <td>A1GB1Q193DNFGR</td>\n",
              "      <td>Bruce Lee Pullen</td>\n",
              "      <td>5</td>\n",
              "      <td>5</td>\n",
              "      <td>5</td>\n",
              "      <td>970531200</td>\n",
              "      <td>Fabulous Comedic Fanasy Directed by a Master</td>\n",
              "      <td>Beetlejuice is an awe-inspiring wonderfully am...</td>\n",
              "    </tr>\n",
              "    <tr>\n",
              "      <th>212519</th>\n",
              "      <td>230334</td>\n",
              "      <td>B00004RYGX</td>\n",
              "      <td>A1GB1Q193DNFGR</td>\n",
              "      <td>Bruce Lee Pullen</td>\n",
              "      <td>5</td>\n",
              "      <td>5</td>\n",
              "      <td>5</td>\n",
              "      <td>970531200</td>\n",
              "      <td>Fabulous Comedic Fanasy Directed by a Master</td>\n",
              "      <td>Beetlejuice is an awe-inspiring wonderfully am...</td>\n",
              "    </tr>\n",
              "    <tr>\n",
              "      <th>417913</th>\n",
              "      <td>451935</td>\n",
              "      <td>B00004CXX9</td>\n",
              "      <td>A1GB1Q193DNFGR</td>\n",
              "      <td>Bruce Lee Pullen</td>\n",
              "      <td>5</td>\n",
              "      <td>5</td>\n",
              "      <td>5</td>\n",
              "      <td>970531200</td>\n",
              "      <td>Fabulous Comedic Fanasy Directed by a Master</td>\n",
              "      <td>Beetlejuice is an awe-inspiring wonderfully am...</td>\n",
              "    </tr>\n",
              "    <tr>\n",
              "      <th>212495</th>\n",
              "      <td>230309</td>\n",
              "      <td>B00004RYGX</td>\n",
              "      <td>A34NBH479RB0E</td>\n",
              "      <td>\"dmab6395\"</td>\n",
              "      <td>0</td>\n",
              "      <td>1</td>\n",
              "      <td>5</td>\n",
              "      <td>977184000</td>\n",
              "      <td>FUNNY</td>\n",
              "      <td>I THOUGHT THIS MOVIE WAS SO FUNNY, MICHAEL KEA...</td>\n",
              "    </tr>\n",
              "    <tr>\n",
              "      <th>346078</th>\n",
              "      <td>374383</td>\n",
              "      <td>B00004CI84</td>\n",
              "      <td>A34NBH479RB0E</td>\n",
              "      <td>\"dmab6395\"</td>\n",
              "      <td>0</td>\n",
              "      <td>1</td>\n",
              "      <td>5</td>\n",
              "      <td>977184000</td>\n",
              "      <td>FUNNY</td>\n",
              "      <td>I THOUGHT THIS MOVIE WAS SO FUNNY, MICHAEL KEA...</td>\n",
              "    </tr>\n",
              "    <tr>\n",
              "      <th>417882</th>\n",
              "      <td>451902</td>\n",
              "      <td>B00004CXX9</td>\n",
              "      <td>A34NBH479RB0E</td>\n",
              "      <td>\"dmab6395\"</td>\n",
              "      <td>0</td>\n",
              "      <td>1</td>\n",
              "      <td>5</td>\n",
              "      <td>977184000</td>\n",
              "      <td>FUNNY</td>\n",
              "      <td>I THOUGHT THIS MOVIE WAS SO FUNNY, MICHAEL KEA...</td>\n",
              "    </tr>\n",
              "    <tr>\n",
              "      <th>346054</th>\n",
              "      <td>374358</td>\n",
              "      <td>B00004CI84</td>\n",
              "      <td>A1HWMNSQF14MP8</td>\n",
              "      <td>will@socialaw.com</td>\n",
              "      <td>1</td>\n",
              "      <td>2</td>\n",
              "      <td>5</td>\n",
              "      <td>978134400</td>\n",
              "      <td>A Afterlife Success</td>\n",
              "      <td>Many movies, have dealt with the figure of dea...</td>\n",
              "    </tr>\n",
              "    <tr>\n",
              "      <th>417858</th>\n",
              "      <td>451877</td>\n",
              "      <td>B00004CXX9</td>\n",
              "      <td>A1HWMNSQF14MP8</td>\n",
              "      <td>will@socialaw.com</td>\n",
              "      <td>1</td>\n",
              "      <td>2</td>\n",
              "      <td>5</td>\n",
              "      <td>978134400</td>\n",
              "      <td>A Afterlife Success</td>\n",
              "      <td>Many movies, have dealt with the figure of dea...</td>\n",
              "    </tr>\n",
              "    <tr>\n",
              "      <th>212471</th>\n",
              "      <td>230284</td>\n",
              "      <td>B00004RYGX</td>\n",
              "      <td>A1HWMNSQF14MP8</td>\n",
              "      <td>will@socialaw.com</td>\n",
              "      <td>1</td>\n",
              "      <td>2</td>\n",
              "      <td>5</td>\n",
              "      <td>978134400</td>\n",
              "      <td>A Afterlife Success</td>\n",
              "      <td>Many movies, have dealt with the figure of dea...</td>\n",
              "    </tr>\n",
              "    <tr>\n",
              "      <th>138018</th>\n",
              "      <td>149790</td>\n",
              "      <td>B00004S1C6</td>\n",
              "      <td>A1IU7S4HCK1XK0</td>\n",
              "      <td>Joanna Daneman</td>\n",
              "      <td>25</td>\n",
              "      <td>27</td>\n",
              "      <td>5</td>\n",
              "      <td>982800000</td>\n",
              "      <td>Make your own Martha Stewart style cakes and c...</td>\n",
              "      <td>I don't know why anyone would ever use those l...</td>\n",
              "    </tr>\n",
              "    <tr>\n",
              "      <th>...</th>\n",
              "      <td>...</td>\n",
              "      <td>...</td>\n",
              "      <td>...</td>\n",
              "      <td>...</td>\n",
              "      <td>...</td>\n",
              "      <td>...</td>\n",
              "      <td>...</td>\n",
              "      <td>...</td>\n",
              "      <td>...</td>\n",
              "      <td>...</td>\n",
              "    </tr>\n",
              "    <tr>\n",
              "      <th>427278</th>\n",
              "      <td>462088</td>\n",
              "      <td>B00611F084</td>\n",
              "      <td>A6D4ND3C3BCYV</td>\n",
              "      <td>karo</td>\n",
              "      <td>0</td>\n",
              "      <td>0</td>\n",
              "      <td>5</td>\n",
              "      <td>1351209600</td>\n",
              "      <td>Jamica Me Crazy Coffee</td>\n",
              "      <td>Wolfgang Puck's Jamaica Me Crazy is that wonde...</td>\n",
              "    </tr>\n",
              "    <tr>\n",
              "      <th>218306</th>\n",
              "      <td>236653</td>\n",
              "      <td>B008YA1NWC</td>\n",
              "      <td>A2O4V3MCB7EPPU</td>\n",
              "      <td>Bellingham Bookworm</td>\n",
              "      <td>0</td>\n",
              "      <td>0</td>\n",
              "      <td>4</td>\n",
              "      <td>1351209600</td>\n",
              "      <td>One of my favorite K-cups flavors</td>\n",
              "      <td>This is one of my favorite k-cup flavors.  The...</td>\n",
              "    </tr>\n",
              "    <tr>\n",
              "      <th>372276</th>\n",
              "      <td>402585</td>\n",
              "      <td>B000EML7DS</td>\n",
              "      <td>A2DFSA2JXQKVY3</td>\n",
              "      <td>C-Rush</td>\n",
              "      <td>0</td>\n",
              "      <td>0</td>\n",
              "      <td>4</td>\n",
              "      <td>1351209600</td>\n",
              "      <td>Not bad.</td>\n",
              "      <td>These are small and very salty. The taste is g...</td>\n",
              "    </tr>\n",
              "    <tr>\n",
              "      <th>280723</th>\n",
              "      <td>304160</td>\n",
              "      <td>B001AS1A4Q</td>\n",
              "      <td>A2E2F8WSUB33VE</td>\n",
              "      <td>Maria A. Alfonzo</td>\n",
              "      <td>0</td>\n",
              "      <td>0</td>\n",
              "      <td>5</td>\n",
              "      <td>1351209600</td>\n",
              "      <td>Excelent</td>\n",
              "      <td>Good price, flavor, fast delivery And good pre...</td>\n",
              "    </tr>\n",
              "    <tr>\n",
              "      <th>280722</th>\n",
              "      <td>304159</td>\n",
              "      <td>B001AS1A4Q</td>\n",
              "      <td>AYTSBGA5A3UWI</td>\n",
              "      <td>Imran Ali</td>\n",
              "      <td>0</td>\n",
              "      <td>0</td>\n",
              "      <td>5</td>\n",
              "      <td>1351209600</td>\n",
              "      <td>A God Sent Remedy!!!</td>\n",
              "      <td>I love this stuff! It's a God sent Remedy for ...</td>\n",
              "    </tr>\n",
              "    <tr>\n",
              "      <th>19181</th>\n",
              "      <td>20930</td>\n",
              "      <td>B001L1MKLY</td>\n",
              "      <td>A38XYFHXEUNUW6</td>\n",
              "      <td>bleaufire</td>\n",
              "      <td>0</td>\n",
              "      <td>0</td>\n",
              "      <td>5</td>\n",
              "      <td>1351209600</td>\n",
              "      <td>Yummy &amp; Subtle</td>\n",
              "      <td>Just made my first pot of this wonderful coffe...</td>\n",
              "    </tr>\n",
              "    <tr>\n",
              "      <th>118532</th>\n",
              "      <td>128554</td>\n",
              "      <td>B007L3NVKU</td>\n",
              "      <td>A3HM6TNYB7FNDL</td>\n",
              "      <td>C. Furman</td>\n",
              "      <td>0</td>\n",
              "      <td>0</td>\n",
              "      <td>4</td>\n",
              "      <td>1351209600</td>\n",
              "      <td>Full- bodied without a bitter after-taste</td>\n",
              "      <td>This is my everyday coffee choice...a good all...</td>\n",
              "    </tr>\n",
              "    <tr>\n",
              "      <th>279857</th>\n",
              "      <td>303246</td>\n",
              "      <td>B0002DGRZC</td>\n",
              "      <td>AUINI96NMGXUI</td>\n",
              "      <td>Kkrys23</td>\n",
              "      <td>0</td>\n",
              "      <td>0</td>\n",
              "      <td>5</td>\n",
              "      <td>1351209600</td>\n",
              "      <td>Love this faucet</td>\n",
              "      <td>Love this faucet.  My husband had installed th...</td>\n",
              "    </tr>\n",
              "    <tr>\n",
              "      <th>279856</th>\n",
              "      <td>303245</td>\n",
              "      <td>B0002DGRZC</td>\n",
              "      <td>A3SSEJ8IEM4YGW</td>\n",
              "      <td>Seagaul</td>\n",
              "      <td>0</td>\n",
              "      <td>0</td>\n",
              "      <td>5</td>\n",
              "      <td>1351209600</td>\n",
              "      <td>Dogs love it.</td>\n",
              "      <td>This is the \"all gone\" treat after dinner.  It...</td>\n",
              "    </tr>\n",
              "    <tr>\n",
              "      <th>279331</th>\n",
              "      <td>302676</td>\n",
              "      <td>B000UBH9YE</td>\n",
              "      <td>A1CM50V04TUUPF</td>\n",
              "      <td>Shelly</td>\n",
              "      <td>0</td>\n",
              "      <td>0</td>\n",
              "      <td>5</td>\n",
              "      <td>1351209600</td>\n",
              "      <td>Love My Senseo!</td>\n",
              "      <td>I I haven't had a bad cup of coffee yet.  So f...</td>\n",
              "    </tr>\n",
              "    <tr>\n",
              "      <th>395966</th>\n",
              "      <td>428155</td>\n",
              "      <td>B003XKF6CQ</td>\n",
              "      <td>A3IYSIAKYOMKTO</td>\n",
              "      <td>Renter</td>\n",
              "      <td>0</td>\n",
              "      <td>0</td>\n",
              "      <td>5</td>\n",
              "      <td>1351209600</td>\n",
              "      <td>Mellow</td>\n",
              "      <td>This honey made from blueberry blossoms has a ...</td>\n",
              "    </tr>\n",
              "    <tr>\n",
              "      <th>119196</th>\n",
              "      <td>129256</td>\n",
              "      <td>B004MMNNDS</td>\n",
              "      <td>A248RO4GSIWDII</td>\n",
              "      <td>Robert Kawalec</td>\n",
              "      <td>0</td>\n",
              "      <td>0</td>\n",
              "      <td>5</td>\n",
              "      <td>1351209600</td>\n",
              "      <td>Love it!</td>\n",
              "      <td>Heard great things about drinking this tea. I ...</td>\n",
              "    </tr>\n",
              "    <tr>\n",
              "      <th>371881</th>\n",
              "      <td>402156</td>\n",
              "      <td>B0006349WQ</td>\n",
              "      <td>A21BT40VZCCYT4</td>\n",
              "      <td>Carol A. Reed</td>\n",
              "      <td>0</td>\n",
              "      <td>0</td>\n",
              "      <td>5</td>\n",
              "      <td>1351209600</td>\n",
              "      <td>Good Training Treat</td>\n",
              "      <td>My dog will come in from outside when I am tra...</td>\n",
              "    </tr>\n",
              "    <tr>\n",
              "      <th>219434</th>\n",
              "      <td>237869</td>\n",
              "      <td>B003ASXKV0</td>\n",
              "      <td>AUEA2NJHMK9DF</td>\n",
              "      <td>Penny E. Cooke \"PMSDEA\"</td>\n",
              "      <td>0</td>\n",
              "      <td>0</td>\n",
              "      <td>4</td>\n",
              "      <td>1351209600</td>\n",
              "      <td>Like this tea</td>\n",
              "      <td>This tea has a nice flavor although I wish it ...</td>\n",
              "    </tr>\n",
              "    <tr>\n",
              "      <th>219497</th>\n",
              "      <td>237940</td>\n",
              "      <td>B00018CWN4</td>\n",
              "      <td>A37264CFSSA73O</td>\n",
              "      <td>Andrea</td>\n",
              "      <td>0</td>\n",
              "      <td>0</td>\n",
              "      <td>5</td>\n",
              "      <td>1351209600</td>\n",
              "      <td>Great quality!</td>\n",
              "      <td>This product is very good and I won't change i...</td>\n",
              "    </tr>\n",
              "    <tr>\n",
              "      <th>80489</th>\n",
              "      <td>87518</td>\n",
              "      <td>B0050CPSBE</td>\n",
              "      <td>A4IL0CLL27Q33</td>\n",
              "      <td>D. Brennan</td>\n",
              "      <td>0</td>\n",
              "      <td>0</td>\n",
              "      <td>1</td>\n",
              "      <td>1351209600</td>\n",
              "      <td>Buyer beware</td>\n",
              "      <td>Nespresso makes GREAT coffee and GREAT machine...</td>\n",
              "    </tr>\n",
              "    <tr>\n",
              "      <th>482305</th>\n",
              "      <td>521517</td>\n",
              "      <td>B002HNC8VW</td>\n",
              "      <td>A2DVFHG099GUGE</td>\n",
              "      <td>sauerkraut</td>\n",
              "      <td>0</td>\n",
              "      <td>0</td>\n",
              "      <td>2</td>\n",
              "      <td>1351209600</td>\n",
              "      <td>Not a preferential hot sauce</td>\n",
              "      <td>For quite some time, I have been using differe...</td>\n",
              "    </tr>\n",
              "    <tr>\n",
              "      <th>393073</th>\n",
              "      <td>425059</td>\n",
              "      <td>B00317HLQA</td>\n",
              "      <td>A3AOK34N9VZ7HY</td>\n",
              "      <td>college student mom</td>\n",
              "      <td>0</td>\n",
              "      <td>0</td>\n",
              "      <td>5</td>\n",
              "      <td>1351209600</td>\n",
              "      <td>special k fruit krisps. Blueberry are great</td>\n",
              "      <td>&lt;a href=\"http://www.amazon.com/gp/product/B003...</td>\n",
              "    </tr>\n",
              "    <tr>\n",
              "      <th>220272</th>\n",
              "      <td>238767</td>\n",
              "      <td>B008RRJCDY</td>\n",
              "      <td>A1W6E1FN0745L7</td>\n",
              "      <td>J. Tomaszewski</td>\n",
              "      <td>0</td>\n",
              "      <td>0</td>\n",
              "      <td>5</td>\n",
              "      <td>1351209600</td>\n",
              "      <td>Great Choice on Popcorn</td>\n",
              "      <td>This powder is unlike anything I've had with i...</td>\n",
              "    </tr>\n",
              "    <tr>\n",
              "      <th>50708</th>\n",
              "      <td>55049</td>\n",
              "      <td>B000IHJEDE</td>\n",
              "      <td>A2DFSA2JXQKVY3</td>\n",
              "      <td>C-Rush</td>\n",
              "      <td>0</td>\n",
              "      <td>0</td>\n",
              "      <td>4</td>\n",
              "      <td>1351209600</td>\n",
              "      <td>Not bad.</td>\n",
              "      <td>These are small and very salty. The taste is g...</td>\n",
              "    </tr>\n",
              "    <tr>\n",
              "      <th>350425</th>\n",
              "      <td>379063</td>\n",
              "      <td>B0000V1B3E</td>\n",
              "      <td>A3PKAVKWFFT0GC</td>\n",
              "      <td>FinGurBang</td>\n",
              "      <td>0</td>\n",
              "      <td>0</td>\n",
              "      <td>1</td>\n",
              "      <td>1351209600</td>\n",
              "      <td>Want To Pay $31.51 Lb For Loose Tea That's Med...</td>\n",
              "      <td>Holy cow, when I placed my order for 24 indivi...</td>\n",
              "    </tr>\n",
              "    <tr>\n",
              "      <th>393021</th>\n",
              "      <td>424999</td>\n",
              "      <td>B0001TNCK0</td>\n",
              "      <td>A1GCFTFXELCHRP</td>\n",
              "      <td>Big Texas</td>\n",
              "      <td>0</td>\n",
              "      <td>0</td>\n",
              "      <td>4</td>\n",
              "      <td>1351209600</td>\n",
              "      <td>Still unsure about its benefits.</td>\n",
              "      <td>ACV is supposed to help maintain the immune sy...</td>\n",
              "    </tr>\n",
              "    <tr>\n",
              "      <th>366461</th>\n",
              "      <td>396260</td>\n",
              "      <td>B007FK3JS8</td>\n",
              "      <td>A11X0ENDTFGCEH</td>\n",
              "      <td>marval</td>\n",
              "      <td>0</td>\n",
              "      <td>0</td>\n",
              "      <td>5</td>\n",
              "      <td>1351209600</td>\n",
              "      <td>Enjoyable, quick cups of coffee with no waste</td>\n",
              "      <td>My mother loves this coffee and the pods fit h...</td>\n",
              "    </tr>\n",
              "    <tr>\n",
              "      <th>183133</th>\n",
              "      <td>198643</td>\n",
              "      <td>B002AQL00G</td>\n",
              "      <td>AEWJD0G85FPSG</td>\n",
              "      <td>Cathy</td>\n",
              "      <td>0</td>\n",
              "      <td>0</td>\n",
              "      <td>5</td>\n",
              "      <td>1351209600</td>\n",
              "      <td>Betty Crocker Gluten Free Chocolate chip cooki...</td>\n",
              "      <td>The Betty Crocker Gluten Free chocolate chip c...</td>\n",
              "    </tr>\n",
              "    <tr>\n",
              "      <th>277880</th>\n",
              "      <td>301125</td>\n",
              "      <td>B003Z6ZGZK</td>\n",
              "      <td>A2GW6JUVTALDPV</td>\n",
              "      <td>DL</td>\n",
              "      <td>0</td>\n",
              "      <td>0</td>\n",
              "      <td>1</td>\n",
              "      <td>1351209600</td>\n",
              "      <td>I did not receive my order</td>\n",
              "      <td>I placed my order through Amazon and after abo...</td>\n",
              "    </tr>\n",
              "    <tr>\n",
              "      <th>428665</th>\n",
              "      <td>463583</td>\n",
              "      <td>B004QDA8WC</td>\n",
              "      <td>AFF6F08FRSYWG</td>\n",
              "      <td>Kentucky Woman \"Emily\"</td>\n",
              "      <td>0</td>\n",
              "      <td>0</td>\n",
              "      <td>5</td>\n",
              "      <td>1351209600</td>\n",
              "      <td>Love chai - love Keurig - love these K-cups!</td>\n",
              "      <td>I'm addicted to these chai k-cups.  It tastes ...</td>\n",
              "    </tr>\n",
              "    <tr>\n",
              "      <th>317938</th>\n",
              "      <td>344192</td>\n",
              "      <td>B007S0WQXE</td>\n",
              "      <td>A2BV01F023AUW1</td>\n",
              "      <td>E. Bitterlich</td>\n",
              "      <td>0</td>\n",
              "      <td>0</td>\n",
              "      <td>5</td>\n",
              "      <td>1351209600</td>\n",
              "      <td>Exactly what you think- Olive Garden's salad d...</td>\n",
              "      <td>This salad dressing is exactly what you get wh...</td>\n",
              "    </tr>\n",
              "    <tr>\n",
              "      <th>509087</th>\n",
              "      <td>550476</td>\n",
              "      <td>B001SAXPEO</td>\n",
              "      <td>A32NC2UF34RJQY</td>\n",
              "      <td>D. Pagliassotti</td>\n",
              "      <td>0</td>\n",
              "      <td>0</td>\n",
              "      <td>5</td>\n",
              "      <td>1351209600</td>\n",
              "      <td>Great for HS lunch</td>\n",
              "      <td>Great for HS lunch, kid enjoy as a snack also,...</td>\n",
              "    </tr>\n",
              "    <tr>\n",
              "      <th>184801</th>\n",
              "      <td>200465</td>\n",
              "      <td>B008O2EHNC</td>\n",
              "      <td>A11X0ENDTFGCEH</td>\n",
              "      <td>marval</td>\n",
              "      <td>0</td>\n",
              "      <td>0</td>\n",
              "      <td>5</td>\n",
              "      <td>1351209600</td>\n",
              "      <td>Enjoyable, quick cups of coffee with no waste</td>\n",
              "      <td>My mother loves this coffee and the pods fit h...</td>\n",
              "    </tr>\n",
              "    <tr>\n",
              "      <th>491422</th>\n",
              "      <td>531341</td>\n",
              "      <td>B0002DGRSY</td>\n",
              "      <td>A3SSEJ8IEM4YGW</td>\n",
              "      <td>Seagaul</td>\n",
              "      <td>0</td>\n",
              "      <td>0</td>\n",
              "      <td>5</td>\n",
              "      <td>1351209600</td>\n",
              "      <td>Dogs love it.</td>\n",
              "      <td>This is the \"all gone\" treat after dinner.  It...</td>\n",
              "    </tr>\n",
              "  </tbody>\n",
              "</table>\n",
              "<p>357746 rows × 10 columns</p>\n",
              "</div>"
            ],
            "text/plain": [
              "            Id   ProductId          UserId              ProfileName  \\\n",
              "346055  374359  B00004CI84  A344SMIA5JECGM          Vincent P. Ross   \n",
              "417859  451878  B00004CXX9  A344SMIA5JECGM          Vincent P. Ross   \n",
              "212472  230285  B00004RYGX  A344SMIA5JECGM          Vincent P. Ross   \n",
              "346116  374422  B00004CI84  A1048CYU0OV4O8             Judy L. Eans   \n",
              "417927  451949  B00004CXX9  A1048CYU0OV4O8             Judy L. Eans   \n",
              "212533  230348  B00004RYGX  A1048CYU0OV4O8             Judy L. Eans   \n",
              "417847  451864  B00004CXX9   A1B2IZU1JLZA6                      Wes   \n",
              "212458  230269  B00004RYGX   A1B2IZU1JLZA6                      Wes   \n",
              "346041  374343  B00004CI84   A1B2IZU1JLZA6                      Wes   \n",
              "346141  374450  B00004CI84   ACJR7EQF9S6FP         Jeremy Robertson   \n",
              "212558  230376  B00004RYGX   ACJR7EQF9S6FP         Jeremy Robertson   \n",
              "417952  451977  B00004CXX9   ACJR7EQF9S6FP         Jeremy Robertson   \n",
              "212511  230326  B00004RYGX  A2DEE7F9XKP3ZR                   jerome   \n",
              "346094  374400  B00004CI84  A2DEE7F9XKP3ZR                   jerome   \n",
              "417883  451903  B00004CXX9  A2DEE7F9XKP3ZR                   jerome   \n",
              "138001  149770  B00004S1C5  A1KXONFPU2XQ5K         Stephanie Manley   \n",
              "138017  149789  B00004S1C6  A1KXONFPU2XQ5K         Stephanie Manley   \n",
              "212532  230347  B00004RYGX  A1FJOY14X3MUHE            Justin Howard   \n",
              "417926  451948  B00004CXX9  A1FJOY14X3MUHE            Justin Howard   \n",
              "346115  374421  B00004CI84  A1FJOY14X3MUHE            Justin Howard   \n",
              "346102  374408  B00004CI84  A1GB1Q193DNFGR         Bruce Lee Pullen   \n",
              "212519  230334  B00004RYGX  A1GB1Q193DNFGR         Bruce Lee Pullen   \n",
              "417913  451935  B00004CXX9  A1GB1Q193DNFGR         Bruce Lee Pullen   \n",
              "212495  230309  B00004RYGX   A34NBH479RB0E               \"dmab6395\"   \n",
              "346078  374383  B00004CI84   A34NBH479RB0E               \"dmab6395\"   \n",
              "417882  451902  B00004CXX9   A34NBH479RB0E               \"dmab6395\"   \n",
              "346054  374358  B00004CI84  A1HWMNSQF14MP8        will@socialaw.com   \n",
              "417858  451877  B00004CXX9  A1HWMNSQF14MP8        will@socialaw.com   \n",
              "212471  230284  B00004RYGX  A1HWMNSQF14MP8        will@socialaw.com   \n",
              "138018  149790  B00004S1C6  A1IU7S4HCK1XK0           Joanna Daneman   \n",
              "...        ...         ...             ...                      ...   \n",
              "427278  462088  B00611F084   A6D4ND3C3BCYV                     karo   \n",
              "218306  236653  B008YA1NWC  A2O4V3MCB7EPPU      Bellingham Bookworm   \n",
              "372276  402585  B000EML7DS  A2DFSA2JXQKVY3                   C-Rush   \n",
              "280723  304160  B001AS1A4Q  A2E2F8WSUB33VE         Maria A. Alfonzo   \n",
              "280722  304159  B001AS1A4Q   AYTSBGA5A3UWI                Imran Ali   \n",
              "19181    20930  B001L1MKLY  A38XYFHXEUNUW6                bleaufire   \n",
              "118532  128554  B007L3NVKU  A3HM6TNYB7FNDL                C. Furman   \n",
              "279857  303246  B0002DGRZC   AUINI96NMGXUI                  Kkrys23   \n",
              "279856  303245  B0002DGRZC  A3SSEJ8IEM4YGW                  Seagaul   \n",
              "279331  302676  B000UBH9YE  A1CM50V04TUUPF                   Shelly   \n",
              "395966  428155  B003XKF6CQ  A3IYSIAKYOMKTO                   Renter   \n",
              "119196  129256  B004MMNNDS  A248RO4GSIWDII           Robert Kawalec   \n",
              "371881  402156  B0006349WQ  A21BT40VZCCYT4            Carol A. Reed   \n",
              "219434  237869  B003ASXKV0   AUEA2NJHMK9DF  Penny E. Cooke \"PMSDEA\"   \n",
              "219497  237940  B00018CWN4  A37264CFSSA73O                   Andrea   \n",
              "80489    87518  B0050CPSBE   A4IL0CLL27Q33               D. Brennan   \n",
              "482305  521517  B002HNC8VW  A2DVFHG099GUGE               sauerkraut   \n",
              "393073  425059  B00317HLQA  A3AOK34N9VZ7HY      college student mom   \n",
              "220272  238767  B008RRJCDY  A1W6E1FN0745L7           J. Tomaszewski   \n",
              "50708    55049  B000IHJEDE  A2DFSA2JXQKVY3                   C-Rush   \n",
              "350425  379063  B0000V1B3E  A3PKAVKWFFT0GC               FinGurBang   \n",
              "393021  424999  B0001TNCK0  A1GCFTFXELCHRP                Big Texas   \n",
              "366461  396260  B007FK3JS8  A11X0ENDTFGCEH                   marval   \n",
              "183133  198643  B002AQL00G   AEWJD0G85FPSG                    Cathy   \n",
              "277880  301125  B003Z6ZGZK  A2GW6JUVTALDPV                       DL   \n",
              "428665  463583  B004QDA8WC   AFF6F08FRSYWG   Kentucky Woman \"Emily\"   \n",
              "317938  344192  B007S0WQXE  A2BV01F023AUW1            E. Bitterlich   \n",
              "509087  550476  B001SAXPEO  A32NC2UF34RJQY          D. Pagliassotti   \n",
              "184801  200465  B008O2EHNC  A11X0ENDTFGCEH                   marval   \n",
              "491422  531341  B0002DGRSY  A3SSEJ8IEM4YGW                  Seagaul   \n",
              "\n",
              "        HelpfulnessNumerator  HelpfulnessDenominator  Score        Time  \\\n",
              "346055                     1                       2      5   944438400   \n",
              "417859                     1                       2      5   944438400   \n",
              "212472                     1                       2      5   944438400   \n",
              "346116                     2                       2      5   947376000   \n",
              "417927                     2                       2      5   947376000   \n",
              "212533                     2                       2      5   947376000   \n",
              "417847                    19                      23      1   948240000   \n",
              "212458                    19                      23      1   948240000   \n",
              "346041                    19                      23      1   948240000   \n",
              "346141                     2                       3      4   951523200   \n",
              "212558                     2                       3      4   951523200   \n",
              "417952                     2                       3      4   951523200   \n",
              "212511                     0                       3      5   959990400   \n",
              "346094                     0                       3      5   959990400   \n",
              "417883                     0                       1      5   959990400   \n",
              "138001                     8                       8      5   965779200   \n",
              "138017                    26                      28      5   965779200   \n",
              "212532                     2                       2      5   966297600   \n",
              "417926                     2                       2      5   966297600   \n",
              "346115                     2                       2      5   966297600   \n",
              "346102                     5                       5      5   970531200   \n",
              "212519                     5                       5      5   970531200   \n",
              "417913                     5                       5      5   970531200   \n",
              "212495                     0                       1      5   977184000   \n",
              "346078                     0                       1      5   977184000   \n",
              "417882                     0                       1      5   977184000   \n",
              "346054                     1                       2      5   978134400   \n",
              "417858                     1                       2      5   978134400   \n",
              "212471                     1                       2      5   978134400   \n",
              "138018                    25                      27      5   982800000   \n",
              "...                      ...                     ...    ...         ...   \n",
              "427278                     0                       0      5  1351209600   \n",
              "218306                     0                       0      4  1351209600   \n",
              "372276                     0                       0      4  1351209600   \n",
              "280723                     0                       0      5  1351209600   \n",
              "280722                     0                       0      5  1351209600   \n",
              "19181                      0                       0      5  1351209600   \n",
              "118532                     0                       0      4  1351209600   \n",
              "279857                     0                       0      5  1351209600   \n",
              "279856                     0                       0      5  1351209600   \n",
              "279331                     0                       0      5  1351209600   \n",
              "395966                     0                       0      5  1351209600   \n",
              "119196                     0                       0      5  1351209600   \n",
              "371881                     0                       0      5  1351209600   \n",
              "219434                     0                       0      4  1351209600   \n",
              "219497                     0                       0      5  1351209600   \n",
              "80489                      0                       0      1  1351209600   \n",
              "482305                     0                       0      2  1351209600   \n",
              "393073                     0                       0      5  1351209600   \n",
              "220272                     0                       0      5  1351209600   \n",
              "50708                      0                       0      4  1351209600   \n",
              "350425                     0                       0      1  1351209600   \n",
              "393021                     0                       0      4  1351209600   \n",
              "366461                     0                       0      5  1351209600   \n",
              "183133                     0                       0      5  1351209600   \n",
              "277880                     0                       0      1  1351209600   \n",
              "428665                     0                       0      5  1351209600   \n",
              "317938                     0                       0      5  1351209600   \n",
              "509087                     0                       0      5  1351209600   \n",
              "184801                     0                       0      5  1351209600   \n",
              "491422                     0                       0      5  1351209600   \n",
              "\n",
              "                                                  Summary  \\\n",
              "346055                            A modern day fairy tale   \n",
              "417859                            A modern day fairy tale   \n",
              "212472                            A modern day fairy tale   \n",
              "346116                                              GREAT   \n",
              "417927                                              GREAT   \n",
              "212533                                              GREAT   \n",
              "417847    WARNING: CLAMSHELL EDITION IS EDITED TV VERSION   \n",
              "212458    WARNING: CLAMSHELL EDITION IS EDITED TV VERSION   \n",
              "346041    WARNING: CLAMSHELL EDITION IS EDITED TV VERSION   \n",
              "346141           Bettlejuice...Bettlejuice...BETTLEJUICE!   \n",
              "212558           Bettlejuice...Bettlejuice...BETTLEJUICE!   \n",
              "417952           Bettlejuice...Bettlejuice...BETTLEJUICE!   \n",
              "212511      Research - Beatlejuice video - French version   \n",
              "346094      Research - Beatlejuice video - French version   \n",
              "417883                                           Research   \n",
              "138001                                   Very easy to use   \n",
              "138017                                       A must have!   \n",
              "212532  A fresh, original film from master storyteller...   \n",
              "417926  A fresh, original film from master storyteller...   \n",
              "346115  A fresh, original film from master storyteller...   \n",
              "346102       Fabulous Comedic Fanasy Directed by a Master   \n",
              "212519       Fabulous Comedic Fanasy Directed by a Master   \n",
              "417913       Fabulous Comedic Fanasy Directed by a Master   \n",
              "212495                                              FUNNY   \n",
              "346078                                              FUNNY   \n",
              "417882                                              FUNNY   \n",
              "346054                                A Afterlife Success   \n",
              "417858                                A Afterlife Success   \n",
              "212471                                A Afterlife Success   \n",
              "138018  Make your own Martha Stewart style cakes and c...   \n",
              "...                                                   ...   \n",
              "427278                             Jamica Me Crazy Coffee   \n",
              "218306                  One of my favorite K-cups flavors   \n",
              "372276                                           Not bad.   \n",
              "280723                                           Excelent   \n",
              "280722                               A God Sent Remedy!!!   \n",
              "19181                                      Yummy & Subtle   \n",
              "118532          Full- bodied without a bitter after-taste   \n",
              "279857                                   Love this faucet   \n",
              "279856                                      Dogs love it.   \n",
              "279331                                    Love My Senseo!   \n",
              "395966                                             Mellow   \n",
              "119196                                           Love it!   \n",
              "371881                                Good Training Treat   \n",
              "219434                                      Like this tea   \n",
              "219497                                     Great quality!   \n",
              "80489                                        Buyer beware   \n",
              "482305                       Not a preferential hot sauce   \n",
              "393073        special k fruit krisps. Blueberry are great   \n",
              "220272                            Great Choice on Popcorn   \n",
              "50708                                            Not bad.   \n",
              "350425  Want To Pay $31.51 Lb For Loose Tea That's Med...   \n",
              "393021                   Still unsure about its benefits.   \n",
              "366461      Enjoyable, quick cups of coffee with no waste   \n",
              "183133  Betty Crocker Gluten Free Chocolate chip cooki...   \n",
              "277880                         I did not receive my order   \n",
              "428665       Love chai - love Keurig - love these K-cups!   \n",
              "317938  Exactly what you think- Olive Garden's salad d...   \n",
              "509087                                 Great for HS lunch   \n",
              "184801      Enjoyable, quick cups of coffee with no waste   \n",
              "491422                                      Dogs love it.   \n",
              "\n",
              "                                                     Text  \n",
              "346055  A twist of rumplestiskin captured on film, sta...  \n",
              "417859  A twist of rumplestiskin captured on film, sta...  \n",
              "212472  A twist of rumplestiskin captured on film, sta...  \n",
              "346116  THIS IS ONE MOVIE THAT SHOULD BE IN YOUR MOVIE...  \n",
              "417927  THIS IS ONE MOVIE THAT SHOULD BE IN YOUR MOVIE...  \n",
              "212533  THIS IS ONE MOVIE THAT SHOULD BE IN YOUR MOVIE...  \n",
              "417847  I, myself always enjoyed this movie, it's very...  \n",
              "212458  I, myself always enjoyed this movie, it's very...  \n",
              "346041  I, myself always enjoyed this movie, it's very...  \n",
              "346141  What happens when you say his name three times...  \n",
              "212558  What happens when you say his name three times...  \n",
              "417952  What happens when you say his name three times...  \n",
              "212511  I'm getting crazy.I'm looking for Beatlejuice ...  \n",
              "346094  I'm getting crazy.I'm looking for Beatlejuice ...  \n",
              "417883  I'm getting crazy.<p>Is it really impossible t...  \n",
              "138001  This are so much easier to use than the Wilson...  \n",
              "138017  These are easy to use, they do not make a mess...  \n",
              "212532  This is such a great film, I don't even know h...  \n",
              "417926  This is such a great film, I don't even know h...  \n",
              "346115  This is such a great film, I don't even know h...  \n",
              "346102  Beetlejuice is an awe-inspiring wonderfully am...  \n",
              "212519  Beetlejuice is an awe-inspiring wonderfully am...  \n",
              "417913  Beetlejuice is an awe-inspiring wonderfully am...  \n",
              "212495  I THOUGHT THIS MOVIE WAS SO FUNNY, MICHAEL KEA...  \n",
              "346078  I THOUGHT THIS MOVIE WAS SO FUNNY, MICHAEL KEA...  \n",
              "417882  I THOUGHT THIS MOVIE WAS SO FUNNY, MICHAEL KEA...  \n",
              "346054  Many movies, have dealt with the figure of dea...  \n",
              "417858  Many movies, have dealt with the figure of dea...  \n",
              "212471  Many movies, have dealt with the figure of dea...  \n",
              "138018  I don't know why anyone would ever use those l...  \n",
              "...                                                   ...  \n",
              "427278  Wolfgang Puck's Jamaica Me Crazy is that wonde...  \n",
              "218306  This is one of my favorite k-cup flavors.  The...  \n",
              "372276  These are small and very salty. The taste is g...  \n",
              "280723  Good price, flavor, fast delivery And good pre...  \n",
              "280722  I love this stuff! It's a God sent Remedy for ...  \n",
              "19181   Just made my first pot of this wonderful coffe...  \n",
              "118532  This is my everyday coffee choice...a good all...  \n",
              "279857  Love this faucet.  My husband had installed th...  \n",
              "279856  This is the \"all gone\" treat after dinner.  It...  \n",
              "279331  I I haven't had a bad cup of coffee yet.  So f...  \n",
              "395966  This honey made from blueberry blossoms has a ...  \n",
              "119196  Heard great things about drinking this tea. I ...  \n",
              "371881  My dog will come in from outside when I am tra...  \n",
              "219434  This tea has a nice flavor although I wish it ...  \n",
              "219497  This product is very good and I won't change i...  \n",
              "80489   Nespresso makes GREAT coffee and GREAT machine...  \n",
              "482305  For quite some time, I have been using differe...  \n",
              "393073  <a href=\"http://www.amazon.com/gp/product/B003...  \n",
              "220272  This powder is unlike anything I've had with i...  \n",
              "50708   These are small and very salty. The taste is g...  \n",
              "350425  Holy cow, when I placed my order for 24 indivi...  \n",
              "393021  ACV is supposed to help maintain the immune sy...  \n",
              "366461  My mother loves this coffee and the pods fit h...  \n",
              "183133  The Betty Crocker Gluten Free chocolate chip c...  \n",
              "277880  I placed my order through Amazon and after abo...  \n",
              "428665  I'm addicted to these chai k-cups.  It tastes ...  \n",
              "317938  This salad dressing is exactly what you get wh...  \n",
              "509087  Great for HS lunch, kid enjoy as a snack also,...  \n",
              "184801  My mother loves this coffee and the pods fit h...  \n",
              "491422  This is the \"all gone\" treat after dinner.  It...  \n",
              "\n",
              "[357746 rows x 10 columns]"
            ]
          },
          "metadata": {
            "tags": []
          },
          "execution_count": 18
        }
      ]
    },
    {
      "metadata": {
        "id": "xWIpdXLdBwsX",
        "colab_type": "code",
        "colab": {
          "base_uri": "https://localhost:8080/",
          "height": 51
        },
        "outputId": "4707ec6a-38df-40b0-fefb-be086caaae1d"
      },
      "cell_type": "code",
      "source": [
        "#filtered_data[filtered_data['Summary'].str.contains('book')]\n",
        "#type(filtered_data[filtered_data['Summary'].str.contains('book')].index.tolist())\n",
        "\n",
        "#suspicious_indices = []\n",
        "#\n",
        "#l = filtered_data[filtered_data['Summary'].str.contains('book')].index.tolist()\n",
        "#print(\"No. of entries having '{0}' is {1}\".format('book', len(l)))\n",
        "#suspicious_indices = suspicious_indices + l\n",
        "#\n",
        "#l = filtered_data[filtered_data['Summary'].str.contains('film')].index.tolist()\n",
        "#print(\"No. of entries having '{0}' is {1}\".format('film', len(l)))\n",
        "#suspicious_indices = suspicious_indices + l\n",
        "#\n",
        "#l = filtered_data[filtered_data['Summary'].str.contains('Film')].index.tolist()\n",
        "#print(\"No. of entries having '{0}' is {1}\".format('Film', len(l)))\n",
        "#suspicious_indices = suspicious_indices + l\n",
        "#\n",
        "#l = filtered_data[filtered_data['Summary'].str.contains('Book')].index.tolist()\n",
        "#print(\"No. of entries having '{0}' is {1}\".format('Book', len(l)))\n",
        "#suspicious_indices = suspicious_indices + l\n",
        "\n",
        "def getEntriesHavingTexts(df, col_to_search, text_list):\n",
        "  indices = []\n",
        "  counts = []\n",
        "  for text in text_list:\n",
        "    l = filtered_data[filtered_data[col_to_search].str.contains(text)].index.tolist()\n",
        "    counts.append(len(l))\n",
        "    indices = indices + l\n",
        "  return indices, counts\n",
        "  \n",
        "\n",
        "text_list = ['[bB]ook', '[fF]ilm']\n",
        "suspicious_indices, counts = getEntriesHavingTexts(filtered_data,\n",
        "                                       'Summary',\n",
        "                                       text_list)\n",
        "\n",
        "for i in range(len(counts)):\n",
        "  print(\"No. of entries having '{0}' is {1}\".format(text_list[i], counts[i]))\n"
      ],
      "execution_count": 19,
      "outputs": [
        {
          "output_type": "stream",
          "text": [
            "No. of entries having '[bB]ook' is 85\n",
            "No. of entries having '[fF]ilm' is 24\n"
          ],
          "name": "stdout"
        }
      ]
    },
    {
      "metadata": {
        "id": "Hz_cpR89QIii",
        "colab_type": "code",
        "colab": {
          "base_uri": "https://localhost:8080/",
          "height": 533
        },
        "outputId": "c8a6d050-4019-44c7-c296-3b95836731b0"
      },
      "cell_type": "code",
      "source": [
        "print('Total suspicious entries : ', len(suspicious_indices))\n",
        "#filtered_data.iloc[suspicious_indices]\n",
        "filtered_data.iloc[suspicious_indices[:4]]"
      ],
      "execution_count": 20,
      "outputs": [
        {
          "output_type": "stream",
          "text": [
            "Total suspicious entries :  109\n"
          ],
          "name": "stdout"
        },
        {
          "output_type": "execute_result",
          "data": {
            "text/html": [
              "<div>\n",
              "<style scoped>\n",
              "    .dataframe tbody tr th:only-of-type {\n",
              "        vertical-align: middle;\n",
              "    }\n",
              "\n",
              "    .dataframe tbody tr th {\n",
              "        vertical-align: top;\n",
              "    }\n",
              "\n",
              "    .dataframe thead th {\n",
              "        text-align: right;\n",
              "    }\n",
              "</style>\n",
              "<table border=\"1\" class=\"dataframe\">\n",
              "  <thead>\n",
              "    <tr style=\"text-align: right;\">\n",
              "      <th></th>\n",
              "      <th>Id</th>\n",
              "      <th>ProductId</th>\n",
              "      <th>UserId</th>\n",
              "      <th>ProfileName</th>\n",
              "      <th>HelpfulnessNumerator</th>\n",
              "      <th>HelpfulnessDenominator</th>\n",
              "      <th>Score</th>\n",
              "      <th>Time</th>\n",
              "      <th>Summary</th>\n",
              "      <th>Text</th>\n",
              "    </tr>\n",
              "  </thead>\n",
              "  <tbody>\n",
              "    <tr>\n",
              "      <th>15797</th>\n",
              "      <td>17270</td>\n",
              "      <td>B000GPXRRW</td>\n",
              "      <td>A2R6RA8FRBS608</td>\n",
              "      <td>Matthew G. Sherwin</td>\n",
              "      <td>3</td>\n",
              "      <td>3</td>\n",
              "      <td>5</td>\n",
              "      <td>1185580800</td>\n",
              "      <td>Vanilla caramel Coffee-mate is TOPS in my book...</td>\n",
              "      <td>Vanilla caramel flavored Coffee-mate makes for...</td>\n",
              "    </tr>\n",
              "    <tr>\n",
              "      <th>40441</th>\n",
              "      <td>43949</td>\n",
              "      <td>B000CDZY8I</td>\n",
              "      <td>AI8Z1GP75O9J4</td>\n",
              "      <td>Phyllis J. Kirk \"sttchurchlady\"</td>\n",
              "      <td>2</td>\n",
              "      <td>3</td>\n",
              "      <td>5</td>\n",
              "      <td>1196553600</td>\n",
              "      <td>Lindt Chocolate truffles --  not a book, but C...</td>\n",
              "      <td>This is excellent Belgian Chocolate, not readi...</td>\n",
              "    </tr>\n",
              "    <tr>\n",
              "      <th>60089</th>\n",
              "      <td>65280</td>\n",
              "      <td>B00060ONFW</td>\n",
              "      <td>A3F0IH7U4M0O05</td>\n",
              "      <td>J. D. Smith</td>\n",
              "      <td>2</td>\n",
              "      <td>2</td>\n",
              "      <td>1</td>\n",
              "      <td>1296604800</td>\n",
              "      <td>No Hero in my book</td>\n",
              "      <td>I paid twice as much for shipping as the cost ...</td>\n",
              "    </tr>\n",
              "    <tr>\n",
              "      <th>65402</th>\n",
              "      <td>71046</td>\n",
              "      <td>B0007WGV6S</td>\n",
              "      <td>A1EGZYG8PC51U5</td>\n",
              "      <td>D. Wilson \"SonRisedInTheEast\"</td>\n",
              "      <td>6</td>\n",
              "      <td>7</td>\n",
              "      <td>4</td>\n",
              "      <td>1189036800</td>\n",
              "      <td>As good as candy gets in my book!  So why only...</td>\n",
              "      <td>Milk Duds and I have had a longstanding love a...</td>\n",
              "    </tr>\n",
              "  </tbody>\n",
              "</table>\n",
              "</div>"
            ],
            "text/plain": [
              "          Id   ProductId          UserId                      ProfileName  \\\n",
              "15797  17270  B000GPXRRW  A2R6RA8FRBS608               Matthew G. Sherwin   \n",
              "40441  43949  B000CDZY8I   AI8Z1GP75O9J4  Phyllis J. Kirk \"sttchurchlady\"   \n",
              "60089  65280  B00060ONFW  A3F0IH7U4M0O05                      J. D. Smith   \n",
              "65402  71046  B0007WGV6S  A1EGZYG8PC51U5    D. Wilson \"SonRisedInTheEast\"   \n",
              "\n",
              "       HelpfulnessNumerator  HelpfulnessDenominator  Score        Time  \\\n",
              "15797                     3                       3      5  1185580800   \n",
              "40441                     2                       3      5  1196553600   \n",
              "60089                     2                       2      1  1296604800   \n",
              "65402                     6                       7      4  1189036800   \n",
              "\n",
              "                                                 Summary  \\\n",
              "15797  Vanilla caramel Coffee-mate is TOPS in my book...   \n",
              "40441  Lindt Chocolate truffles --  not a book, but C...   \n",
              "60089                                 No Hero in my book   \n",
              "65402  As good as candy gets in my book!  So why only...   \n",
              "\n",
              "                                                    Text  \n",
              "15797  Vanilla caramel flavored Coffee-mate makes for...  \n",
              "40441  This is excellent Belgian Chocolate, not readi...  \n",
              "60089  I paid twice as much for shipping as the cost ...  \n",
              "65402  Milk Duds and I have had a longstanding love a...  "
            ]
          },
          "metadata": {
            "tags": []
          },
          "execution_count": 20
        }
      ]
    },
    {
      "metadata": {
        "id": "Tn1HrTOpN-R9",
        "colab_type": "text"
      },
      "cell_type": "markdown",
      "source": [
        "#### Observation\n",
        "- There are duplicates\n",
        "  - Same user having review comments for more than one product at same timestamp which is impractical"
      ]
    },
    {
      "metadata": {
        "id": "dXgum8ANWRIU",
        "colab_type": "text"
      },
      "cell_type": "markdown",
      "source": [
        "## Cleaning"
      ]
    },
    {
      "metadata": {
        "id": "Y0RWUIiqXGNR",
        "colab_type": "text"
      },
      "cell_type": "markdown",
      "source": [
        "### Drop Duplicates"
      ]
    },
    {
      "metadata": {
        "id": "bq5iOkxlWdeZ",
        "colab_type": "code",
        "colab": {}
      },
      "cell_type": "code",
      "source": [
        "# Sort the data based on ProductID in ascending order so that we can keep only one kind of product review\n",
        "sorted_data = filtered_data.sort_values('ProductId',axis=0, ascending=True, inplace=False, na_position='last')"
      ],
      "execution_count": 0,
      "outputs": []
    },
    {
      "metadata": {
        "id": "nl4JHZG1X1Wd",
        "colab_type": "code",
        "colab": {
          "base_uri": "https://localhost:8080/",
          "height": 34
        },
        "outputId": "c4da66db-f76b-4f64-e657-3ae2023deb6f"
      },
      "cell_type": "code",
      "source": [
        "# keep first entry, drop remaining duplicate entries\n",
        "final_data = sorted_data.drop_duplicates(subset={'UserId','ProfileName','Time','Text'},keep='first',inplace=False)\n",
        "print(final_data.shape)"
      ],
      "execution_count": 22,
      "outputs": [
        {
          "output_type": "stream",
          "text": [
            "(364173, 10)\n"
          ],
          "name": "stdout"
        }
      ]
    },
    {
      "metadata": {
        "id": "mqFfyoYXYo-A",
        "colab_type": "text"
      },
      "cell_type": "markdown",
      "source": [
        "### Remove invalid Helpfull Score entries"
      ]
    },
    {
      "metadata": {
        "id": "eTHCvfhMYzKZ",
        "colab_type": "code",
        "colab": {
          "base_uri": "https://localhost:8080/",
          "height": 34
        },
        "outputId": "f6508c55-25ad-4fd4-aea8-997e4400928f"
      },
      "cell_type": "code",
      "source": [
        "final_data = final_data[final_data.HelpfulnessNumerator <= final_data.HelpfulnessDenominator]\n",
        "print(final_data.shape)"
      ],
      "execution_count": 23,
      "outputs": [
        {
          "output_type": "stream",
          "text": [
            "(364171, 10)\n"
          ],
          "name": "stdout"
        }
      ]
    },
    {
      "metadata": {
        "id": "DFnSdWgAZMWc",
        "colab_type": "text"
      },
      "cell_type": "markdown",
      "source": [
        "### Remove Invalid Summary Entries - TO DO"
      ]
    },
    {
      "metadata": {
        "id": "8yGboODzZP5f",
        "colab_type": "text"
      },
      "cell_type": "markdown",
      "source": [
        "### Analyse and Remove any invalid entries in review text - TO DO"
      ]
    },
    {
      "metadata": {
        "id": "2LZKgGa4OTde",
        "colab_type": "text"
      },
      "cell_type": "markdown",
      "source": [
        "## Observation Summary\n",
        "\n",
        "- TO DO"
      ]
    },
    {
      "metadata": {
        "id": "1GxPw4I1ZaEz",
        "colab_type": "code",
        "colab": {}
      },
      "cell_type": "code",
      "source": [
        ""
      ],
      "execution_count": 0,
      "outputs": []
    }
  ]
}