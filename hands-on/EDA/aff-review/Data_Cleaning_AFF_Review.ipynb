{
 "cells": [
  {
   "cell_type": "markdown",
   "metadata": {
    "colab_type": "text",
    "id": "iQNc_cKjv4Xr"
   },
   "source": [
    " EDA on Amazon Fine Food Review dataset\n",
    " ==="
   ]
  },
  {
   "cell_type": "markdown",
   "metadata": {
    "colab_type": "text",
    "id": "BUiYVTCwuJfD"
   },
   "source": [
    "# Mount Google Drive - Colab"
   ]
  },
  {
   "cell_type": "code",
   "execution_count": 1,
   "metadata": {
    "colab": {
     "base_uri": "https://localhost:8080/",
     "height": 34
    },
    "colab_type": "code",
    "id": "EHswEYeuNl6n",
    "outputId": "70d384ad-9f86-46e2-b3be-6490c73f1dfc"
   },
   "outputs": [],
   "source": [
    "# Mouting Google Drive\n",
    "#from google.colab import drive\n",
    "#drive.mount('/content/drive')"
   ]
  },
  {
   "cell_type": "markdown",
   "metadata": {
    "colab_type": "text",
    "id": "tzsW1bPxuOA0"
   },
   "source": [
    "# Import Required Modules"
   ]
  },
  {
   "cell_type": "code",
   "execution_count": 2,
   "metadata": {
    "colab": {
     "base_uri": "https://localhost:8080/",
     "height": 68
    },
    "colab_type": "code",
    "id": "NFRleFnorUVi",
    "outputId": "a7d8e7e6-6590-4dd9-acf6-70ebb5f87a02"
   },
   "outputs": [
    {
     "name": "stdout",
     "output_type": "stream",
     "text": [
      "[nltk_data] Downloading package stopwords to C:\\Users\\yuvaraja\n",
      "[nltk_data]     manikandan\\AppData\\Roaming\\nltk_data...\n",
      "[nltk_data]   Package stopwords is already up-to-date!\n"
     ]
    },
    {
     "data": {
      "text/plain": [
       "True"
      ]
     },
     "execution_count": 2,
     "metadata": {},
     "output_type": "execute_result"
    }
   ],
   "source": [
    "import sqlite3\n",
    "import pandas as pd\n",
    "import numpy as np\n",
    "import csv # for CSV file handling\n",
    "#from tqdm import tqdm_notebook\n",
    "from tqdm import tqdm\n",
    "import re # for regular expression over sentences for pre-processing\n",
    "from nltk.corpus import stopwords # for stopwords removal\n",
    "\n",
    "import nltk\n",
    "nltk.download('stopwords')"
   ]
  },
  {
   "cell_type": "markdown",
   "metadata": {
    "colab_type": "text",
    "id": "Z5p4AvmYuSfR"
   },
   "source": [
    "# Load Data"
   ]
  },
  {
   "cell_type": "code",
   "execution_count": 3,
   "metadata": {
    "colab": {
     "base_uri": "https://localhost:8080/",
     "height": 289
    },
    "colab_type": "code",
    "id": "pGhcctjOrVd1",
    "outputId": "bdabc96f-11e5-425a-a208-385916d2fb7c"
   },
   "outputs": [
    {
     "data": {
      "text/html": [
       "<div>\n",
       "<style scoped>\n",
       "    .dataframe tbody tr th:only-of-type {\n",
       "        vertical-align: middle;\n",
       "    }\n",
       "\n",
       "    .dataframe tbody tr th {\n",
       "        vertical-align: top;\n",
       "    }\n",
       "\n",
       "    .dataframe thead th {\n",
       "        text-align: right;\n",
       "    }\n",
       "</style>\n",
       "<table border=\"1\" class=\"dataframe\">\n",
       "  <thead>\n",
       "    <tr style=\"text-align: right;\">\n",
       "      <th></th>\n",
       "      <th>Id</th>\n",
       "      <th>ProductId</th>\n",
       "      <th>UserId</th>\n",
       "      <th>ProfileName</th>\n",
       "      <th>HelpfulnessNumerator</th>\n",
       "      <th>HelpfulnessDenominator</th>\n",
       "      <th>Score</th>\n",
       "      <th>Time</th>\n",
       "      <th>Summary</th>\n",
       "      <th>Text</th>\n",
       "    </tr>\n",
       "  </thead>\n",
       "  <tbody>\n",
       "    <tr>\n",
       "      <th>0</th>\n",
       "      <td>1</td>\n",
       "      <td>B001E4KFG0</td>\n",
       "      <td>A3SGXH7AUHU8GW</td>\n",
       "      <td>delmartian</td>\n",
       "      <td>1</td>\n",
       "      <td>1</td>\n",
       "      <td>5</td>\n",
       "      <td>1303862400</td>\n",
       "      <td>Good Quality Dog Food</td>\n",
       "      <td>I have bought several of the Vitality canned d...</td>\n",
       "    </tr>\n",
       "    <tr>\n",
       "      <th>1</th>\n",
       "      <td>2</td>\n",
       "      <td>B00813GRG4</td>\n",
       "      <td>A1D87F6ZCVE5NK</td>\n",
       "      <td>dll pa</td>\n",
       "      <td>0</td>\n",
       "      <td>0</td>\n",
       "      <td>1</td>\n",
       "      <td>1346976000</td>\n",
       "      <td>Not as Advertised</td>\n",
       "      <td>Product arrived labeled as Jumbo Salted Peanut...</td>\n",
       "    </tr>\n",
       "    <tr>\n",
       "      <th>2</th>\n",
       "      <td>3</td>\n",
       "      <td>B000LQOCH0</td>\n",
       "      <td>ABXLMWJIXXAIN</td>\n",
       "      <td>Natalia Corres \"Natalia Corres\"</td>\n",
       "      <td>1</td>\n",
       "      <td>1</td>\n",
       "      <td>4</td>\n",
       "      <td>1219017600</td>\n",
       "      <td>\"Delight\" says it all</td>\n",
       "      <td>This is a confection that has been around a fe...</td>\n",
       "    </tr>\n",
       "    <tr>\n",
       "      <th>3</th>\n",
       "      <td>4</td>\n",
       "      <td>B000UA0QIQ</td>\n",
       "      <td>A395BORC6FGVXV</td>\n",
       "      <td>Karl</td>\n",
       "      <td>3</td>\n",
       "      <td>3</td>\n",
       "      <td>2</td>\n",
       "      <td>1307923200</td>\n",
       "      <td>Cough Medicine</td>\n",
       "      <td>If you are looking for the secret ingredient i...</td>\n",
       "    </tr>\n",
       "    <tr>\n",
       "      <th>4</th>\n",
       "      <td>5</td>\n",
       "      <td>B006K2ZZ7K</td>\n",
       "      <td>A1UQRSCLF8GW1T</td>\n",
       "      <td>Michael D. Bigham \"M. Wassir\"</td>\n",
       "      <td>0</td>\n",
       "      <td>0</td>\n",
       "      <td>5</td>\n",
       "      <td>1350777600</td>\n",
       "      <td>Great taffy</td>\n",
       "      <td>Great taffy at a great price.  There was a wid...</td>\n",
       "    </tr>\n",
       "  </tbody>\n",
       "</table>\n",
       "</div>"
      ],
      "text/plain": [
       "   Id   ProductId          UserId                      ProfileName  \\\n",
       "0   1  B001E4KFG0  A3SGXH7AUHU8GW                       delmartian   \n",
       "1   2  B00813GRG4  A1D87F6ZCVE5NK                           dll pa   \n",
       "2   3  B000LQOCH0   ABXLMWJIXXAIN  Natalia Corres \"Natalia Corres\"   \n",
       "3   4  B000UA0QIQ  A395BORC6FGVXV                             Karl   \n",
       "4   5  B006K2ZZ7K  A1UQRSCLF8GW1T    Michael D. Bigham \"M. Wassir\"   \n",
       "\n",
       "   HelpfulnessNumerator  HelpfulnessDenominator  Score        Time  \\\n",
       "0                     1                       1      5  1303862400   \n",
       "1                     0                       0      1  1346976000   \n",
       "2                     1                       1      4  1219017600   \n",
       "3                     3                       3      2  1307923200   \n",
       "4                     0                       0      5  1350777600   \n",
       "\n",
       "                 Summary                                               Text  \n",
       "0  Good Quality Dog Food  I have bought several of the Vitality canned d...  \n",
       "1      Not as Advertised  Product arrived labeled as Jumbo Salted Peanut...  \n",
       "2  \"Delight\" says it all  This is a confection that has been around a fe...  \n",
       "3         Cough Medicine  If you are looking for the secret ingredient i...  \n",
       "4            Great taffy  Great taffy at a great price.  There was a wid...  "
      ]
     },
     "execution_count": 3,
     "metadata": {},
     "output_type": "execute_result"
    }
   ],
   "source": [
    "# Using sqlite read data from the database\n",
    "#con = sqlite3.connect('/content/drive/My Drive/Colab Notebooks/AFF-Review/database.sqlite')\n",
    "con = sqlite3.connect('./../../../../../Instructor_Notebooks/AmazonFineFoodReviews/database.sqlite')\n",
    "#con = sqlite3.connect('./../appliedaicourse/AFF-Review/database.sqlite')\n",
    "\n",
    "# Get reviews which do not have score as 3\n",
    "filtered_data = pd.read_sql_query(\"\"\" SELECT * FROM Reviews WHERE Score != 3 \"\"\", con)\n",
    "filtered_data.head()"
   ]
  },
  {
   "cell_type": "markdown",
   "metadata": {
    "colab_type": "text",
    "id": "XMJfYN6zs2oK"
   },
   "source": [
    "# Highlevel Statistics"
   ]
  },
  {
   "cell_type": "code",
   "execution_count": 4,
   "metadata": {
    "colab": {
     "base_uri": "https://localhost:8080/",
     "height": 297
    },
    "colab_type": "code",
    "id": "oyMOh4EEs11i",
    "outputId": "a60cae32-7c80-4767-9d52-0e02720f5e2d"
   },
   "outputs": [
    {
     "data": {
      "text/html": [
       "<div>\n",
       "<style scoped>\n",
       "    .dataframe tbody tr th:only-of-type {\n",
       "        vertical-align: middle;\n",
       "    }\n",
       "\n",
       "    .dataframe tbody tr th {\n",
       "        vertical-align: top;\n",
       "    }\n",
       "\n",
       "    .dataframe thead th {\n",
       "        text-align: right;\n",
       "    }\n",
       "</style>\n",
       "<table border=\"1\" class=\"dataframe\">\n",
       "  <thead>\n",
       "    <tr style=\"text-align: right;\">\n",
       "      <th></th>\n",
       "      <th>Id</th>\n",
       "      <th>HelpfulnessNumerator</th>\n",
       "      <th>HelpfulnessDenominator</th>\n",
       "      <th>Score</th>\n",
       "      <th>Time</th>\n",
       "    </tr>\n",
       "  </thead>\n",
       "  <tbody>\n",
       "    <tr>\n",
       "      <th>count</th>\n",
       "      <td>525814.000000</td>\n",
       "      <td>525814.000000</td>\n",
       "      <td>525814.000000</td>\n",
       "      <td>525814.000000</td>\n",
       "      <td>5.258140e+05</td>\n",
       "    </tr>\n",
       "    <tr>\n",
       "      <th>mean</th>\n",
       "      <td>284599.060038</td>\n",
       "      <td>1.747293</td>\n",
       "      <td>2.209544</td>\n",
       "      <td>4.279148</td>\n",
       "      <td>1.295943e+09</td>\n",
       "    </tr>\n",
       "    <tr>\n",
       "      <th>std</th>\n",
       "      <td>163984.038077</td>\n",
       "      <td>7.575819</td>\n",
       "      <td>8.195329</td>\n",
       "      <td>1.316725</td>\n",
       "      <td>4.828129e+07</td>\n",
       "    </tr>\n",
       "    <tr>\n",
       "      <th>min</th>\n",
       "      <td>1.000000</td>\n",
       "      <td>0.000000</td>\n",
       "      <td>0.000000</td>\n",
       "      <td>1.000000</td>\n",
       "      <td>9.393408e+08</td>\n",
       "    </tr>\n",
       "    <tr>\n",
       "      <th>25%</th>\n",
       "      <td>142730.250000</td>\n",
       "      <td>0.000000</td>\n",
       "      <td>0.000000</td>\n",
       "      <td>4.000000</td>\n",
       "      <td>1.270598e+09</td>\n",
       "    </tr>\n",
       "    <tr>\n",
       "      <th>50%</th>\n",
       "      <td>284989.500000</td>\n",
       "      <td>0.000000</td>\n",
       "      <td>1.000000</td>\n",
       "      <td>5.000000</td>\n",
       "      <td>1.310861e+09</td>\n",
       "    </tr>\n",
       "    <tr>\n",
       "      <th>75%</th>\n",
       "      <td>426446.750000</td>\n",
       "      <td>2.000000</td>\n",
       "      <td>2.000000</td>\n",
       "      <td>5.000000</td>\n",
       "      <td>1.332634e+09</td>\n",
       "    </tr>\n",
       "    <tr>\n",
       "      <th>max</th>\n",
       "      <td>568454.000000</td>\n",
       "      <td>866.000000</td>\n",
       "      <td>878.000000</td>\n",
       "      <td>5.000000</td>\n",
       "      <td>1.351210e+09</td>\n",
       "    </tr>\n",
       "  </tbody>\n",
       "</table>\n",
       "</div>"
      ],
      "text/plain": [
       "                  Id  HelpfulnessNumerator  HelpfulnessDenominator  \\\n",
       "count  525814.000000         525814.000000           525814.000000   \n",
       "mean   284599.060038              1.747293                2.209544   \n",
       "std    163984.038077              7.575819                8.195329   \n",
       "min         1.000000              0.000000                0.000000   \n",
       "25%    142730.250000              0.000000                0.000000   \n",
       "50%    284989.500000              0.000000                1.000000   \n",
       "75%    426446.750000              2.000000                2.000000   \n",
       "max    568454.000000            866.000000              878.000000   \n",
       "\n",
       "               Score          Time  \n",
       "count  525814.000000  5.258140e+05  \n",
       "mean        4.279148  1.295943e+09  \n",
       "std         1.316725  4.828129e+07  \n",
       "min         1.000000  9.393408e+08  \n",
       "25%         4.000000  1.270598e+09  \n",
       "50%         5.000000  1.310861e+09  \n",
       "75%         5.000000  1.332634e+09  \n",
       "max         5.000000  1.351210e+09  "
      ]
     },
     "execution_count": 4,
     "metadata": {},
     "output_type": "execute_result"
    }
   ],
   "source": [
    "filtered_data.describe()"
   ]
  },
  {
   "cell_type": "markdown",
   "metadata": {
    "colab_type": "text",
    "id": "aA98xN2syNkZ"
   },
   "source": [
    "## Features/ Labels"
   ]
  },
  {
   "cell_type": "code",
   "execution_count": 5,
   "metadata": {
    "colab": {
     "base_uri": "https://localhost:8080/",
     "height": 68
    },
    "colab_type": "code",
    "id": "P_1bF4ias-c-",
    "outputId": "a0fb4e18-5377-4143-f86c-e360b85781f6"
   },
   "outputs": [
    {
     "data": {
      "text/plain": [
       "Index(['Id', 'ProductId', 'UserId', 'ProfileName', 'HelpfulnessNumerator',\n",
       "       'HelpfulnessDenominator', 'Score', 'Time', 'Summary', 'Text'],\n",
       "      dtype='object')"
      ]
     },
     "execution_count": 5,
     "metadata": {},
     "output_type": "execute_result"
    }
   ],
   "source": [
    "filtered_data.columns"
   ]
  },
  {
   "cell_type": "code",
   "execution_count": 6,
   "metadata": {
    "colab": {
     "base_uri": "https://localhost:8080/",
     "height": 204
    },
    "colab_type": "code",
    "id": "dOAjn_7UtBt1",
    "outputId": "e11d466c-0e31-475c-b57b-5690dfb00491"
   },
   "outputs": [
    {
     "data": {
      "text/plain": [
       "Id                         int64\n",
       "ProductId                 object\n",
       "UserId                    object\n",
       "ProfileName               object\n",
       "HelpfulnessNumerator       int64\n",
       "HelpfulnessDenominator     int64\n",
       "Score                      int64\n",
       "Time                       int64\n",
       "Summary                   object\n",
       "Text                      object\n",
       "dtype: object"
      ]
     },
     "execution_count": 6,
     "metadata": {},
     "output_type": "execute_result"
    }
   ],
   "source": [
    "filtered_data.dtypes"
   ]
  },
  {
   "cell_type": "markdown",
   "metadata": {
    "colab_type": "text",
    "id": "9vCWWfniyVSQ"
   },
   "source": [
    "### Observation\n",
    "- Totally 10 features given\n",
    "- No labels given\n",
    "- From Kaggle below information I have obtained about teach feature\n",
    "  - https://www.kaggle.com/snap/amazon-fine-food-reviews\n",
    "- Id\n",
    "  - Row Id\n",
    "- ProductId\n",
    "  - Unique identifier for the product\n",
    "- UserId\n",
    "  - Unqiue identifier for the user\n",
    "- ProfileName\n",
    "  - Profile name of the user\n",
    "- HelpfulnessNumerator\n",
    "  - Number of users who found the review helpful\n",
    "- HelpfulnessDenominator\n",
    "  - Number of users who indicated whether they found the review helpful\n",
    "- Score\n",
    "  - Rating between 1 and 5\n",
    "- Time\n",
    "  - Timestamp for the review\n",
    "- Summary\n",
    "  - Brief summary of the review\n",
    "- Text\n",
    "  - Text of the review"
   ]
  },
  {
   "cell_type": "markdown",
   "metadata": {
    "colab_type": "text",
    "id": "80EtBiCmz6in"
   },
   "source": [
    "# Data Cleaning"
   ]
  },
  {
   "cell_type": "markdown",
   "metadata": {
    "colab_type": "text",
    "id": "gPu-A1qOz9Gw",
    "toc-hr-collapsed": false
   },
   "source": [
    "## Analysis"
   ]
  },
  {
   "cell_type": "markdown",
   "metadata": {},
   "source": [
    "### Features Analysis"
   ]
  },
  {
   "cell_type": "code",
   "execution_count": 7,
   "metadata": {
    "colab": {
     "base_uri": "https://localhost:8080/",
     "height": 34
    },
    "colab_type": "code",
    "id": "ihRJz7xHtDB7",
    "outputId": "635a68ba-a97d-4f27-d307-7f5df932d89e"
   },
   "outputs": [
    {
     "data": {
      "text/plain": [
       "array([1], dtype=int64)"
      ]
     },
     "execution_count": 7,
     "metadata": {},
     "output_type": "execute_result"
    }
   ],
   "source": [
    "# Id\n",
    "u = filtered_data.Id.value_counts()\n",
    "u.unique()"
   ]
  },
  {
   "cell_type": "code",
   "execution_count": 8,
   "metadata": {
    "colab": {
     "base_uri": "https://localhost:8080/",
     "height": 34
    },
    "colab_type": "code",
    "id": "fxAoM0yTvScQ",
    "outputId": "7958658f-a5b4-4e2b-930a-a290dfb456b4"
   },
   "outputs": [
    {
     "data": {
      "text/plain": [
       "72005"
      ]
     },
     "execution_count": 8,
     "metadata": {},
     "output_type": "execute_result"
    }
   ],
   "source": [
    "# ProductId\n",
    "len(filtered_data.ProductId.unique())"
   ]
  },
  {
   "cell_type": "code",
   "execution_count": 9,
   "metadata": {
    "colab": {
     "base_uri": "https://localhost:8080/",
     "height": 34
    },
    "colab_type": "code",
    "id": "EVCROWUnvdEa",
    "outputId": "bb7a4794-18c0-4a07-f750-49acffc8f850"
   },
   "outputs": [
    {
     "data": {
      "text/plain": [
       "243414"
      ]
     },
     "execution_count": 9,
     "metadata": {},
     "output_type": "execute_result"
    }
   ],
   "source": [
    "# UserId\n",
    "len(filtered_data.UserId.unique())"
   ]
  },
  {
   "cell_type": "code",
   "execution_count": 10,
   "metadata": {
    "colab": {
     "base_uri": "https://localhost:8080/",
     "height": 34
    },
    "colab_type": "code",
    "id": "taWumONlw2y8",
    "outputId": "9f2fdc41-bc1b-4b21-e0fe-ec204d9522fa"
   },
   "outputs": [
    {
     "name": "stdout",
     "output_type": "stream",
     "text": [
      "0 866 222\n"
     ]
    }
   ],
   "source": [
    "# HelpfulnessNumerator\n",
    "print(filtered_data.HelpfulnessNumerator.min(),\n",
    "      filtered_data.HelpfulnessNumerator.max(),\n",
    "      len(filtered_data.HelpfulnessNumerator.unique()))"
   ]
  },
  {
   "cell_type": "code",
   "execution_count": 11,
   "metadata": {
    "colab": {
     "base_uri": "https://localhost:8080/",
     "height": 34
    },
    "colab_type": "code",
    "id": "1dlsXJ18xOTE",
    "outputId": "2b53928b-d81b-43f6-8f50-7a5a33846516"
   },
   "outputs": [
    {
     "name": "stdout",
     "output_type": "stream",
     "text": [
      "0 878 227\n"
     ]
    },
    {
     "data": {
      "text/html": [
       "<div>\n",
       "<style scoped>\n",
       "    .dataframe tbody tr th:only-of-type {\n",
       "        vertical-align: middle;\n",
       "    }\n",
       "\n",
       "    .dataframe tbody tr th {\n",
       "        vertical-align: top;\n",
       "    }\n",
       "\n",
       "    .dataframe thead th {\n",
       "        text-align: right;\n",
       "    }\n",
       "</style>\n",
       "<table border=\"1\" class=\"dataframe\">\n",
       "  <thead>\n",
       "    <tr style=\"text-align: right;\">\n",
       "      <th></th>\n",
       "      <th>Id</th>\n",
       "      <th>ProductId</th>\n",
       "      <th>UserId</th>\n",
       "      <th>ProfileName</th>\n",
       "      <th>HelpfulnessNumerator</th>\n",
       "      <th>HelpfulnessDenominator</th>\n",
       "      <th>Score</th>\n",
       "      <th>Time</th>\n",
       "      <th>Summary</th>\n",
       "      <th>Text</th>\n",
       "    </tr>\n",
       "  </thead>\n",
       "  <tbody>\n",
       "    <tr>\n",
       "      <th>41159</th>\n",
       "      <td>44737</td>\n",
       "      <td>B001EQ55RW</td>\n",
       "      <td>A2V0I904FH7ABY</td>\n",
       "      <td>Ram</td>\n",
       "      <td>3</td>\n",
       "      <td>2</td>\n",
       "      <td>4</td>\n",
       "      <td>1212883200</td>\n",
       "      <td>Pure cocoa taste with crunchy almonds inside</td>\n",
       "      <td>It was almost a 'love at first bite' - the per...</td>\n",
       "    </tr>\n",
       "    <tr>\n",
       "      <th>59301</th>\n",
       "      <td>64422</td>\n",
       "      <td>B000MIDROQ</td>\n",
       "      <td>A161DK06JJMCYF</td>\n",
       "      <td>J. E. Stephens \"Jeanne\"</td>\n",
       "      <td>3</td>\n",
       "      <td>1</td>\n",
       "      <td>5</td>\n",
       "      <td>1224892800</td>\n",
       "      <td>Bought This for My Son at College</td>\n",
       "      <td>My son loves spaghetti so I didn't hesitate or...</td>\n",
       "    </tr>\n",
       "  </tbody>\n",
       "</table>\n",
       "</div>"
      ],
      "text/plain": [
       "          Id   ProductId          UserId              ProfileName  \\\n",
       "41159  44737  B001EQ55RW  A2V0I904FH7ABY                      Ram   \n",
       "59301  64422  B000MIDROQ  A161DK06JJMCYF  J. E. Stephens \"Jeanne\"   \n",
       "\n",
       "       HelpfulnessNumerator  HelpfulnessDenominator  Score        Time  \\\n",
       "41159                     3                       2      4  1212883200   \n",
       "59301                     3                       1      5  1224892800   \n",
       "\n",
       "                                            Summary  \\\n",
       "41159  Pure cocoa taste with crunchy almonds inside   \n",
       "59301             Bought This for My Son at College   \n",
       "\n",
       "                                                    Text  \n",
       "41159  It was almost a 'love at first bite' - the per...  \n",
       "59301  My son loves spaghetti so I didn't hesitate or...  "
      ]
     },
     "execution_count": 11,
     "metadata": {},
     "output_type": "execute_result"
    }
   ],
   "source": [
    "# HelpfulnessDenominator\n",
    "print(filtered_data.HelpfulnessDenominator.min(),\n",
    "      filtered_data.HelpfulnessDenominator.max(),\n",
    "      len(filtered_data.HelpfulnessDenominator.unique()))\n",
    "\n",
    "# As per feature details, Denominator should be greater than Numerator\n",
    "# Lets check whether the data follows that description\n",
    "filtered_data[(filtered_data.HelpfulnessDenominator < filtered_data.HelpfulnessNumerator)]"
   ]
  },
  {
   "cell_type": "code",
   "execution_count": 12,
   "metadata": {
    "colab": {
     "base_uri": "https://localhost:8080/",
     "height": 34
    },
    "colab_type": "code",
    "id": "0860X5gkx3-W",
    "outputId": "9e764c50-00a3-49f5-8be0-8ac17845bf32"
   },
   "outputs": [
    {
     "name": "stdout",
     "output_type": "stream",
     "text": [
      "[5 1 4 2]\n",
      "5    363122\n",
      "4     80655\n",
      "1     52268\n",
      "2     29769\n",
      "Name: Score, dtype: int64\n"
     ]
    }
   ],
   "source": [
    "# Score\n",
    "print(filtered_data.Score.unique())\n",
    "print(filtered_data.Score.value_counts())"
   ]
  },
  {
   "cell_type": "code",
   "execution_count": 13,
   "metadata": {
    "colab": {
     "base_uri": "https://localhost:8080/",
     "height": 34
    },
    "colab_type": "code",
    "id": "tGA6Zfra1cLc",
    "outputId": "3f23e34d-3d42-444f-cd2c-5b7bc43983b7"
   },
   "outputs": [
    {
     "name": "stdout",
     "output_type": "stream",
     "text": [
      "3157\n"
     ]
    },
    {
     "data": {
      "text/html": [
       "<div>\n",
       "<style scoped>\n",
       "    .dataframe tbody tr th:only-of-type {\n",
       "        vertical-align: middle;\n",
       "    }\n",
       "\n",
       "    .dataframe tbody tr th {\n",
       "        vertical-align: top;\n",
       "    }\n",
       "\n",
       "    .dataframe thead th {\n",
       "        text-align: right;\n",
       "    }\n",
       "</style>\n",
       "<table border=\"1\" class=\"dataframe\">\n",
       "  <thead>\n",
       "    <tr style=\"text-align: right;\">\n",
       "      <th></th>\n",
       "      <th>Id</th>\n",
       "      <th>ProductId</th>\n",
       "      <th>UserId</th>\n",
       "      <th>ProfileName</th>\n",
       "      <th>HelpfulnessNumerator</th>\n",
       "      <th>HelpfulnessDenominator</th>\n",
       "      <th>Score</th>\n",
       "      <th>Time</th>\n",
       "      <th>Summary</th>\n",
       "      <th>Text</th>\n",
       "    </tr>\n",
       "  </thead>\n",
       "  <tbody>\n",
       "    <tr>\n",
       "      <th>346055</th>\n",
       "      <td>374359</td>\n",
       "      <td>B00004CI84</td>\n",
       "      <td>A344SMIA5JECGM</td>\n",
       "      <td>Vincent P. Ross</td>\n",
       "      <td>1</td>\n",
       "      <td>2</td>\n",
       "      <td>5</td>\n",
       "      <td>944438400</td>\n",
       "      <td>A modern day fairy tale</td>\n",
       "      <td>A twist of rumplestiskin captured on film, sta...</td>\n",
       "    </tr>\n",
       "    <tr>\n",
       "      <th>417859</th>\n",
       "      <td>451878</td>\n",
       "      <td>B00004CXX9</td>\n",
       "      <td>A344SMIA5JECGM</td>\n",
       "      <td>Vincent P. Ross</td>\n",
       "      <td>1</td>\n",
       "      <td>2</td>\n",
       "      <td>5</td>\n",
       "      <td>944438400</td>\n",
       "      <td>A modern day fairy tale</td>\n",
       "      <td>A twist of rumplestiskin captured on film, sta...</td>\n",
       "    </tr>\n",
       "    <tr>\n",
       "      <th>212472</th>\n",
       "      <td>230285</td>\n",
       "      <td>B00004RYGX</td>\n",
       "      <td>A344SMIA5JECGM</td>\n",
       "      <td>Vincent P. Ross</td>\n",
       "      <td>1</td>\n",
       "      <td>2</td>\n",
       "      <td>5</td>\n",
       "      <td>944438400</td>\n",
       "      <td>A modern day fairy tale</td>\n",
       "      <td>A twist of rumplestiskin captured on film, sta...</td>\n",
       "    </tr>\n",
       "    <tr>\n",
       "      <th>346116</th>\n",
       "      <td>374422</td>\n",
       "      <td>B00004CI84</td>\n",
       "      <td>A1048CYU0OV4O8</td>\n",
       "      <td>Judy L. Eans</td>\n",
       "      <td>2</td>\n",
       "      <td>2</td>\n",
       "      <td>5</td>\n",
       "      <td>947376000</td>\n",
       "      <td>GREAT</td>\n",
       "      <td>THIS IS ONE MOVIE THAT SHOULD BE IN YOUR MOVIE...</td>\n",
       "    </tr>\n",
       "    <tr>\n",
       "      <th>417927</th>\n",
       "      <td>451949</td>\n",
       "      <td>B00004CXX9</td>\n",
       "      <td>A1048CYU0OV4O8</td>\n",
       "      <td>Judy L. Eans</td>\n",
       "      <td>2</td>\n",
       "      <td>2</td>\n",
       "      <td>5</td>\n",
       "      <td>947376000</td>\n",
       "      <td>GREAT</td>\n",
       "      <td>THIS IS ONE MOVIE THAT SHOULD BE IN YOUR MOVIE...</td>\n",
       "    </tr>\n",
       "    <tr>\n",
       "      <th>212533</th>\n",
       "      <td>230348</td>\n",
       "      <td>B00004RYGX</td>\n",
       "      <td>A1048CYU0OV4O8</td>\n",
       "      <td>Judy L. Eans</td>\n",
       "      <td>2</td>\n",
       "      <td>2</td>\n",
       "      <td>5</td>\n",
       "      <td>947376000</td>\n",
       "      <td>GREAT</td>\n",
       "      <td>THIS IS ONE MOVIE THAT SHOULD BE IN YOUR MOVIE...</td>\n",
       "    </tr>\n",
       "    <tr>\n",
       "      <th>417847</th>\n",
       "      <td>451864</td>\n",
       "      <td>B00004CXX9</td>\n",
       "      <td>A1B2IZU1JLZA6</td>\n",
       "      <td>Wes</td>\n",
       "      <td>19</td>\n",
       "      <td>23</td>\n",
       "      <td>1</td>\n",
       "      <td>948240000</td>\n",
       "      <td>WARNING: CLAMSHELL EDITION IS EDITED TV VERSION</td>\n",
       "      <td>I, myself always enjoyed this movie, it's very...</td>\n",
       "    </tr>\n",
       "    <tr>\n",
       "      <th>212458</th>\n",
       "      <td>230269</td>\n",
       "      <td>B00004RYGX</td>\n",
       "      <td>A1B2IZU1JLZA6</td>\n",
       "      <td>Wes</td>\n",
       "      <td>19</td>\n",
       "      <td>23</td>\n",
       "      <td>1</td>\n",
       "      <td>948240000</td>\n",
       "      <td>WARNING: CLAMSHELL EDITION IS EDITED TV VERSION</td>\n",
       "      <td>I, myself always enjoyed this movie, it's very...</td>\n",
       "    </tr>\n",
       "    <tr>\n",
       "      <th>346041</th>\n",
       "      <td>374343</td>\n",
       "      <td>B00004CI84</td>\n",
       "      <td>A1B2IZU1JLZA6</td>\n",
       "      <td>Wes</td>\n",
       "      <td>19</td>\n",
       "      <td>23</td>\n",
       "      <td>1</td>\n",
       "      <td>948240000</td>\n",
       "      <td>WARNING: CLAMSHELL EDITION IS EDITED TV VERSION</td>\n",
       "      <td>I, myself always enjoyed this movie, it's very...</td>\n",
       "    </tr>\n",
       "    <tr>\n",
       "      <th>346141</th>\n",
       "      <td>374450</td>\n",
       "      <td>B00004CI84</td>\n",
       "      <td>ACJR7EQF9S6FP</td>\n",
       "      <td>Jeremy Robertson</td>\n",
       "      <td>2</td>\n",
       "      <td>3</td>\n",
       "      <td>4</td>\n",
       "      <td>951523200</td>\n",
       "      <td>Bettlejuice...Bettlejuice...BETTLEJUICE!</td>\n",
       "      <td>What happens when you say his name three times...</td>\n",
       "    </tr>\n",
       "    <tr>\n",
       "      <th>212558</th>\n",
       "      <td>230376</td>\n",
       "      <td>B00004RYGX</td>\n",
       "      <td>ACJR7EQF9S6FP</td>\n",
       "      <td>Jeremy Robertson</td>\n",
       "      <td>2</td>\n",
       "      <td>3</td>\n",
       "      <td>4</td>\n",
       "      <td>951523200</td>\n",
       "      <td>Bettlejuice...Bettlejuice...BETTLEJUICE!</td>\n",
       "      <td>What happens when you say his name three times...</td>\n",
       "    </tr>\n",
       "    <tr>\n",
       "      <th>417952</th>\n",
       "      <td>451977</td>\n",
       "      <td>B00004CXX9</td>\n",
       "      <td>ACJR7EQF9S6FP</td>\n",
       "      <td>Jeremy Robertson</td>\n",
       "      <td>2</td>\n",
       "      <td>3</td>\n",
       "      <td>4</td>\n",
       "      <td>951523200</td>\n",
       "      <td>Bettlejuice...Bettlejuice...BETTLEJUICE!</td>\n",
       "      <td>What happens when you say his name three times...</td>\n",
       "    </tr>\n",
       "    <tr>\n",
       "      <th>212511</th>\n",
       "      <td>230326</td>\n",
       "      <td>B00004RYGX</td>\n",
       "      <td>A2DEE7F9XKP3ZR</td>\n",
       "      <td>jerome</td>\n",
       "      <td>0</td>\n",
       "      <td>3</td>\n",
       "      <td>5</td>\n",
       "      <td>959990400</td>\n",
       "      <td>Research - Beatlejuice video - French version</td>\n",
       "      <td>I'm getting crazy.I'm looking for Beatlejuice ...</td>\n",
       "    </tr>\n",
       "    <tr>\n",
       "      <th>346094</th>\n",
       "      <td>374400</td>\n",
       "      <td>B00004CI84</td>\n",
       "      <td>A2DEE7F9XKP3ZR</td>\n",
       "      <td>jerome</td>\n",
       "      <td>0</td>\n",
       "      <td>3</td>\n",
       "      <td>5</td>\n",
       "      <td>959990400</td>\n",
       "      <td>Research - Beatlejuice video - French version</td>\n",
       "      <td>I'm getting crazy.I'm looking for Beatlejuice ...</td>\n",
       "    </tr>\n",
       "    <tr>\n",
       "      <th>417883</th>\n",
       "      <td>451903</td>\n",
       "      <td>B00004CXX9</td>\n",
       "      <td>A2DEE7F9XKP3ZR</td>\n",
       "      <td>jerome</td>\n",
       "      <td>0</td>\n",
       "      <td>1</td>\n",
       "      <td>5</td>\n",
       "      <td>959990400</td>\n",
       "      <td>Research</td>\n",
       "      <td>I'm getting crazy.&lt;p&gt;Is it really impossible t...</td>\n",
       "    </tr>\n",
       "    <tr>\n",
       "      <th>138001</th>\n",
       "      <td>149770</td>\n",
       "      <td>B00004S1C5</td>\n",
       "      <td>A1KXONFPU2XQ5K</td>\n",
       "      <td>Stephanie Manley</td>\n",
       "      <td>8</td>\n",
       "      <td>8</td>\n",
       "      <td>5</td>\n",
       "      <td>965779200</td>\n",
       "      <td>Very easy to use</td>\n",
       "      <td>This are so much easier to use than the Wilson...</td>\n",
       "    </tr>\n",
       "    <tr>\n",
       "      <th>138017</th>\n",
       "      <td>149789</td>\n",
       "      <td>B00004S1C6</td>\n",
       "      <td>A1KXONFPU2XQ5K</td>\n",
       "      <td>Stephanie Manley</td>\n",
       "      <td>26</td>\n",
       "      <td>28</td>\n",
       "      <td>5</td>\n",
       "      <td>965779200</td>\n",
       "      <td>A must have!</td>\n",
       "      <td>These are easy to use, they do not make a mess...</td>\n",
       "    </tr>\n",
       "    <tr>\n",
       "      <th>212532</th>\n",
       "      <td>230347</td>\n",
       "      <td>B00004RYGX</td>\n",
       "      <td>A1FJOY14X3MUHE</td>\n",
       "      <td>Justin Howard</td>\n",
       "      <td>2</td>\n",
       "      <td>2</td>\n",
       "      <td>5</td>\n",
       "      <td>966297600</td>\n",
       "      <td>A fresh, original film from master storyteller...</td>\n",
       "      <td>This is such a great film, I don't even know h...</td>\n",
       "    </tr>\n",
       "    <tr>\n",
       "      <th>417926</th>\n",
       "      <td>451948</td>\n",
       "      <td>B00004CXX9</td>\n",
       "      <td>A1FJOY14X3MUHE</td>\n",
       "      <td>Justin Howard</td>\n",
       "      <td>2</td>\n",
       "      <td>2</td>\n",
       "      <td>5</td>\n",
       "      <td>966297600</td>\n",
       "      <td>A fresh, original film from master storyteller...</td>\n",
       "      <td>This is such a great film, I don't even know h...</td>\n",
       "    </tr>\n",
       "    <tr>\n",
       "      <th>346115</th>\n",
       "      <td>374421</td>\n",
       "      <td>B00004CI84</td>\n",
       "      <td>A1FJOY14X3MUHE</td>\n",
       "      <td>Justin Howard</td>\n",
       "      <td>2</td>\n",
       "      <td>2</td>\n",
       "      <td>5</td>\n",
       "      <td>966297600</td>\n",
       "      <td>A fresh, original film from master storyteller...</td>\n",
       "      <td>This is such a great film, I don't even know h...</td>\n",
       "    </tr>\n",
       "    <tr>\n",
       "      <th>346102</th>\n",
       "      <td>374408</td>\n",
       "      <td>B00004CI84</td>\n",
       "      <td>A1GB1Q193DNFGR</td>\n",
       "      <td>Bruce Lee Pullen</td>\n",
       "      <td>5</td>\n",
       "      <td>5</td>\n",
       "      <td>5</td>\n",
       "      <td>970531200</td>\n",
       "      <td>Fabulous Comedic Fanasy Directed by a Master</td>\n",
       "      <td>Beetlejuice is an awe-inspiring wonderfully am...</td>\n",
       "    </tr>\n",
       "    <tr>\n",
       "      <th>212519</th>\n",
       "      <td>230334</td>\n",
       "      <td>B00004RYGX</td>\n",
       "      <td>A1GB1Q193DNFGR</td>\n",
       "      <td>Bruce Lee Pullen</td>\n",
       "      <td>5</td>\n",
       "      <td>5</td>\n",
       "      <td>5</td>\n",
       "      <td>970531200</td>\n",
       "      <td>Fabulous Comedic Fanasy Directed by a Master</td>\n",
       "      <td>Beetlejuice is an awe-inspiring wonderfully am...</td>\n",
       "    </tr>\n",
       "    <tr>\n",
       "      <th>417913</th>\n",
       "      <td>451935</td>\n",
       "      <td>B00004CXX9</td>\n",
       "      <td>A1GB1Q193DNFGR</td>\n",
       "      <td>Bruce Lee Pullen</td>\n",
       "      <td>5</td>\n",
       "      <td>5</td>\n",
       "      <td>5</td>\n",
       "      <td>970531200</td>\n",
       "      <td>Fabulous Comedic Fanasy Directed by a Master</td>\n",
       "      <td>Beetlejuice is an awe-inspiring wonderfully am...</td>\n",
       "    </tr>\n",
       "    <tr>\n",
       "      <th>212495</th>\n",
       "      <td>230309</td>\n",
       "      <td>B00004RYGX</td>\n",
       "      <td>A34NBH479RB0E</td>\n",
       "      <td>\"dmab6395\"</td>\n",
       "      <td>0</td>\n",
       "      <td>1</td>\n",
       "      <td>5</td>\n",
       "      <td>977184000</td>\n",
       "      <td>FUNNY</td>\n",
       "      <td>I THOUGHT THIS MOVIE WAS SO FUNNY, MICHAEL KEA...</td>\n",
       "    </tr>\n",
       "    <tr>\n",
       "      <th>346078</th>\n",
       "      <td>374383</td>\n",
       "      <td>B00004CI84</td>\n",
       "      <td>A34NBH479RB0E</td>\n",
       "      <td>\"dmab6395\"</td>\n",
       "      <td>0</td>\n",
       "      <td>1</td>\n",
       "      <td>5</td>\n",
       "      <td>977184000</td>\n",
       "      <td>FUNNY</td>\n",
       "      <td>I THOUGHT THIS MOVIE WAS SO FUNNY, MICHAEL KEA...</td>\n",
       "    </tr>\n",
       "    <tr>\n",
       "      <th>417882</th>\n",
       "      <td>451902</td>\n",
       "      <td>B00004CXX9</td>\n",
       "      <td>A34NBH479RB0E</td>\n",
       "      <td>\"dmab6395\"</td>\n",
       "      <td>0</td>\n",
       "      <td>1</td>\n",
       "      <td>5</td>\n",
       "      <td>977184000</td>\n",
       "      <td>FUNNY</td>\n",
       "      <td>I THOUGHT THIS MOVIE WAS SO FUNNY, MICHAEL KEA...</td>\n",
       "    </tr>\n",
       "    <tr>\n",
       "      <th>346054</th>\n",
       "      <td>374358</td>\n",
       "      <td>B00004CI84</td>\n",
       "      <td>A1HWMNSQF14MP8</td>\n",
       "      <td>will@socialaw.com</td>\n",
       "      <td>1</td>\n",
       "      <td>2</td>\n",
       "      <td>5</td>\n",
       "      <td>978134400</td>\n",
       "      <td>A Afterlife Success</td>\n",
       "      <td>Many movies, have dealt with the figure of dea...</td>\n",
       "    </tr>\n",
       "    <tr>\n",
       "      <th>417858</th>\n",
       "      <td>451877</td>\n",
       "      <td>B00004CXX9</td>\n",
       "      <td>A1HWMNSQF14MP8</td>\n",
       "      <td>will@socialaw.com</td>\n",
       "      <td>1</td>\n",
       "      <td>2</td>\n",
       "      <td>5</td>\n",
       "      <td>978134400</td>\n",
       "      <td>A Afterlife Success</td>\n",
       "      <td>Many movies, have dealt with the figure of dea...</td>\n",
       "    </tr>\n",
       "    <tr>\n",
       "      <th>212471</th>\n",
       "      <td>230284</td>\n",
       "      <td>B00004RYGX</td>\n",
       "      <td>A1HWMNSQF14MP8</td>\n",
       "      <td>will@socialaw.com</td>\n",
       "      <td>1</td>\n",
       "      <td>2</td>\n",
       "      <td>5</td>\n",
       "      <td>978134400</td>\n",
       "      <td>A Afterlife Success</td>\n",
       "      <td>Many movies, have dealt with the figure of dea...</td>\n",
       "    </tr>\n",
       "    <tr>\n",
       "      <th>138018</th>\n",
       "      <td>149790</td>\n",
       "      <td>B00004S1C6</td>\n",
       "      <td>A1IU7S4HCK1XK0</td>\n",
       "      <td>Joanna Daneman</td>\n",
       "      <td>25</td>\n",
       "      <td>27</td>\n",
       "      <td>5</td>\n",
       "      <td>982800000</td>\n",
       "      <td>Make your own Martha Stewart style cakes and c...</td>\n",
       "      <td>I don't know why anyone would ever use those l...</td>\n",
       "    </tr>\n",
       "    <tr>\n",
       "      <th>...</th>\n",
       "      <td>...</td>\n",
       "      <td>...</td>\n",
       "      <td>...</td>\n",
       "      <td>...</td>\n",
       "      <td>...</td>\n",
       "      <td>...</td>\n",
       "      <td>...</td>\n",
       "      <td>...</td>\n",
       "      <td>...</td>\n",
       "      <td>...</td>\n",
       "    </tr>\n",
       "    <tr>\n",
       "      <th>427278</th>\n",
       "      <td>462088</td>\n",
       "      <td>B00611F084</td>\n",
       "      <td>A6D4ND3C3BCYV</td>\n",
       "      <td>karo</td>\n",
       "      <td>0</td>\n",
       "      <td>0</td>\n",
       "      <td>5</td>\n",
       "      <td>1351209600</td>\n",
       "      <td>Jamica Me Crazy Coffee</td>\n",
       "      <td>Wolfgang Puck's Jamaica Me Crazy is that wonde...</td>\n",
       "    </tr>\n",
       "    <tr>\n",
       "      <th>218306</th>\n",
       "      <td>236653</td>\n",
       "      <td>B008YA1NWC</td>\n",
       "      <td>A2O4V3MCB7EPPU</td>\n",
       "      <td>Bellingham Bookworm</td>\n",
       "      <td>0</td>\n",
       "      <td>0</td>\n",
       "      <td>4</td>\n",
       "      <td>1351209600</td>\n",
       "      <td>One of my favorite K-cups flavors</td>\n",
       "      <td>This is one of my favorite k-cup flavors.  The...</td>\n",
       "    </tr>\n",
       "    <tr>\n",
       "      <th>372276</th>\n",
       "      <td>402585</td>\n",
       "      <td>B000EML7DS</td>\n",
       "      <td>A2DFSA2JXQKVY3</td>\n",
       "      <td>C-Rush</td>\n",
       "      <td>0</td>\n",
       "      <td>0</td>\n",
       "      <td>4</td>\n",
       "      <td>1351209600</td>\n",
       "      <td>Not bad.</td>\n",
       "      <td>These are small and very salty. The taste is g...</td>\n",
       "    </tr>\n",
       "    <tr>\n",
       "      <th>280723</th>\n",
       "      <td>304160</td>\n",
       "      <td>B001AS1A4Q</td>\n",
       "      <td>A2E2F8WSUB33VE</td>\n",
       "      <td>Maria A. Alfonzo</td>\n",
       "      <td>0</td>\n",
       "      <td>0</td>\n",
       "      <td>5</td>\n",
       "      <td>1351209600</td>\n",
       "      <td>Excelent</td>\n",
       "      <td>Good price, flavor, fast delivery And good pre...</td>\n",
       "    </tr>\n",
       "    <tr>\n",
       "      <th>280722</th>\n",
       "      <td>304159</td>\n",
       "      <td>B001AS1A4Q</td>\n",
       "      <td>AYTSBGA5A3UWI</td>\n",
       "      <td>Imran Ali</td>\n",
       "      <td>0</td>\n",
       "      <td>0</td>\n",
       "      <td>5</td>\n",
       "      <td>1351209600</td>\n",
       "      <td>A God Sent Remedy!!!</td>\n",
       "      <td>I love this stuff! It's a God sent Remedy for ...</td>\n",
       "    </tr>\n",
       "    <tr>\n",
       "      <th>19181</th>\n",
       "      <td>20930</td>\n",
       "      <td>B001L1MKLY</td>\n",
       "      <td>A38XYFHXEUNUW6</td>\n",
       "      <td>bleaufire</td>\n",
       "      <td>0</td>\n",
       "      <td>0</td>\n",
       "      <td>5</td>\n",
       "      <td>1351209600</td>\n",
       "      <td>Yummy &amp; Subtle</td>\n",
       "      <td>Just made my first pot of this wonderful coffe...</td>\n",
       "    </tr>\n",
       "    <tr>\n",
       "      <th>118532</th>\n",
       "      <td>128554</td>\n",
       "      <td>B007L3NVKU</td>\n",
       "      <td>A3HM6TNYB7FNDL</td>\n",
       "      <td>C. Furman</td>\n",
       "      <td>0</td>\n",
       "      <td>0</td>\n",
       "      <td>4</td>\n",
       "      <td>1351209600</td>\n",
       "      <td>Full- bodied without a bitter after-taste</td>\n",
       "      <td>This is my everyday coffee choice...a good all...</td>\n",
       "    </tr>\n",
       "    <tr>\n",
       "      <th>279857</th>\n",
       "      <td>303246</td>\n",
       "      <td>B0002DGRZC</td>\n",
       "      <td>AUINI96NMGXUI</td>\n",
       "      <td>Kkrys23</td>\n",
       "      <td>0</td>\n",
       "      <td>0</td>\n",
       "      <td>5</td>\n",
       "      <td>1351209600</td>\n",
       "      <td>Love this faucet</td>\n",
       "      <td>Love this faucet.  My husband had installed th...</td>\n",
       "    </tr>\n",
       "    <tr>\n",
       "      <th>279856</th>\n",
       "      <td>303245</td>\n",
       "      <td>B0002DGRZC</td>\n",
       "      <td>A3SSEJ8IEM4YGW</td>\n",
       "      <td>Seagaul</td>\n",
       "      <td>0</td>\n",
       "      <td>0</td>\n",
       "      <td>5</td>\n",
       "      <td>1351209600</td>\n",
       "      <td>Dogs love it.</td>\n",
       "      <td>This is the \"all gone\" treat after dinner.  It...</td>\n",
       "    </tr>\n",
       "    <tr>\n",
       "      <th>279331</th>\n",
       "      <td>302676</td>\n",
       "      <td>B000UBH9YE</td>\n",
       "      <td>A1CM50V04TUUPF</td>\n",
       "      <td>Shelly</td>\n",
       "      <td>0</td>\n",
       "      <td>0</td>\n",
       "      <td>5</td>\n",
       "      <td>1351209600</td>\n",
       "      <td>Love My Senseo!</td>\n",
       "      <td>I I haven't had a bad cup of coffee yet.  So f...</td>\n",
       "    </tr>\n",
       "    <tr>\n",
       "      <th>395966</th>\n",
       "      <td>428155</td>\n",
       "      <td>B003XKF6CQ</td>\n",
       "      <td>A3IYSIAKYOMKTO</td>\n",
       "      <td>Renter</td>\n",
       "      <td>0</td>\n",
       "      <td>0</td>\n",
       "      <td>5</td>\n",
       "      <td>1351209600</td>\n",
       "      <td>Mellow</td>\n",
       "      <td>This honey made from blueberry blossoms has a ...</td>\n",
       "    </tr>\n",
       "    <tr>\n",
       "      <th>119196</th>\n",
       "      <td>129256</td>\n",
       "      <td>B004MMNNDS</td>\n",
       "      <td>A248RO4GSIWDII</td>\n",
       "      <td>Robert Kawalec</td>\n",
       "      <td>0</td>\n",
       "      <td>0</td>\n",
       "      <td>5</td>\n",
       "      <td>1351209600</td>\n",
       "      <td>Love it!</td>\n",
       "      <td>Heard great things about drinking this tea. I ...</td>\n",
       "    </tr>\n",
       "    <tr>\n",
       "      <th>371881</th>\n",
       "      <td>402156</td>\n",
       "      <td>B0006349WQ</td>\n",
       "      <td>A21BT40VZCCYT4</td>\n",
       "      <td>Carol A. Reed</td>\n",
       "      <td>0</td>\n",
       "      <td>0</td>\n",
       "      <td>5</td>\n",
       "      <td>1351209600</td>\n",
       "      <td>Good Training Treat</td>\n",
       "      <td>My dog will come in from outside when I am tra...</td>\n",
       "    </tr>\n",
       "    <tr>\n",
       "      <th>219434</th>\n",
       "      <td>237869</td>\n",
       "      <td>B003ASXKV0</td>\n",
       "      <td>AUEA2NJHMK9DF</td>\n",
       "      <td>Penny E. Cooke \"PMSDEA\"</td>\n",
       "      <td>0</td>\n",
       "      <td>0</td>\n",
       "      <td>4</td>\n",
       "      <td>1351209600</td>\n",
       "      <td>Like this tea</td>\n",
       "      <td>This tea has a nice flavor although I wish it ...</td>\n",
       "    </tr>\n",
       "    <tr>\n",
       "      <th>219497</th>\n",
       "      <td>237940</td>\n",
       "      <td>B00018CWN4</td>\n",
       "      <td>A37264CFSSA73O</td>\n",
       "      <td>Andrea</td>\n",
       "      <td>0</td>\n",
       "      <td>0</td>\n",
       "      <td>5</td>\n",
       "      <td>1351209600</td>\n",
       "      <td>Great quality!</td>\n",
       "      <td>This product is very good and I won't change i...</td>\n",
       "    </tr>\n",
       "    <tr>\n",
       "      <th>80489</th>\n",
       "      <td>87518</td>\n",
       "      <td>B0050CPSBE</td>\n",
       "      <td>A4IL0CLL27Q33</td>\n",
       "      <td>D. Brennan</td>\n",
       "      <td>0</td>\n",
       "      <td>0</td>\n",
       "      <td>1</td>\n",
       "      <td>1351209600</td>\n",
       "      <td>Buyer beware</td>\n",
       "      <td>Nespresso makes GREAT coffee and GREAT machine...</td>\n",
       "    </tr>\n",
       "    <tr>\n",
       "      <th>482305</th>\n",
       "      <td>521517</td>\n",
       "      <td>B002HNC8VW</td>\n",
       "      <td>A2DVFHG099GUGE</td>\n",
       "      <td>sauerkraut</td>\n",
       "      <td>0</td>\n",
       "      <td>0</td>\n",
       "      <td>2</td>\n",
       "      <td>1351209600</td>\n",
       "      <td>Not a preferential hot sauce</td>\n",
       "      <td>For quite some time, I have been using differe...</td>\n",
       "    </tr>\n",
       "    <tr>\n",
       "      <th>393073</th>\n",
       "      <td>425059</td>\n",
       "      <td>B00317HLQA</td>\n",
       "      <td>A3AOK34N9VZ7HY</td>\n",
       "      <td>college student mom</td>\n",
       "      <td>0</td>\n",
       "      <td>0</td>\n",
       "      <td>5</td>\n",
       "      <td>1351209600</td>\n",
       "      <td>special k fruit krisps. Blueberry are great</td>\n",
       "      <td>&lt;a href=\"http://www.amazon.com/gp/product/B003...</td>\n",
       "    </tr>\n",
       "    <tr>\n",
       "      <th>220272</th>\n",
       "      <td>238767</td>\n",
       "      <td>B008RRJCDY</td>\n",
       "      <td>A1W6E1FN0745L7</td>\n",
       "      <td>J. Tomaszewski</td>\n",
       "      <td>0</td>\n",
       "      <td>0</td>\n",
       "      <td>5</td>\n",
       "      <td>1351209600</td>\n",
       "      <td>Great Choice on Popcorn</td>\n",
       "      <td>This powder is unlike anything I've had with i...</td>\n",
       "    </tr>\n",
       "    <tr>\n",
       "      <th>50708</th>\n",
       "      <td>55049</td>\n",
       "      <td>B000IHJEDE</td>\n",
       "      <td>A2DFSA2JXQKVY3</td>\n",
       "      <td>C-Rush</td>\n",
       "      <td>0</td>\n",
       "      <td>0</td>\n",
       "      <td>4</td>\n",
       "      <td>1351209600</td>\n",
       "      <td>Not bad.</td>\n",
       "      <td>These are small and very salty. The taste is g...</td>\n",
       "    </tr>\n",
       "    <tr>\n",
       "      <th>350425</th>\n",
       "      <td>379063</td>\n",
       "      <td>B0000V1B3E</td>\n",
       "      <td>A3PKAVKWFFT0GC</td>\n",
       "      <td>FinGurBang</td>\n",
       "      <td>0</td>\n",
       "      <td>0</td>\n",
       "      <td>1</td>\n",
       "      <td>1351209600</td>\n",
       "      <td>Want To Pay $31.51 Lb For Loose Tea That's Med...</td>\n",
       "      <td>Holy cow, when I placed my order for 24 indivi...</td>\n",
       "    </tr>\n",
       "    <tr>\n",
       "      <th>393021</th>\n",
       "      <td>424999</td>\n",
       "      <td>B0001TNCK0</td>\n",
       "      <td>A1GCFTFXELCHRP</td>\n",
       "      <td>Big Texas</td>\n",
       "      <td>0</td>\n",
       "      <td>0</td>\n",
       "      <td>4</td>\n",
       "      <td>1351209600</td>\n",
       "      <td>Still unsure about its benefits.</td>\n",
       "      <td>ACV is supposed to help maintain the immune sy...</td>\n",
       "    </tr>\n",
       "    <tr>\n",
       "      <th>366461</th>\n",
       "      <td>396260</td>\n",
       "      <td>B007FK3JS8</td>\n",
       "      <td>A11X0ENDTFGCEH</td>\n",
       "      <td>marval</td>\n",
       "      <td>0</td>\n",
       "      <td>0</td>\n",
       "      <td>5</td>\n",
       "      <td>1351209600</td>\n",
       "      <td>Enjoyable, quick cups of coffee with no waste</td>\n",
       "      <td>My mother loves this coffee and the pods fit h...</td>\n",
       "    </tr>\n",
       "    <tr>\n",
       "      <th>183133</th>\n",
       "      <td>198643</td>\n",
       "      <td>B002AQL00G</td>\n",
       "      <td>AEWJD0G85FPSG</td>\n",
       "      <td>Cathy</td>\n",
       "      <td>0</td>\n",
       "      <td>0</td>\n",
       "      <td>5</td>\n",
       "      <td>1351209600</td>\n",
       "      <td>Betty Crocker Gluten Free Chocolate chip cooki...</td>\n",
       "      <td>The Betty Crocker Gluten Free chocolate chip c...</td>\n",
       "    </tr>\n",
       "    <tr>\n",
       "      <th>277880</th>\n",
       "      <td>301125</td>\n",
       "      <td>B003Z6ZGZK</td>\n",
       "      <td>A2GW6JUVTALDPV</td>\n",
       "      <td>DL</td>\n",
       "      <td>0</td>\n",
       "      <td>0</td>\n",
       "      <td>1</td>\n",
       "      <td>1351209600</td>\n",
       "      <td>I did not receive my order</td>\n",
       "      <td>I placed my order through Amazon and after abo...</td>\n",
       "    </tr>\n",
       "    <tr>\n",
       "      <th>428665</th>\n",
       "      <td>463583</td>\n",
       "      <td>B004QDA8WC</td>\n",
       "      <td>AFF6F08FRSYWG</td>\n",
       "      <td>Kentucky Woman \"Emily\"</td>\n",
       "      <td>0</td>\n",
       "      <td>0</td>\n",
       "      <td>5</td>\n",
       "      <td>1351209600</td>\n",
       "      <td>Love chai - love Keurig - love these K-cups!</td>\n",
       "      <td>I'm addicted to these chai k-cups.  It tastes ...</td>\n",
       "    </tr>\n",
       "    <tr>\n",
       "      <th>317938</th>\n",
       "      <td>344192</td>\n",
       "      <td>B007S0WQXE</td>\n",
       "      <td>A2BV01F023AUW1</td>\n",
       "      <td>E. Bitterlich</td>\n",
       "      <td>0</td>\n",
       "      <td>0</td>\n",
       "      <td>5</td>\n",
       "      <td>1351209600</td>\n",
       "      <td>Exactly what you think- Olive Garden's salad d...</td>\n",
       "      <td>This salad dressing is exactly what you get wh...</td>\n",
       "    </tr>\n",
       "    <tr>\n",
       "      <th>509087</th>\n",
       "      <td>550476</td>\n",
       "      <td>B001SAXPEO</td>\n",
       "      <td>A32NC2UF34RJQY</td>\n",
       "      <td>D. Pagliassotti</td>\n",
       "      <td>0</td>\n",
       "      <td>0</td>\n",
       "      <td>5</td>\n",
       "      <td>1351209600</td>\n",
       "      <td>Great for HS lunch</td>\n",
       "      <td>Great for HS lunch, kid enjoy as a snack also,...</td>\n",
       "    </tr>\n",
       "    <tr>\n",
       "      <th>184801</th>\n",
       "      <td>200465</td>\n",
       "      <td>B008O2EHNC</td>\n",
       "      <td>A11X0ENDTFGCEH</td>\n",
       "      <td>marval</td>\n",
       "      <td>0</td>\n",
       "      <td>0</td>\n",
       "      <td>5</td>\n",
       "      <td>1351209600</td>\n",
       "      <td>Enjoyable, quick cups of coffee with no waste</td>\n",
       "      <td>My mother loves this coffee and the pods fit h...</td>\n",
       "    </tr>\n",
       "    <tr>\n",
       "      <th>491422</th>\n",
       "      <td>531341</td>\n",
       "      <td>B0002DGRSY</td>\n",
       "      <td>A3SSEJ8IEM4YGW</td>\n",
       "      <td>Seagaul</td>\n",
       "      <td>0</td>\n",
       "      <td>0</td>\n",
       "      <td>5</td>\n",
       "      <td>1351209600</td>\n",
       "      <td>Dogs love it.</td>\n",
       "      <td>This is the \"all gone\" treat after dinner.  It...</td>\n",
       "    </tr>\n",
       "  </tbody>\n",
       "</table>\n",
       "<p>357746 rows × 10 columns</p>\n",
       "</div>"
      ],
      "text/plain": [
       "            Id   ProductId          UserId              ProfileName  \\\n",
       "346055  374359  B00004CI84  A344SMIA5JECGM          Vincent P. Ross   \n",
       "417859  451878  B00004CXX9  A344SMIA5JECGM          Vincent P. Ross   \n",
       "212472  230285  B00004RYGX  A344SMIA5JECGM          Vincent P. Ross   \n",
       "346116  374422  B00004CI84  A1048CYU0OV4O8             Judy L. Eans   \n",
       "417927  451949  B00004CXX9  A1048CYU0OV4O8             Judy L. Eans   \n",
       "212533  230348  B00004RYGX  A1048CYU0OV4O8             Judy L. Eans   \n",
       "417847  451864  B00004CXX9   A1B2IZU1JLZA6                      Wes   \n",
       "212458  230269  B00004RYGX   A1B2IZU1JLZA6                      Wes   \n",
       "346041  374343  B00004CI84   A1B2IZU1JLZA6                      Wes   \n",
       "346141  374450  B00004CI84   ACJR7EQF9S6FP         Jeremy Robertson   \n",
       "212558  230376  B00004RYGX   ACJR7EQF9S6FP         Jeremy Robertson   \n",
       "417952  451977  B00004CXX9   ACJR7EQF9S6FP         Jeremy Robertson   \n",
       "212511  230326  B00004RYGX  A2DEE7F9XKP3ZR                   jerome   \n",
       "346094  374400  B00004CI84  A2DEE7F9XKP3ZR                   jerome   \n",
       "417883  451903  B00004CXX9  A2DEE7F9XKP3ZR                   jerome   \n",
       "138001  149770  B00004S1C5  A1KXONFPU2XQ5K         Stephanie Manley   \n",
       "138017  149789  B00004S1C6  A1KXONFPU2XQ5K         Stephanie Manley   \n",
       "212532  230347  B00004RYGX  A1FJOY14X3MUHE            Justin Howard   \n",
       "417926  451948  B00004CXX9  A1FJOY14X3MUHE            Justin Howard   \n",
       "346115  374421  B00004CI84  A1FJOY14X3MUHE            Justin Howard   \n",
       "346102  374408  B00004CI84  A1GB1Q193DNFGR         Bruce Lee Pullen   \n",
       "212519  230334  B00004RYGX  A1GB1Q193DNFGR         Bruce Lee Pullen   \n",
       "417913  451935  B00004CXX9  A1GB1Q193DNFGR         Bruce Lee Pullen   \n",
       "212495  230309  B00004RYGX   A34NBH479RB0E               \"dmab6395\"   \n",
       "346078  374383  B00004CI84   A34NBH479RB0E               \"dmab6395\"   \n",
       "417882  451902  B00004CXX9   A34NBH479RB0E               \"dmab6395\"   \n",
       "346054  374358  B00004CI84  A1HWMNSQF14MP8        will@socialaw.com   \n",
       "417858  451877  B00004CXX9  A1HWMNSQF14MP8        will@socialaw.com   \n",
       "212471  230284  B00004RYGX  A1HWMNSQF14MP8        will@socialaw.com   \n",
       "138018  149790  B00004S1C6  A1IU7S4HCK1XK0           Joanna Daneman   \n",
       "...        ...         ...             ...                      ...   \n",
       "427278  462088  B00611F084   A6D4ND3C3BCYV                     karo   \n",
       "218306  236653  B008YA1NWC  A2O4V3MCB7EPPU      Bellingham Bookworm   \n",
       "372276  402585  B000EML7DS  A2DFSA2JXQKVY3                   C-Rush   \n",
       "280723  304160  B001AS1A4Q  A2E2F8WSUB33VE         Maria A. Alfonzo   \n",
       "280722  304159  B001AS1A4Q   AYTSBGA5A3UWI                Imran Ali   \n",
       "19181    20930  B001L1MKLY  A38XYFHXEUNUW6                bleaufire   \n",
       "118532  128554  B007L3NVKU  A3HM6TNYB7FNDL                C. Furman   \n",
       "279857  303246  B0002DGRZC   AUINI96NMGXUI                  Kkrys23   \n",
       "279856  303245  B0002DGRZC  A3SSEJ8IEM4YGW                  Seagaul   \n",
       "279331  302676  B000UBH9YE  A1CM50V04TUUPF                   Shelly   \n",
       "395966  428155  B003XKF6CQ  A3IYSIAKYOMKTO                   Renter   \n",
       "119196  129256  B004MMNNDS  A248RO4GSIWDII           Robert Kawalec   \n",
       "371881  402156  B0006349WQ  A21BT40VZCCYT4            Carol A. Reed   \n",
       "219434  237869  B003ASXKV0   AUEA2NJHMK9DF  Penny E. Cooke \"PMSDEA\"   \n",
       "219497  237940  B00018CWN4  A37264CFSSA73O                   Andrea   \n",
       "80489    87518  B0050CPSBE   A4IL0CLL27Q33               D. Brennan   \n",
       "482305  521517  B002HNC8VW  A2DVFHG099GUGE               sauerkraut   \n",
       "393073  425059  B00317HLQA  A3AOK34N9VZ7HY      college student mom   \n",
       "220272  238767  B008RRJCDY  A1W6E1FN0745L7           J. Tomaszewski   \n",
       "50708    55049  B000IHJEDE  A2DFSA2JXQKVY3                   C-Rush   \n",
       "350425  379063  B0000V1B3E  A3PKAVKWFFT0GC               FinGurBang   \n",
       "393021  424999  B0001TNCK0  A1GCFTFXELCHRP                Big Texas   \n",
       "366461  396260  B007FK3JS8  A11X0ENDTFGCEH                   marval   \n",
       "183133  198643  B002AQL00G   AEWJD0G85FPSG                    Cathy   \n",
       "277880  301125  B003Z6ZGZK  A2GW6JUVTALDPV                       DL   \n",
       "428665  463583  B004QDA8WC   AFF6F08FRSYWG   Kentucky Woman \"Emily\"   \n",
       "317938  344192  B007S0WQXE  A2BV01F023AUW1            E. Bitterlich   \n",
       "509087  550476  B001SAXPEO  A32NC2UF34RJQY          D. Pagliassotti   \n",
       "184801  200465  B008O2EHNC  A11X0ENDTFGCEH                   marval   \n",
       "491422  531341  B0002DGRSY  A3SSEJ8IEM4YGW                  Seagaul   \n",
       "\n",
       "        HelpfulnessNumerator  HelpfulnessDenominator  Score        Time  \\\n",
       "346055                     1                       2      5   944438400   \n",
       "417859                     1                       2      5   944438400   \n",
       "212472                     1                       2      5   944438400   \n",
       "346116                     2                       2      5   947376000   \n",
       "417927                     2                       2      5   947376000   \n",
       "212533                     2                       2      5   947376000   \n",
       "417847                    19                      23      1   948240000   \n",
       "212458                    19                      23      1   948240000   \n",
       "346041                    19                      23      1   948240000   \n",
       "346141                     2                       3      4   951523200   \n",
       "212558                     2                       3      4   951523200   \n",
       "417952                     2                       3      4   951523200   \n",
       "212511                     0                       3      5   959990400   \n",
       "346094                     0                       3      5   959990400   \n",
       "417883                     0                       1      5   959990400   \n",
       "138001                     8                       8      5   965779200   \n",
       "138017                    26                      28      5   965779200   \n",
       "212532                     2                       2      5   966297600   \n",
       "417926                     2                       2      5   966297600   \n",
       "346115                     2                       2      5   966297600   \n",
       "346102                     5                       5      5   970531200   \n",
       "212519                     5                       5      5   970531200   \n",
       "417913                     5                       5      5   970531200   \n",
       "212495                     0                       1      5   977184000   \n",
       "346078                     0                       1      5   977184000   \n",
       "417882                     0                       1      5   977184000   \n",
       "346054                     1                       2      5   978134400   \n",
       "417858                     1                       2      5   978134400   \n",
       "212471                     1                       2      5   978134400   \n",
       "138018                    25                      27      5   982800000   \n",
       "...                      ...                     ...    ...         ...   \n",
       "427278                     0                       0      5  1351209600   \n",
       "218306                     0                       0      4  1351209600   \n",
       "372276                     0                       0      4  1351209600   \n",
       "280723                     0                       0      5  1351209600   \n",
       "280722                     0                       0      5  1351209600   \n",
       "19181                      0                       0      5  1351209600   \n",
       "118532                     0                       0      4  1351209600   \n",
       "279857                     0                       0      5  1351209600   \n",
       "279856                     0                       0      5  1351209600   \n",
       "279331                     0                       0      5  1351209600   \n",
       "395966                     0                       0      5  1351209600   \n",
       "119196                     0                       0      5  1351209600   \n",
       "371881                     0                       0      5  1351209600   \n",
       "219434                     0                       0      4  1351209600   \n",
       "219497                     0                       0      5  1351209600   \n",
       "80489                      0                       0      1  1351209600   \n",
       "482305                     0                       0      2  1351209600   \n",
       "393073                     0                       0      5  1351209600   \n",
       "220272                     0                       0      5  1351209600   \n",
       "50708                      0                       0      4  1351209600   \n",
       "350425                     0                       0      1  1351209600   \n",
       "393021                     0                       0      4  1351209600   \n",
       "366461                     0                       0      5  1351209600   \n",
       "183133                     0                       0      5  1351209600   \n",
       "277880                     0                       0      1  1351209600   \n",
       "428665                     0                       0      5  1351209600   \n",
       "317938                     0                       0      5  1351209600   \n",
       "509087                     0                       0      5  1351209600   \n",
       "184801                     0                       0      5  1351209600   \n",
       "491422                     0                       0      5  1351209600   \n",
       "\n",
       "                                                  Summary  \\\n",
       "346055                            A modern day fairy tale   \n",
       "417859                            A modern day fairy tale   \n",
       "212472                            A modern day fairy tale   \n",
       "346116                                              GREAT   \n",
       "417927                                              GREAT   \n",
       "212533                                              GREAT   \n",
       "417847    WARNING: CLAMSHELL EDITION IS EDITED TV VERSION   \n",
       "212458    WARNING: CLAMSHELL EDITION IS EDITED TV VERSION   \n",
       "346041    WARNING: CLAMSHELL EDITION IS EDITED TV VERSION   \n",
       "346141           Bettlejuice...Bettlejuice...BETTLEJUICE!   \n",
       "212558           Bettlejuice...Bettlejuice...BETTLEJUICE!   \n",
       "417952           Bettlejuice...Bettlejuice...BETTLEJUICE!   \n",
       "212511      Research - Beatlejuice video - French version   \n",
       "346094      Research - Beatlejuice video - French version   \n",
       "417883                                           Research   \n",
       "138001                                   Very easy to use   \n",
       "138017                                       A must have!   \n",
       "212532  A fresh, original film from master storyteller...   \n",
       "417926  A fresh, original film from master storyteller...   \n",
       "346115  A fresh, original film from master storyteller...   \n",
       "346102       Fabulous Comedic Fanasy Directed by a Master   \n",
       "212519       Fabulous Comedic Fanasy Directed by a Master   \n",
       "417913       Fabulous Comedic Fanasy Directed by a Master   \n",
       "212495                                              FUNNY   \n",
       "346078                                              FUNNY   \n",
       "417882                                              FUNNY   \n",
       "346054                                A Afterlife Success   \n",
       "417858                                A Afterlife Success   \n",
       "212471                                A Afterlife Success   \n",
       "138018  Make your own Martha Stewart style cakes and c...   \n",
       "...                                                   ...   \n",
       "427278                             Jamica Me Crazy Coffee   \n",
       "218306                  One of my favorite K-cups flavors   \n",
       "372276                                           Not bad.   \n",
       "280723                                           Excelent   \n",
       "280722                               A God Sent Remedy!!!   \n",
       "19181                                      Yummy & Subtle   \n",
       "118532          Full- bodied without a bitter after-taste   \n",
       "279857                                   Love this faucet   \n",
       "279856                                      Dogs love it.   \n",
       "279331                                    Love My Senseo!   \n",
       "395966                                             Mellow   \n",
       "119196                                           Love it!   \n",
       "371881                                Good Training Treat   \n",
       "219434                                      Like this tea   \n",
       "219497                                     Great quality!   \n",
       "80489                                        Buyer beware   \n",
       "482305                       Not a preferential hot sauce   \n",
       "393073        special k fruit krisps. Blueberry are great   \n",
       "220272                            Great Choice on Popcorn   \n",
       "50708                                            Not bad.   \n",
       "350425  Want To Pay $31.51 Lb For Loose Tea That's Med...   \n",
       "393021                   Still unsure about its benefits.   \n",
       "366461      Enjoyable, quick cups of coffee with no waste   \n",
       "183133  Betty Crocker Gluten Free Chocolate chip cooki...   \n",
       "277880                         I did not receive my order   \n",
       "428665       Love chai - love Keurig - love these K-cups!   \n",
       "317938  Exactly what you think- Olive Garden's salad d...   \n",
       "509087                                 Great for HS lunch   \n",
       "184801      Enjoyable, quick cups of coffee with no waste   \n",
       "491422                                      Dogs love it.   \n",
       "\n",
       "                                                     Text  \n",
       "346055  A twist of rumplestiskin captured on film, sta...  \n",
       "417859  A twist of rumplestiskin captured on film, sta...  \n",
       "212472  A twist of rumplestiskin captured on film, sta...  \n",
       "346116  THIS IS ONE MOVIE THAT SHOULD BE IN YOUR MOVIE...  \n",
       "417927  THIS IS ONE MOVIE THAT SHOULD BE IN YOUR MOVIE...  \n",
       "212533  THIS IS ONE MOVIE THAT SHOULD BE IN YOUR MOVIE...  \n",
       "417847  I, myself always enjoyed this movie, it's very...  \n",
       "212458  I, myself always enjoyed this movie, it's very...  \n",
       "346041  I, myself always enjoyed this movie, it's very...  \n",
       "346141  What happens when you say his name three times...  \n",
       "212558  What happens when you say his name three times...  \n",
       "417952  What happens when you say his name three times...  \n",
       "212511  I'm getting crazy.I'm looking for Beatlejuice ...  \n",
       "346094  I'm getting crazy.I'm looking for Beatlejuice ...  \n",
       "417883  I'm getting crazy.<p>Is it really impossible t...  \n",
       "138001  This are so much easier to use than the Wilson...  \n",
       "138017  These are easy to use, they do not make a mess...  \n",
       "212532  This is such a great film, I don't even know h...  \n",
       "417926  This is such a great film, I don't even know h...  \n",
       "346115  This is such a great film, I don't even know h...  \n",
       "346102  Beetlejuice is an awe-inspiring wonderfully am...  \n",
       "212519  Beetlejuice is an awe-inspiring wonderfully am...  \n",
       "417913  Beetlejuice is an awe-inspiring wonderfully am...  \n",
       "212495  I THOUGHT THIS MOVIE WAS SO FUNNY, MICHAEL KEA...  \n",
       "346078  I THOUGHT THIS MOVIE WAS SO FUNNY, MICHAEL KEA...  \n",
       "417882  I THOUGHT THIS MOVIE WAS SO FUNNY, MICHAEL KEA...  \n",
       "346054  Many movies, have dealt with the figure of dea...  \n",
       "417858  Many movies, have dealt with the figure of dea...  \n",
       "212471  Many movies, have dealt with the figure of dea...  \n",
       "138018  I don't know why anyone would ever use those l...  \n",
       "...                                                   ...  \n",
       "427278  Wolfgang Puck's Jamaica Me Crazy is that wonde...  \n",
       "218306  This is one of my favorite k-cup flavors.  The...  \n",
       "372276  These are small and very salty. The taste is g...  \n",
       "280723  Good price, flavor, fast delivery And good pre...  \n",
       "280722  I love this stuff! It's a God sent Remedy for ...  \n",
       "19181   Just made my first pot of this wonderful coffe...  \n",
       "118532  This is my everyday coffee choice...a good all...  \n",
       "279857  Love this faucet.  My husband had installed th...  \n",
       "279856  This is the \"all gone\" treat after dinner.  It...  \n",
       "279331  I I haven't had a bad cup of coffee yet.  So f...  \n",
       "395966  This honey made from blueberry blossoms has a ...  \n",
       "119196  Heard great things about drinking this tea. I ...  \n",
       "371881  My dog will come in from outside when I am tra...  \n",
       "219434  This tea has a nice flavor although I wish it ...  \n",
       "219497  This product is very good and I won't change i...  \n",
       "80489   Nespresso makes GREAT coffee and GREAT machine...  \n",
       "482305  For quite some time, I have been using differe...  \n",
       "393073  <a href=\"http://www.amazon.com/gp/product/B003...  \n",
       "220272  This powder is unlike anything I've had with i...  \n",
       "50708   These are small and very salty. The taste is g...  \n",
       "350425  Holy cow, when I placed my order for 24 indivi...  \n",
       "393021  ACV is supposed to help maintain the immune sy...  \n",
       "366461  My mother loves this coffee and the pods fit h...  \n",
       "183133  The Betty Crocker Gluten Free chocolate chip c...  \n",
       "277880  I placed my order through Amazon and after abo...  \n",
       "428665  I'm addicted to these chai k-cups.  It tastes ...  \n",
       "317938  This salad dressing is exactly what you get wh...  \n",
       "509087  Great for HS lunch, kid enjoy as a snack also,...  \n",
       "184801  My mother loves this coffee and the pods fit h...  \n",
       "491422  This is the \"all gone\" treat after dinner.  It...  \n",
       "\n",
       "[357746 rows x 10 columns]"
      ]
     },
     "execution_count": 13,
     "metadata": {},
     "output_type": "execute_result"
    }
   ],
   "source": [
    "# Time\n",
    "print(len(filtered_data.Time.unique()))\n",
    "#filtered_data['Time'].value_counts()\n",
    "\n",
    "# Check whether any entry with same time for more than one product\n",
    "# which is practically not possible\n",
    "userid_group = filtered_data.groupby('UserId')\n",
    "#g = userid_group.groups\n",
    "#g.values()\n",
    "\n",
    "userid_group.filter(lambda x:len(x)>1).sort_values('Time')"
   ]
  },
  {
   "cell_type": "markdown",
   "metadata": {},
   "source": [
    "### Invalid Review check / Analysis (on Summary, Text)"
   ]
  },
  {
   "cell_type": "code",
   "execution_count": 14,
   "metadata": {
    "colab": {},
    "colab_type": "code",
    "id": "xWIpdXLdBwsX"
   },
   "outputs": [],
   "source": [
    "#filtered_data[filtered_data['Summary'].str.contains('book')]\n",
    "#type(filtered_data[filtered_data['Summary'].str.contains('book')].index.tolist())\n",
    "\n",
    "#suspicious_indices = []\n",
    "#\n",
    "#l = filtered_data[filtered_data['Summary'].str.contains('book')].index.tolist()\n",
    "#print(\"No. of entries having '{0}' is {1}\".format('book', len(l)))\n",
    "#suspicious_indices = suspicious_indices + l\n",
    "#\n",
    "#l = filtered_data[filtered_data['Summary'].str.contains('film')].index.tolist()\n",
    "#print(\"No. of entries having '{0}' is {1}\".format('film', len(l)))\n",
    "#suspicious_indices = suspicious_indices + l\n",
    "#\n",
    "#l = filtered_data[filtered_data['Summary'].str.contains('Film')].index.tolist()\n",
    "#print(\"No. of entries having '{0}' is {1}\".format('Film', len(l)))\n",
    "#suspicious_indices = suspicious_indices + l\n",
    "#\n",
    "#l = filtered_data[filtered_data['Summary'].str.contains('Book')].index.tolist()\n",
    "#print(\"No. of entries having '{0}' is {1}\".format('Book', len(l)))\n",
    "#suspicious_indices = suspicious_indices + l\n",
    "\n",
    "def getEntriesHavingTexts(df, col_to_search, text_list):\n",
    "  indices = []\n",
    "  counts = []\n",
    "  for text in text_list:\n",
    "    l = filtered_data[filtered_data[col_to_search].str.contains(text)].index.tolist()\n",
    "    counts.append(len(l))\n",
    "    indices = indices + l\n",
    "  return indices, counts"
   ]
  },
  {
   "cell_type": "code",
   "execution_count": 15,
   "metadata": {
    "colab": {
     "base_uri": "https://localhost:8080/",
     "height": 51
    },
    "colab_type": "code",
    "id": "ufS9B0mdPm_O",
    "outputId": "0c373cfc-4995-49f5-a31f-de6ebe10fdd9"
   },
   "outputs": [
    {
     "name": "stdout",
     "output_type": "stream",
     "text": [
      "No. of entries having '[bB]ook' is 85\n",
      "Total suspicious entries :  85\n"
     ]
    }
   ],
   "source": [
    "text_list = ['[bB]ook']\n",
    "suspicious_indices, counts = getEntriesHavingTexts(filtered_data,\n",
    "                                       'Summary',\n",
    "                                       text_list)\n",
    "\n",
    "for i in range(len(counts)):\n",
    "  print(\"No. of entries having '{0}' is {1}\".format(text_list[i], counts[i]))\n",
    "\n",
    "print('Total suspicious entries : ', len(suspicious_indices))\n",
    "save_data = filtered_data.iloc[suspicious_indices]\n",
    "save_data.to_csv('test_1.csv')"
   ]
  },
  {
   "cell_type": "code",
   "execution_count": 16,
   "metadata": {
    "colab": {
     "base_uri": "https://localhost:8080/",
     "height": 51
    },
    "colab_type": "code",
    "id": "C06FXpVCPo2j",
    "outputId": "0f15d593-e55e-405e-888c-40141e8fcc7d"
   },
   "outputs": [
    {
     "name": "stdout",
     "output_type": "stream",
     "text": [
      "No. of entries having '[fF]ilm' is 24\n",
      "Total suspicious entries :  24\n"
     ]
    }
   ],
   "source": [
    "text_list = ['[fF]ilm']\n",
    "suspicious_indices, counts = getEntriesHavingTexts(filtered_data,\n",
    "                                       'Summary',\n",
    "                                       text_list)\n",
    "\n",
    "for i in range(len(counts)):\n",
    "  print(\"No. of entries having '{0}' is {1}\".format(text_list[i], counts[i]))\n",
    "\n",
    "\n",
    "print('Total suspicious entries : ', len(suspicious_indices))\n",
    "save_data = filtered_data.iloc[suspicious_indices]\n",
    "save_data.to_csv('test_2.csv')"
   ]
  },
  {
   "cell_type": "code",
   "execution_count": 17,
   "metadata": {
    "colab": {
     "base_uri": "https://localhost:8080/",
     "height": 51
    },
    "colab_type": "code",
    "id": "FsdZagviPurp",
    "outputId": "81773bc4-04fb-493c-bec0-e3c6006f0fa8"
   },
   "outputs": [
    {
     "name": "stdout",
     "output_type": "stream",
     "text": [
      "No. of entries having 'Tim Burton' is 36\n",
      "Total suspicious entries :  36\n"
     ]
    }
   ],
   "source": [
    "# Found 'Tim Burton' movies reviews in Food Reviews\n",
    "text_list = ['Tim Burton']\n",
    "suspicious_indices, counts = getEntriesHavingTexts(filtered_data,\n",
    "                                       'Summary',\n",
    "                                       text_list)\n",
    "\n",
    "for i in range(len(counts)):\n",
    "  print(\"No. of entries having '{0}' is {1}\".format(text_list[i], counts[i]))\n",
    "\n",
    "\n",
    "print('Total suspicious entries : ', len(suspicious_indices))\n",
    "save_data = filtered_data.iloc[suspicious_indices]\n",
    "save_data.to_csv('Tim_Burton_2.csv')"
   ]
  },
  {
   "cell_type": "markdown",
   "metadata": {
    "colab_type": "text",
    "id": "8yGboODzZP5f"
   },
   "source": [
    "### Invalid Entry check /  analysis on review text"
   ]
  },
  {
   "cell_type": "markdown",
   "metadata": {
    "colab_type": "text",
    "id": "tAyOrZrWQK77"
   },
   "source": [
    "```\n",
    "def getUniqueWords(df, col_name):\n",
    "    words = set()\n",
    "    #words.add(' ')\n",
    "    count  = 0\n",
    "    for index, row in tqdm(df.iterrows()):\n",
    "        w_l = list(set(row[col_name].split()))\n",
    "        words = words.union(set(w_l))\n",
    "        #print(row[col_name], w_l)\n",
    "        #print(list(words))\n",
    "        count += 1\n",
    "        #if count > 20:\n",
    "        #    break\n",
    "    return words\n",
    "\n",
    "#tt = final_data[~final_data.Summary.str.isalpha()]\n",
    "#print(tt.shape)\n",
    "#tt.apply()\n",
    "```"
   ]
  },
  {
   "cell_type": "markdown",
   "metadata": {
    "colab_type": "text",
    "id": "CxZjf9qmQNI0"
   },
   "source": [
    "```\n",
    "%%time\n",
    "summary_words = getUniqueWords(final_data, 'Summary')\n",
    "```"
   ]
  },
  {
   "cell_type": "markdown",
   "metadata": {
    "colab_type": "text",
    "id": "kW8fWkZvQOV6"
   },
   "source": [
    "```\n",
    "tqdm(text_words = getUniqueWords(final_data, 'Text'))\n",
    "```"
   ]
  },
  {
   "cell_type": "markdown",
   "metadata": {
    "colab_type": "text",
    "id": "yK4Eb0QAQP0q"
   },
   "source": [
    "```\n",
    "print('Total unique words in Summary: ', len(summary_words))\n",
    "print('Total unique words in Review Text: ', len(text_words))\n",
    "```"
   ]
  },
  {
   "cell_type": "markdown",
   "metadata": {
    "colab_type": "text",
    "id": "xqH_DEJ2QRC-"
   },
   "source": [
    "```\n",
    "def storeSet_1(w_set, file_name):\n",
    "    #csv_file = csv.writer(open(file_name), 'w')\n",
    "    with open(file_name, 'w', encoding=\"utf-8\") as csv_file:\n",
    "        cw = csv.writer(csv_file)\n",
    "        cw.writerow(list(w_set))\n",
    "        \n",
    "def storeSet_2(w_set, file_name):\n",
    "    with open(file_name, 'w', encoding=\"utf-8\") as csv_file:\n",
    "        for w in w_set:\n",
    "            csv_file.write(w)\n",
    "            csv_file.write('\\n')\n",
    "```"
   ]
  },
  {
   "cell_type": "markdown",
   "metadata": {
    "colab_type": "text",
    "id": "N6wgUUmkQR72"
   },
   "source": [
    "```\n",
    "storeSet_2(summary_words, 'summary_words.csv')\n",
    "storeSet_2(text_words, 'text_words.csv')\n",
    "```"
   ]
  },
  {
   "cell_type": "markdown",
   "metadata": {
    "colab_type": "text",
    "id": "1qCAu8seQUON"
   },
   "source": [
    "```\n",
    "import string \n",
    "\n",
    "invalidChars = set(string.punctuation.replace(\"_\", \"\"))\n",
    "\n",
    "def containsAny(word, char_list):\n",
    "    '''\n",
    "    If any of the character in char_list found in 'word' will return True\n",
    "    Otherwise returns False\n",
    "    '''\n",
    "    for c in char_list:\n",
    "        if c in word:\n",
    "            return True\n",
    "    return False\n",
    "\n",
    "def containsAll(word, char_list):\n",
    "    '''\n",
    "    If all of the characters in char_list found in 'word' will return True\n",
    "    Otherwise returns False\n",
    "    '''\n",
    "    for c in char_list:\n",
    "        if c not in word:\n",
    "            return True\n",
    "    return False\n",
    "```"
   ]
  },
  {
   "cell_type": "markdown",
   "metadata": {
    "colab_type": "text",
    "id": "wQjUh2JbQWF6"
   },
   "source": [
    "```\n",
    "def getWordsHavingSpecialChar(df, col_name):\n",
    "    words = set()\n",
    "    #words.add(' ')\n",
    "    count  = 0\n",
    "    for index, row in df.iterrows():\n",
    "        w_l = list(set(row[col_name].split()))\n",
    "        w_c_l = []\n",
    "        for w in w_l:\n",
    "            if containsAny(w, invalidChars):\n",
    "                w_c_l.append(w)\n",
    "        words = words.union(set(w_c_l))\n",
    "        #print(row[col_name], w_l)\n",
    "        #print(list(words))\n",
    "        #count += 1\n",
    "        #if count > 20:\n",
    "        #    break\n",
    "    return words\n",
    "```"
   ]
  },
  {
   "cell_type": "markdown",
   "metadata": {
    "colab_type": "text",
    "id": "vgcHqRYHQW9u"
   },
   "source": [
    "```\n",
    "%%time\n",
    "summary_invalid_words = getWordsHavingSpecialChar(final_data, 'Summary')\n",
    "```"
   ]
  },
  {
   "cell_type": "markdown",
   "metadata": {
    "colab_type": "text",
    "id": "9BURWhldQYtu"
   },
   "source": [
    "```\n",
    "%%time\n",
    "text_invalid_words = getWordsHavingSpecialChar(final_data, 'Text')\n",
    "```"
   ]
  },
  {
   "cell_type": "markdown",
   "metadata": {
    "colab_type": "text",
    "id": "_mD4qD0jQbzb"
   },
   "source": [
    "```\n",
    "print('Total unique (invalid) words in Summary: ', len(summary_invalid_words))\n",
    "print('Total unique (invalid) words in Review Text: ', len(text_invalid_words))\n",
    "```"
   ]
  },
  {
   "cell_type": "markdown",
   "metadata": {
    "colab_type": "text",
    "id": "CA7nbf9-QdT6"
   },
   "source": [
    "```\n",
    "storeSet_2(summary_invalid_words, 'summary_invalid_words.csv')\n",
    "storeSet_2(text_invalid_words, 'text_invalid_words.csv')\n",
    "```"
   ]
  },
  {
   "cell_type": "markdown",
   "metadata": {
    "colab_type": "text",
    "id": "Tn1HrTOpN-R9"
   },
   "source": [
    "## Observation Summary\n",
    "\n",
    "- Id\n",
    "    - No Id repeation\n",
    "- ProductId\n",
    "    - 72005 Products\n",
    "- UserId\n",
    "    - 243414 Users\n",
    "- HelpfulnessNumerator\n",
    "    - value ranges from 0 to 808\n",
    "    - 222 unique entries\n",
    "- HelpfulnessDenominator\n",
    "    - value ranges from 0 to 878\n",
    "    - 227 unique entries\n",
    "    - **2 invalid entries found**\n",
    "      - Denominator is greater than Numerator\n",
    "- Score\n",
    "    - Scores range from 1 to 5 only\n",
    "    - No invalid entries found\n",
    "    - **No equal amount of data points for each score**\n",
    "      - We have an __IMBALANCED__ dataset\n",
    "\n",
    "- Entries with book/Book words found in text reviews\n",
    "- Entries with film/Film words found in text reviews\n",
    "- There are duplicates"
   ]
  },
  {
   "cell_type": "markdown",
   "metadata": {
    "colab_type": "text",
    "id": "dXgum8ANWRIU"
   },
   "source": [
    "## Cleaning"
   ]
  },
  {
   "cell_type": "markdown",
   "metadata": {
    "colab_type": "text",
    "id": "KDkUqrnvnai9"
   },
   "source": [
    "### Convert Score to Positive/Negative review"
   ]
  },
  {
   "cell_type": "code",
   "execution_count": 18,
   "metadata": {
    "colab": {
     "base_uri": "https://localhost:8080/",
     "height": 34
    },
    "colab_type": "code",
    "id": "L6lz9vKcnh0a",
    "outputId": "6f293e05-eda0-4fd6-ba3c-1fee6f77e4f0"
   },
   "outputs": [
    {
     "name": "stdout",
     "output_type": "stream",
     "text": [
      "[1 0]\n"
     ]
    }
   ],
   "source": [
    "def ScoreToReviewType(score):\n",
    "  if score < 3:\n",
    "    return 0\n",
    "  return 1\n",
    "\n",
    "filtered_data.Score = filtered_data.Score.map(ScoreToReviewType)\n",
    "print(filtered_data.Score.unique())"
   ]
  },
  {
   "cell_type": "markdown",
   "metadata": {
    "colab_type": "text",
    "id": "Y0RWUIiqXGNR"
   },
   "source": [
    "### Drop Duplicates"
   ]
  },
  {
   "cell_type": "code",
   "execution_count": 19,
   "metadata": {
    "colab": {},
    "colab_type": "code",
    "id": "bq5iOkxlWdeZ"
   },
   "outputs": [],
   "source": [
    "# Sort the data based on ProductID in ascending order so that we can keep only one kind of product review\n",
    "sorted_data = filtered_data.sort_values('ProductId',axis=0, ascending=True, inplace=False, na_position='last')"
   ]
  },
  {
   "cell_type": "code",
   "execution_count": 20,
   "metadata": {
    "colab": {
     "base_uri": "https://localhost:8080/",
     "height": 34
    },
    "colab_type": "code",
    "id": "nl4JHZG1X1Wd",
    "outputId": "25aba405-420f-493c-a72a-abd0fa81b304"
   },
   "outputs": [
    {
     "name": "stdout",
     "output_type": "stream",
     "text": [
      "(364173, 10)\n"
     ]
    }
   ],
   "source": [
    "# keep first entry, drop remaining duplicate entries\n",
    "final_data = sorted_data.drop_duplicates(subset={'UserId','ProfileName','Time','Text'},keep='first',inplace=False)\n",
    "print(final_data.shape)"
   ]
  },
  {
   "cell_type": "markdown",
   "metadata": {
    "colab_type": "text",
    "id": "mqFfyoYXYo-A"
   },
   "source": [
    "### Remove Invalid Helpfull Score entries"
   ]
  },
  {
   "cell_type": "code",
   "execution_count": 21,
   "metadata": {
    "colab": {
     "base_uri": "https://localhost:8080/",
     "height": 34
    },
    "colab_type": "code",
    "id": "eTHCvfhMYzKZ",
    "outputId": "1a55244b-a5e2-48ca-ad0f-20e9b5216eda"
   },
   "outputs": [
    {
     "name": "stdout",
     "output_type": "stream",
     "text": [
      "(364171, 10)\n"
     ]
    }
   ],
   "source": [
    "final_data = final_data[final_data.HelpfulnessNumerator <= final_data.HelpfulnessDenominator]\n",
    "print(final_data.shape)"
   ]
  },
  {
   "cell_type": "markdown",
   "metadata": {
    "colab_type": "text",
    "id": "DFnSdWgAZMWc",
    "toc-hr-collapsed": false
   },
   "source": [
    "### Remove Invalid Summary Entries\n",
    "\n",
    "- Remove actual film reviews\n",
    "- Tim Burton (found by filtering film words and looking into data)"
   ]
  },
  {
   "cell_type": "code",
   "execution_count": 22,
   "metadata": {
    "colab": {
     "base_uri": "https://localhost:8080/",
     "height": 34
    },
    "colab_type": "code",
    "id": "GBV5eaGsP-4n",
    "outputId": "9144ea76-9f9a-4fd5-ad29-a8a384482ed0"
   },
   "outputs": [
    {
     "name": "stdout",
     "output_type": "stream",
     "text": [
      "(364159, 10)\n"
     ]
    }
   ],
   "source": [
    "final_data = final_data[~final_data.Summary.str.contains('Tim Burton')]\n",
    "print(final_data.shape)"
   ]
  },
  {
   "cell_type": "code",
   "execution_count": 23,
   "metadata": {
    "colab": {
     "base_uri": "https://localhost:8080/",
     "height": 34
    },
    "colab_type": "code",
    "id": "bIy83xN9QHz-",
    "outputId": "73681697-aa9b-4a86-b931-53aac72c18be"
   },
   "outputs": [
    {
     "name": "stdout",
     "output_type": "stream",
     "text": [
      "(364106, 10)\n"
     ]
    }
   ],
   "source": [
    "final_data = final_data[~final_data.Text.str.contains('Tim Burton')]\n",
    "print(final_data.shape)"
   ]
  },
  {
   "cell_type": "markdown",
   "metadata": {
    "colab_type": "text",
    "id": "uBH32iW2bwhG"
   },
   "source": [
    "### Remove Invalid Text (Review) Entries"
   ]
  },
  {
   "cell_type": "code",
   "execution_count": 24,
   "metadata": {
    "colab": {
     "base_uri": "https://localhost:8080/",
     "height": 34
    },
    "colab_type": "code",
    "id": "mUoUzH5rb4L5",
    "outputId": "612c8fab-b82f-4a1e-f1f2-0da21081d542"
   },
   "outputs": [],
   "source": [
    "def removeHtmlTags(sentence):\n",
    "  '''\n",
    "  function to remove HTML tags in the given sentence\n",
    "  '''\n",
    "  reg_exp = re.compile('<.*?>', )\n",
    "  cleaned_text = re.sub(reg_exp, ' ', sentence)\n",
    "  return cleaned_text\n",
    "\n",
    "def removePunctuations(sentence):\n",
    "  '''\n",
    "  function to remove punctuations in the given sentence\n",
    "  '''\n",
    "  cleaned_sentence = re.sub(r'[?|!|\\'|\"|#]',r'',sentence)\n",
    "  cleaned_sentence = re.sub(r'[.|,|)|(|\\|/]',r' ',cleaned_sentence)\n",
    "  return cleaned_sentence\n",
    "\n",
    "# s = 'Hi I am <pr> test </pr> testing'\n",
    "# removeHtmlTags(s).split()"
   ]
  },
  {
   "cell_type": "code",
   "execution_count": 25,
   "metadata": {
    "colab": {},
    "colab_type": "code",
    "id": "M9yr_vnPeggN"
   },
   "outputs": [],
   "source": [
    "stop_words = set(stopwords.words('english')) # get stop words for English\n",
    "#print(stop)\n",
    "snow_stem = nltk.stem.SnowballStemmer('english') # get Stemmer for English\n",
    "#print(snow)"
   ]
  },
  {
   "cell_type": "code",
   "execution_count": 26,
   "metadata": {
    "colab": {
     "base_uri": "https://localhost:8080/",
     "height": 290598
    },
    "colab_type": "code",
    "id": "xttCEa7mfWLe",
    "outputId": "8bdb678f-a03e-41f7-abf8-db2a00e3b8b3"
   },
   "outputs": [
    {
     "name": "stderr",
     "output_type": "stream",
     "text": [
      "100%|██████████| 364106/364106 [05:19<00:00, 1138.42it/s]\n"
     ]
    }
   ],
   "source": [
    "all_positive_words = []\n",
    "all_negative_words = []\n",
    "final_review_texts = []\n",
    "df_index = 0 # for tracking the observations\n",
    "\n",
    "for sent in tqdm(final_data['Text'].values):\n",
    "  #print('{0} ==> '.format(df_index), sent)\n",
    "  sent = removeHtmlTags(sent) # remove HTML tags first\n",
    "  #print('{0} ==> '.format(df_index), sent)\n",
    "  \n",
    "  filtered_words = []\n",
    "  for w in sent.split():\n",
    "    #print(removePunctuations(w))\n",
    "    for cleaned_word in removePunctuations(w).split():\n",
    "      if ((cleaned_word.isalpha()) & (len(cleaned_word) > 2)):\n",
    "        cleaned_word = cleaned_word.lower()\n",
    "        #print(cleaned_word)\n",
    "        if (cleaned_word not in stop_words):\n",
    "          s = (snow_stem.stem(cleaned_word)).encode('utf8')\n",
    "          filtered_words.append(s)\n",
    "          if (final_data['Score'].values)[df_index] == 1:\n",
    "            all_positive_words.append(s)\n",
    "          else:\n",
    "            all_negative_words.append(s)\n",
    "        else:\n",
    "          continue\n",
    "      else:\n",
    "        continue\n",
    "  filtered_sent = b\" \".join(filtered_words)\n",
    "  #print(filtered_words, filtered_sent)\n",
    "  \n",
    "  final_review_texts.append(filtered_sent)\n",
    "  \n",
    "  #df_index += 1\n",
    "  #if df_index > 10:\n",
    "  #  break\n"
   ]
  },
  {
   "cell_type": "markdown",
   "metadata": {},
   "source": [
    "# Store cleaned data"
   ]
  },
  {
   "cell_type": "code",
   "execution_count": 27,
   "metadata": {
    "colab": {
     "base_uri": "https://localhost:8080/",
     "height": 374
    },
    "colab_type": "code",
    "id": "FQD4tQw017Jj",
    "outputId": "757e85c3-0a94-4f7f-9793-5d4e29b7cec0"
   },
   "outputs": [
    {
     "data": {
      "text/html": [
       "<div>\n",
       "<style scoped>\n",
       "    .dataframe tbody tr th:only-of-type {\n",
       "        vertical-align: middle;\n",
       "    }\n",
       "\n",
       "    .dataframe tbody tr th {\n",
       "        vertical-align: top;\n",
       "    }\n",
       "\n",
       "    .dataframe thead th {\n",
       "        text-align: right;\n",
       "    }\n",
       "</style>\n",
       "<table border=\"1\" class=\"dataframe\">\n",
       "  <thead>\n",
       "    <tr style=\"text-align: right;\">\n",
       "      <th></th>\n",
       "      <th>Id</th>\n",
       "      <th>ProductId</th>\n",
       "      <th>UserId</th>\n",
       "      <th>ProfileName</th>\n",
       "      <th>HelpfulnessNumerator</th>\n",
       "      <th>HelpfulnessDenominator</th>\n",
       "      <th>Score</th>\n",
       "      <th>Time</th>\n",
       "      <th>Summary</th>\n",
       "      <th>Text</th>\n",
       "      <th>CleanedText</th>\n",
       "    </tr>\n",
       "  </thead>\n",
       "  <tbody>\n",
       "    <tr>\n",
       "      <th>138706</th>\n",
       "      <td>150524</td>\n",
       "      <td>0006641040</td>\n",
       "      <td>ACITT7DI6IDDL</td>\n",
       "      <td>shari zychinski</td>\n",
       "      <td>0</td>\n",
       "      <td>0</td>\n",
       "      <td>1</td>\n",
       "      <td>939340800</td>\n",
       "      <td>EVERY book is educational</td>\n",
       "      <td>this witty little book makes my son laugh at l...</td>\n",
       "      <td>b'witti littl book make son laugh loud recit c...</td>\n",
       "    </tr>\n",
       "    <tr>\n",
       "      <th>138688</th>\n",
       "      <td>150506</td>\n",
       "      <td>0006641040</td>\n",
       "      <td>A2IW4PEEKO2R0U</td>\n",
       "      <td>Tracy</td>\n",
       "      <td>1</td>\n",
       "      <td>1</td>\n",
       "      <td>1</td>\n",
       "      <td>1194739200</td>\n",
       "      <td>Love the book, miss the hard cover version</td>\n",
       "      <td>I grew up reading these Sendak books, and watc...</td>\n",
       "      <td>b'grew read sendak book watch realli rosi movi...</td>\n",
       "    </tr>\n",
       "    <tr>\n",
       "      <th>138689</th>\n",
       "      <td>150507</td>\n",
       "      <td>0006641040</td>\n",
       "      <td>A1S4A3IQ2MU7V4</td>\n",
       "      <td>sally sue \"sally sue\"</td>\n",
       "      <td>1</td>\n",
       "      <td>1</td>\n",
       "      <td>1</td>\n",
       "      <td>1191456000</td>\n",
       "      <td>chicken soup with rice months</td>\n",
       "      <td>This is a fun way for children to learn their ...</td>\n",
       "      <td>b'fun way children learn month year learn poem...</td>\n",
       "    </tr>\n",
       "    <tr>\n",
       "      <th>138690</th>\n",
       "      <td>150508</td>\n",
       "      <td>0006641040</td>\n",
       "      <td>AZGXZ2UUK6X</td>\n",
       "      <td>Catherine Hallberg \"(Kate)\"</td>\n",
       "      <td>1</td>\n",
       "      <td>1</td>\n",
       "      <td>1</td>\n",
       "      <td>1076025600</td>\n",
       "      <td>a good swingy rhythm for reading aloud</td>\n",
       "      <td>This is a great little book to read aloud- it ...</td>\n",
       "      <td>b'great littl book read nice rhythm well good ...</td>\n",
       "    </tr>\n",
       "    <tr>\n",
       "      <th>138691</th>\n",
       "      <td>150509</td>\n",
       "      <td>0006641040</td>\n",
       "      <td>A3CMRKGE0P909G</td>\n",
       "      <td>Teresa</td>\n",
       "      <td>3</td>\n",
       "      <td>4</td>\n",
       "      <td>1</td>\n",
       "      <td>1018396800</td>\n",
       "      <td>A great way to learn the months</td>\n",
       "      <td>This is a book of poetry about the months of t...</td>\n",
       "      <td>b'book poetri month year goe month cute littl ...</td>\n",
       "    </tr>\n",
       "  </tbody>\n",
       "</table>\n",
       "</div>"
      ],
      "text/plain": [
       "            Id   ProductId          UserId                  ProfileName  \\\n",
       "138706  150524  0006641040   ACITT7DI6IDDL              shari zychinski   \n",
       "138688  150506  0006641040  A2IW4PEEKO2R0U                        Tracy   \n",
       "138689  150507  0006641040  A1S4A3IQ2MU7V4        sally sue \"sally sue\"   \n",
       "138690  150508  0006641040     AZGXZ2UUK6X  Catherine Hallberg \"(Kate)\"   \n",
       "138691  150509  0006641040  A3CMRKGE0P909G                       Teresa   \n",
       "\n",
       "        HelpfulnessNumerator  HelpfulnessDenominator  Score        Time  \\\n",
       "138706                     0                       0      1   939340800   \n",
       "138688                     1                       1      1  1194739200   \n",
       "138689                     1                       1      1  1191456000   \n",
       "138690                     1                       1      1  1076025600   \n",
       "138691                     3                       4      1  1018396800   \n",
       "\n",
       "                                           Summary  \\\n",
       "138706                   EVERY book is educational   \n",
       "138688  Love the book, miss the hard cover version   \n",
       "138689               chicken soup with rice months   \n",
       "138690      a good swingy rhythm for reading aloud   \n",
       "138691             A great way to learn the months   \n",
       "\n",
       "                                                     Text  \\\n",
       "138706  this witty little book makes my son laugh at l...   \n",
       "138688  I grew up reading these Sendak books, and watc...   \n",
       "138689  This is a fun way for children to learn their ...   \n",
       "138690  This is a great little book to read aloud- it ...   \n",
       "138691  This is a book of poetry about the months of t...   \n",
       "\n",
       "                                              CleanedText  \n",
       "138706  b'witti littl book make son laugh loud recit c...  \n",
       "138688  b'grew read sendak book watch realli rosi movi...  \n",
       "138689  b'fun way children learn month year learn poem...  \n",
       "138690  b'great littl book read nice rhythm well good ...  \n",
       "138691  b'book poetri month year goe month cute littl ...  "
      ]
     },
     "execution_count": 27,
     "metadata": {},
     "output_type": "execute_result"
    }
   ],
   "source": [
    "# add cleaned text as a seperate column into our final data dataframe\n",
    "final_data['CleanedText'] = final_review_texts\n",
    "final_data.head()"
   ]
  },
  {
   "cell_type": "code",
   "execution_count": 28,
   "metadata": {
    "colab": {},
    "colab_type": "code",
    "id": "9M4-jCdo2KEl"
   },
   "outputs": [],
   "source": [
    "# store final data into new database\n",
    "conn = sqlite3.connect('cleaned.sqlite')\n",
    "c = conn.cursor()\n",
    "conn.text_factory = str\n",
    "final_data.to_sql('Reviews', conn, schema=None, if_exists='replace', \n",
    "                  index=True, index_label=None, dtype=None)\n",
    "conn.close()"
   ]
  },
  {
   "cell_type": "markdown",
   "metadata": {},
   "source": [
    "## Colab Code"
   ]
  },
  {
   "cell_type": "markdown",
   "metadata": {
    "colab": {
     "base_uri": "https://localhost:8080/",
     "height": 34
    },
    "colab_type": "code",
    "id": "YtEQ8IAd22JT",
    "outputId": "659488c9-415e-44ce-8d22-9ff56c057e1a"
   },
   "source": [
    "```\n",
    "!ls\n",
    "!pwd\n",
    "!mv \"/content/cleaned.sqlite\" \"/content/drive/My Drive/Colab Notebooks/AFF-Review/cleaned.sqlite\"\n",
    "!ls\n",
    "```"
   ]
  }
 ],
 "metadata": {
  "accelerator": "TPU",
  "colab": {
   "name": "Data-Cleaning-AFF-Review.ipynb",
   "provenance": [],
   "toc_visible": true,
   "version": "0.3.2"
  },
  "kernelspec": {
   "display_name": "Python 3",
   "language": "python",
   "name": "python3"
  },
  "language_info": {
   "codemirror_mode": {
    "name": "ipython",
    "version": 3
   },
   "file_extension": ".py",
   "mimetype": "text/x-python",
   "name": "python",
   "nbconvert_exporter": "python",
   "pygments_lexer": "ipython3",
   "version": "3.6.7"
  }
 },
 "nbformat": 4,
 "nbformat_minor": 2
}
