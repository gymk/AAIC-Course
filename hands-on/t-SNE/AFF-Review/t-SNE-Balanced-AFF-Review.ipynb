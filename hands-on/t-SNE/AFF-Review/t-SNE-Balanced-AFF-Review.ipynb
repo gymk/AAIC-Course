{
 "cells": [
  {
   "cell_type": "markdown",
   "metadata": {},
   "source": [
    "# t-SNE Visualization on Amazon Food Review Dataset"
   ]
  },
  {
   "cell_type": "markdown",
   "metadata": {},
   "source": [
    "## Import Required Modules"
   ]
  },
  {
   "cell_type": "code",
   "execution_count": 1,
   "metadata": {},
   "outputs": [],
   "source": [
    "import os # for file management\n",
    "import shutil # for file management\n",
    "from pathlib import Path\n",
    "import sqlite3\n",
    "import pandas as pd\n",
    "import numpy as np\n",
    "import csv\n",
    "from tqdm import tqdm\n",
    "import matplotlib.pyplot as plt\n",
    "import seaborn as sns\n",
    "import time # for time measurement\n",
    "import imageio # for GIF creation\n",
    "\n",
    "from sklearn.feature_extraction.text import CountVectorizer # for Bag Of Words\n",
    "from sklearn.feature_extraction.text import TfidfVectorizer # for text to vector creation\n",
    "from gensim.models import Word2Vec\n",
    "\n",
    "from sklearn.preprocessing import StandardScaler # for Column Standardization - DO WE NEED THIS?\n",
    "from sklearn.manifold import TSNE # for t-SNE"
   ]
  },
  {
   "cell_type": "code",
   "execution_count": 2,
   "metadata": {},
   "outputs": [],
   "source": [
    "## Configure Matplotlib for nice image in PDF\n",
    "from IPython.display import set_matplotlib_formats\n",
    "set_matplotlib_formats('pdf', 'png')\n",
    "plt.rcParams['savefig.dpi'] = 75\n",
    "plt.rcParams['figure.figsize'] = 10,6\n",
    "plt.rcParams['axes.labelsize'] = 18\n",
    "plt.rcParams['axes.titlesize'] = 20\n",
    "plt.rcParams['font.size'] = 10\n",
    "plt.rcParams['lines.linewidth'] = 2.0\n",
    "plt.rcParams['lines.markersize'] = 8"
   ]
  },
  {
   "cell_type": "code",
   "execution_count": 3,
   "metadata": {},
   "outputs": [],
   "source": [
    "output_dir = 'Output'\n",
    "if not os.path.exists(output_dir):\n",
    "    os.makedirs(output_dir)"
   ]
  },
  {
   "cell_type": "markdown",
   "metadata": {},
   "source": [
    "## Load Data"
   ]
  },
  {
   "cell_type": "code",
   "execution_count": 4,
   "metadata": {},
   "outputs": [
    {
     "data": {
      "text/html": [
       "<div>\n",
       "<style scoped>\n",
       "    .dataframe tbody tr th:only-of-type {\n",
       "        vertical-align: middle;\n",
       "    }\n",
       "\n",
       "    .dataframe tbody tr th {\n",
       "        vertical-align: top;\n",
       "    }\n",
       "\n",
       "    .dataframe thead th {\n",
       "        text-align: right;\n",
       "    }\n",
       "</style>\n",
       "<table border=\"1\" class=\"dataframe\">\n",
       "  <thead>\n",
       "    <tr style=\"text-align: right;\">\n",
       "      <th></th>\n",
       "      <th>index</th>\n",
       "      <th>Id</th>\n",
       "      <th>ProductId</th>\n",
       "      <th>UserId</th>\n",
       "      <th>ProfileName</th>\n",
       "      <th>HelpfulnessNumerator</th>\n",
       "      <th>HelpfulnessDenominator</th>\n",
       "      <th>Score</th>\n",
       "      <th>Time</th>\n",
       "      <th>Summary</th>\n",
       "      <th>Text</th>\n",
       "      <th>CleanedText</th>\n",
       "    </tr>\n",
       "  </thead>\n",
       "  <tbody>\n",
       "    <tr>\n",
       "      <th>0</th>\n",
       "      <td>138706</td>\n",
       "      <td>150524</td>\n",
       "      <td>0006641040</td>\n",
       "      <td>ACITT7DI6IDDL</td>\n",
       "      <td>shari zychinski</td>\n",
       "      <td>0</td>\n",
       "      <td>0</td>\n",
       "      <td>1</td>\n",
       "      <td>939340800</td>\n",
       "      <td>EVERY book is educational</td>\n",
       "      <td>this witty little book makes my son laugh at l...</td>\n",
       "      <td>b'witti littl book make son laugh loud recit c...</td>\n",
       "    </tr>\n",
       "    <tr>\n",
       "      <th>1</th>\n",
       "      <td>138688</td>\n",
       "      <td>150506</td>\n",
       "      <td>0006641040</td>\n",
       "      <td>A2IW4PEEKO2R0U</td>\n",
       "      <td>Tracy</td>\n",
       "      <td>1</td>\n",
       "      <td>1</td>\n",
       "      <td>1</td>\n",
       "      <td>1194739200</td>\n",
       "      <td>Love the book, miss the hard cover version</td>\n",
       "      <td>I grew up reading these Sendak books, and watc...</td>\n",
       "      <td>b'grew read sendak book watch realli rosi movi...</td>\n",
       "    </tr>\n",
       "    <tr>\n",
       "      <th>2</th>\n",
       "      <td>138689</td>\n",
       "      <td>150507</td>\n",
       "      <td>0006641040</td>\n",
       "      <td>A1S4A3IQ2MU7V4</td>\n",
       "      <td>sally sue \"sally sue\"</td>\n",
       "      <td>1</td>\n",
       "      <td>1</td>\n",
       "      <td>1</td>\n",
       "      <td>1191456000</td>\n",
       "      <td>chicken soup with rice months</td>\n",
       "      <td>This is a fun way for children to learn their ...</td>\n",
       "      <td>b'fun way children learn month year learn poem...</td>\n",
       "    </tr>\n",
       "    <tr>\n",
       "      <th>3</th>\n",
       "      <td>138690</td>\n",
       "      <td>150508</td>\n",
       "      <td>0006641040</td>\n",
       "      <td>AZGXZ2UUK6X</td>\n",
       "      <td>Catherine Hallberg \"(Kate)\"</td>\n",
       "      <td>1</td>\n",
       "      <td>1</td>\n",
       "      <td>1</td>\n",
       "      <td>1076025600</td>\n",
       "      <td>a good swingy rhythm for reading aloud</td>\n",
       "      <td>This is a great little book to read aloud- it ...</td>\n",
       "      <td>b'great littl book read nice rhythm well good ...</td>\n",
       "    </tr>\n",
       "    <tr>\n",
       "      <th>4</th>\n",
       "      <td>138691</td>\n",
       "      <td>150509</td>\n",
       "      <td>0006641040</td>\n",
       "      <td>A3CMRKGE0P909G</td>\n",
       "      <td>Teresa</td>\n",
       "      <td>3</td>\n",
       "      <td>4</td>\n",
       "      <td>1</td>\n",
       "      <td>1018396800</td>\n",
       "      <td>A great way to learn the months</td>\n",
       "      <td>This is a book of poetry about the months of t...</td>\n",
       "      <td>b'book poetri month year goe month cute littl ...</td>\n",
       "    </tr>\n",
       "  </tbody>\n",
       "</table>\n",
       "</div>"
      ],
      "text/plain": [
       "    index      Id   ProductId          UserId                  ProfileName  \\\n",
       "0  138706  150524  0006641040   ACITT7DI6IDDL              shari zychinski   \n",
       "1  138688  150506  0006641040  A2IW4PEEKO2R0U                        Tracy   \n",
       "2  138689  150507  0006641040  A1S4A3IQ2MU7V4        sally sue \"sally sue\"   \n",
       "3  138690  150508  0006641040     AZGXZ2UUK6X  Catherine Hallberg \"(Kate)\"   \n",
       "4  138691  150509  0006641040  A3CMRKGE0P909G                       Teresa   \n",
       "\n",
       "   HelpfulnessNumerator  HelpfulnessDenominator  Score        Time  \\\n",
       "0                     0                       0      1   939340800   \n",
       "1                     1                       1      1  1194739200   \n",
       "2                     1                       1      1  1191456000   \n",
       "3                     1                       1      1  1076025600   \n",
       "4                     3                       4      1  1018396800   \n",
       "\n",
       "                                      Summary  \\\n",
       "0                   EVERY book is educational   \n",
       "1  Love the book, miss the hard cover version   \n",
       "2               chicken soup with rice months   \n",
       "3      a good swingy rhythm for reading aloud   \n",
       "4             A great way to learn the months   \n",
       "\n",
       "                                                Text  \\\n",
       "0  this witty little book makes my son laugh at l...   \n",
       "1  I grew up reading these Sendak books, and watc...   \n",
       "2  This is a fun way for children to learn their ...   \n",
       "3  This is a great little book to read aloud- it ...   \n",
       "4  This is a book of poetry about the months of t...   \n",
       "\n",
       "                                         CleanedText  \n",
       "0  b'witti littl book make son laugh loud recit c...  \n",
       "1  b'grew read sendak book watch realli rosi movi...  \n",
       "2  b'fun way children learn month year learn poem...  \n",
       "3  b'great littl book read nice rhythm well good ...  \n",
       "4  b'book poetri month year goe month cute littl ...  "
      ]
     },
     "execution_count": 4,
     "metadata": {},
     "output_type": "execute_result"
    }
   ],
   "source": [
    "con = sqlite3.connect('./cleaned.sqlite')\n",
    "\n",
    "df = pd.read_sql_query(\"\"\" SELECT * from Reviews\"\"\", con)\n",
    "df.head()"
   ]
  },
  {
   "cell_type": "code",
   "execution_count": 5,
   "metadata": {},
   "outputs": [
    {
     "data": {
      "text/html": [
       "<div>\n",
       "<style scoped>\n",
       "    .dataframe tbody tr th:only-of-type {\n",
       "        vertical-align: middle;\n",
       "    }\n",
       "\n",
       "    .dataframe tbody tr th {\n",
       "        vertical-align: top;\n",
       "    }\n",
       "\n",
       "    .dataframe thead th {\n",
       "        text-align: right;\n",
       "    }\n",
       "</style>\n",
       "<table border=\"1\" class=\"dataframe\">\n",
       "  <thead>\n",
       "    <tr style=\"text-align: right;\">\n",
       "      <th></th>\n",
       "      <th>index</th>\n",
       "      <th>Id</th>\n",
       "      <th>HelpfulnessNumerator</th>\n",
       "      <th>HelpfulnessDenominator</th>\n",
       "      <th>Score</th>\n",
       "      <th>Time</th>\n",
       "    </tr>\n",
       "  </thead>\n",
       "  <tbody>\n",
       "    <tr>\n",
       "      <th>count</th>\n",
       "      <td>364106.000000</td>\n",
       "      <td>364106.000000</td>\n",
       "      <td>364106.000000</td>\n",
       "      <td>364106.000000</td>\n",
       "      <td>364106.000000</td>\n",
       "      <td>3.641060e+05</td>\n",
       "    </tr>\n",
       "    <tr>\n",
       "      <th>mean</th>\n",
       "      <td>261221.056821</td>\n",
       "      <td>282777.564772</td>\n",
       "      <td>1.738411</td>\n",
       "      <td>2.186231</td>\n",
       "      <td>0.843164</td>\n",
       "      <td>1.296157e+09</td>\n",
       "    </tr>\n",
       "    <tr>\n",
       "      <th>std</th>\n",
       "      <td>152361.122483</td>\n",
       "      <td>164601.735167</td>\n",
       "      <td>6.716471</td>\n",
       "      <td>7.339767</td>\n",
       "      <td>0.363647</td>\n",
       "      <td>4.859821e+07</td>\n",
       "    </tr>\n",
       "    <tr>\n",
       "      <th>min</th>\n",
       "      <td>0.000000</td>\n",
       "      <td>1.000000</td>\n",
       "      <td>0.000000</td>\n",
       "      <td>0.000000</td>\n",
       "      <td>0.000000</td>\n",
       "      <td>9.393408e+08</td>\n",
       "    </tr>\n",
       "    <tr>\n",
       "      <th>25%</th>\n",
       "      <td>129625.250000</td>\n",
       "      <td>140699.250000</td>\n",
       "      <td>0.000000</td>\n",
       "      <td>0.000000</td>\n",
       "      <td>1.000000</td>\n",
       "      <td>1.270858e+09</td>\n",
       "    </tr>\n",
       "    <tr>\n",
       "      <th>50%</th>\n",
       "      <td>257307.500000</td>\n",
       "      <td>278947.500000</td>\n",
       "      <td>0.000000</td>\n",
       "      <td>1.000000</td>\n",
       "      <td>1.000000</td>\n",
       "      <td>1.311379e+09</td>\n",
       "    </tr>\n",
       "    <tr>\n",
       "      <th>75%</th>\n",
       "      <td>396338.750000</td>\n",
       "      <td>428557.750000</td>\n",
       "      <td>2.000000</td>\n",
       "      <td>2.000000</td>\n",
       "      <td>1.000000</td>\n",
       "      <td>1.332893e+09</td>\n",
       "    </tr>\n",
       "    <tr>\n",
       "      <th>max</th>\n",
       "      <td>525813.000000</td>\n",
       "      <td>568454.000000</td>\n",
       "      <td>866.000000</td>\n",
       "      <td>878.000000</td>\n",
       "      <td>1.000000</td>\n",
       "      <td>1.351210e+09</td>\n",
       "    </tr>\n",
       "  </tbody>\n",
       "</table>\n",
       "</div>"
      ],
      "text/plain": [
       "               index             Id  HelpfulnessNumerator  \\\n",
       "count  364106.000000  364106.000000         364106.000000   \n",
       "mean   261221.056821  282777.564772              1.738411   \n",
       "std    152361.122483  164601.735167              6.716471   \n",
       "min         0.000000       1.000000              0.000000   \n",
       "25%    129625.250000  140699.250000              0.000000   \n",
       "50%    257307.500000  278947.500000              0.000000   \n",
       "75%    396338.750000  428557.750000              2.000000   \n",
       "max    525813.000000  568454.000000            866.000000   \n",
       "\n",
       "       HelpfulnessDenominator          Score          Time  \n",
       "count           364106.000000  364106.000000  3.641060e+05  \n",
       "mean                 2.186231       0.843164  1.296157e+09  \n",
       "std                  7.339767       0.363647  4.859821e+07  \n",
       "min                  0.000000       0.000000  9.393408e+08  \n",
       "25%                  0.000000       1.000000  1.270858e+09  \n",
       "50%                  1.000000       1.000000  1.311379e+09  \n",
       "75%                  2.000000       1.000000  1.332893e+09  \n",
       "max                878.000000       1.000000  1.351210e+09  "
      ]
     },
     "execution_count": 5,
     "metadata": {},
     "output_type": "execute_result"
    }
   ],
   "source": [
    "df.describe()"
   ]
  },
  {
   "cell_type": "code",
   "execution_count": 6,
   "metadata": {},
   "outputs": [
    {
     "data": {
      "text/plain": [
       "index                      int64\n",
       "Id                         int64\n",
       "ProductId                 object\n",
       "UserId                    object\n",
       "ProfileName               object\n",
       "HelpfulnessNumerator       int64\n",
       "HelpfulnessDenominator     int64\n",
       "Score                      int64\n",
       "Time                       int64\n",
       "Summary                   object\n",
       "Text                      object\n",
       "CleanedText               object\n",
       "dtype: object"
      ]
     },
     "execution_count": 6,
     "metadata": {},
     "output_type": "execute_result"
    }
   ],
   "source": [
    "df.dtypes"
   ]
  },
  {
   "cell_type": "code",
   "execution_count": 7,
   "metadata": {},
   "outputs": [
    {
     "name": "stdout",
     "output_type": "stream",
     "text": [
      "(364106,)\n"
     ]
    },
    {
     "data": {
      "text/plain": [
       "0    b'witti littl book make son laugh loud recit c...\n",
       "1    b'grew read sendak book watch realli rosi movi...\n",
       "2    b'fun way children learn month year learn poem...\n",
       "3    b'great littl book read nice rhythm well good ...\n",
       "4    b'book poetri month year goe month cute littl ...\n",
       "Name: CleanedText, dtype: object"
      ]
     },
     "execution_count": 7,
     "metadata": {},
     "output_type": "execute_result"
    }
   ],
   "source": [
    "# Split data\n",
    "# positive review score, negative review score and review text as seperate dataframes\n",
    "df_text = df['CleanedText']\n",
    "print(df_text.shape)\n",
    "df_text.head()"
   ]
  },
  {
   "cell_type": "code",
   "execution_count": 8,
   "metadata": {},
   "outputs": [],
   "source": [
    "def genTSNEGif(std_data, ndp, p, itr_list, file_prefix, closePlt=False):\n",
    "    '''\n",
    "    Fuction which genrate t-SNE visualtion for each itr_list using given ndp and p\n",
    "    Generates a GIF and stores it under '{img_name}.gif'\n",
    "    Where:\n",
    "        std_data - Column Standardized Data\n",
    "        ndp - Number of Data Points to consider in std_data\n",
    "        p - Perplexity\n",
    "        itr_list - List of iterations, each iteration will be a frame in GIF\n",
    "        file_prefix - Prefix to the name of GIF image\n",
    "        closePlt - If you do not want to display the generated image in Notebook\n",
    "    '''\n",
    "    image_name = '{0}_tsne_ndp_{1}_p_{2}.gif'.format(file_prefix,ndp,p)\n",
    "    print('No.Of Data Points - {0}, Perplexity - {1}, Iterations - {2}, ImageName - {3}'.format(\n",
    "            ndp, p, itr_list, image_name))\n",
    "    \n",
    "    # list to hold the frames\n",
    "    frames = []\n",
    "    p_data = std_data\n",
    "    p_labels = final_reviews_scores[0:ndp]\n",
    "    \n",
    "    #print('t-SNE Data Points {0} and its Labels {1}'.format(p_data.shape, p_labels.shape))\n",
    "    for itr_val in itr_list:\n",
    "        img_title = '{0}-ndp={1} p={2} itr={3}'.format(file_prefix, ndp, p, itr_val)\n",
    "        \n",
    "        time_start = time.time()\n",
    "        \n",
    "        model = TSNE(n_components=2,random_state=0,perplexity=p,n_iter=itr_val) # ,verbose=2\n",
    "        tsne_data = model.fit_transform(p_data)\n",
    "        time_elapsed = time.time() - time_start\n",
    "        print('{0} ==> t-SNE done! Time elapsed: {1} seconds'.format(img_title, time.time() - time_start))\n",
    "    \n",
    "        tsne_data = np.vstack((tsne_data.T,p_labels)).T\n",
    "        #print(tsne_data.shape)\n",
    "        #tsne_data[:4]\n",
    "        tsne_df = pd.DataFrame(tsne_data,columns=['Dim_1','Dim_2','Score'])\n",
    "        #tsne_df.head()\n",
    "        g = sns.FacetGrid(tsne_df,hue='Score',height=10).map(plt.scatter, 'Dim_1', 'Dim_2').add_legend();\n",
    "        g.fig.suptitle(img_title);\n",
    "        g.fig.canvas.draw();\n",
    "        image = np.frombuffer(g.fig.canvas.tostring_rgb(), dtype='uint8')\n",
    "        image = image.reshape(g.fig.canvas.get_width_height()[::-1] + (3,))\n",
    "        frames.append(image)\n",
    "        \n",
    "        if (closePlt == True):\n",
    "            plt.close()\n",
    "    \n",
    "    kwargs_write = {'fps':1.0, 'quantizer':'nq'}\n",
    "    imageio.mimsave(Path.cwd() / output_dir / image_name, frames, fps=1)\n",
    "    \n",
    "    return"
   ]
  },
  {
   "cell_type": "markdown",
   "metadata": {},
   "source": [
    "## Training Data for Visualization - 3K Points"
   ]
  },
  {
   "cell_type": "code",
   "execution_count": 9,
   "metadata": {},
   "outputs": [
    {
     "name": "stdout",
     "output_type": "stream",
     "text": [
      "Shape of Training Data (500, 12)\n",
      "Shape of Training Label (500,)\n"
     ]
    }
   ],
   "source": [
    "# we can't process all 364K revies, selecting a subset of it\n",
    "total_data_set_size = 500\n",
    "\n",
    "# Create a Balanced dataset having both +ive and -ive reviews\n",
    "df_positive_reviews = df[df.Score == 1].sample(int(total_data_set_size/2))\n",
    "df_negative_reviews = df[df.Score == 0].sample(int(total_data_set_size/2))\n",
    "\n",
    "final_reviews = pd.concat([df_positive_reviews, df_negative_reviews])\n",
    "final_reviews_scores = final_reviews['Score']\n",
    "\n",
    "print('Shape of Training Data {0}'.format(final_reviews.shape))\n",
    "print('Shape of Training Label {0}'.format(final_reviews_scores.shape))"
   ]
  },
  {
   "cell_type": "code",
   "execution_count": 10,
   "metadata": {},
   "outputs": [
    {
     "data": {
      "text/html": [
       "<div>\n",
       "<style scoped>\n",
       "    .dataframe tbody tr th:only-of-type {\n",
       "        vertical-align: middle;\n",
       "    }\n",
       "\n",
       "    .dataframe tbody tr th {\n",
       "        vertical-align: top;\n",
       "    }\n",
       "\n",
       "    .dataframe thead th {\n",
       "        text-align: right;\n",
       "    }\n",
       "</style>\n",
       "<table border=\"1\" class=\"dataframe\">\n",
       "  <thead>\n",
       "    <tr style=\"text-align: right;\">\n",
       "      <th></th>\n",
       "      <th>index</th>\n",
       "      <th>Id</th>\n",
       "      <th>ProductId</th>\n",
       "      <th>UserId</th>\n",
       "      <th>ProfileName</th>\n",
       "      <th>HelpfulnessNumerator</th>\n",
       "      <th>HelpfulnessDenominator</th>\n",
       "      <th>Score</th>\n",
       "      <th>Time</th>\n",
       "      <th>Summary</th>\n",
       "      <th>Text</th>\n",
       "      <th>CleanedText</th>\n",
       "    </tr>\n",
       "  </thead>\n",
       "  <tbody>\n",
       "    <tr>\n",
       "      <th>146239</th>\n",
       "      <td>49378</td>\n",
       "      <td>53627</td>\n",
       "      <td>B0016687F2</td>\n",
       "      <td>A56T9S9XCZI80</td>\n",
       "      <td>cathy</td>\n",
       "      <td>0</td>\n",
       "      <td>0</td>\n",
       "      <td>1</td>\n",
       "      <td>1344297600</td>\n",
       "      <td>Was delivered in 1 day!!!</td>\n",
       "      <td>I purchased this for my Marine Corps husband t...</td>\n",
       "      <td>b'purchas marin corp husband put care packag d...</td>\n",
       "    </tr>\n",
       "    <tr>\n",
       "      <th>200081</th>\n",
       "      <td>250182</td>\n",
       "      <td>271258</td>\n",
       "      <td>B001IZHZGS</td>\n",
       "      <td>A2ZKXGAW9W0C40</td>\n",
       "      <td>Christopher A. Dowling \"tintinet\"</td>\n",
       "      <td>3</td>\n",
       "      <td>3</td>\n",
       "      <td>1</td>\n",
       "      <td>1283644800</td>\n",
       "      <td>Best gum currently available, IMO.</td>\n",
       "      <td>The perfect size, nice, long lasting flavor.  ...</td>\n",
       "      <td>b'perfect size nice long last flavor coat does...</td>\n",
       "    </tr>\n",
       "    <tr>\n",
       "      <th>2935</th>\n",
       "      <td>238287</td>\n",
       "      <td>258517</td>\n",
       "      <td>B0000CNTZI</td>\n",
       "      <td>A1Q2AD6OYWO4S8</td>\n",
       "      <td>chad-roscoe \"chad-roscoe\"</td>\n",
       "      <td>0</td>\n",
       "      <td>0</td>\n",
       "      <td>1</td>\n",
       "      <td>1293408000</td>\n",
       "      <td>The scent of heaven</td>\n",
       "      <td>I first had this tea at a vegetarian Vietnames...</td>\n",
       "      <td>b'first tea vegetarian vietnames restaur order...</td>\n",
       "    </tr>\n",
       "    <tr>\n",
       "      <th>191631</th>\n",
       "      <td>52669</td>\n",
       "      <td>57206</td>\n",
       "      <td>B001EYUE2A</td>\n",
       "      <td>A2N9B0XGETYOLO</td>\n",
       "      <td>M. ZELLARS</td>\n",
       "      <td>1</td>\n",
       "      <td>1</td>\n",
       "      <td>1</td>\n",
       "      <td>1311206400</td>\n",
       "      <td>Coffee</td>\n",
       "      <td>This is my favorite coffee for my Keurig.  Thi...</td>\n",
       "      <td>b'favorit coffe keurig blend smooth pleas high...</td>\n",
       "    </tr>\n",
       "    <tr>\n",
       "      <th>316739</th>\n",
       "      <td>432232</td>\n",
       "      <td>467431</td>\n",
       "      <td>B004M8KV6Y</td>\n",
       "      <td>A3OQ054KF9C1K8</td>\n",
       "      <td>averagepunter</td>\n",
       "      <td>10</td>\n",
       "      <td>12</td>\n",
       "      <td>1</td>\n",
       "      <td>1304553600</td>\n",
       "      <td>Might just save my Tassimo from the scrapheap ...</td>\n",
       "      <td>The demise of the relationship between Kraft a...</td>\n",
       "      <td>b'demis relationship kraft starbuck threaten m...</td>\n",
       "    </tr>\n",
       "  </tbody>\n",
       "</table>\n",
       "</div>"
      ],
      "text/plain": [
       "         index      Id   ProductId          UserId  \\\n",
       "146239   49378   53627  B0016687F2   A56T9S9XCZI80   \n",
       "200081  250182  271258  B001IZHZGS  A2ZKXGAW9W0C40   \n",
       "2935    238287  258517  B0000CNTZI  A1Q2AD6OYWO4S8   \n",
       "191631   52669   57206  B001EYUE2A  A2N9B0XGETYOLO   \n",
       "316739  432232  467431  B004M8KV6Y  A3OQ054KF9C1K8   \n",
       "\n",
       "                              ProfileName  HelpfulnessNumerator  \\\n",
       "146239                              cathy                     0   \n",
       "200081  Christopher A. Dowling \"tintinet\"                     3   \n",
       "2935            chad-roscoe \"chad-roscoe\"                     0   \n",
       "191631                         M. ZELLARS                     1   \n",
       "316739                      averagepunter                    10   \n",
       "\n",
       "        HelpfulnessDenominator  Score        Time  \\\n",
       "146239                       0      1  1344297600   \n",
       "200081                       3      1  1283644800   \n",
       "2935                         0      1  1293408000   \n",
       "191631                       1      1  1311206400   \n",
       "316739                      12      1  1304553600   \n",
       "\n",
       "                                                  Summary  \\\n",
       "146239                          Was delivered in 1 day!!!   \n",
       "200081                 Best gum currently available, IMO.   \n",
       "2935                                  The scent of heaven   \n",
       "191631                                             Coffee   \n",
       "316739  Might just save my Tassimo from the scrapheap ...   \n",
       "\n",
       "                                                     Text  \\\n",
       "146239  I purchased this for my Marine Corps husband t...   \n",
       "200081  The perfect size, nice, long lasting flavor.  ...   \n",
       "2935    I first had this tea at a vegetarian Vietnames...   \n",
       "191631  This is my favorite coffee for my Keurig.  Thi...   \n",
       "316739  The demise of the relationship between Kraft a...   \n",
       "\n",
       "                                              CleanedText  \n",
       "146239  b'purchas marin corp husband put care packag d...  \n",
       "200081  b'perfect size nice long last flavor coat does...  \n",
       "2935    b'first tea vegetarian vietnames restaur order...  \n",
       "191631  b'favorit coffe keurig blend smooth pleas high...  \n",
       "316739  b'demis relationship kraft starbuck threaten m...  "
      ]
     },
     "execution_count": 10,
     "metadata": {},
     "output_type": "execute_result"
    }
   ],
   "source": [
    "final_reviews.head()"
   ]
  },
  {
   "cell_type": "markdown",
   "metadata": {},
   "source": [
    "# Bag of Words (BoW)"
   ]
  },
  {
   "cell_type": "code",
   "execution_count": 11,
   "metadata": {},
   "outputs": [
    {
     "name": "stdout",
     "output_type": "stream",
     "text": [
      "Shape of BoW Vectorizer:  (500, 19908)\n",
      "Total no.of unique words:  19908\n",
      "Shape of Standardized data (500, 19908)\n"
     ]
    }
   ],
   "source": [
    "# Create Vectors\n",
    "count_vect = CountVectorizer(ngram_range=(1,2)) # create an instance\n",
    "final_counts = count_vect.fit_transform(final_reviews['CleanedText'].values)\n",
    "print('Shape of BoW Vectorizer: ', final_counts.get_shape())\n",
    "print('Total no.of unique words: ', final_counts.get_shape()[1])\n",
    "\n",
    "# Standardize the Data\n",
    "standardized_data = StandardScaler().fit_transform(final_counts.toarray().astype(np.float64)) #, with_mean=False\n",
    "print('Shape of Standardized data', standardized_data.shape)"
   ]
  },
  {
   "cell_type": "code",
   "execution_count": 12,
   "metadata": {},
   "outputs": [
    {
     "name": "stdout",
     "output_type": "stream",
     "text": [
      "No.Of Data Points - 500, Perplexity - 30, Iterations - range(1000, 3001, 1000), ImageName - BoW-std_tsne_ndp_500_p_30.gif\n",
      "BoW-std-ndp=500 p=30 itr=1000 ==> t-SNE done! Time elapsed: 16.620235443115234 seconds\n",
      "BoW-std-ndp=500 p=30 itr=2000 ==> t-SNE done! Time elapsed: 20.292940855026245 seconds\n",
      "BoW-std-ndp=500 p=30 itr=3000 ==> t-SNE done! Time elapsed: 21.018538236618042 seconds\n",
      "No.Of Data Points - 500, Perplexity - 10, Iterations - range(1000, 5001, 1000), ImageName - BoW_tsne_ndp_500_p_10.gif\n",
      "BoW-ndp=500 p=10 itr=1000 ==> t-SNE done! Time elapsed: 14.674026012420654 seconds\n",
      "BoW-ndp=500 p=10 itr=2000 ==> t-SNE done! Time elapsed: 18.46445941925049 seconds\n",
      "BoW-ndp=500 p=10 itr=3000 ==> t-SNE done! Time elapsed: 18.840811252593994 seconds\n",
      "BoW-ndp=500 p=10 itr=4000 ==> t-SNE done! Time elapsed: 18.71005940437317 seconds\n",
      "BoW-ndp=500 p=10 itr=5000 ==> t-SNE done! Time elapsed: 19.041726112365723 seconds\n",
      "No.Of Data Points - 500, Perplexity - 20, Iterations - range(1000, 5001, 1000), ImageName - BoW_tsne_ndp_500_p_20.gif\n",
      "BoW-ndp=500 p=20 itr=1000 ==> t-SNE done! Time elapsed: 15.636509895324707 seconds\n",
      "BoW-ndp=500 p=20 itr=2000 ==> t-SNE done! Time elapsed: 18.317270278930664 seconds\n",
      "BoW-ndp=500 p=20 itr=3000 ==> t-SNE done! Time elapsed: 18.23276996612549 seconds\n",
      "BoW-ndp=500 p=20 itr=4000 ==> t-SNE done! Time elapsed: 18.256227016448975 seconds\n",
      "BoW-ndp=500 p=20 itr=5000 ==> t-SNE done! Time elapsed: 18.391199350357056 seconds\n",
      "No.Of Data Points - 500, Perplexity - 30, Iterations - range(1000, 5001, 1000), ImageName - BoW_tsne_ndp_500_p_30.gif\n",
      "BoW-ndp=500 p=30 itr=1000 ==> t-SNE done! Time elapsed: 15.787344932556152 seconds\n",
      "BoW-ndp=500 p=30 itr=2000 ==> t-SNE done! Time elapsed: 20.322612285614014 seconds\n",
      "BoW-ndp=500 p=30 itr=3000 ==> t-SNE done! Time elapsed: 25.33496403694153 seconds\n",
      "BoW-ndp=500 p=30 itr=4000 ==> t-SNE done! Time elapsed: 30.575119733810425 seconds\n",
      "BoW-ndp=500 p=30 itr=5000 ==> t-SNE done! Time elapsed: 33.14903998374939 seconds\n",
      "No.Of Data Points - 500, Perplexity - 40, Iterations - range(1000, 5001, 1000), ImageName - BoW_tsne_ndp_500_p_40.gif\n",
      "BoW-ndp=500 p=40 itr=1000 ==> t-SNE done! Time elapsed: 15.516915321350098 seconds\n",
      "BoW-ndp=500 p=40 itr=2000 ==> t-SNE done! Time elapsed: 20.360701322555542 seconds\n",
      "BoW-ndp=500 p=40 itr=3000 ==> t-SNE done! Time elapsed: 25.25319814682007 seconds\n",
      "BoW-ndp=500 p=40 itr=4000 ==> t-SNE done! Time elapsed: 25.988220691680908 seconds\n",
      "BoW-ndp=500 p=40 itr=5000 ==> t-SNE done! Time elapsed: 26.792847633361816 seconds\n",
      "No.Of Data Points - 500, Perplexity - 50, Iterations - range(1000, 5001, 1000), ImageName - BoW_tsne_ndp_500_p_50.gif\n",
      "BoW-ndp=500 p=50 itr=1000 ==> t-SNE done! Time elapsed: 16.622135877609253 seconds\n",
      "BoW-ndp=500 p=50 itr=2000 ==> t-SNE done! Time elapsed: 17.505221128463745 seconds\n",
      "BoW-ndp=500 p=50 itr=3000 ==> t-SNE done! Time elapsed: 17.501485586166382 seconds\n",
      "BoW-ndp=500 p=50 itr=4000 ==> t-SNE done! Time elapsed: 17.496704816818237 seconds\n",
      "BoW-ndp=500 p=50 itr=5000 ==> t-SNE done! Time elapsed: 17.470081329345703 seconds\n",
      "No.Of Data Points - 500, Perplexity - 60, Iterations - range(1000, 5001, 1000), ImageName - BoW_tsne_ndp_500_p_60.gif\n",
      "BoW-ndp=500 p=60 itr=1000 ==> t-SNE done! Time elapsed: 16.32817268371582 seconds\n",
      "BoW-ndp=500 p=60 itr=2000 ==> t-SNE done! Time elapsed: 18.026220321655273 seconds\n",
      "BoW-ndp=500 p=60 itr=3000 ==> t-SNE done! Time elapsed: 17.859854459762573 seconds\n",
      "BoW-ndp=500 p=60 itr=4000 ==> t-SNE done! Time elapsed: 17.868285417556763 seconds\n",
      "BoW-ndp=500 p=60 itr=5000 ==> t-SNE done! Time elapsed: 17.86010217666626 seconds\n",
      "No.Of Data Points - 500, Perplexity - 70, Iterations - range(1000, 5001, 1000), ImageName - BoW_tsne_ndp_500_p_70.gif\n",
      "BoW-ndp=500 p=70 itr=1000 ==> t-SNE done! Time elapsed: 16.97932004928589 seconds\n",
      "BoW-ndp=500 p=70 itr=2000 ==> t-SNE done! Time elapsed: 17.84239959716797 seconds\n",
      "BoW-ndp=500 p=70 itr=3000 ==> t-SNE done! Time elapsed: 17.681962251663208 seconds\n",
      "BoW-ndp=500 p=70 itr=4000 ==> t-SNE done! Time elapsed: 17.63396430015564 seconds\n",
      "BoW-ndp=500 p=70 itr=5000 ==> t-SNE done! Time elapsed: 17.548508644104004 seconds\n",
      "No.Of Data Points - 500, Perplexity - 80, Iterations - range(1000, 5001, 1000), ImageName - BoW_tsne_ndp_500_p_80.gif\n",
      "BoW-ndp=500 p=80 itr=1000 ==> t-SNE done! Time elapsed: 16.261298418045044 seconds\n",
      "BoW-ndp=500 p=80 itr=2000 ==> t-SNE done! Time elapsed: 16.36107325553894 seconds\n",
      "BoW-ndp=500 p=80 itr=3000 ==> t-SNE done! Time elapsed: 16.28835391998291 seconds\n",
      "BoW-ndp=500 p=80 itr=4000 ==> t-SNE done! Time elapsed: 16.295461893081665 seconds\n",
      "BoW-ndp=500 p=80 itr=5000 ==> t-SNE done! Time elapsed: 16.354358911514282 seconds\n",
      "No.Of Data Points - 500, Perplexity - 90, Iterations - range(1000, 5001, 1000), ImageName - BoW_tsne_ndp_500_p_90.gif\n",
      "BoW-ndp=500 p=90 itr=1000 ==> t-SNE done! Time elapsed: 7.81119179725647 seconds\n",
      "BoW-ndp=500 p=90 itr=2000 ==> t-SNE done! Time elapsed: 9.406161069869995 seconds\n",
      "BoW-ndp=500 p=90 itr=3000 ==> t-SNE done! Time elapsed: 9.254249334335327 seconds\n",
      "BoW-ndp=500 p=90 itr=4000 ==> t-SNE done! Time elapsed: 9.14945125579834 seconds\n",
      "BoW-ndp=500 p=90 itr=5000 ==> t-SNE done! Time elapsed: 9.265161991119385 seconds\n",
      "No.Of Data Points - 500, Perplexity - 100, Iterations - range(1000, 5001, 1000), ImageName - BoW_tsne_ndp_500_p_100.gif\n",
      "BoW-ndp=500 p=100 itr=1000 ==> t-SNE done! Time elapsed: 7.864916086196899 seconds\n",
      "BoW-ndp=500 p=100 itr=2000 ==> t-SNE done! Time elapsed: 15.110626459121704 seconds\n",
      "BoW-ndp=500 p=100 itr=3000 ==> t-SNE done! Time elapsed: 22.62155318260193 seconds\n",
      "BoW-ndp=500 p=100 itr=4000 ==> t-SNE done! Time elapsed: 26.734723329544067 seconds\n",
      "BoW-ndp=500 p=100 itr=5000 ==> t-SNE done! Time elapsed: 27.06672978401184 seconds\n"
     ]
    }
   ],
   "source": [
    "genTSNEGif(standardized_data, len(standardized_data), 30, range(1000,3001,1000), 'BoW-std',closePlt=True)\n",
    "dense_mat = final_counts.toarray().astype(np.float64)\n",
    "\n",
    "for p in range(10, 101, 10):\n",
    "    genTSNEGif(dense_mat, len(dense_mat), p, range(1000,5001,1000), 'BoW',closePlt=True)"
   ]
  },
  {
   "cell_type": "markdown",
   "metadata": {},
   "source": [
    "# TFIDF"
   ]
  },
  {
   "cell_type": "code",
   "execution_count": 13,
   "metadata": {},
   "outputs": [
    {
     "name": "stdout",
     "output_type": "stream",
     "text": [
      "Shape of BoW Vectorizer:  (500, 19908)\n",
      "Total no.of unique words:  19908\n",
      "Shape of Standardized data (500, 19908)\n"
     ]
    }
   ],
   "source": [
    "# Create Vectors\n",
    "\n",
    "tf_idf_vec = TfidfVectorizer(ngram_range=(1,2))\n",
    "final_counts = tf_idf_vec.fit_transform(final_reviews['CleanedText'].values)\n",
    "\n",
    "#.fit_transform(final_reviews['CleanedText'].values)\n",
    "print('Shape of BoW Vectorizer: ', final_counts.get_shape())\n",
    "print('Total no.of unique words: ', final_counts.get_shape()[1])\n",
    "\n",
    "# Standardize the Data\n",
    "standardized_data = StandardScaler().fit_transform(final_counts.toarray().astype(np.float64)) #, with_mean=False\n",
    "print('Shape of Standardized data', standardized_data.shape)"
   ]
  },
  {
   "cell_type": "code",
   "execution_count": 16,
   "metadata": {},
   "outputs": [
    {
     "name": "stdout",
     "output_type": "stream",
     "text": [
      "No.Of Data Points - 500, Perplexity - 30, Iterations - range(1000, 6001, 1000), ImageName - tfidf-std_tsne_ndp_500_p_30.gif\n",
      "tfidf-std-ndp=500 p=30 itr=1000 ==> t-SNE done! Time elapsed: 17.061641216278076 seconds\n",
      "tfidf-std-ndp=500 p=30 itr=2000 ==> t-SNE done! Time elapsed: 22.879101276397705 seconds\n",
      "tfidf-std-ndp=500 p=30 itr=3000 ==> t-SNE done! Time elapsed: 27.63390612602234 seconds\n",
      "tfidf-std-ndp=500 p=30 itr=4000 ==> t-SNE done! Time elapsed: 30.708401203155518 seconds\n",
      "tfidf-std-ndp=500 p=30 itr=5000 ==> t-SNE done! Time elapsed: 30.955078840255737 seconds\n",
      "tfidf-std-ndp=500 p=30 itr=6000 ==> t-SNE done! Time elapsed: 30.72924494743347 seconds\n"
     ]
    }
   ],
   "source": [
    "genTSNEGif(standardized_data, len(standardized_data), 30, range(1000,6001,1000), 'tfidf-std',closePlt=True)"
   ]
  },
  {
   "cell_type": "code",
   "execution_count": 19,
   "metadata": {},
   "outputs": [
    {
     "name": "stdout",
     "output_type": "stream",
     "text": [
      "No.Of Data Points - 500, Perplexity - 10, Iterations - range(1000, 6001, 1000), ImageName - tfidf_tsne_ndp_500_p_10.gif\n",
      "tfidf-ndp=500 p=10 itr=1000 ==> t-SNE done! Time elapsed: 15.436394453048706 seconds\n",
      "tfidf-ndp=500 p=10 itr=2000 ==> t-SNE done! Time elapsed: 18.523593187332153 seconds\n",
      "tfidf-ndp=500 p=10 itr=3000 ==> t-SNE done! Time elapsed: 22.647663116455078 seconds\n",
      "tfidf-ndp=500 p=10 itr=4000 ==> t-SNE done! Time elapsed: 26.716687202453613 seconds\n",
      "tfidf-ndp=500 p=10 itr=5000 ==> t-SNE done! Time elapsed: 30.898597717285156 seconds\n",
      "tfidf-ndp=500 p=10 itr=6000 ==> t-SNE done! Time elapsed: 34.807520389556885 seconds\n",
      "No.Of Data Points - 500, Perplexity - 20, Iterations - range(1000, 6001, 1000), ImageName - tfidf_tsne_ndp_500_p_20.gif\n",
      "tfidf-ndp=500 p=20 itr=1000 ==> t-SNE done! Time elapsed: 14.992748975753784 seconds\n",
      "tfidf-ndp=500 p=20 itr=2000 ==> t-SNE done! Time elapsed: 18.98304295539856 seconds\n",
      "tfidf-ndp=500 p=20 itr=3000 ==> t-SNE done! Time elapsed: 22.846832513809204 seconds\n",
      "tfidf-ndp=500 p=20 itr=4000 ==> t-SNE done! Time elapsed: 27.003561973571777 seconds\n",
      "tfidf-ndp=500 p=20 itr=5000 ==> t-SNE done! Time elapsed: 30.341565370559692 seconds\n",
      "tfidf-ndp=500 p=20 itr=6000 ==> t-SNE done! Time elapsed: 30.42572259902954 seconds\n",
      "No.Of Data Points - 500, Perplexity - 30, Iterations - range(1000, 6001, 1000), ImageName - tfidf_tsne_ndp_500_p_30.gif\n",
      "tfidf-ndp=500 p=30 itr=1000 ==> t-SNE done! Time elapsed: 15.189840078353882 seconds\n",
      "tfidf-ndp=500 p=30 itr=2000 ==> t-SNE done! Time elapsed: 19.57518768310547 seconds\n",
      "tfidf-ndp=500 p=30 itr=3000 ==> t-SNE done! Time elapsed: 24.1771137714386 seconds\n",
      "tfidf-ndp=500 p=30 itr=4000 ==> t-SNE done! Time elapsed: 25.186442375183105 seconds\n",
      "tfidf-ndp=500 p=30 itr=5000 ==> t-SNE done! Time elapsed: 25.11744260787964 seconds\n",
      "tfidf-ndp=500 p=30 itr=6000 ==> t-SNE done! Time elapsed: 25.24114465713501 seconds\n",
      "No.Of Data Points - 500, Perplexity - 40, Iterations - range(1000, 6001, 1000), ImageName - tfidf_tsne_ndp_500_p_40.gif\n",
      "tfidf-ndp=500 p=40 itr=1000 ==> t-SNE done! Time elapsed: 15.80448317527771 seconds\n",
      "tfidf-ndp=500 p=40 itr=2000 ==> t-SNE done! Time elapsed: 19.980273485183716 seconds\n",
      "tfidf-ndp=500 p=40 itr=3000 ==> t-SNE done! Time elapsed: 21.159300565719604 seconds\n",
      "tfidf-ndp=500 p=40 itr=4000 ==> t-SNE done! Time elapsed: 20.981527090072632 seconds\n",
      "tfidf-ndp=500 p=40 itr=5000 ==> t-SNE done! Time elapsed: 20.87619686126709 seconds\n",
      "tfidf-ndp=500 p=40 itr=6000 ==> t-SNE done! Time elapsed: 21.330782413482666 seconds\n",
      "No.Of Data Points - 500, Perplexity - 50, Iterations - range(1000, 6001, 1000), ImageName - tfidf_tsne_ndp_500_p_50.gif\n",
      "tfidf-ndp=500 p=50 itr=1000 ==> t-SNE done! Time elapsed: 16.118670225143433 seconds\n",
      "tfidf-ndp=500 p=50 itr=2000 ==> t-SNE done! Time elapsed: 18.91942524909973 seconds\n",
      "tfidf-ndp=500 p=50 itr=3000 ==> t-SNE done! Time elapsed: 18.39323902130127 seconds\n",
      "tfidf-ndp=500 p=50 itr=4000 ==> t-SNE done! Time elapsed: 18.375523567199707 seconds\n",
      "tfidf-ndp=500 p=50 itr=5000 ==> t-SNE done! Time elapsed: 18.36286687850952 seconds\n",
      "tfidf-ndp=500 p=50 itr=6000 ==> t-SNE done! Time elapsed: 18.451897859573364 seconds\n",
      "No.Of Data Points - 500, Perplexity - 60, Iterations - range(1000, 6001, 1000), ImageName - tfidf_tsne_ndp_500_p_60.gif\n",
      "tfidf-ndp=500 p=60 itr=1000 ==> t-SNE done! Time elapsed: 16.70004892349243 seconds\n",
      "tfidf-ndp=500 p=60 itr=2000 ==> t-SNE done! Time elapsed: 20.588300704956055 seconds\n",
      "tfidf-ndp=500 p=60 itr=3000 ==> t-SNE done! Time elapsed: 23.162419319152832 seconds\n",
      "tfidf-ndp=500 p=60 itr=4000 ==> t-SNE done! Time elapsed: 23.251046895980835 seconds\n",
      "tfidf-ndp=500 p=60 itr=5000 ==> t-SNE done! Time elapsed: 23.18180251121521 seconds\n",
      "tfidf-ndp=500 p=60 itr=6000 ==> t-SNE done! Time elapsed: 23.275164365768433 seconds\n",
      "No.Of Data Points - 500, Perplexity - 70, Iterations - range(1000, 6001, 1000), ImageName - tfidf_tsne_ndp_500_p_70.gif\n",
      "tfidf-ndp=500 p=70 itr=1000 ==> t-SNE done! Time elapsed: 16.955317735671997 seconds\n"
     ]
    },
    {
     "ename": "KeyboardInterrupt",
     "evalue": "",
     "output_type": "error",
     "traceback": [
      "\u001b[0;31m---------------------------------------------------------------------------\u001b[0m",
      "\u001b[0;31mKeyboardInterrupt\u001b[0m                         Traceback (most recent call last)",
      "\u001b[0;32m<ipython-input-19-01fa74dd4243>\u001b[0m in \u001b[0;36m<module>\u001b[0;34m\u001b[0m\n\u001b[1;32m      1\u001b[0m \u001b[0mdense_mat\u001b[0m \u001b[0;34m=\u001b[0m \u001b[0mfinal_counts\u001b[0m\u001b[0;34m.\u001b[0m\u001b[0mtoarray\u001b[0m\u001b[0;34m(\u001b[0m\u001b[0;34m)\u001b[0m\u001b[0;34m.\u001b[0m\u001b[0mastype\u001b[0m\u001b[0;34m(\u001b[0m\u001b[0mnp\u001b[0m\u001b[0;34m.\u001b[0m\u001b[0mfloat64\u001b[0m\u001b[0;34m)\u001b[0m\u001b[0;34m\u001b[0m\u001b[0m\n\u001b[1;32m      2\u001b[0m \u001b[0;32mfor\u001b[0m \u001b[0mp\u001b[0m \u001b[0;32min\u001b[0m \u001b[0mrange\u001b[0m\u001b[0;34m(\u001b[0m\u001b[0;36m10\u001b[0m\u001b[0;34m,\u001b[0m \u001b[0;36m101\u001b[0m\u001b[0;34m,\u001b[0m \u001b[0;36m10\u001b[0m\u001b[0;34m)\u001b[0m\u001b[0;34m:\u001b[0m\u001b[0;34m\u001b[0m\u001b[0m\n\u001b[0;32m----> 3\u001b[0;31m     \u001b[0mgenTSNEGif\u001b[0m\u001b[0;34m(\u001b[0m\u001b[0mdense_mat\u001b[0m\u001b[0;34m,\u001b[0m \u001b[0mlen\u001b[0m\u001b[0;34m(\u001b[0m\u001b[0mdense_mat\u001b[0m\u001b[0;34m)\u001b[0m\u001b[0;34m,\u001b[0m \u001b[0mp\u001b[0m\u001b[0;34m,\u001b[0m \u001b[0mrange\u001b[0m\u001b[0;34m(\u001b[0m\u001b[0;36m1000\u001b[0m\u001b[0;34m,\u001b[0m\u001b[0;36m6001\u001b[0m\u001b[0;34m,\u001b[0m\u001b[0;36m1000\u001b[0m\u001b[0;34m)\u001b[0m\u001b[0;34m,\u001b[0m \u001b[0;34m'tfidf'\u001b[0m\u001b[0;34m,\u001b[0m\u001b[0mclosePlt\u001b[0m\u001b[0;34m=\u001b[0m\u001b[0;32mTrue\u001b[0m\u001b[0;34m)\u001b[0m\u001b[0;34m\u001b[0m\u001b[0m\n\u001b[0m",
      "\u001b[0;32m<ipython-input-8-0034bdadfe5a>\u001b[0m in \u001b[0;36mgenTSNEGif\u001b[0;34m(std_data, ndp, p, itr_list, file_prefix, closePlt)\u001b[0m\n\u001b[1;32m     27\u001b[0m \u001b[0;34m\u001b[0m\u001b[0m\n\u001b[1;32m     28\u001b[0m         \u001b[0mmodel\u001b[0m \u001b[0;34m=\u001b[0m \u001b[0mTSNE\u001b[0m\u001b[0;34m(\u001b[0m\u001b[0mn_components\u001b[0m\u001b[0;34m=\u001b[0m\u001b[0;36m2\u001b[0m\u001b[0;34m,\u001b[0m\u001b[0mrandom_state\u001b[0m\u001b[0;34m=\u001b[0m\u001b[0;36m0\u001b[0m\u001b[0;34m,\u001b[0m\u001b[0mperplexity\u001b[0m\u001b[0;34m=\u001b[0m\u001b[0mp\u001b[0m\u001b[0;34m,\u001b[0m\u001b[0mn_iter\u001b[0m\u001b[0;34m=\u001b[0m\u001b[0mitr_val\u001b[0m\u001b[0;34m)\u001b[0m \u001b[0;31m# ,verbose=2\u001b[0m\u001b[0;34m\u001b[0m\u001b[0m\n\u001b[0;32m---> 29\u001b[0;31m         \u001b[0mtsne_data\u001b[0m \u001b[0;34m=\u001b[0m \u001b[0mmodel\u001b[0m\u001b[0;34m.\u001b[0m\u001b[0mfit_transform\u001b[0m\u001b[0;34m(\u001b[0m\u001b[0mp_data\u001b[0m\u001b[0;34m)\u001b[0m\u001b[0;34m\u001b[0m\u001b[0m\n\u001b[0m\u001b[1;32m     30\u001b[0m         \u001b[0mtime_elapsed\u001b[0m \u001b[0;34m=\u001b[0m \u001b[0mtime\u001b[0m\u001b[0;34m.\u001b[0m\u001b[0mtime\u001b[0m\u001b[0;34m(\u001b[0m\u001b[0;34m)\u001b[0m \u001b[0;34m-\u001b[0m \u001b[0mtime_start\u001b[0m\u001b[0;34m\u001b[0m\u001b[0m\n\u001b[1;32m     31\u001b[0m         \u001b[0mprint\u001b[0m\u001b[0;34m(\u001b[0m\u001b[0;34m'{0} ==> t-SNE done! Time elapsed: {1} seconds'\u001b[0m\u001b[0;34m.\u001b[0m\u001b[0mformat\u001b[0m\u001b[0;34m(\u001b[0m\u001b[0mimg_title\u001b[0m\u001b[0;34m,\u001b[0m \u001b[0mtime\u001b[0m\u001b[0;34m.\u001b[0m\u001b[0mtime\u001b[0m\u001b[0;34m(\u001b[0m\u001b[0;34m)\u001b[0m \u001b[0;34m-\u001b[0m \u001b[0mtime_start\u001b[0m\u001b[0;34m)\u001b[0m\u001b[0;34m)\u001b[0m\u001b[0;34m\u001b[0m\u001b[0m\n",
      "\u001b[0;32m~/anaconda3/envs/ml_study/lib/python3.6/site-packages/sklearn/manifold/t_sne.py\u001b[0m in \u001b[0;36mfit_transform\u001b[0;34m(self, X, y)\u001b[0m\n\u001b[1;32m    892\u001b[0m             \u001b[0mEmbedding\u001b[0m \u001b[0mof\u001b[0m \u001b[0mthe\u001b[0m \u001b[0mtraining\u001b[0m \u001b[0mdata\u001b[0m \u001b[0;32min\u001b[0m \u001b[0mlow\u001b[0m\u001b[0;34m-\u001b[0m\u001b[0mdimensional\u001b[0m \u001b[0mspace\u001b[0m\u001b[0;34m.\u001b[0m\u001b[0;34m\u001b[0m\u001b[0m\n\u001b[1;32m    893\u001b[0m         \"\"\"\n\u001b[0;32m--> 894\u001b[0;31m         \u001b[0membedding\u001b[0m \u001b[0;34m=\u001b[0m \u001b[0mself\u001b[0m\u001b[0;34m.\u001b[0m\u001b[0m_fit\u001b[0m\u001b[0;34m(\u001b[0m\u001b[0mX\u001b[0m\u001b[0;34m)\u001b[0m\u001b[0;34m\u001b[0m\u001b[0m\n\u001b[0m\u001b[1;32m    895\u001b[0m         \u001b[0mself\u001b[0m\u001b[0;34m.\u001b[0m\u001b[0membedding_\u001b[0m \u001b[0;34m=\u001b[0m \u001b[0membedding\u001b[0m\u001b[0;34m\u001b[0m\u001b[0m\n\u001b[1;32m    896\u001b[0m         \u001b[0;32mreturn\u001b[0m \u001b[0mself\u001b[0m\u001b[0;34m.\u001b[0m\u001b[0membedding_\u001b[0m\u001b[0;34m\u001b[0m\u001b[0m\n",
      "\u001b[0;32m~/anaconda3/envs/ml_study/lib/python3.6/site-packages/sklearn/manifold/t_sne.py\u001b[0m in \u001b[0;36m_fit\u001b[0;34m(self, X, skip_num_points)\u001b[0m\n\u001b[1;32m    759\u001b[0m             \u001b[0mt0\u001b[0m \u001b[0;34m=\u001b[0m \u001b[0mtime\u001b[0m\u001b[0;34m(\u001b[0m\u001b[0;34m)\u001b[0m\u001b[0;34m\u001b[0m\u001b[0m\n\u001b[1;32m    760\u001b[0m             distances_nn, neighbors_nn = knn.kneighbors(\n\u001b[0;32m--> 761\u001b[0;31m                 None, n_neighbors=k)\n\u001b[0m\u001b[1;32m    762\u001b[0m             \u001b[0mduration\u001b[0m \u001b[0;34m=\u001b[0m \u001b[0mtime\u001b[0m\u001b[0;34m(\u001b[0m\u001b[0;34m)\u001b[0m \u001b[0;34m-\u001b[0m \u001b[0mt0\u001b[0m\u001b[0;34m\u001b[0m\u001b[0m\n\u001b[1;32m    763\u001b[0m             \u001b[0;32mif\u001b[0m \u001b[0mself\u001b[0m\u001b[0;34m.\u001b[0m\u001b[0mverbose\u001b[0m\u001b[0;34m:\u001b[0m\u001b[0;34m\u001b[0m\u001b[0m\n",
      "\u001b[0;32m~/anaconda3/envs/ml_study/lib/python3.6/site-packages/sklearn/neighbors/base.py\u001b[0m in \u001b[0;36mkneighbors\u001b[0;34m(self, X, n_neighbors, return_distance)\u001b[0m\n\u001b[1;32m    441\u001b[0m                 delayed_query(\n\u001b[1;32m    442\u001b[0m                     X[s], n_neighbors, return_distance)\n\u001b[0;32m--> 443\u001b[0;31m                 \u001b[0;32mfor\u001b[0m \u001b[0ms\u001b[0m \u001b[0;32min\u001b[0m \u001b[0mgen_even_slices\u001b[0m\u001b[0;34m(\u001b[0m\u001b[0mX\u001b[0m\u001b[0;34m.\u001b[0m\u001b[0mshape\u001b[0m\u001b[0;34m[\u001b[0m\u001b[0;36m0\u001b[0m\u001b[0;34m]\u001b[0m\u001b[0;34m,\u001b[0m \u001b[0mn_jobs\u001b[0m\u001b[0;34m)\u001b[0m\u001b[0;34m\u001b[0m\u001b[0m\n\u001b[0m\u001b[1;32m    444\u001b[0m             )\n\u001b[1;32m    445\u001b[0m         \u001b[0;32melse\u001b[0m\u001b[0;34m:\u001b[0m\u001b[0;34m\u001b[0m\u001b[0m\n",
      "\u001b[0;32m~/anaconda3/envs/ml_study/lib/python3.6/site-packages/sklearn/externals/joblib/parallel.py\u001b[0m in \u001b[0;36m__call__\u001b[0;34m(self, iterable)\u001b[0m\n\u001b[1;32m    981\u001b[0m             \u001b[0;31m# remaining jobs.\u001b[0m\u001b[0;34m\u001b[0m\u001b[0;34m\u001b[0m\u001b[0m\n\u001b[1;32m    982\u001b[0m             \u001b[0mself\u001b[0m\u001b[0;34m.\u001b[0m\u001b[0m_iterating\u001b[0m \u001b[0;34m=\u001b[0m \u001b[0;32mFalse\u001b[0m\u001b[0;34m\u001b[0m\u001b[0m\n\u001b[0;32m--> 983\u001b[0;31m             \u001b[0;32mif\u001b[0m \u001b[0mself\u001b[0m\u001b[0;34m.\u001b[0m\u001b[0mdispatch_one_batch\u001b[0m\u001b[0;34m(\u001b[0m\u001b[0miterator\u001b[0m\u001b[0;34m)\u001b[0m\u001b[0;34m:\u001b[0m\u001b[0;34m\u001b[0m\u001b[0m\n\u001b[0m\u001b[1;32m    984\u001b[0m                 \u001b[0mself\u001b[0m\u001b[0;34m.\u001b[0m\u001b[0m_iterating\u001b[0m \u001b[0;34m=\u001b[0m \u001b[0mself\u001b[0m\u001b[0;34m.\u001b[0m\u001b[0m_original_iterator\u001b[0m \u001b[0;32mis\u001b[0m \u001b[0;32mnot\u001b[0m \u001b[0;32mNone\u001b[0m\u001b[0;34m\u001b[0m\u001b[0m\n\u001b[1;32m    985\u001b[0m \u001b[0;34m\u001b[0m\u001b[0m\n",
      "\u001b[0;32m~/anaconda3/envs/ml_study/lib/python3.6/site-packages/sklearn/externals/joblib/parallel.py\u001b[0m in \u001b[0;36mdispatch_one_batch\u001b[0;34m(self, iterator)\u001b[0m\n\u001b[1;32m    823\u001b[0m                 \u001b[0;32mreturn\u001b[0m \u001b[0;32mFalse\u001b[0m\u001b[0;34m\u001b[0m\u001b[0m\n\u001b[1;32m    824\u001b[0m             \u001b[0;32melse\u001b[0m\u001b[0;34m:\u001b[0m\u001b[0;34m\u001b[0m\u001b[0m\n\u001b[0;32m--> 825\u001b[0;31m                 \u001b[0mself\u001b[0m\u001b[0;34m.\u001b[0m\u001b[0m_dispatch\u001b[0m\u001b[0;34m(\u001b[0m\u001b[0mtasks\u001b[0m\u001b[0;34m)\u001b[0m\u001b[0;34m\u001b[0m\u001b[0m\n\u001b[0m\u001b[1;32m    826\u001b[0m                 \u001b[0;32mreturn\u001b[0m \u001b[0;32mTrue\u001b[0m\u001b[0;34m\u001b[0m\u001b[0m\n\u001b[1;32m    827\u001b[0m \u001b[0;34m\u001b[0m\u001b[0m\n",
      "\u001b[0;32m~/anaconda3/envs/ml_study/lib/python3.6/site-packages/sklearn/externals/joblib/parallel.py\u001b[0m in \u001b[0;36m_dispatch\u001b[0;34m(self, batch)\u001b[0m\n\u001b[1;32m    780\u001b[0m         \u001b[0;32mwith\u001b[0m \u001b[0mself\u001b[0m\u001b[0;34m.\u001b[0m\u001b[0m_lock\u001b[0m\u001b[0;34m:\u001b[0m\u001b[0;34m\u001b[0m\u001b[0m\n\u001b[1;32m    781\u001b[0m             \u001b[0mjob_idx\u001b[0m \u001b[0;34m=\u001b[0m \u001b[0mlen\u001b[0m\u001b[0;34m(\u001b[0m\u001b[0mself\u001b[0m\u001b[0;34m.\u001b[0m\u001b[0m_jobs\u001b[0m\u001b[0;34m)\u001b[0m\u001b[0;34m\u001b[0m\u001b[0m\n\u001b[0;32m--> 782\u001b[0;31m             \u001b[0mjob\u001b[0m \u001b[0;34m=\u001b[0m \u001b[0mself\u001b[0m\u001b[0;34m.\u001b[0m\u001b[0m_backend\u001b[0m\u001b[0;34m.\u001b[0m\u001b[0mapply_async\u001b[0m\u001b[0;34m(\u001b[0m\u001b[0mbatch\u001b[0m\u001b[0;34m,\u001b[0m \u001b[0mcallback\u001b[0m\u001b[0;34m=\u001b[0m\u001b[0mcb\u001b[0m\u001b[0;34m)\u001b[0m\u001b[0;34m\u001b[0m\u001b[0m\n\u001b[0m\u001b[1;32m    783\u001b[0m             \u001b[0;31m# A job can complete so quickly than its callback is\u001b[0m\u001b[0;34m\u001b[0m\u001b[0;34m\u001b[0m\u001b[0m\n\u001b[1;32m    784\u001b[0m             \u001b[0;31m# called before we get here, causing self._jobs to\u001b[0m\u001b[0;34m\u001b[0m\u001b[0;34m\u001b[0m\u001b[0m\n",
      "\u001b[0;32m~/anaconda3/envs/ml_study/lib/python3.6/site-packages/sklearn/externals/joblib/_parallel_backends.py\u001b[0m in \u001b[0;36mapply_async\u001b[0;34m(self, func, callback)\u001b[0m\n\u001b[1;32m    180\u001b[0m     \u001b[0;32mdef\u001b[0m \u001b[0mapply_async\u001b[0m\u001b[0;34m(\u001b[0m\u001b[0mself\u001b[0m\u001b[0;34m,\u001b[0m \u001b[0mfunc\u001b[0m\u001b[0;34m,\u001b[0m \u001b[0mcallback\u001b[0m\u001b[0;34m=\u001b[0m\u001b[0;32mNone\u001b[0m\u001b[0;34m)\u001b[0m\u001b[0;34m:\u001b[0m\u001b[0;34m\u001b[0m\u001b[0m\n\u001b[1;32m    181\u001b[0m         \u001b[0;34m\"\"\"Schedule a func to be run\"\"\"\u001b[0m\u001b[0;34m\u001b[0m\u001b[0m\n\u001b[0;32m--> 182\u001b[0;31m         \u001b[0mresult\u001b[0m \u001b[0;34m=\u001b[0m \u001b[0mImmediateResult\u001b[0m\u001b[0;34m(\u001b[0m\u001b[0mfunc\u001b[0m\u001b[0;34m)\u001b[0m\u001b[0;34m\u001b[0m\u001b[0m\n\u001b[0m\u001b[1;32m    183\u001b[0m         \u001b[0;32mif\u001b[0m \u001b[0mcallback\u001b[0m\u001b[0;34m:\u001b[0m\u001b[0;34m\u001b[0m\u001b[0m\n\u001b[1;32m    184\u001b[0m             \u001b[0mcallback\u001b[0m\u001b[0;34m(\u001b[0m\u001b[0mresult\u001b[0m\u001b[0;34m)\u001b[0m\u001b[0;34m\u001b[0m\u001b[0m\n",
      "\u001b[0;32m~/anaconda3/envs/ml_study/lib/python3.6/site-packages/sklearn/externals/joblib/_parallel_backends.py\u001b[0m in \u001b[0;36m__init__\u001b[0;34m(self, batch)\u001b[0m\n\u001b[1;32m    543\u001b[0m         \u001b[0;31m# Don't delay the application, to avoid keeping the input\u001b[0m\u001b[0;34m\u001b[0m\u001b[0;34m\u001b[0m\u001b[0m\n\u001b[1;32m    544\u001b[0m         \u001b[0;31m# arguments in memory\u001b[0m\u001b[0;34m\u001b[0m\u001b[0;34m\u001b[0m\u001b[0m\n\u001b[0;32m--> 545\u001b[0;31m         \u001b[0mself\u001b[0m\u001b[0;34m.\u001b[0m\u001b[0mresults\u001b[0m \u001b[0;34m=\u001b[0m \u001b[0mbatch\u001b[0m\u001b[0;34m(\u001b[0m\u001b[0;34m)\u001b[0m\u001b[0;34m\u001b[0m\u001b[0m\n\u001b[0m\u001b[1;32m    546\u001b[0m \u001b[0;34m\u001b[0m\u001b[0m\n\u001b[1;32m    547\u001b[0m     \u001b[0;32mdef\u001b[0m \u001b[0mget\u001b[0m\u001b[0;34m(\u001b[0m\u001b[0mself\u001b[0m\u001b[0;34m)\u001b[0m\u001b[0;34m:\u001b[0m\u001b[0;34m\u001b[0m\u001b[0m\n",
      "\u001b[0;32m~/anaconda3/envs/ml_study/lib/python3.6/site-packages/sklearn/externals/joblib/parallel.py\u001b[0m in \u001b[0;36m__call__\u001b[0;34m(self)\u001b[0m\n\u001b[1;32m    259\u001b[0m         \u001b[0;32mwith\u001b[0m \u001b[0mparallel_backend\u001b[0m\u001b[0;34m(\u001b[0m\u001b[0mself\u001b[0m\u001b[0;34m.\u001b[0m\u001b[0m_backend\u001b[0m\u001b[0;34m)\u001b[0m\u001b[0;34m:\u001b[0m\u001b[0;34m\u001b[0m\u001b[0m\n\u001b[1;32m    260\u001b[0m             return [func(*args, **kwargs)\n\u001b[0;32m--> 261\u001b[0;31m                     for func, args, kwargs in self.items]\n\u001b[0m\u001b[1;32m    262\u001b[0m \u001b[0;34m\u001b[0m\u001b[0m\n\u001b[1;32m    263\u001b[0m     \u001b[0;32mdef\u001b[0m \u001b[0m__len__\u001b[0m\u001b[0;34m(\u001b[0m\u001b[0mself\u001b[0m\u001b[0;34m)\u001b[0m\u001b[0;34m:\u001b[0m\u001b[0;34m\u001b[0m\u001b[0m\n",
      "\u001b[0;32m~/anaconda3/envs/ml_study/lib/python3.6/site-packages/sklearn/externals/joblib/parallel.py\u001b[0m in \u001b[0;36m<listcomp>\u001b[0;34m(.0)\u001b[0m\n\u001b[1;32m    259\u001b[0m         \u001b[0;32mwith\u001b[0m \u001b[0mparallel_backend\u001b[0m\u001b[0;34m(\u001b[0m\u001b[0mself\u001b[0m\u001b[0;34m.\u001b[0m\u001b[0m_backend\u001b[0m\u001b[0;34m)\u001b[0m\u001b[0;34m:\u001b[0m\u001b[0;34m\u001b[0m\u001b[0m\n\u001b[1;32m    260\u001b[0m             return [func(*args, **kwargs)\n\u001b[0;32m--> 261\u001b[0;31m                     for func, args, kwargs in self.items]\n\u001b[0m\u001b[1;32m    262\u001b[0m \u001b[0;34m\u001b[0m\u001b[0m\n\u001b[1;32m    263\u001b[0m     \u001b[0;32mdef\u001b[0m \u001b[0m__len__\u001b[0m\u001b[0;34m(\u001b[0m\u001b[0mself\u001b[0m\u001b[0;34m)\u001b[0m\u001b[0;34m:\u001b[0m\u001b[0;34m\u001b[0m\u001b[0m\n",
      "\u001b[0;31mKeyboardInterrupt\u001b[0m: "
     ]
    }
   ],
   "source": [
    "dense_mat = final_counts.toarray().astype(np.float64)\n",
    "for p in range(10, 61, 10):\n",
    "    genTSNEGif(dense_mat, len(dense_mat), p, range(1000,6001,1000), 'tfidf',closePlt=True)"
   ]
  },
  {
   "cell_type": "markdown",
   "metadata": {},
   "source": [
    "# Word2Vec\n",
    "\n",
    "I am creating vectors having 50 dimensions.\n",
    "Just a random value, not inherent calculation I made on this size decision."
   ]
  },
  {
   "cell_type": "code",
   "execution_count": 20,
   "metadata": {},
   "outputs": [
    {
     "name": "stdout",
     "output_type": "stream",
     "text": [
      "b'purchas marin corp husband put care packag deploy afghanistan deliv day couldnt believ thought email made mistak nope even hour later doorstep talk fast deliveri'\n",
      "500 ['purchas', 'marin', 'corp', 'husband', 'put', 'care', 'packag', 'deploy', 'afghanistan', 'deliv', 'day', 'couldnt', 'believ', 'thought', 'email', 'made', 'mistak', 'nope', 'even', 'hour', 'later', 'doorstep', 'talk', 'fast', 'deliveri']\n"
     ]
    }
   ],
   "source": [
    "# Create List arry for creating own W2V\n",
    "list_of_sent = []\n",
    "for sent in final_reviews['CleanedText'].values:\n",
    "    list_of_sent.append(sent.decode(\"utf-8\").split())\n",
    "    \n",
    "print(final_reviews.CleanedText.values[0])\n",
    "print(len(list_of_sent), list_of_sent[0])"
   ]
  },
  {
   "cell_type": "code",
   "execution_count": 21,
   "metadata": {},
   "outputs": [
    {
     "name": "stdout",
     "output_type": "stream",
     "text": [
      "number of words that occured minimum 5 times :  884\n",
      "sample words  ['purchas', 'husband', 'put', 'care', 'packag', 'deliv', 'day', 'couldnt', 'believ', 'thought', 'made', 'even', 'hour', 'later', 'fast', 'deliveri', 'perfect', 'size', 'nice', 'long', 'last', 'flavor', 'coat', 'doesnt', 'get', 'also', 'first', 'tea', 'restaur', 'order', 'green', 'came', 'pot', 'could', 'smell', 'alreadi', 'fact', 'find', 'tast', 'know', 'like', 'actual', 'usual', 'one', 'expens', 'love', 'experi', 'wish', 'decaf', 'favorit']\n"
     ]
    }
   ],
   "source": [
    "# Required dimension\n",
    "w2v_d = 50\n",
    "\n",
    "# Considering words that are occured atleast 5 times in the corpus\n",
    "w2v_model = Word2Vec(list_of_sent, min_count=5, size=w2v_d, workers=4)\n",
    "\n",
    "w2v_words = list(w2v_model.wv.vocab)\n",
    "print(\"number of words that occured minimum 5 times : \",len(w2v_words))\n",
    "print(\"sample words \", w2v_words[0:50])"
   ]
  },
  {
   "cell_type": "markdown",
   "metadata": {},
   "source": [
    "## Avg-W2V"
   ]
  },
  {
   "cell_type": "code",
   "execution_count": 22,
   "metadata": {},
   "outputs": [
    {
     "name": "stderr",
     "output_type": "stream",
     "text": [
      "100%|##########| 500/500 [00:00<00:00, 1062.10it/s]"
     ]
    },
    {
     "name": "stdout",
     "output_type": "stream",
     "text": [
      "500\n",
      "50\n"
     ]
    },
    {
     "name": "stderr",
     "output_type": "stream",
     "text": [
      "\n"
     ]
    }
   ],
   "source": [
    "# Computing average w2v for each review in selected training dataset\n",
    "review_vectors = []\n",
    "for sent in tqdm(list_of_sent, ascii=True):\n",
    "    sent_vec = np.zeros(w2v_d) # array to hold the vectors. Initially assuming no vectors in this review\n",
    "    no_of_words_in_review = 0 # number of words with valid vector in this review\n",
    "    \n",
    "    # count all the words (that are in w2v model) and take average\n",
    "    for word in sent:\n",
    "        if word in w2v_words:\n",
    "            vec = w2v_model.wv[word]\n",
    "            sent_vec += vec\n",
    "            no_of_words_in_review += 1\n",
    "    if no_of_words_in_review != 0:\n",
    "        sent_vec /= no_of_words_in_review\n",
    "    review_vectors.append(sent_vec)\n",
    "    \n",
    "print(len(review_vectors))\n",
    "print(len(review_vectors[0]))"
   ]
  },
  {
   "cell_type": "code",
   "execution_count": 23,
   "metadata": {},
   "outputs": [
    {
     "name": "stdout",
     "output_type": "stream",
     "text": [
      "No.Of Data Points - 500, Perplexity - 10, Iterations - range(1000, 5001, 1000), ImageName - avg-w2v_tsne_ndp_500_p_10.gif\n",
      "avg-w2v-ndp=500 p=10 itr=1000 ==> t-SNE done! Time elapsed: 2.695676803588867 seconds\n",
      "avg-w2v-ndp=500 p=10 itr=2000 ==> t-SNE done! Time elapsed: 4.945517301559448 seconds\n",
      "avg-w2v-ndp=500 p=10 itr=3000 ==> t-SNE done! Time elapsed: 7.169031143188477 seconds\n",
      "avg-w2v-ndp=500 p=10 itr=4000 ==> t-SNE done! Time elapsed: 9.788629531860352 seconds\n",
      "avg-w2v-ndp=500 p=10 itr=5000 ==> t-SNE done! Time elapsed: 11.720644235610962 seconds\n",
      "No.Of Data Points - 500, Perplexity - 20, Iterations - range(1000, 5001, 1000), ImageName - avg-w2v_tsne_ndp_500_p_20.gif\n",
      "avg-w2v-ndp=500 p=20 itr=1000 ==> t-SNE done! Time elapsed: 2.78783917427063 seconds\n",
      "avg-w2v-ndp=500 p=20 itr=2000 ==> t-SNE done! Time elapsed: 5.255230665206909 seconds\n",
      "avg-w2v-ndp=500 p=20 itr=3000 ==> t-SNE done! Time elapsed: 7.647207021713257 seconds\n",
      "avg-w2v-ndp=500 p=20 itr=4000 ==> t-SNE done! Time elapsed: 8.59337592124939 seconds\n",
      "avg-w2v-ndp=500 p=20 itr=5000 ==> t-SNE done! Time elapsed: 8.381384134292603 seconds\n",
      "No.Of Data Points - 500, Perplexity - 30, Iterations - range(1000, 5001, 1000), ImageName - avg-w2v_tsne_ndp_500_p_30.gif\n",
      "avg-w2v-ndp=500 p=30 itr=1000 ==> t-SNE done! Time elapsed: 3.1816389560699463 seconds\n",
      "avg-w2v-ndp=500 p=30 itr=2000 ==> t-SNE done! Time elapsed: 6.156204700469971 seconds\n",
      "avg-w2v-ndp=500 p=30 itr=3000 ==> t-SNE done! Time elapsed: 9.112237215042114 seconds\n",
      "avg-w2v-ndp=500 p=30 itr=4000 ==> t-SNE done! Time elapsed: 11.321281671524048 seconds\n",
      "avg-w2v-ndp=500 p=30 itr=5000 ==> t-SNE done! Time elapsed: 11.349352598190308 seconds\n",
      "No.Of Data Points - 500, Perplexity - 40, Iterations - range(1000, 5001, 1000), ImageName - avg-w2v_tsne_ndp_500_p_40.gif\n",
      "avg-w2v-ndp=500 p=40 itr=1000 ==> t-SNE done! Time elapsed: 3.2230210304260254 seconds\n",
      "avg-w2v-ndp=500 p=40 itr=2000 ==> t-SNE done! Time elapsed: 6.201868057250977 seconds\n",
      "avg-w2v-ndp=500 p=40 itr=3000 ==> t-SNE done! Time elapsed: 9.366081237792969 seconds\n",
      "avg-w2v-ndp=500 p=40 itr=4000 ==> t-SNE done! Time elapsed: 12.70339322090149 seconds\n",
      "avg-w2v-ndp=500 p=40 itr=5000 ==> t-SNE done! Time elapsed: 16.11518144607544 seconds\n",
      "No.Of Data Points - 500, Perplexity - 50, Iterations - range(1000, 5001, 1000), ImageName - avg-w2v_tsne_ndp_500_p_50.gif\n",
      "avg-w2v-ndp=500 p=50 itr=1000 ==> t-SNE done! Time elapsed: 3.585568428039551 seconds\n",
      "avg-w2v-ndp=500 p=50 itr=2000 ==> t-SNE done! Time elapsed: 6.977082014083862 seconds\n",
      "avg-w2v-ndp=500 p=50 itr=3000 ==> t-SNE done! Time elapsed: 10.204594135284424 seconds\n",
      "avg-w2v-ndp=500 p=50 itr=4000 ==> t-SNE done! Time elapsed: 11.217078447341919 seconds\n",
      "avg-w2v-ndp=500 p=50 itr=5000 ==> t-SNE done! Time elapsed: 11.249882936477661 seconds\n",
      "No.Of Data Points - 500, Perplexity - 60, Iterations - range(1000, 5001, 1000), ImageName - avg-w2v_tsne_ndp_500_p_60.gif\n",
      "avg-w2v-ndp=500 p=60 itr=1000 ==> t-SNE done! Time elapsed: 4.143369913101196 seconds\n",
      "avg-w2v-ndp=500 p=60 itr=2000 ==> t-SNE done! Time elapsed: 6.533319473266602 seconds\n",
      "avg-w2v-ndp=500 p=60 itr=3000 ==> t-SNE done! Time elapsed: 6.431298732757568 seconds\n",
      "avg-w2v-ndp=500 p=60 itr=4000 ==> t-SNE done! Time elapsed: 6.622186183929443 seconds\n",
      "avg-w2v-ndp=500 p=60 itr=5000 ==> t-SNE done! Time elapsed: 6.493930101394653 seconds\n",
      "No.Of Data Points - 500, Perplexity - 70, Iterations - range(1000, 5001, 1000), ImageName - avg-w2v_tsne_ndp_500_p_70.gif\n",
      "avg-w2v-ndp=500 p=70 itr=1000 ==> t-SNE done! Time elapsed: 4.291093111038208 seconds\n",
      "avg-w2v-ndp=500 p=70 itr=2000 ==> t-SNE done! Time elapsed: 5.5432984828948975 seconds\n",
      "avg-w2v-ndp=500 p=70 itr=3000 ==> t-SNE done! Time elapsed: 5.562952518463135 seconds\n",
      "avg-w2v-ndp=500 p=70 itr=4000 ==> t-SNE done! Time elapsed: 5.520572900772095 seconds\n",
      "avg-w2v-ndp=500 p=70 itr=5000 ==> t-SNE done! Time elapsed: 5.519697666168213 seconds\n",
      "No.Of Data Points - 500, Perplexity - 80, Iterations - range(1000, 5001, 1000), ImageName - avg-w2v_tsne_ndp_500_p_80.gif\n",
      "avg-w2v-ndp=500 p=80 itr=1000 ==> t-SNE done! Time elapsed: 4.289063215255737 seconds\n",
      "avg-w2v-ndp=500 p=80 itr=2000 ==> t-SNE done! Time elapsed: 5.180687189102173 seconds\n",
      "avg-w2v-ndp=500 p=80 itr=3000 ==> t-SNE done! Time elapsed: 5.191259860992432 seconds\n",
      "avg-w2v-ndp=500 p=80 itr=4000 ==> t-SNE done! Time elapsed: 5.221221446990967 seconds\n",
      "avg-w2v-ndp=500 p=80 itr=5000 ==> t-SNE done! Time elapsed: 5.2324018478393555 seconds\n",
      "No.Of Data Points - 500, Perplexity - 90, Iterations - range(1000, 5001, 1000), ImageName - avg-w2v_tsne_ndp_500_p_90.gif\n"
     ]
    },
    {
     "name": "stderr",
     "output_type": "stream",
     "text": [
      "/home/shin/anaconda3/envs/ml_study/lib/python3.6/site-packages/sklearn/neighbors/base.py:316: RuntimeWarning: invalid value encountered in sqrt\n",
      "  result = np.sqrt(dist[sample_range, neigh_ind]), neigh_ind\n"
     ]
    },
    {
     "name": "stdout",
     "output_type": "stream",
     "text": [
      "avg-w2v-ndp=500 p=90 itr=1000 ==> t-SNE done! Time elapsed: 3.7089908123016357 seconds\n"
     ]
    },
    {
     "name": "stderr",
     "output_type": "stream",
     "text": [
      "/home/shin/anaconda3/envs/ml_study/lib/python3.6/site-packages/sklearn/neighbors/base.py:316: RuntimeWarning: invalid value encountered in sqrt\n",
      "  result = np.sqrt(dist[sample_range, neigh_ind]), neigh_ind\n"
     ]
    },
    {
     "name": "stdout",
     "output_type": "stream",
     "text": [
      "avg-w2v-ndp=500 p=90 itr=2000 ==> t-SNE done! Time elapsed: 3.550213098526001 seconds\n"
     ]
    },
    {
     "name": "stderr",
     "output_type": "stream",
     "text": [
      "/home/shin/anaconda3/envs/ml_study/lib/python3.6/site-packages/sklearn/neighbors/base.py:316: RuntimeWarning: invalid value encountered in sqrt\n",
      "  result = np.sqrt(dist[sample_range, neigh_ind]), neigh_ind\n"
     ]
    },
    {
     "name": "stdout",
     "output_type": "stream",
     "text": [
      "avg-w2v-ndp=500 p=90 itr=3000 ==> t-SNE done! Time elapsed: 3.5614142417907715 seconds\n"
     ]
    },
    {
     "name": "stderr",
     "output_type": "stream",
     "text": [
      "/home/shin/anaconda3/envs/ml_study/lib/python3.6/site-packages/sklearn/neighbors/base.py:316: RuntimeWarning: invalid value encountered in sqrt\n",
      "  result = np.sqrt(dist[sample_range, neigh_ind]), neigh_ind\n"
     ]
    },
    {
     "name": "stdout",
     "output_type": "stream",
     "text": [
      "avg-w2v-ndp=500 p=90 itr=4000 ==> t-SNE done! Time elapsed: 3.559083938598633 seconds\n"
     ]
    },
    {
     "name": "stderr",
     "output_type": "stream",
     "text": [
      "/home/shin/anaconda3/envs/ml_study/lib/python3.6/site-packages/sklearn/neighbors/base.py:316: RuntimeWarning: invalid value encountered in sqrt\n",
      "  result = np.sqrt(dist[sample_range, neigh_ind]), neigh_ind\n"
     ]
    },
    {
     "name": "stdout",
     "output_type": "stream",
     "text": [
      "avg-w2v-ndp=500 p=90 itr=5000 ==> t-SNE done! Time elapsed: 3.5471158027648926 seconds\n",
      "No.Of Data Points - 500, Perplexity - 100, Iterations - range(1000, 5001, 1000), ImageName - avg-w2v_tsne_ndp_500_p_100.gif\n"
     ]
    },
    {
     "name": "stderr",
     "output_type": "stream",
     "text": [
      "/home/shin/anaconda3/envs/ml_study/lib/python3.6/site-packages/sklearn/neighbors/base.py:316: RuntimeWarning: invalid value encountered in sqrt\n",
      "  result = np.sqrt(dist[sample_range, neigh_ind]), neigh_ind\n"
     ]
    },
    {
     "name": "stdout",
     "output_type": "stream",
     "text": [
      "avg-w2v-ndp=500 p=100 itr=1000 ==> t-SNE done! Time elapsed: 3.695096015930176 seconds\n"
     ]
    },
    {
     "name": "stderr",
     "output_type": "stream",
     "text": [
      "/home/shin/anaconda3/envs/ml_study/lib/python3.6/site-packages/sklearn/neighbors/base.py:316: RuntimeWarning: invalid value encountered in sqrt\n",
      "  result = np.sqrt(dist[sample_range, neigh_ind]), neigh_ind\n"
     ]
    },
    {
     "name": "stdout",
     "output_type": "stream",
     "text": [
      "avg-w2v-ndp=500 p=100 itr=2000 ==> t-SNE done! Time elapsed: 3.6859006881713867 seconds\n"
     ]
    },
    {
     "name": "stderr",
     "output_type": "stream",
     "text": [
      "/home/shin/anaconda3/envs/ml_study/lib/python3.6/site-packages/sklearn/neighbors/base.py:316: RuntimeWarning: invalid value encountered in sqrt\n",
      "  result = np.sqrt(dist[sample_range, neigh_ind]), neigh_ind\n"
     ]
    },
    {
     "name": "stdout",
     "output_type": "stream",
     "text": [
      "avg-w2v-ndp=500 p=100 itr=3000 ==> t-SNE done! Time elapsed: 3.707569122314453 seconds\n"
     ]
    },
    {
     "name": "stderr",
     "output_type": "stream",
     "text": [
      "/home/shin/anaconda3/envs/ml_study/lib/python3.6/site-packages/sklearn/neighbors/base.py:316: RuntimeWarning: invalid value encountered in sqrt\n",
      "  result = np.sqrt(dist[sample_range, neigh_ind]), neigh_ind\n"
     ]
    },
    {
     "name": "stdout",
     "output_type": "stream",
     "text": [
      "avg-w2v-ndp=500 p=100 itr=4000 ==> t-SNE done! Time elapsed: 3.692902088165283 seconds\n"
     ]
    },
    {
     "name": "stderr",
     "output_type": "stream",
     "text": [
      "/home/shin/anaconda3/envs/ml_study/lib/python3.6/site-packages/sklearn/neighbors/base.py:316: RuntimeWarning: invalid value encountered in sqrt\n",
      "  result = np.sqrt(dist[sample_range, neigh_ind]), neigh_ind\n"
     ]
    },
    {
     "name": "stdout",
     "output_type": "stream",
     "text": [
      "avg-w2v-ndp=500 p=100 itr=5000 ==> t-SNE done! Time elapsed: 3.7627687454223633 seconds\n"
     ]
    }
   ],
   "source": [
    "# t-SNE using Average Word2Vec\n",
    "\n",
    "#genTSNEGif(review_vectors, len(review_vectors), 30, range(1000,10001,1000), 'avg-w2v')\n",
    "\n",
    "for p in range(10, 101, 10):\n",
    "    genTSNEGif(review_vectors, len(review_vectors), p, range(1000,5001,1000), 'avg-w2v',closePlt=True)"
   ]
  },
  {
   "cell_type": "markdown",
   "metadata": {
    "toc-hr-collapsed": true
   },
   "source": [
    "## TFIDF Weighted W2V\n",
    "\n",
    "Computing tfidf weighted w2v over the selected training dataset"
   ]
  },
  {
   "cell_type": "code",
   "execution_count": 24,
   "metadata": {},
   "outputs": [
    {
     "data": {
      "text/plain": [
       "19908"
      ]
     },
     "execution_count": 24,
     "metadata": {},
     "output_type": "execute_result"
    }
   ],
   "source": [
    "# Create tf-idf vector matrix\n",
    "tf_idf_model = TfidfVectorizer(ngram_range=(1,2))\n",
    "tf_idf_matrix = tf_idf_model.fit_transform(final_reviews['CleanedText'].values)\n",
    "\n",
    "# Create dictionary having words (features) as keys, its tf-idf values as values\n",
    "tf_idf_dict = dict(zip(tf_idf_model.get_feature_names(), list(tf_idf_model.idf_)))\n",
    "len(tf_idf_dict)"
   ]
  },
  {
   "cell_type": "code",
   "execution_count": 25,
   "metadata": {},
   "outputs": [
    {
     "name": "stderr",
     "output_type": "stream",
     "text": [
      "100%|##########| 500/500 [00:00<00:00, 831.26it/s]"
     ]
    },
    {
     "name": "stdout",
     "output_type": "stream",
     "text": [
      "500\n",
      "50\n"
     ]
    },
    {
     "name": "stderr",
     "output_type": "stream",
     "text": [
      "\n"
     ]
    }
   ],
   "source": [
    "tf_idf_feat = tf_idf_model.get_feature_names()\n",
    "\n",
    "# Computing tf-idf weighted w2v for each review in selected training dataset\n",
    "review_vectors = []\n",
    "for sent in tqdm(list_of_sent, ascii=True):\n",
    "    sent_vec = np.zeros(w2v_d) # array to hold the vectors\n",
    "    no_of_words_in_review = 0 # number of words with valid vector in this review\n",
    "    \n",
    "    # count all the words (that are in w2v model) and take average\n",
    "    for word in sent:\n",
    "        if word in w2v_words:\n",
    "            vec = w2v_model.wv[word]\n",
    "            # calculate tf-idf weighted w2v value for this word\n",
    "            tf_idf = tf_idf_dict[word] * (sent.count(word)/len(sent))\n",
    "            sent_vec += (vec * tf_idf)\n",
    "            no_of_words_in_review += 1\n",
    "    if no_of_words_in_review != 0:\n",
    "        sent_vec /= no_of_words_in_review\n",
    "    review_vectors.append(sent_vec)\n",
    "    \n",
    "print(len(review_vectors))\n",
    "print(len(review_vectors[0]))"
   ]
  },
  {
   "cell_type": "code",
   "execution_count": 26,
   "metadata": {},
   "outputs": [
    {
     "name": "stdout",
     "output_type": "stream",
     "text": [
      "No.Of Data Points - 500, Perplexity - 10, Iterations - range(1000, 5001, 1000), ImageName - tfidf-weighted-w2v_tsne_ndp_500_p_10.gif\n",
      "tfidf-weighted-w2v-ndp=500 p=10 itr=1000 ==> t-SNE done! Time elapsed: 2.5075390338897705 seconds\n",
      "tfidf-weighted-w2v-ndp=500 p=10 itr=2000 ==> t-SNE done! Time elapsed: 4.713393211364746 seconds\n",
      "tfidf-weighted-w2v-ndp=500 p=10 itr=3000 ==> t-SNE done! Time elapsed: 6.844162702560425 seconds\n",
      "tfidf-weighted-w2v-ndp=500 p=10 itr=4000 ==> t-SNE done! Time elapsed: 9.025461196899414 seconds\n",
      "tfidf-weighted-w2v-ndp=500 p=10 itr=5000 ==> t-SNE done! Time elapsed: 11.266832113265991 seconds\n",
      "No.Of Data Points - 500, Perplexity - 20, Iterations - range(1000, 5001, 1000), ImageName - tfidf-weighted-w2v_tsne_ndp_500_p_20.gif\n",
      "tfidf-weighted-w2v-ndp=500 p=20 itr=1000 ==> t-SNE done! Time elapsed: 2.715935468673706 seconds\n",
      "tfidf-weighted-w2v-ndp=500 p=20 itr=2000 ==> t-SNE done! Time elapsed: 4.954932928085327 seconds\n",
      "tfidf-weighted-w2v-ndp=500 p=20 itr=3000 ==> t-SNE done! Time elapsed: 7.181711435317993 seconds\n",
      "tfidf-weighted-w2v-ndp=500 p=20 itr=4000 ==> t-SNE done! Time elapsed: 9.274171590805054 seconds\n",
      "tfidf-weighted-w2v-ndp=500 p=20 itr=5000 ==> t-SNE done! Time elapsed: 9.258382320404053 seconds\n",
      "No.Of Data Points - 500, Perplexity - 30, Iterations - range(1000, 5001, 1000), ImageName - tfidf-weighted-w2v_tsne_ndp_500_p_30.gif\n",
      "tfidf-weighted-w2v-ndp=500 p=30 itr=1000 ==> t-SNE done! Time elapsed: 3.1726553440093994 seconds\n",
      "tfidf-weighted-w2v-ndp=500 p=30 itr=2000 ==> t-SNE done! Time elapsed: 6.342355728149414 seconds\n",
      "tfidf-weighted-w2v-ndp=500 p=30 itr=3000 ==> t-SNE done! Time elapsed: 9.66136884689331 seconds\n",
      "tfidf-weighted-w2v-ndp=500 p=30 itr=4000 ==> t-SNE done! Time elapsed: 12.984240293502808 seconds\n",
      "tfidf-weighted-w2v-ndp=500 p=30 itr=5000 ==> t-SNE done! Time elapsed: 13.600743770599365 seconds\n",
      "No.Of Data Points - 500, Perplexity - 40, Iterations - range(1000, 5001, 1000), ImageName - tfidf-weighted-w2v_tsne_ndp_500_p_40.gif\n",
      "tfidf-weighted-w2v-ndp=500 p=40 itr=1000 ==> t-SNE done! Time elapsed: 3.2050914764404297 seconds\n",
      "tfidf-weighted-w2v-ndp=500 p=40 itr=2000 ==> t-SNE done! Time elapsed: 6.1780688762664795 seconds\n",
      "tfidf-weighted-w2v-ndp=500 p=40 itr=3000 ==> t-SNE done! Time elapsed: 8.903522253036499 seconds\n",
      "tfidf-weighted-w2v-ndp=500 p=40 itr=4000 ==> t-SNE done! Time elapsed: 9.247819900512695 seconds\n",
      "tfidf-weighted-w2v-ndp=500 p=40 itr=5000 ==> t-SNE done! Time elapsed: 9.498867511749268 seconds\n",
      "No.Of Data Points - 500, Perplexity - 50, Iterations - range(1000, 5001, 1000), ImageName - tfidf-weighted-w2v_tsne_ndp_500_p_50.gif\n",
      "tfidf-weighted-w2v-ndp=500 p=50 itr=1000 ==> t-SNE done! Time elapsed: 3.792397975921631 seconds\n",
      "tfidf-weighted-w2v-ndp=500 p=50 itr=2000 ==> t-SNE done! Time elapsed: 7.169574737548828 seconds\n",
      "tfidf-weighted-w2v-ndp=500 p=50 itr=3000 ==> t-SNE done! Time elapsed: 10.625329494476318 seconds\n",
      "tfidf-weighted-w2v-ndp=500 p=50 itr=4000 ==> t-SNE done! Time elapsed: 12.24459195137024 seconds\n",
      "tfidf-weighted-w2v-ndp=500 p=50 itr=5000 ==> t-SNE done! Time elapsed: 11.952564239501953 seconds\n",
      "No.Of Data Points - 500, Perplexity - 60, Iterations - range(1000, 5001, 1000), ImageName - tfidf-weighted-w2v_tsne_ndp_500_p_60.gif\n",
      "tfidf-weighted-w2v-ndp=500 p=60 itr=1000 ==> t-SNE done! Time elapsed: 3.899441719055176 seconds\n",
      "tfidf-weighted-w2v-ndp=500 p=60 itr=2000 ==> t-SNE done! Time elapsed: 7.253939151763916 seconds\n",
      "tfidf-weighted-w2v-ndp=500 p=60 itr=3000 ==> t-SNE done! Time elapsed: 7.49826192855835 seconds\n",
      "tfidf-weighted-w2v-ndp=500 p=60 itr=4000 ==> t-SNE done! Time elapsed: 7.470948934555054 seconds\n",
      "tfidf-weighted-w2v-ndp=500 p=60 itr=5000 ==> t-SNE done! Time elapsed: 7.301303386688232 seconds\n",
      "No.Of Data Points - 500, Perplexity - 70, Iterations - range(1000, 5001, 1000), ImageName - tfidf-weighted-w2v_tsne_ndp_500_p_70.gif\n",
      "tfidf-weighted-w2v-ndp=500 p=70 itr=1000 ==> t-SNE done! Time elapsed: 4.374642372131348 seconds\n",
      "tfidf-weighted-w2v-ndp=500 p=70 itr=2000 ==> t-SNE done! Time elapsed: 5.161747455596924 seconds\n",
      "tfidf-weighted-w2v-ndp=500 p=70 itr=3000 ==> t-SNE done! Time elapsed: 4.979130029678345 seconds\n",
      "tfidf-weighted-w2v-ndp=500 p=70 itr=4000 ==> t-SNE done! Time elapsed: 4.946432590484619 seconds\n",
      "tfidf-weighted-w2v-ndp=500 p=70 itr=5000 ==> t-SNE done! Time elapsed: 5.052804946899414 seconds\n",
      "No.Of Data Points - 500, Perplexity - 80, Iterations - range(1000, 5001, 1000), ImageName - tfidf-weighted-w2v_tsne_ndp_500_p_80.gif\n",
      "tfidf-weighted-w2v-ndp=500 p=80 itr=1000 ==> t-SNE done! Time elapsed: 4.954975128173828 seconds\n",
      "tfidf-weighted-w2v-ndp=500 p=80 itr=2000 ==> t-SNE done! Time elapsed: 9.083971738815308 seconds\n",
      "tfidf-weighted-w2v-ndp=500 p=80 itr=3000 ==> t-SNE done! Time elapsed: 8.615956544876099 seconds\n",
      "tfidf-weighted-w2v-ndp=500 p=80 itr=4000 ==> t-SNE done! Time elapsed: 8.18886113166809 seconds\n",
      "tfidf-weighted-w2v-ndp=500 p=80 itr=5000 ==> t-SNE done! Time elapsed: 8.209148645401001 seconds\n",
      "No.Of Data Points - 500, Perplexity - 90, Iterations - range(1000, 5001, 1000), ImageName - tfidf-weighted-w2v_tsne_ndp_500_p_90.gif\n"
     ]
    },
    {
     "name": "stderr",
     "output_type": "stream",
     "text": [
      "/home/shin/anaconda3/envs/ml_study/lib/python3.6/site-packages/sklearn/neighbors/base.py:316: RuntimeWarning: invalid value encountered in sqrt\n",
      "  result = np.sqrt(dist[sample_range, neigh_ind]), neigh_ind\n"
     ]
    },
    {
     "name": "stdout",
     "output_type": "stream",
     "text": [
      "tfidf-weighted-w2v-ndp=500 p=90 itr=1000 ==> t-SNE done! Time elapsed: 4.156220197677612 seconds\n"
     ]
    },
    {
     "name": "stderr",
     "output_type": "stream",
     "text": [
      "/home/shin/anaconda3/envs/ml_study/lib/python3.6/site-packages/sklearn/neighbors/base.py:316: RuntimeWarning: invalid value encountered in sqrt\n",
      "  result = np.sqrt(dist[sample_range, neigh_ind]), neigh_ind\n"
     ]
    },
    {
     "name": "stdout",
     "output_type": "stream",
     "text": [
      "tfidf-weighted-w2v-ndp=500 p=90 itr=2000 ==> t-SNE done! Time elapsed: 4.141205072402954 seconds\n"
     ]
    },
    {
     "name": "stderr",
     "output_type": "stream",
     "text": [
      "/home/shin/anaconda3/envs/ml_study/lib/python3.6/site-packages/sklearn/neighbors/base.py:316: RuntimeWarning: invalid value encountered in sqrt\n",
      "  result = np.sqrt(dist[sample_range, neigh_ind]), neigh_ind\n"
     ]
    },
    {
     "name": "stdout",
     "output_type": "stream",
     "text": [
      "tfidf-weighted-w2v-ndp=500 p=90 itr=3000 ==> t-SNE done! Time elapsed: 4.069101095199585 seconds\n"
     ]
    },
    {
     "name": "stderr",
     "output_type": "stream",
     "text": [
      "/home/shin/anaconda3/envs/ml_study/lib/python3.6/site-packages/sklearn/neighbors/base.py:316: RuntimeWarning: invalid value encountered in sqrt\n",
      "  result = np.sqrt(dist[sample_range, neigh_ind]), neigh_ind\n"
     ]
    },
    {
     "name": "stdout",
     "output_type": "stream",
     "text": [
      "tfidf-weighted-w2v-ndp=500 p=90 itr=4000 ==> t-SNE done! Time elapsed: 4.1565775871276855 seconds\n"
     ]
    },
    {
     "name": "stderr",
     "output_type": "stream",
     "text": [
      "/home/shin/anaconda3/envs/ml_study/lib/python3.6/site-packages/sklearn/neighbors/base.py:316: RuntimeWarning: invalid value encountered in sqrt\n",
      "  result = np.sqrt(dist[sample_range, neigh_ind]), neigh_ind\n"
     ]
    },
    {
     "name": "stdout",
     "output_type": "stream",
     "text": [
      "tfidf-weighted-w2v-ndp=500 p=90 itr=5000 ==> t-SNE done! Time elapsed: 4.461912155151367 seconds\n",
      "No.Of Data Points - 500, Perplexity - 100, Iterations - range(1000, 5001, 1000), ImageName - tfidf-weighted-w2v_tsne_ndp_500_p_100.gif\n"
     ]
    },
    {
     "name": "stderr",
     "output_type": "stream",
     "text": [
      "/home/shin/anaconda3/envs/ml_study/lib/python3.6/site-packages/sklearn/neighbors/base.py:316: RuntimeWarning: invalid value encountered in sqrt\n",
      "  result = np.sqrt(dist[sample_range, neigh_ind]), neigh_ind\n"
     ]
    },
    {
     "name": "stdout",
     "output_type": "stream",
     "text": [
      "tfidf-weighted-w2v-ndp=500 p=100 itr=1000 ==> t-SNE done! Time elapsed: 5.4860756397247314 seconds\n"
     ]
    },
    {
     "name": "stderr",
     "output_type": "stream",
     "text": [
      "/home/shin/anaconda3/envs/ml_study/lib/python3.6/site-packages/sklearn/neighbors/base.py:316: RuntimeWarning: invalid value encountered in sqrt\n",
      "  result = np.sqrt(dist[sample_range, neigh_ind]), neigh_ind\n"
     ]
    },
    {
     "name": "stdout",
     "output_type": "stream",
     "text": [
      "tfidf-weighted-w2v-ndp=500 p=100 itr=2000 ==> t-SNE done! Time elapsed: 5.561805248260498 seconds\n"
     ]
    },
    {
     "name": "stderr",
     "output_type": "stream",
     "text": [
      "/home/shin/anaconda3/envs/ml_study/lib/python3.6/site-packages/sklearn/neighbors/base.py:316: RuntimeWarning: invalid value encountered in sqrt\n",
      "  result = np.sqrt(dist[sample_range, neigh_ind]), neigh_ind\n"
     ]
    },
    {
     "name": "stdout",
     "output_type": "stream",
     "text": [
      "tfidf-weighted-w2v-ndp=500 p=100 itr=3000 ==> t-SNE done! Time elapsed: 5.460094928741455 seconds\n"
     ]
    },
    {
     "name": "stderr",
     "output_type": "stream",
     "text": [
      "/home/shin/anaconda3/envs/ml_study/lib/python3.6/site-packages/sklearn/neighbors/base.py:316: RuntimeWarning: invalid value encountered in sqrt\n",
      "  result = np.sqrt(dist[sample_range, neigh_ind]), neigh_ind\n"
     ]
    },
    {
     "name": "stdout",
     "output_type": "stream",
     "text": [
      "tfidf-weighted-w2v-ndp=500 p=100 itr=4000 ==> t-SNE done! Time elapsed: 5.468733072280884 seconds\n"
     ]
    },
    {
     "name": "stderr",
     "output_type": "stream",
     "text": [
      "/home/shin/anaconda3/envs/ml_study/lib/python3.6/site-packages/sklearn/neighbors/base.py:316: RuntimeWarning: invalid value encountered in sqrt\n",
      "  result = np.sqrt(dist[sample_range, neigh_ind]), neigh_ind\n"
     ]
    },
    {
     "name": "stdout",
     "output_type": "stream",
     "text": [
      "tfidf-weighted-w2v-ndp=500 p=100 itr=5000 ==> t-SNE done! Time elapsed: 5.332413673400879 seconds\n"
     ]
    }
   ],
   "source": [
    "# t-SNE using tf-idf weighted s2v\n",
    "\n",
    "for p in range(10, 101, 10):\n",
    "    genTSNEGif(review_vectors, len(review_vectors), p, range(1000,5001,1000), 'tfidf-weighted-w2v',closePlt=True)"
   ]
  },
  {
   "cell_type": "code",
   "execution_count": null,
   "metadata": {},
   "outputs": [],
   "source": []
  }
 ],
 "metadata": {
  "kernelspec": {
   "display_name": "Python [default]",
   "language": "python",
   "name": "python3"
  },
  "language_info": {
   "codemirror_mode": {
    "name": "ipython",
    "version": 3
   },
   "file_extension": ".py",
   "mimetype": "text/x-python",
   "name": "python",
   "nbconvert_exporter": "python",
   "pygments_lexer": "ipython3",
   "version": "3.6.6"
  },
  "toc-autonumbering": true
 },
 "nbformat": 4,
 "nbformat_minor": 2
}
