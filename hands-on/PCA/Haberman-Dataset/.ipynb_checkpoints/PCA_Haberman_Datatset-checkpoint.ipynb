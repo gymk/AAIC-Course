{
 "cells": [
  {
   "cell_type": "markdown",
   "metadata": {},
   "source": [
    "# PCA on Haberman Dataset\n",
    "\n",
    "__Why__ to have handon on PCA\n",
    "\n",
    "__Reference__ None, doing by selecting some dataset (AAIC EDA used this dataset, comfortable for me, so chose this)\n",
    "\n",
    "__data__ from https://www.kaggle.com/gilsousa/habermans-survival-data-set"
   ]
  },
  {
   "cell_type": "code",
   "execution_count": 1,
   "metadata": {},
   "outputs": [],
   "source": [
    "import numpy as np # for Matrix handling\n",
    "import pandas as pd # for handling dataset\n",
    "import matplotlib.pyplot as plt # for scatter plot surface\n",
    "import seaborn as sns # for scatter plot\n",
    "from sklearn.preprocessing import StandardScaler # for column standardization\n",
    "from scipy.linalg import eigh # for computing eigen values/vectors"
   ]
  },
  {
   "cell_type": "markdown",
   "metadata": {},
   "source": [
    "## Load the dataset"
   ]
  },
  {
   "cell_type": "code",
   "execution_count": 2,
   "metadata": {},
   "outputs": [
    {
     "data": {
      "text/html": [
       "<div>\n",
       "<style scoped>\n",
       "    .dataframe tbody tr th:only-of-type {\n",
       "        vertical-align: middle;\n",
       "    }\n",
       "\n",
       "    .dataframe tbody tr th {\n",
       "        vertical-align: top;\n",
       "    }\n",
       "\n",
       "    .dataframe thead th {\n",
       "        text-align: right;\n",
       "    }\n",
       "</style>\n",
       "<table border=\"1\" class=\"dataframe\">\n",
       "  <thead>\n",
       "    <tr style=\"text-align: right;\">\n",
       "      <th></th>\n",
       "      <th>Age</th>\n",
       "      <th>YearOfOp</th>\n",
       "      <th>Nodes</th>\n",
       "      <th>SurvivalStatus</th>\n",
       "    </tr>\n",
       "  </thead>\n",
       "  <tbody>\n",
       "    <tr>\n",
       "      <th>0</th>\n",
       "      <td>30</td>\n",
       "      <td>64</td>\n",
       "      <td>1</td>\n",
       "      <td>1</td>\n",
       "    </tr>\n",
       "    <tr>\n",
       "      <th>1</th>\n",
       "      <td>30</td>\n",
       "      <td>62</td>\n",
       "      <td>3</td>\n",
       "      <td>1</td>\n",
       "    </tr>\n",
       "    <tr>\n",
       "      <th>2</th>\n",
       "      <td>30</td>\n",
       "      <td>65</td>\n",
       "      <td>0</td>\n",
       "      <td>1</td>\n",
       "    </tr>\n",
       "    <tr>\n",
       "      <th>3</th>\n",
       "      <td>31</td>\n",
       "      <td>59</td>\n",
       "      <td>2</td>\n",
       "      <td>1</td>\n",
       "    </tr>\n",
       "    <tr>\n",
       "      <th>4</th>\n",
       "      <td>31</td>\n",
       "      <td>65</td>\n",
       "      <td>4</td>\n",
       "      <td>1</td>\n",
       "    </tr>\n",
       "  </tbody>\n",
       "</table>\n",
       "</div>"
      ],
      "text/plain": [
       "   Age  YearOfOp  Nodes  SurvivalStatus\n",
       "0   30        64      1               1\n",
       "1   30        62      3               1\n",
       "2   30        65      0               1\n",
       "3   31        59      2               1\n",
       "4   31        65      4               1"
      ]
     },
     "execution_count": 2,
     "metadata": {},
     "output_type": "execute_result"
    }
   ],
   "source": [
    "df = pd.read_csv('../../../datasets/haberman-dataset/haberman.csv', names=['Age', 'YearOfOp', 'Nodes', 'SurvivalStatus'])\n",
    "df.head()"
   ]
  },
  {
   "cell_type": "code",
   "execution_count": 3,
   "metadata": {},
   "outputs": [
    {
     "data": {
      "text/html": [
       "<div>\n",
       "<style scoped>\n",
       "    .dataframe tbody tr th:only-of-type {\n",
       "        vertical-align: middle;\n",
       "    }\n",
       "\n",
       "    .dataframe tbody tr th {\n",
       "        vertical-align: top;\n",
       "    }\n",
       "\n",
       "    .dataframe thead th {\n",
       "        text-align: right;\n",
       "    }\n",
       "</style>\n",
       "<table border=\"1\" class=\"dataframe\">\n",
       "  <thead>\n",
       "    <tr style=\"text-align: right;\">\n",
       "      <th></th>\n",
       "      <th>Age</th>\n",
       "      <th>YearOfOp</th>\n",
       "      <th>Nodes</th>\n",
       "      <th>SurvivalStatus</th>\n",
       "    </tr>\n",
       "  </thead>\n",
       "  <tbody>\n",
       "    <tr>\n",
       "      <th>count</th>\n",
       "      <td>306.000000</td>\n",
       "      <td>306.000000</td>\n",
       "      <td>306.000000</td>\n",
       "      <td>306.000000</td>\n",
       "    </tr>\n",
       "    <tr>\n",
       "      <th>mean</th>\n",
       "      <td>52.457516</td>\n",
       "      <td>62.852941</td>\n",
       "      <td>4.026144</td>\n",
       "      <td>1.264706</td>\n",
       "    </tr>\n",
       "    <tr>\n",
       "      <th>std</th>\n",
       "      <td>10.803452</td>\n",
       "      <td>3.249405</td>\n",
       "      <td>7.189654</td>\n",
       "      <td>0.441899</td>\n",
       "    </tr>\n",
       "    <tr>\n",
       "      <th>min</th>\n",
       "      <td>30.000000</td>\n",
       "      <td>58.000000</td>\n",
       "      <td>0.000000</td>\n",
       "      <td>1.000000</td>\n",
       "    </tr>\n",
       "    <tr>\n",
       "      <th>25%</th>\n",
       "      <td>44.000000</td>\n",
       "      <td>60.000000</td>\n",
       "      <td>0.000000</td>\n",
       "      <td>1.000000</td>\n",
       "    </tr>\n",
       "    <tr>\n",
       "      <th>50%</th>\n",
       "      <td>52.000000</td>\n",
       "      <td>63.000000</td>\n",
       "      <td>1.000000</td>\n",
       "      <td>1.000000</td>\n",
       "    </tr>\n",
       "    <tr>\n",
       "      <th>75%</th>\n",
       "      <td>60.750000</td>\n",
       "      <td>65.750000</td>\n",
       "      <td>4.000000</td>\n",
       "      <td>2.000000</td>\n",
       "    </tr>\n",
       "    <tr>\n",
       "      <th>max</th>\n",
       "      <td>83.000000</td>\n",
       "      <td>69.000000</td>\n",
       "      <td>52.000000</td>\n",
       "      <td>2.000000</td>\n",
       "    </tr>\n",
       "  </tbody>\n",
       "</table>\n",
       "</div>"
      ],
      "text/plain": [
       "              Age    YearOfOp       Nodes  SurvivalStatus\n",
       "count  306.000000  306.000000  306.000000      306.000000\n",
       "mean    52.457516   62.852941    4.026144        1.264706\n",
       "std     10.803452    3.249405    7.189654        0.441899\n",
       "min     30.000000   58.000000    0.000000        1.000000\n",
       "25%     44.000000   60.000000    0.000000        1.000000\n",
       "50%     52.000000   63.000000    1.000000        1.000000\n",
       "75%     60.750000   65.750000    4.000000        2.000000\n",
       "max     83.000000   69.000000   52.000000        2.000000"
      ]
     },
     "execution_count": 3,
     "metadata": {},
     "output_type": "execute_result"
    }
   ],
   "source": [
    "df.describe()"
   ]
  },
  {
   "cell_type": "code",
   "execution_count": 4,
   "metadata": {},
   "outputs": [
    {
     "name": "stdout",
     "output_type": "stream",
     "text": [
      "(306,) (306, 3)\n"
     ]
    }
   ],
   "source": [
    "# split label and features\n",
    "df_labels = df['SurvivalStatus']\n",
    "df_data = df.drop(['SurvivalStatus'],axis=1)\n",
    "print(df_labels.shape, df_data.shape)"
   ]
  },
  {
   "cell_type": "markdown",
   "metadata": {},
   "source": [
    "## Column Standardize the data"
   ]
  },
  {
   "cell_type": "code",
   "execution_count": 5,
   "metadata": {},
   "outputs": [
    {
     "data": {
      "text/plain": [
       "(306, 3)"
      ]
     },
     "execution_count": 5,
     "metadata": {},
     "output_type": "execute_result"
    }
   ],
   "source": [
    "standardized_data = StandardScaler().fit_transform(df_data.astype(np.float64))\n",
    "standardized_data.shape"
   ]
  },
  {
   "cell_type": "markdown",
   "metadata": {},
   "source": [
    "## Compute Covariance Matrix"
   ]
  },
  {
   "cell_type": "code",
   "execution_count": 6,
   "metadata": {},
   "outputs": [
    {
     "name": "stdout",
     "output_type": "stream",
     "text": [
      "(3, 3) [[306.          27.39601035 -19.33188733]\n",
      " [ 27.39601035 306.          -1.1519291 ]\n",
      " [-19.33188733  -1.1519291  306.        ]]\n"
     ]
    }
   ],
   "source": [
    "covar_matrix = np.matmul(standardized_data.T,standardized_data)\n",
    "print(covar_matrix.shape,covar_matrix)"
   ]
  },
  {
   "cell_type": "markdown",
   "metadata": {},
   "source": [
    "## Compute Eigen Value and Eigen Vectors"
   ]
  },
  {
   "cell_type": "code",
   "execution_count": 7,
   "metadata": {},
   "outputs": [
    {
     "name": "stdout",
     "output_type": "stream",
     "text": [
      "(3,) [273.00592538 304.91484543 340.0792292 ]\n",
      "(3, 3) [[ 0.71275488  0.01153822 -0.70131829]\n",
      " [-0.57794675  0.57621082 -0.57789155]\n",
      " [ 0.39743934  0.81721965  0.41736555]]\n"
     ]
    }
   ],
   "source": [
    "eigen_values, eigen_vectors = eigh(covar_matrix)\n",
    "print(eigen_values.shape,eigen_values)\n",
    "print(eigen_vectors.shape,eigen_vectors)"
   ]
  },
  {
   "cell_type": "markdown",
   "metadata": {},
   "source": [
    "# 2-D Visualization"
   ]
  },
  {
   "cell_type": "code",
   "execution_count": 8,
   "metadata": {},
   "outputs": [
    {
     "name": "stdout",
     "output_type": "stream",
     "text": [
      "(2, 3) [[-0.70131829 -0.57789155  0.41736555]\n",
      " [ 0.01153822  0.57621082  0.81721965]]\n"
     ]
    }
   ],
   "source": [
    "# Take top 'maximum variance' eigen vectors\n",
    "eigven_vec_2d = eigen_vectors[:,[-1,-2]]\n",
    "# Transpose it for new co-ordinate matrix construction\n",
    "eigven_vec_2d = eigven_vec_2d.T\n",
    "print(eigven_vec_2d.shape,eigven_vec_2d)"
   ]
  },
  {
   "cell_type": "code",
   "execution_count": 9,
   "metadata": {},
   "outputs": [
    {
     "name": "stdout",
     "output_type": "stream",
     "text": [
      "(2, 306)\n"
     ]
    }
   ],
   "source": [
    "# Construct d_dash matrix having new coordinates, computed with chosen eigen vectors against the standardized dataset\n",
    "d_dash = np.matmul(eigven_vec_2d,standardized_data.T)\n",
    "print(d_dash.shape)"
   ]
  },
  {
   "cell_type": "code",
   "execution_count": 10,
   "metadata": {},
   "outputs": [
    {
     "data": {
      "text/plain": [
       "(3, 306)"
      ]
     },
     "execution_count": 10,
     "metadata": {},
     "output_type": "execute_result"
    }
   ],
   "source": [
    "# Add labels as one of the column\n",
    "dd = np.vstack((d_dash,df_labels))\n",
    "dd.shape"
   ]
  },
  {
   "cell_type": "code",
   "execution_count": 11,
   "metadata": {},
   "outputs": [
    {
     "name": "stdout",
     "output_type": "stream",
     "text": [
      "(306, 3)\n",
      "[[ 1.07995173 -0.16481853  1.        ]\n",
      " [ 1.55251697 -0.29235119  1.        ]\n",
      " [ 0.84366911 -0.1010522   1.        ]\n",
      " [ 1.96375859 -0.93798943  1.        ]\n",
      " [ 1.01123043  0.35542658  1.        ]]\n"
     ]
    }
   ],
   "source": [
    "# make it as data points\n",
    "new_data_matrix = dd.T\n",
    "print(new_data_matrix.shape)\n",
    "print(new_data_matrix[:5])"
   ]
  },
  {
   "cell_type": "code",
   "execution_count": 12,
   "metadata": {},
   "outputs": [
    {
     "data": {
      "text/html": [
       "<div>\n",
       "<style scoped>\n",
       "    .dataframe tbody tr th:only-of-type {\n",
       "        vertical-align: middle;\n",
       "    }\n",
       "\n",
       "    .dataframe tbody tr th {\n",
       "        vertical-align: top;\n",
       "    }\n",
       "\n",
       "    .dataframe thead th {\n",
       "        text-align: right;\n",
       "    }\n",
       "</style>\n",
       "<table border=\"1\" class=\"dataframe\">\n",
       "  <thead>\n",
       "    <tr style=\"text-align: right;\">\n",
       "      <th></th>\n",
       "      <th>PC1</th>\n",
       "      <th>PC2</th>\n",
       "      <th>SurvivalStatus</th>\n",
       "    </tr>\n",
       "  </thead>\n",
       "  <tbody>\n",
       "    <tr>\n",
       "      <th>0</th>\n",
       "      <td>1.079952</td>\n",
       "      <td>-0.164819</td>\n",
       "      <td>1.0</td>\n",
       "    </tr>\n",
       "    <tr>\n",
       "      <th>1</th>\n",
       "      <td>1.552517</td>\n",
       "      <td>-0.292351</td>\n",
       "      <td>1.0</td>\n",
       "    </tr>\n",
       "    <tr>\n",
       "      <th>2</th>\n",
       "      <td>0.843669</td>\n",
       "      <td>-0.101052</td>\n",
       "      <td>1.0</td>\n",
       "    </tr>\n",
       "    <tr>\n",
       "      <th>3</th>\n",
       "      <td>1.963759</td>\n",
       "      <td>-0.937989</td>\n",
       "      <td>1.0</td>\n",
       "    </tr>\n",
       "    <tr>\n",
       "      <th>4</th>\n",
       "      <td>1.011230</td>\n",
       "      <td>0.355427</td>\n",
       "      <td>1.0</td>\n",
       "    </tr>\n",
       "  </tbody>\n",
       "</table>\n",
       "</div>"
      ],
      "text/plain": [
       "        PC1       PC2  SurvivalStatus\n",
       "0  1.079952 -0.164819             1.0\n",
       "1  1.552517 -0.292351             1.0\n",
       "2  0.843669 -0.101052             1.0\n",
       "3  1.963759 -0.937989             1.0\n",
       "4  1.011230  0.355427             1.0"
      ]
     },
     "execution_count": 12,
     "metadata": {},
     "output_type": "execute_result"
    }
   ],
   "source": [
    "# create dataframe\n",
    "new_df = pd.DataFrame(data=new_data_matrix,columns=['PC1','PC2','SurvivalStatus'])\n",
    "new_df.head()"
   ]
  },
  {
   "cell_type": "code",
   "execution_count": 13,
   "metadata": {},
   "outputs": [
    {
     "data": {
      "text/plain": [
       "<seaborn.axisgrid.FacetGrid at 0x7f5c15312e48>"
      ]
     },
     "execution_count": 13,
     "metadata": {},
     "output_type": "execute_result"
    },
    {
     "data": {
      "image/png": "[encoded data removed]",
      "text/plain": [
       "<Figure size 512.125x432 with 1 Axes>"
      ]
     },
     "metadata": {
      "needs_background": "light"
     },
     "output_type": "display_data"
    }
   ],
   "source": [
    "# plot\n",
    "sns.FacetGrid(data=new_df, hue='SurvivalStatus',height=6).map(plt.scatter,'PC1','PC2').add_legend()"
   ]
  },
  {
   "cell_type": "markdown",
   "metadata": {},
   "source": [
    "# CDF over Eigen Values"
   ]
  },
  {
   "cell_type": "code",
   "execution_count": 14,
   "metadata": {},
   "outputs": [],
   "source": [
    "# TO DO"
   ]
  },
  {
   "cell_type": "code",
   "execution_count": null,
   "metadata": {},
   "outputs": [],
   "source": []
  }
 ],
 "metadata": {
  "kernelspec": {
   "display_name": "Python [default]",
   "language": "python",
   "name": "python3"
  },
  "language_info": {
   "codemirror_mode": {
    "name": "ipython",
    "version": 3
   },
   "file_extension": ".py",
   "mimetype": "text/x-python",
   "name": "python",
   "nbconvert_exporter": "python",
   "pygments_lexer": "ipython3",
   "version": "3.6.6"
  }
 },
 "nbformat": 4,
 "nbformat_minor": 2
}
