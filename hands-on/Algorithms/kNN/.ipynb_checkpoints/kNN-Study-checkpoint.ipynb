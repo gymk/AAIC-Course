{
 "cells": [
  {
   "cell_type": "markdown",
   "metadata": {},
   "source": [
    "# K-Nearest Neighbours\n",
    "\n",
    "Basically trying to implement common distance calculation algorithms and would like to try KNN using those on Iris Data Set\n",
    "\n",
    "Referece [http://dataaspirant.com/2015/04/11/five-most-popular-similarity-measures-implementation-in-python/]\n",
    "\n",
    "- Implemented required distance functions (yet to review its accuracy)\n",
    "- Loaded Irsi dataset\n",
    "- splitted into training and test dataset 80%, 20%\n",
    "- for each distance algorith, running k-NN from 1 to 9 and printing its accuracy"
   ]
  },
  {
   "cell_type": "code",
   "execution_count": 1,
   "metadata": {},
   "outputs": [],
   "source": [
    "# Importing required modules\n",
    "from math import * # for math operation\n",
    "from decimal import Decimal # for decimal approximation\n",
    "import operator # for selection\n",
    "import pandas as pd # for handling iris dataset\n",
    "from sklearn.model_selection import train_test_split"
   ]
  },
  {
   "cell_type": "code",
   "execution_count": 2,
   "metadata": {},
   "outputs": [],
   "source": [
    "# My test vector\n",
    "\n",
    "v1 = [1.0, 3.2, 4.8, 0.1, 3.2, 0.6, 2.2, 1.1]\n",
    "v2 = [0.1, 5.2, 1.9, 4.2, 1.9, 0.1, 0.1, 6.0]"
   ]
  },
  {
   "cell_type": "markdown",
   "metadata": {},
   "source": [
    "## Distance Algorthm Implementations"
   ]
  },
  {
   "cell_type": "markdown",
   "metadata": {},
   "source": [
    "### Manhattan Distance\n",
    "\n",
    "Also referred as L<sub>1</sup> Norm\n",
    "\n",
    "\\begin{equation*}\n",
    "L_1 Norm = \\lvert \\vert x - y \\rvert \\rvert_1 = \\left( \\sum_{i=1}^n \\lvert (x_i - y_i) \\rvert \\right)\n",
    "\\end{equation*}"
   ]
  },
  {
   "cell_type": "code",
   "execution_count": 3,
   "metadata": {},
   "outputs": [
    {
     "name": "stdout",
     "output_type": "stream",
     "text": [
      "0.000 0.000\n",
      "18.700 18.700\n"
     ]
    }
   ],
   "source": [
    "def manhanttan_dist(v1, v2):\n",
    "    '''\n",
    "    returns manhattan distance between vector v1 and v2 having same dimension d\n",
    "    numeric components for vectors v1 and v2 are assumed\n",
    "    '''\n",
    "    return round(Decimal(sum(abs(a-b) for a, b in zip(v1, v2))),3)\n",
    "\n",
    "print(manhanttan_dist(v1,v1), manhanttan_dist(v2,v2))\n",
    "print(manhanttan_dist(v1, v2), manhanttan_dist(v2, v1))"
   ]
  },
  {
   "cell_type": "markdown",
   "metadata": {},
   "source": [
    "### Eucliean Distance\n",
    "\n",
    "Also referred as L<sub>2</sub> Norm\n",
    "\n",
    "\\begin{equation*}\n",
    "L_2 Norm = \\lvert \\vert x - y \\rvert \\rvert_2 = \\sqrt{\\left( \\sum_{i=1}^d (x_{1i} - y_{2i})^2 \\right)} = \\sqrt{(x-y)^T(x-y)}\n",
    "\\end{equation*}\n",
    "\n",
    "\\begin{equation*}\n",
    "L_2 Norm = \\lvert \\vert x - y \\rvert \\rvert_2 = \\left( \\sum_{i=1}^d (x_{1i} - y_{2i})^2 \\right)^\\frac{1}{2}\n",
    "\\end{equation*}"
   ]
  },
  {
   "cell_type": "code",
   "execution_count": 4,
   "metadata": {},
   "outputs": [],
   "source": [
    "def eucd_dist(v1,v2):\n",
    "    '''\n",
    "    returns euclidean distance between vector v1 and v2 having same dimension d\n",
    "    numeric components for vectors v1 and v2 are assumed\n",
    "    '''\n",
    "    return round(Decimal(sqrt(sum(pow(a-b,2) for a,b in zip(v1,v2)))),3)"
   ]
  },
  {
   "cell_type": "code",
   "execution_count": 5,
   "metadata": {},
   "outputs": [
    {
     "name": "stdout",
     "output_type": "stream",
     "text": [
      "0.000 0.000\n",
      "7.771 7.771\n"
     ]
    }
   ],
   "source": [
    "print(eucd_dist(v1,v1), eucd_dist(v2,v2))\n",
    "print(eucd_dist(v1, v2), eucd_dist(v2, v1))"
   ]
  },
  {
   "cell_type": "markdown",
   "metadata": {},
   "source": [
    "### Minkowski Distance\n",
    "\n",
    "Also referred as L<sub>p</sub> Norm\n",
    "\n",
    "\\begin{equation*}\n",
    "L_p Norm = \\lvert \\vert x - y \\rvert \\rvert_p = \\left( \\sum_{i=1}^d \\lvert x_{1i} - y_{2i} \\rvert ^p \\right)^\\frac{1}{p}\n",
    "\\end{equation*}\n",
    "\n",
    "Observations of Minkowski:\n",
    "\n",
    "\\begin{equation*}\n",
    "L_1 Norm = Manhattan Distance\n",
    "\\end{equation*}\n",
    "\\begin{equation*}\n",
    "L_2 Norm = Euclidean Distance\n",
    "\\end{equation*}\n",
    "\n",
    "\\begin{equation*}\n",
    "L_\\infty Norm = Chebyshev Distance = L_{max} Norm\n",
    "\\end{equation*}\n"
   ]
  },
  {
   "cell_type": "code",
   "execution_count": 6,
   "metadata": {},
   "outputs": [
    {
     "name": "stdout",
     "output_type": "stream",
     "text": [
      "p : 1 18.700 18.700\n",
      "p : 2 7.771 7.771\n",
      "p : 3 6.138 6.138\n",
      "p : 4 5.579 5.579\n"
     ]
    }
   ],
   "source": [
    "def getNthRoot(val, n_root):\n",
    "    '''\n",
    "    returns n_th root of the given value\n",
    "    '''\n",
    "    return round(Decimal(val) ** Decimal(Decimal(1.0)/n_root),3)\n",
    "\n",
    "def minkowski_dist(v1, v2, p):\n",
    "    '''\n",
    "    returns minkowski distance between vectors v1 and v2 of same dimension d\n",
    "        numeric components for vectors v1 and v2 are assumed\n",
    "        v1, v2 ==> vectors\n",
    "        p ==> p-form that need to be calcualted\n",
    "    '''\n",
    "    return getNthRoot(sum(pow(abs(a-b),p) for a,b in zip(v1, v2)), p)\n",
    "\n",
    "#print(getNthRoot(2,9))\n",
    "#print(minkowski_dist([0,3,4,5], [7,6,3,-1], 3))\n",
    "\n",
    "\n",
    "for p in range(1,5):\n",
    "    print(\"p :\", p, minkowski_dist(v1, v2, p), minkowski_dist(v2, v1, p))"
   ]
  },
  {
   "cell_type": "markdown",
   "metadata": {},
   "source": [
    "### Consine Similarity\n",
    "\n",
    "\n",
    "\\begin{equation*}\n",
    "\\cos \\theta = \\frac{a.b}{\\lvert \\lvert a \\rvert \\rvert \\; \\lvert  \\lvert b \\rvert \\rvert}\n",
    "\\end{equation*}\n",
    "\n",
    "\\begin{equation*}\n",
    "\\cos \\theta = \\frac{a^Tb}{\\lvert \\lvert a \\rvert \\rvert \\; \\lvert \\lvert b \\rvert \\rvert}\n",
    "\\end{equation*}\n",
    "\n",
    "\\begin{equation*}\n",
    "\\cos \\theta = \\Bigl(\\frac{a}{\\lvert \\lvert a \\rvert \\rvert}\\Bigr) ^T \\; \\Bigl(\\frac{b}{\\lvert \\lvert b \\rvert \\rvert}\\Bigr)\n",
    "\\end{equation*}"
   ]
  },
  {
   "cell_type": "code",
   "execution_count": 7,
   "metadata": {},
   "outputs": [],
   "source": [
    "def dot_product(v1, v2):\n",
    "    '''\n",
    "    returns algebraic dot product of two vectors v1 and v2\n",
    "    '''\n",
    "    return Decimal(sum(a*b for a,b in zip(v1,v2)))\n",
    "\n",
    "def getLength(v1):\n",
    "    '''\n",
    "    returns length/magniture of the given vector\n",
    "    '''\n",
    "    return Decimal(sqrt(sum(x*x for x in v1)))\n",
    "\n",
    "def scalarMultiply(v1, c):\n",
    "    '''\n",
    "    performs scalar multiplication over given vector v1\n",
    "    '''\n",
    "    return [round(Decimal(x*c),3) for x in v1]\n",
    "\n",
    "def normalize(v1):\n",
    "    '''\n",
    "    returns the unit vector of given vector v1\n",
    "    '''\n",
    "    l = getLength(v1)\n",
    "    if(l == 0):\n",
    "        return 0; # TO DO - Raise Exception\n",
    "    \n",
    "    return scalarMultiply(v1,(Decimal(1.0)/l))\n",
    "\n",
    "def cosine_similarity(v1,v2):\n",
    "    '''\n",
    "    returns consine similarity between vectors v1 and v2\n",
    "    '''\n",
    "    numerator = dot_product(v1, v2)\n",
    "    denominator = getLength(v1) * getLength(v2)\n",
    "    return round(Decimal(numerator / denominator), 3)"
   ]
  },
  {
   "cell_type": "code",
   "execution_count": 8,
   "metadata": {},
   "outputs": [
    {
     "name": "stdout",
     "output_type": "stream",
     "text": [
      "Euclidean_Distance(a,b):  4.123\n",
      "Unit Vecor of a:  [Decimal('0.857'), Decimal('0.514')]\n",
      "Unit Vecor of b:  [Decimal('0.243'), Decimal('0.970')]\n",
      "cos_similarity(a,b):  0.707\n"
     ]
    }
   ],
   "source": [
    "# Validation\n",
    "\n",
    "a = [5,3]\n",
    "b = [1,4]\n",
    "\n",
    "print('Euclidean_Distance(a,b): ', eucd_dist(a,b))\n",
    "print('Unit Vecor of a: ', normalize(a))\n",
    "print('Unit Vecor of b: ', normalize(b))\n",
    "print('cos_similarity(a,b): ', cosine_similarity(a,b))"
   ]
  },
  {
   "cell_type": "markdown",
   "metadata": {},
   "source": [
    "### Cosine Dissimlarity\n",
    "\n",
    "\\begin{equation*}\n",
    "1 - cosine\\_similarity(x,y)\n",
    "\\end{equation*}"
   ]
  },
  {
   "cell_type": "code",
   "execution_count": 9,
   "metadata": {},
   "outputs": [],
   "source": [
    "def consine_dissimilarity(v1, v2):\n",
    "    '''\n",
    "    returns cosine dissimilarity between vectors v1 and v2\n",
    "    '''\n",
    "    return (1-cosine_similarity(v1,v2))"
   ]
  },
  {
   "cell_type": "code",
   "execution_count": 10,
   "metadata": {},
   "outputs": [
    {
     "name": "stdout",
     "output_type": "stream",
     "text": [
      "cos_similarity(a,b):  0.293\n"
     ]
    }
   ],
   "source": [
    "print('cos_similarity(a,b): ', consine_dissimilarity(a,b))"
   ]
  },
  {
   "cell_type": "markdown",
   "metadata": {},
   "source": [
    "## k-NN Implementation (for Iris DataSet)"
   ]
  },
  {
   "cell_type": "markdown",
   "metadata": {},
   "source": [
    "## Calculating Accuracy"
   ]
  },
  {
   "cell_type": "markdown",
   "metadata": {},
   "source": [
    "# Iris Data Set"
   ]
  },
  {
   "cell_type": "markdown",
   "metadata": {},
   "source": [
    "## Load DataSet"
   ]
  },
  {
   "cell_type": "code",
   "execution_count": 11,
   "metadata": {},
   "outputs": [
    {
     "data": {
      "text/html": [
       "<div>\n",
       "<style scoped>\n",
       "    .dataframe tbody tr th:only-of-type {\n",
       "        vertical-align: middle;\n",
       "    }\n",
       "\n",
       "    .dataframe tbody tr th {\n",
       "        vertical-align: top;\n",
       "    }\n",
       "\n",
       "    .dataframe thead th {\n",
       "        text-align: right;\n",
       "    }\n",
       "</style>\n",
       "<table border=\"1\" class=\"dataframe\">\n",
       "  <thead>\n",
       "    <tr style=\"text-align: right;\">\n",
       "      <th></th>\n",
       "      <th>sepal_length</th>\n",
       "      <th>sepal_width</th>\n",
       "      <th>petal_length</th>\n",
       "      <th>petal_width</th>\n",
       "      <th>species</th>\n",
       "    </tr>\n",
       "  </thead>\n",
       "  <tbody>\n",
       "    <tr>\n",
       "      <th>0</th>\n",
       "      <td>5.1</td>\n",
       "      <td>3.5</td>\n",
       "      <td>1.4</td>\n",
       "      <td>0.2</td>\n",
       "      <td>Iris-setosa</td>\n",
       "    </tr>\n",
       "    <tr>\n",
       "      <th>1</th>\n",
       "      <td>4.9</td>\n",
       "      <td>3.0</td>\n",
       "      <td>1.4</td>\n",
       "      <td>0.2</td>\n",
       "      <td>Iris-setosa</td>\n",
       "    </tr>\n",
       "    <tr>\n",
       "      <th>2</th>\n",
       "      <td>4.7</td>\n",
       "      <td>3.2</td>\n",
       "      <td>1.3</td>\n",
       "      <td>0.2</td>\n",
       "      <td>Iris-setosa</td>\n",
       "    </tr>\n",
       "    <tr>\n",
       "      <th>3</th>\n",
       "      <td>4.6</td>\n",
       "      <td>3.1</td>\n",
       "      <td>1.5</td>\n",
       "      <td>0.2</td>\n",
       "      <td>Iris-setosa</td>\n",
       "    </tr>\n",
       "    <tr>\n",
       "      <th>4</th>\n",
       "      <td>5.0</td>\n",
       "      <td>3.6</td>\n",
       "      <td>1.4</td>\n",
       "      <td>0.2</td>\n",
       "      <td>Iris-setosa</td>\n",
       "    </tr>\n",
       "  </tbody>\n",
       "</table>\n",
       "</div>"
      ],
      "text/plain": [
       "   sepal_length  sepal_width  petal_length  petal_width      species\n",
       "0           5.1          3.5           1.4          0.2  Iris-setosa\n",
       "1           4.9          3.0           1.4          0.2  Iris-setosa\n",
       "2           4.7          3.2           1.3          0.2  Iris-setosa\n",
       "3           4.6          3.1           1.5          0.2  Iris-setosa\n",
       "4           5.0          3.6           1.4          0.2  Iris-setosa"
      ]
     },
     "execution_count": 11,
     "metadata": {},
     "output_type": "execute_result"
    }
   ],
   "source": [
    "df = pd.read_csv('./iris.data')\n",
    "df.head()"
   ]
  },
  {
   "cell_type": "markdown",
   "metadata": {},
   "source": [
    "## Split DataSet"
   ]
  },
  {
   "cell_type": "code",
   "execution_count": 12,
   "metadata": {},
   "outputs": [],
   "source": [
    "# Split the data and labels for easy handling\n",
    "# 80% training\n",
    "# 20% for testing\n",
    "df_train, df_test = train_test_split(df, test_size=0.2)\n",
    "\n",
    "#df_data = df[['sepal_length', 'sepal_width', 'petal_length', 'petal_width']]\n",
    "#df_labels = df[['species']]\n",
    "#print(df_data.head())\n",
    "#print(df_labels.head())"
   ]
  },
  {
   "cell_type": "code",
   "execution_count": 13,
   "metadata": {},
   "outputs": [
    {
     "name": "stdout",
     "output_type": "stream",
     "text": [
      "Training Dataset:\n",
      "(120, 5)\n",
      "     sepal_length  sepal_width  petal_length  petal_width          species\n",
      "135           7.7          3.0           6.1          2.3   Iris-virginica\n",
      "80            5.5          2.4           3.8          1.1  Iris-versicolor\n",
      "90            5.5          2.6           4.4          1.2  Iris-versicolor\n",
      "84            5.4          3.0           4.5          1.5  Iris-versicolor\n",
      "34            4.9          3.1           1.5          0.1      Iris-setosa\n",
      "       sepal_length  sepal_width  petal_length  petal_width\n",
      "count    120.000000   120.000000    120.000000   120.000000\n",
      "mean       5.828333     3.046667      3.704167     1.171667\n",
      "std        0.835673     0.441337      1.763467     0.756172\n",
      "min        4.300000     2.000000      1.100000     0.100000\n",
      "25%        5.100000     2.800000      1.500000     0.275000\n",
      "50%        5.700000     3.000000      4.200000     1.300000\n",
      "75%        6.400000     3.300000      5.025000     1.800000\n",
      "max        7.900000     4.400000      6.900000     2.500000\n"
     ]
    }
   ],
   "source": [
    "print('Training Dataset:')\n",
    "print(df_train.shape)\n",
    "print(df_train.head())\n",
    "print(df_train.describe())"
   ]
  },
  {
   "cell_type": "code",
   "execution_count": 14,
   "metadata": {},
   "outputs": [
    {
     "name": "stdout",
     "output_type": "stream",
     "text": [
      "Test Dataset:\n",
      "(30, 5)\n",
      "     sepal_length  sepal_width  petal_length  petal_width          species\n",
      "116           6.5          3.0           5.5          1.8   Iris-virginica\n",
      "57            4.9          2.4           3.3          1.0  Iris-versicolor\n",
      "73            6.1          2.8           4.7          1.2  Iris-versicolor\n",
      "5             5.4          3.9           1.7          0.4      Iris-setosa\n",
      "144           6.7          3.3           5.7          2.5   Iris-virginica\n",
      "       sepal_length  sepal_width  petal_length  petal_width\n",
      "count     30.000000    30.000000     30.000000    30.000000\n",
      "mean       5.903333     3.083333      3.976667     1.306667\n",
      "std        0.807928     0.406909      1.781259     0.794348\n",
      "min        4.600000     2.200000      1.000000     0.100000\n",
      "25%        5.100000     2.925000      1.700000     0.425000\n",
      "50%        6.000000     3.050000      4.550000     1.400000\n",
      "75%        6.475000     3.375000      5.400000     1.875000\n",
      "max        7.600000     3.900000      6.600000     2.500000\n"
     ]
    }
   ],
   "source": [
    "print('Test Dataset:')\n",
    "print(df_test.shape)\n",
    "print(df_test.head())\n",
    "print(df_test.describe())"
   ]
  },
  {
   "cell_type": "markdown",
   "metadata": {},
   "source": [
    "## Calculating Neighbors"
   ]
  },
  {
   "cell_type": "code",
   "execution_count": 15,
   "metadata": {},
   "outputs": [],
   "source": [
    "def getNeighbours(training_data_set, query_point, k, algo='euct', p=3):\n",
    "    '''\n",
    "    returns list having k neighbors to the given query data point\n",
    "    input:\n",
    "        training_data_set: Pandas DataFrame\n",
    "        query_point: Pandas DataSeries\n",
    "        k: Number of Neighbors to calculate\n",
    "        algo: type of distance algorithm to use\n",
    "            euct (euclidean distance default)\n",
    "            maht (manhattan)\n",
    "            mink (minkowski)\n",
    "            coss (cosine similarity)\n",
    "        p: minkowski required p norm (default 3)\n",
    "    Output:\n",
    "        List of nearest data points\n",
    "    '''\n",
    "    distances = [] # list to hold all the neighbors\n",
    "    \n",
    "    # calcualte distance between query_point and every point in data set\n",
    "    # create a list\n",
    "    for x in range(len(training_data_set)):\n",
    "        # stip non-numeric label - in training data\n",
    "        v1 = training_data_set.iloc[x]\n",
    "        v1 = v1[['sepal_length', 'sepal_width', 'petal_length', 'petal_width']]\n",
    "        #print(type(v1), v1)\n",
    "        \n",
    "        # stip non-numeric label - in query data\n",
    "        q_v = query_point[['sepal_length', 'sepal_width', 'petal_length', 'petal_width']]\n",
    "        if algo == 'maht':\n",
    "            dist = manhanttan_dist(q_v, v1)\n",
    "        elif algo == 'mink':\n",
    "            dist = minkowski_dist(q_v, v1, p)\n",
    "        elif algo == 'coss':\n",
    "            dist = cosine_similarity(q_v, v1)\n",
    "            #print('Coss: ', dist)\n",
    "        else:\n",
    "            dist = eucd_dist(q_v, v1)\n",
    "        distances.append((dist, training_data_set.iloc[x]))\n",
    "        \n",
    "    # sort the list in ascending order\n",
    "    distances.sort(key=lambda tup:tup[0])\n",
    "    #print(distances)\n",
    "    \n",
    "    # select k nearest neighbors and return it\n",
    "    neighbors = []\n",
    "    for i in range(k):\n",
    "        neighbors.append(distances[i][1])\n",
    "    return neighbors"
   ]
  },
  {
   "cell_type": "markdown",
   "metadata": {},
   "source": [
    "## Calculating Responses"
   ]
  },
  {
   "cell_type": "code",
   "execution_count": 16,
   "metadata": {},
   "outputs": [],
   "source": [
    "def getClassLabel(neighbors):\n",
    "    '''\n",
    "    returns the class label having majority vote\n",
    "    Note that it doesn't handle 'Not Sure' case yet\n",
    "    '''\n",
    "    class_votes = {} # dictionary keys are flowers, values are its counts\n",
    "    for x in range(len(neighbors)):\n",
    "        class_label = neighbors[x][-1]\n",
    "        if class_label in class_votes:\n",
    "            class_votes[class_label] += 1\n",
    "        else:\n",
    "            class_votes[class_label] = 1\n",
    "    \n",
    "    response = max(class_votes.items(), key=operator.itemgetter(1))[0]\n",
    "    return response"
   ]
  },
  {
   "cell_type": "markdown",
   "metadata": {},
   "source": [
    "## Accuracy of Predictions\n",
    "\n",
    "- Try to check accuray for k in range 1 to 9\n",
    "    - Euclidean Distance\n",
    "    - Cosine Similarity\n",
    "    - Manhattan Distance\n",
    "    - L_3 Norm (minkowski distance)"
   ]
  },
  {
   "cell_type": "markdown",
   "metadata": {},
   "source": [
    "### Euclidean Distance"
   ]
  },
  {
   "cell_type": "code",
   "execution_count": 17,
   "metadata": {},
   "outputs": [
    {
     "name": "stdout",
     "output_type": "stream",
     "text": [
      "k:  1 Percent:  96.667 Total correct predictions:  29  out of  30\n",
      "k:  2 Percent:  96.667 Total correct predictions:  29  out of  30\n",
      "k:  3 Percent:  96.667 Total correct predictions:  29  out of  30\n",
      "k:  4 Percent:  96.667 Total correct predictions:  29  out of  30\n",
      "k:  5 Percent:  93.333 Total correct predictions:  28  out of  30\n",
      "k:  6 Percent:  96.667 Total correct predictions:  29  out of  30\n",
      "k:  7 Percent:  93.333 Total correct predictions:  28  out of  30\n",
      "k:  8 Percent:  93.333 Total correct predictions:  28  out of  30\n",
      "k:  9 Percent:  93.333 Total correct predictions:  28  out of  30\n",
      "CPU times: user 1min 11s, sys: 666 ms, total: 1min 12s\n",
      "Wall time: 1min 11s\n"
     ]
    }
   ],
   "source": [
    "%%time\n",
    "\n",
    "for k in range(1,10):\n",
    "    correct_predictions = 0\n",
    "    for t_index in range(len(df_test)):\n",
    "        test_data_point = df_test.iloc[t_index]\n",
    "        neighbors = getNeighbours(df_train, test_data_point, k)\n",
    "        predicted_class = getClassLabel(neighbors)\n",
    "        if predicted_class == test_data_point['species']:\n",
    "            correct_predictions += 1\n",
    "        #print('Predicted: ', predicted_class, ' Actual: ', test_data_point['species'])\n",
    "\n",
    "    print('k: ', k, 'Percent: ', round((correct_predictions/len(df_test)) * 100,3),'Total correct predictions: ', correct_predictions, ' out of ', len(df_test))"
   ]
  },
  {
   "cell_type": "markdown",
   "metadata": {},
   "source": [
    "### Cosine Similarity"
   ]
  },
  {
   "cell_type": "code",
   "execution_count": 18,
   "metadata": {},
   "outputs": [
    {
     "name": "stdout",
     "output_type": "stream",
     "text": [
      "k:  1 Percent:  0.0 Total correct predictions:  0  out of  30\n",
      "k:  2 Percent:  0.0 Total correct predictions:  0  out of  30\n",
      "k:  3 Percent:  0.0 Total correct predictions:  0  out of  30\n",
      "k:  4 Percent:  0.0 Total correct predictions:  0  out of  30\n",
      "k:  5 Percent:  0.0 Total correct predictions:  0  out of  30\n",
      "k:  6 Percent:  0.0 Total correct predictions:  0  out of  30\n",
      "k:  7 Percent:  0.0 Total correct predictions:  0  out of  30\n",
      "k:  8 Percent:  0.0 Total correct predictions:  0  out of  30\n",
      "k:  9 Percent:  0.0 Total correct predictions:  0  out of  30\n",
      "CPU times: user 1min 14s, sys: 654 ms, total: 1min 15s\n",
      "Wall time: 1min 14s\n"
     ]
    }
   ],
   "source": [
    "%%time\n",
    "\n",
    "for k in range(1,10):\n",
    "    correct_predictions = 0\n",
    "    for t_index in range(len(df_test)):\n",
    "        test_data_point = df_test.iloc[t_index]\n",
    "        neighbors = getNeighbours(df_train, test_data_point, k, 'coss')\n",
    "        predicted_class = getClassLabel(neighbors)\n",
    "        if predicted_class == test_data_point['species']:\n",
    "            correct_predictions += 1\n",
    "        #print('Predicted: ', predicted_class, ' Actual: ', test_data_point['species'])\n",
    "\n",
    "    print('k: ', k, 'Percent: ', round((correct_predictions/len(df_test)) * 100,3),'Total correct predictions: ', correct_predictions, ' out of ', len(df_test))"
   ]
  },
  {
   "cell_type": "markdown",
   "metadata": {},
   "source": [
    "### Manhattan Distance"
   ]
  },
  {
   "cell_type": "code",
   "execution_count": 19,
   "metadata": {},
   "outputs": [
    {
     "name": "stdout",
     "output_type": "stream",
     "text": [
      "k:  1 Percent:  96.667 Total correct predictions:  29  out of  30\n",
      "k:  2 Percent:  96.667 Total correct predictions:  29  out of  30\n",
      "k:  3 Percent:  96.667 Total correct predictions:  29  out of  30\n",
      "k:  4 Percent:  96.667 Total correct predictions:  29  out of  30\n",
      "k:  5 Percent:  93.333 Total correct predictions:  28  out of  30\n",
      "k:  6 Percent:  93.333 Total correct predictions:  28  out of  30\n",
      "k:  7 Percent:  93.333 Total correct predictions:  28  out of  30\n",
      "k:  8 Percent:  96.667 Total correct predictions:  29  out of  30\n",
      "k:  9 Percent:  93.333 Total correct predictions:  28  out of  30\n",
      "CPU times: user 1min 11s, sys: 639 ms, total: 1min 12s\n",
      "Wall time: 1min 12s\n"
     ]
    }
   ],
   "source": [
    "%%time\n",
    "\n",
    "for k in range(1,10):\n",
    "    correct_predictions = 0\n",
    "    for t_index in range(len(df_test)):\n",
    "        test_data_point = df_test.iloc[t_index]\n",
    "        neighbors = getNeighbours(df_train, test_data_point, k, 'maht')\n",
    "        predicted_class = getClassLabel(neighbors)\n",
    "        if predicted_class == test_data_point['species']:\n",
    "            correct_predictions += 1\n",
    "        #print('Predicted: ', predicted_class, ' Actual: ', test_data_point['species'])\n",
    "\n",
    "    print('k: ', k, 'Percent: ', round((correct_predictions/len(df_test)) * 100,3),'Total correct predictions: ', correct_predictions, ' out of ', len(df_test))"
   ]
  },
  {
   "cell_type": "markdown",
   "metadata": {},
   "source": [
    "### Minkowski Distance with p=3"
   ]
  },
  {
   "cell_type": "code",
   "execution_count": 20,
   "metadata": {},
   "outputs": [
    {
     "name": "stdout",
     "output_type": "stream",
     "text": [
      "k:  1 Percent:  96.667 Total correct predictions:  29  out of  30\n",
      "k:  2 Percent:  96.667 Total correct predictions:  29  out of  30\n",
      "k:  3 Percent:  96.667 Total correct predictions:  29  out of  30\n",
      "k:  4 Percent:  96.667 Total correct predictions:  29  out of  30\n",
      "k:  5 Percent:  93.333 Total correct predictions:  28  out of  30\n",
      "k:  6 Percent:  96.667 Total correct predictions:  29  out of  30\n",
      "k:  7 Percent:  93.333 Total correct predictions:  28  out of  30\n",
      "k:  8 Percent:  96.667 Total correct predictions:  29  out of  30\n",
      "k:  9 Percent:  93.333 Total correct predictions:  28  out of  30\n",
      "CPU times: user 1min 20s, sys: 651 ms, total: 1min 20s\n",
      "Wall time: 1min 20s\n"
     ]
    }
   ],
   "source": [
    "%%time\n",
    "\n",
    "for k in range(1,10):\n",
    "    correct_predictions = 0\n",
    "    for t_index in range(len(df_test)):\n",
    "        test_data_point = df_test.iloc[t_index]\n",
    "        neighbors = getNeighbours(df_train, test_data_point, k, 'mink')\n",
    "        predicted_class = getClassLabel(neighbors)\n",
    "        if predicted_class == test_data_point['species']:\n",
    "            correct_predictions += 1\n",
    "        #print('Predicted: ', predicted_class, ' Actual: ', test_data_point['species'])\n",
    "\n",
    "    print('k: ', k, 'Percent: ', round((correct_predictions/len(df_test)) * 100,3),'Total correct predictions: ', correct_predictions, ' out of ', len(df_test))"
   ]
  },
  {
   "cell_type": "markdown",
   "metadata": {},
   "source": [
    "# Observation\n",
    "\n",
    "- Training Data highly influences the prediction accuracy\n",
    "    - if we rerun this test multiple times, you can see differences in accuracy for each test\n",
    "- Cosine Similairy\n",
    "    - Incomplete implementation, so nothing deduced yet"
   ]
  },
  {
   "cell_type": "code",
   "execution_count": null,
   "metadata": {},
   "outputs": [],
   "source": []
  }
 ],
 "metadata": {
  "kernelspec": {
   "display_name": "Python [default]",
   "language": "python",
   "name": "python3"
  },
  "language_info": {
   "codemirror_mode": {
    "name": "ipython",
    "version": 3
   },
   "file_extension": ".py",
   "mimetype": "text/x-python",
   "name": "python",
   "nbconvert_exporter": "python",
   "pygments_lexer": "ipython3",
   "version": "3.6.6"
  }
 },
 "nbformat": 4,
 "nbformat_minor": 2
}
