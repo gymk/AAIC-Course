{
 "cells": [
  {
   "cell_type": "markdown",
   "metadata": {},
   "source": [
    "# K-Nearest Neighbours - Simple Cross Validation\n",
    "\n",
    "Checking the Preidction behaviour when we follow Simple Cross Validataion Set approach.\n",
    "\n",
    "Iris Dataset will be used for this study\n",
    "\n",
    "I am splitting the given Iris Data into\n",
    "\n",
    "60% as Training Dataset\n",
    "20% as Cross Validation DataSet\n",
    "20% for Test Dataset for validating the model\n",
    "\n",
    "Euclidean Distance is used in this test"
   ]
  },
  {
   "cell_type": "code",
   "execution_count": 1,
   "metadata": {},
   "outputs": [],
   "source": [
    "# Importing required modules\n",
    "from math import * # for math operation\n",
    "import operator # for selection\n",
    "import pandas as pd # for handling iris dataset\n",
    "from sklearn.model_selection import train_test_split # for splitting dataset into train/test\n",
    "from matplotlib import pyplot as plt\n",
    "\n",
    "from scipy.spatial import distance # euclidean distance\n",
    "\n",
    "%matplotlib inline"
   ]
  },
  {
   "cell_type": "markdown",
   "metadata": {},
   "source": [
    "## Load DataSet"
   ]
  },
  {
   "cell_type": "code",
   "execution_count": 2,
   "metadata": {},
   "outputs": [
    {
     "data": {
      "text/html": [
       "<div>\n",
       "<style scoped>\n",
       "    .dataframe tbody tr th:only-of-type {\n",
       "        vertical-align: middle;\n",
       "    }\n",
       "\n",
       "    .dataframe tbody tr th {\n",
       "        vertical-align: top;\n",
       "    }\n",
       "\n",
       "    .dataframe thead th {\n",
       "        text-align: right;\n",
       "    }\n",
       "</style>\n",
       "<table border=\"1\" class=\"dataframe\">\n",
       "  <thead>\n",
       "    <tr style=\"text-align: right;\">\n",
       "      <th></th>\n",
       "      <th>sepal_length</th>\n",
       "      <th>sepal_width</th>\n",
       "      <th>petal_length</th>\n",
       "      <th>petal_width</th>\n",
       "      <th>species</th>\n",
       "    </tr>\n",
       "  </thead>\n",
       "  <tbody>\n",
       "    <tr>\n",
       "      <th>0</th>\n",
       "      <td>5.1</td>\n",
       "      <td>3.5</td>\n",
       "      <td>1.4</td>\n",
       "      <td>0.2</td>\n",
       "      <td>setosa</td>\n",
       "    </tr>\n",
       "    <tr>\n",
       "      <th>1</th>\n",
       "      <td>4.9</td>\n",
       "      <td>3.0</td>\n",
       "      <td>1.4</td>\n",
       "      <td>0.2</td>\n",
       "      <td>setosa</td>\n",
       "    </tr>\n",
       "    <tr>\n",
       "      <th>2</th>\n",
       "      <td>4.7</td>\n",
       "      <td>3.2</td>\n",
       "      <td>1.3</td>\n",
       "      <td>0.2</td>\n",
       "      <td>setosa</td>\n",
       "    </tr>\n",
       "    <tr>\n",
       "      <th>3</th>\n",
       "      <td>4.6</td>\n",
       "      <td>3.1</td>\n",
       "      <td>1.5</td>\n",
       "      <td>0.2</td>\n",
       "      <td>setosa</td>\n",
       "    </tr>\n",
       "    <tr>\n",
       "      <th>4</th>\n",
       "      <td>5.0</td>\n",
       "      <td>3.6</td>\n",
       "      <td>1.4</td>\n",
       "      <td>0.2</td>\n",
       "      <td>setosa</td>\n",
       "    </tr>\n",
       "  </tbody>\n",
       "</table>\n",
       "</div>"
      ],
      "text/plain": [
       "   sepal_length  sepal_width  petal_length  petal_width species\n",
       "0           5.1          3.5           1.4          0.2  setosa\n",
       "1           4.9          3.0           1.4          0.2  setosa\n",
       "2           4.7          3.2           1.3          0.2  setosa\n",
       "3           4.6          3.1           1.5          0.2  setosa\n",
       "4           5.0          3.6           1.4          0.2  setosa"
      ]
     },
     "execution_count": 2,
     "metadata": {},
     "output_type": "execute_result"
    }
   ],
   "source": [
    "df = pd.read_csv('./iris.data')\n",
    "df.head()"
   ]
  },
  {
   "cell_type": "markdown",
   "metadata": {},
   "source": [
    "## Split DataSet"
   ]
  },
  {
   "cell_type": "code",
   "execution_count": 3,
   "metadata": {},
   "outputs": [
    {
     "name": "stdout",
     "output_type": "stream",
     "text": [
      "(90, 5) (30, 5) (30, 5)\n"
     ]
    }
   ],
   "source": [
    "# Split the data and labels for easy handling\n",
    "# 60% training\n",
    "# 20% for cross-validation\n",
    "# 20% for testing\n",
    "df_train, df_test = train_test_split(df, test_size=0.4)\n",
    "df_test, df_cv = train_test_split(df_test, test_size=0.5)\n",
    "\n",
    "print(df_train.shape, df_cv.shape, df_test.shape)"
   ]
  },
  {
   "cell_type": "code",
   "execution_count": 4,
   "metadata": {},
   "outputs": [
    {
     "name": "stdout",
     "output_type": "stream",
     "text": [
      "Train Data Indices:  [138  44  33  22  26  49  66 108 122  53  13  40 118  73 140  39  41  70\n",
      "  35 115 111  90  28  55 146  17  31  23 106  81  97  79  51  50  19  29\n",
      "  69   4 116  46 107  91 127  25  65  63  30  82 101  71 119  94 139  52\n",
      "  85  80   2 143 148   7  38  56  61  54  96 110  27  58  20 113 132 125\n",
      "  43 129 103   8  15  37  60 142  21  92 126   0  45  87  18  47  83 137]\n",
      "CV Data Indices:  [ 42  89   6 117  36   3  62 100 149  76 136 133  93 128 124 144   9  99\n",
      "   5  95  57  72  10 120  11  32  77   1  88  24]\n",
      "Test Data Indices:  [ 48 145  98 130 105 134  14  78  12 141 109  67  75 123 135  64  34 131\n",
      " 104 147 121  59  68 112 102  16  86  84  74 114]\n"
     ]
    }
   ],
   "source": [
    "#df_train.head(20)\n",
    "print('Train Data Indices: ', df_train.index.values)\n",
    "print('CV Data Indices: ', df_cv.index.values)\n",
    "print('Test Data Indices: ', df_test.index.values)"
   ]
  },
  {
   "cell_type": "markdown",
   "metadata": {},
   "source": [
    "## Calculating Neighbors"
   ]
  },
  {
   "cell_type": "code",
   "execution_count": 5,
   "metadata": {},
   "outputs": [],
   "source": [
    "def getNeighbours(training_data_set, query_point, k):\n",
    "    '''\n",
    "    returns list having k neighbors to the given query data point\n",
    "    input:\n",
    "        training_data_set: Pandas DataFrame\n",
    "        query_point: Pandas DataSeries\n",
    "        k: Number of Neighbors to calculate\n",
    "        Euclidean distance is used to calculate the distance\n",
    "    Output:\n",
    "        List of k nearest data points\n",
    "    '''\n",
    "    distances = [] # list to hold all the neighbors\n",
    "    \n",
    "    # calcualte distance between query_point and every point in data set\n",
    "    # create a list\n",
    "    for x in range(len(training_data_set)):\n",
    "        # stip non-numeric label - in training data\n",
    "        v1 = training_data_set.iloc[x]\n",
    "        v1 = v1[['sepal_length', 'sepal_width', 'petal_length', 'petal_width']]\n",
    "        #print(type(v1), v1)\n",
    "        \n",
    "        # stip non-numeric label - in query data\n",
    "        q_v = query_point[['sepal_length', 'sepal_width', 'petal_length', 'petal_width']]\n",
    "        dist = distance.euclidean(q_v, v1)\n",
    "        distances.append((dist, training_data_set.iloc[x]))\n",
    "        \n",
    "    # sort the list in ascending order\n",
    "    distances.sort(key=lambda tup:tup[0])\n",
    "    #print(distances)\n",
    "    \n",
    "    # select k nearest neighbors and return it\n",
    "    neighbors = []\n",
    "    for i in range(k):\n",
    "        neighbors.append(distances[i][1])\n",
    "    return neighbors"
   ]
  },
  {
   "cell_type": "markdown",
   "metadata": {},
   "source": [
    "## Calculating Responses"
   ]
  },
  {
   "cell_type": "code",
   "execution_count": 6,
   "metadata": {},
   "outputs": [],
   "source": [
    "def getClassLabelBasedOnMajorityVote(neighbors):\n",
    "    '''\n",
    "    returns the class label having majority vote\n",
    "    Note that it doesn't handle 'Not Sure' case yet\n",
    "    '''\n",
    "    class_votes = {} # dictionary keys are flowers, values are its counts\n",
    "    for x in range(len(neighbors)):\n",
    "        class_label = neighbors[x][-1]\n",
    "        if class_label in class_votes:\n",
    "            class_votes[class_label] += 1\n",
    "        else:\n",
    "            class_votes[class_label] = 1\n",
    "    \n",
    "    response = max(class_votes.items(), key=operator.itemgetter(1))[0]\n",
    "    return response"
   ]
  },
  {
   "cell_type": "markdown",
   "metadata": {},
   "source": [
    "## Accuracy of Predictions\n",
    "\n",
    "- Try to check accuray for k in range 1 to 9 of odd k values"
   ]
  },
  {
   "cell_type": "code",
   "execution_count": 7,
   "metadata": {},
   "outputs": [],
   "source": [
    "# Max number of k that need to be tried\n",
    "max_k = 11\n",
    "max_repeat = 5\n",
    "\n",
    "def getKRange():\n",
    "    '''\n",
    "    returns the range of k values that need to tried for this test\n",
    "    '''\n",
    "    return range(1,max_k,2)"
   ]
  },
  {
   "cell_type": "code",
   "execution_count": 8,
   "metadata": {},
   "outputs": [],
   "source": [
    "def getPredictions(df_training_data_set, df2, k_range):\n",
    "    '''\n",
    "    function to get predictions of df2 using df_training_data_set \n",
    "    Input:\n",
    "        df_training_data_set\n",
    "            data set that need to be used as training dataset\n",
    "        df2\n",
    "            data set for which predictions need to be made\n",
    "        k_range\n",
    "            range of k for which k-NN need to be predicted\n",
    "    Output:\n",
    "        returns a list having prediction accuracy for each k in the given range\n",
    "    '''\n",
    "    accuracy_results = []\n",
    "    for k in k_range: #range(1,max_k,2):\n",
    "        correct_predictions = 0\n",
    "        for t_index in range(len(df2)):\n",
    "            test_data_point = df2.iloc[t_index]\n",
    "            neighbors = getNeighbours(df_train, test_data_point, k)\n",
    "            predicted_class = getClassLabelBasedOnMajorityVote(neighbors)\n",
    "            if predicted_class == test_data_point['species']:\n",
    "                correct_predictions += 1\n",
    "            #print('Predicted: ', predicted_class, ' Actual: ', test_data_point['species'])\n",
    "\n",
    "        accuracy = round((correct_predictions/len(df2)) * 100,3)\n",
    "        print('k=',k,' Accuracy: ', accuracy,', Total correct predictions: ', correct_predictions, ' out of ', len(df2))\n",
    "        accuracy_results.append(accuracy)\n",
    "\n",
    "    error_results = [round(100-x,3) for x in accuracy_results]\n",
    "    print(accuracy_results, error_results)\n",
    "    return accuracy_results, error_results"
   ]
  },
  {
   "cell_type": "code",
   "execution_count": 9,
   "metadata": {},
   "outputs": [
    {
     "name": "stdout",
     "output_type": "stream",
     "text": [
      "k= 1  Accuracy:  100.0 , Total correct predictions:  90  out of  90\n",
      "k= 3  Accuracy:  96.667 , Total correct predictions:  87  out of  90\n",
      "k= 5  Accuracy:  97.778 , Total correct predictions:  88  out of  90\n",
      "k= 7  Accuracy:  95.556 , Total correct predictions:  86  out of  90\n",
      "k= 9  Accuracy:  95.556 , Total correct predictions:  86  out of  90\n",
      "[100.0, 96.667, 97.778, 95.556, 95.556] [0.0, 3.333, 2.222, 4.444, 4.444]\n",
      "Training Error Rate:  [0.0, 3.333, 2.222, 4.444, 4.444]\n",
      "CPU times: user 1min 30s, sys: 872 ms, total: 1min 30s\n",
      "Wall time: 1min 30s\n"
     ]
    }
   ],
   "source": [
    "%%time\n",
    "\n",
    "# Calculating Training Error Rate\n",
    "\n",
    "training_accuracy, training_error_rate = getPredictions(df_train, df_train, getKRange())\n",
    "print('Training Error Rate: ', training_error_rate)"
   ]
  },
  {
   "cell_type": "code",
   "execution_count": 10,
   "metadata": {},
   "outputs": [
    {
     "name": "stdout",
     "output_type": "stream",
     "text": [
      "k= 1  Accuracy:  93.333 , Total correct predictions:  28  out of  30\n",
      "k= 3  Accuracy:  96.667 , Total correct predictions:  29  out of  30\n",
      "k= 5  Accuracy:  93.333 , Total correct predictions:  28  out of  30\n",
      "k= 7  Accuracy:  96.667 , Total correct predictions:  29  out of  30\n",
      "k= 9  Accuracy:  100.0 , Total correct predictions:  30  out of  30\n",
      "[93.333, 96.667, 93.333, 96.667, 100.0] [6.667, 3.333, 6.667, 3.333, 0.0]\n",
      "Cross-Validation Error Rate: [6.667, 3.333, 6.667, 3.333, 0.0]\n",
      "CPU times: user 29.9 s, sys: 322 ms, total: 30.3 s\n",
      "Wall time: 30.1 s\n"
     ]
    }
   ],
   "source": [
    "%%time\n",
    "\n",
    "# Calculating Cross-Validation Error Rate\n",
    "\n",
    "cv_accuracy, cv_error_rate = getPredictions(df_train, df_cv, getKRange())\n",
    "print('Cross-Validation Error Rate:', cv_error_rate)"
   ]
  },
  {
   "cell_type": "code",
   "execution_count": 11,
   "metadata": {},
   "outputs": [
    {
     "data": {
      "text/plain": [
       "Text(0.5, 1.0, 'cv_error')"
      ]
     },
     "execution_count": 11,
     "metadata": {},
     "output_type": "execute_result"
    },
    {
     "data": {
      "image/png": "[encoded data removed]",
      "text/plain": [
       "<Figure size 720x288 with 2 Axes>"
      ]
     },
     "metadata": {
      "needs_background": "light"
     },
     "output_type": "display_data"
    }
   ],
   "source": [
    "# Visualize Trianing and Cross-Validation Error Rate\n",
    "\n",
    "fig, (ax1, ax2) = plt.subplots(1, 2, sharex='col', sharey='row')\n",
    "\n",
    "fig.set_figwidth(10)\n",
    "fig.set_figheight(4)\n",
    "\n",
    "ax1.plot(getKRange(), training_error_rate)\n",
    "ax1.set_title('train_error')\n",
    "\n",
    "ax2.plot(getKRange(), cv_error_rate)\n",
    "ax2.set_title('cv_error')"
   ]
  },
  {
   "cell_type": "markdown",
   "metadata": {
    "toc-hr-collapsed": false
   },
   "source": [
    "# k-NN Observation on CV Accuracy Result\n",
    "\n",
    "- Based on above training and cv erro rate observation, k=7 look optimal"
   ]
  },
  {
   "cell_type": "markdown",
   "metadata": {},
   "source": [
    "# k-NN Test Accuracy\n",
    "\n",
    "Based on above observation, k=7 is optimal value for Iris Dataset classification"
   ]
  },
  {
   "cell_type": "code",
   "execution_count": 16,
   "metadata": {},
   "outputs": [
    {
     "name": "stdout",
     "output_type": "stream",
     "text": [
      "k= 7  Accuracy:  100.0 , Total correct predictions:  30  out of  30\n",
      "[100.0] [0.0]\n",
      "Test Error Rate: [0.0]\n",
      "CPU times: user 5.93 s, sys: 76.3 ms, total: 6 s\n",
      "Wall time: 5.98 s\n"
     ]
    }
   ],
   "source": [
    "%%time\n",
    "\n",
    "chosen_k = 7\n",
    "\n",
    "test_accuracy, test_error_rate = getPredictions(df_train, df_test, [chosen_k])\n",
    "print('Test Error Rate:', test_error_rate)"
   ]
  },
  {
   "cell_type": "markdown",
   "metadata": {},
   "source": [
    "## Observation\n",
    "\n",
    "0.0% test error rate observed in test dataset prediction.\n",
    "\n",
    "Our model agives predict rate **100% accuracy**"
   ]
  },
  {
   "cell_type": "code",
   "execution_count": null,
   "metadata": {},
   "outputs": [],
   "source": []
  }
 ],
 "metadata": {
  "kernelspec": {
   "display_name": "Python [default]",
   "language": "python",
   "name": "python3"
  },
  "language_info": {
   "codemirror_mode": {
    "name": "ipython",
    "version": 3
   },
   "file_extension": ".py",
   "mimetype": "text/x-python",
   "name": "python",
   "nbconvert_exporter": "python",
   "pygments_lexer": "ipython3",
   "version": "3.6.6"
  },
  "toc-autonumbering": true
 },
 "nbformat": 4,
 "nbformat_minor": 2
}
