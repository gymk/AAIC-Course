{
 "cells": [
  {
   "cell_type": "markdown",
   "metadata": {},
   "source": [
    "# K-Nearest Neighbours (No Cross Validation or Generalization)\n",
    "\n",
    "Basically trying to implement common distance calculation algorithms and would like to try KNN using those on Iris Data Set.\n",
    "\n",
    "From this trying to observe overfitting/underfitting behaviour when we do not have cross validation\n",
    "\n",
    "Referece\n",
    "    1. [http://dataaspirant.com/2015/04/11/five-most-popular-similarity-measures-implementation-in-python/]\n",
    "    2. [https://www.itl.nist.gov/div898/software/dataplot/refman2/auxillar/cosdist.htm]\n",
    "\n",
    "- Implemented required distance functions (yet to review its accuracy)\n",
    "- Loaded Irsi dataset\n",
    "- splitted into training and test dataset 80%, 20%\n",
    "- for each distance algorith, running k-NN from 1 to 9 and printing its accuracy"
   ]
  },
  {
   "cell_type": "code",
   "execution_count": 1,
   "metadata": {},
   "outputs": [],
   "source": [
    "# Importing required modules\n",
    "from math import * # for math operation\n",
    "from decimal import Decimal # for decimal approximation\n",
    "import operator # for selection\n",
    "import pandas as pd # for handling iris dataset\n",
    "from sklearn.model_selection import train_test_split # for splitting dataset into train/test\n",
    "from sklearn.preprocessing import StandardScaler # for Column Standardization"
   ]
  },
  {
   "cell_type": "code",
   "execution_count": 2,
   "metadata": {},
   "outputs": [],
   "source": [
    "# My test vector\n",
    "\n",
    "v1 = [1.0, 3.2, 4.8, 0.1, 3.2, 0.6, 2.2, 1.1]\n",
    "v2 = [0.1, 5.2, 1.9, 4.2, 1.9, 0.1, 0.1, 6.0]"
   ]
  },
  {
   "cell_type": "markdown",
   "metadata": {},
   "source": [
    "## Distance Algorthm Implementations"
   ]
  },
  {
   "cell_type": "markdown",
   "metadata": {},
   "source": [
    "### Manhattan Distance\n",
    "\n",
    "Also referred as L<sub>1</sup> Norm\n",
    "\n",
    "\\begin{equation*}\n",
    "L_1 Norm = \\lvert \\vert x - y \\rvert \\rvert_1 = \\left( \\sum_{i=1}^n \\lvert (x_i - y_i) \\rvert \\right)\n",
    "\\end{equation*}"
   ]
  },
  {
   "cell_type": "code",
   "execution_count": 3,
   "metadata": {},
   "outputs": [
    {
     "name": "stdout",
     "output_type": "stream",
     "text": [
      "0.000 0.000\n",
      "18.700 18.700\n"
     ]
    }
   ],
   "source": [
    "def manhanttan_dist(v1, v2):\n",
    "    '''\n",
    "    returns manhattan distance between vector v1 and v2 having same dimension d\n",
    "    numeric components for vectors v1 and v2 are assumed\n",
    "    '''\n",
    "    return round(Decimal(sum(abs(a-b) for a, b in zip(v1, v2))),3)\n",
    "\n",
    "print(manhanttan_dist(v1,v1), manhanttan_dist(v2,v2))\n",
    "print(manhanttan_dist(v1, v2), manhanttan_dist(v2, v1))"
   ]
  },
  {
   "cell_type": "markdown",
   "metadata": {},
   "source": [
    "### Eucliean Distance\n",
    "\n",
    "Also referred as L<sub>2</sub> Norm\n",
    "\n",
    "\\begin{equation*}\n",
    "L_2 Norm = \\lvert \\vert x - y \\rvert \\rvert_2 = \\sqrt{\\left( \\sum_{i=1}^d (x_{1i} - y_{2i})^2 \\right)} = \\sqrt{(x-y)^T(x-y)}\n",
    "\\end{equation*}\n",
    "\n",
    "\\begin{equation*}\n",
    "L_2 Norm = \\lvert \\vert x - y \\rvert \\rvert_2 = \\left( \\sum_{i=1}^d (x_{1i} - y_{2i})^2 \\right)^\\frac{1}{2}\n",
    "\\end{equation*}"
   ]
  },
  {
   "cell_type": "code",
   "execution_count": 4,
   "metadata": {},
   "outputs": [],
   "source": [
    "def eucd_dist(v1,v2):\n",
    "    '''\n",
    "    returns euclidean distance between vector v1 and v2 having same dimension d\n",
    "    numeric components for vectors v1 and v2 are assumed\n",
    "    '''\n",
    "    return round(Decimal(sqrt(sum(pow(a-b,2) for a,b in zip(v1,v2)))),3)"
   ]
  },
  {
   "cell_type": "code",
   "execution_count": 5,
   "metadata": {},
   "outputs": [
    {
     "name": "stdout",
     "output_type": "stream",
     "text": [
      "0.000 0.000\n",
      "7.771 7.771\n"
     ]
    }
   ],
   "source": [
    "print(eucd_dist(v1,v1), eucd_dist(v2,v2))\n",
    "print(eucd_dist(v1, v2), eucd_dist(v2, v1))"
   ]
  },
  {
   "cell_type": "markdown",
   "metadata": {},
   "source": [
    "### Minkowski Distance\n",
    "\n",
    "Also referred as L<sub>p</sub> Norm, where __p > 0__\n",
    "\n",
    "[Can be used for both 'Ordinal' and 'Quantitative' Values](https://people.revoledu.com/kardi/tutorial/Similarity/MinkowskiDistance.html)\n",
    "\n",
    "\\begin{equation*}\n",
    "L_p Norm = \\lvert \\vert x - y \\rvert \\rvert_p = \\left( \\sum_{i=1}^d \\lvert x_{1i} - y_{2i} \\rvert ^p \\right)^\\frac{1}{p}\n",
    "\\end{equation*}\n",
    "\n",
    "Observations of Minkowski:\n",
    "\n",
    "\\begin{equation*}\n",
    "L_1 Norm = Manhattan Distance\n",
    "\\end{equation*}\n",
    "\\begin{equation*}\n",
    "L_2 Norm = Euclidean Distance\n",
    "\\end{equation*}\n",
    "\n",
    "\\begin{equation*}\n",
    "L_\\infty Norm = Chebyshev Distance = L_{max} Norm\n",
    "\\end{equation*}\n"
   ]
  },
  {
   "cell_type": "code",
   "execution_count": 6,
   "metadata": {},
   "outputs": [
    {
     "name": "stdout",
     "output_type": "stream",
     "text": [
      "p : 1 18.700 18.700\n",
      "p : 2 7.771 7.771\n",
      "p : 3 6.138 6.138\n",
      "p : 4 5.579 5.579\n"
     ]
    }
   ],
   "source": [
    "def getNthRoot(val, n_root):\n",
    "    '''\n",
    "    returns n_th root of the given value\n",
    "    '''\n",
    "    return round(Decimal(val) ** Decimal(Decimal(1.0)/n_root),3)\n",
    "\n",
    "def minkowski_dist(v1, v2, p):\n",
    "    '''\n",
    "    returns minkowski distance between vectors v1 and v2 of same dimension d\n",
    "        numeric components for vectors v1 and v2 are assumed\n",
    "        v1, v2 ==> vectors\n",
    "        p ==> p-form that need to be calcualted\n",
    "    '''\n",
    "    return getNthRoot(sum(pow(abs(a-b),p) for a,b in zip(v1, v2)), p)\n",
    "\n",
    "#print(getNthRoot(2,9))\n",
    "#print(minkowski_dist([0,3,4,5], [7,6,3,-1], 3))\n",
    "\n",
    "\n",
    "for p in range(1,5):\n",
    "    print(\"p :\", p, minkowski_dist(v1, v2, p), minkowski_dist(v2, v1, p))"
   ]
  },
  {
   "cell_type": "markdown",
   "metadata": {},
   "source": [
    "### Consine Similarity\n",
    "\n",
    "\n",
    "\\begin{equation*}\n",
    "\\cos \\theta = \\frac{a.b}{\\lvert \\lvert a \\rvert \\rvert \\; \\lvert  \\lvert b \\rvert \\rvert}\n",
    "\\end{equation*}\n",
    "\n",
    "\\begin{equation*}\n",
    "\\cos \\theta = \\frac{a^Tb}{\\lvert \\lvert a \\rvert \\rvert \\; \\lvert \\lvert b \\rvert \\rvert}\n",
    "\\end{equation*}\n",
    "\n",
    "\\begin{equation*}\n",
    "\\cos \\theta = \\Bigl(\\frac{a}{\\lvert \\lvert a \\rvert \\rvert}\\Bigr) ^T \\; \\Bigl(\\frac{b}{\\lvert \\lvert b \\rvert \\rvert}\\Bigr)\n",
    "\\end{equation*}\n",
    "\n",
    "if both a and b are unit vectors, then cosine similarity is the dot product of both vectors a and b\n",
    "\n",
    "\\begin{equation*}\n",
    "\\cos \\theta = a . b\n",
    "\\end{equation*}\n",
    "\n"
   ]
  },
  {
   "cell_type": "markdown",
   "metadata": {},
   "source": [
    "__Dot Product (Alebraic Equation)__\n",
    "\n",
    "Let, x = [x1, x2, ..., xd] a vector, y = [y1, y2, ...., yd] a vector\n",
    "\n",
    "the Dot product of x.y is (Algebraic)\n",
    "\n",
    "\\begin{equation*}\n",
    "x.y = x^T y\n",
    "\\end{equation*}\n",
    "\n",
    "\\begin{equation*}\n",
    "x.y = x_1 y_1 + x_2 y_2 + ... + x_d y_d\n",
    "\\end{equation*}\n",
    "\n",
    "\\begin{equation*}\n",
    "x.y = \\sum_{i=1}^d x_i y_i\n",
    "\\end{equation*}\n",
    "\n",
    "Algebraic Dot Product of two vectors tells how similar those two vectors are. Usefull in Text Processing to find how two vectors are similar"
   ]
  },
  {
   "cell_type": "markdown",
   "metadata": {},
   "source": [
    "__Dot Product (Geometric Equation)__\n",
    "\n",
    "\\begin{equation*}\n",
    "x.y = \\lvert \\lvert x \\rvert \\rvert \\; \\lvert \\lvert y \\rvert \\rvert \\; \\cos \\theta\n",
    "\\end{equation*}\n",
    "\n",
    "\n",
    "*cosine and euclidean distance are same if the vectors are in unit length*"
   ]
  },
  {
   "cell_type": "markdown",
   "metadata": {},
   "source": [
    "[https://www.machinelearningplus.com/nlp/cosine-similarity/\n",
    "- It is a metrix used t measure how similar the documents are irrespective of their size\n",
    "- Mahtematically it measures the cosine of the angle between two vectors projected in a multi-dimensional space"
   ]
  },
  {
   "cell_type": "markdown",
   "metadata": {},
   "source": [
    "__When to use Cosine__\n",
    "\n",
    "https://cmry.github.io/notes/euclidean-v-cosine\n",
    "\n",
    "- Cosine Similarity is generally used as a metric for measuring distance when the magnitude of the vectors does not matter. This happens for example when working with text data represented by word counts."
   ]
  },
  {
   "cell_type": "code",
   "execution_count": 7,
   "metadata": {},
   "outputs": [],
   "source": [
    "def dot_product(v1, v2):\n",
    "    '''\n",
    "    returns algebraic dot product of two vectors v1 and v2\n",
    "    '''\n",
    "    return Decimal(sum(a*b for a,b in zip(v1,v2)))\n",
    "\n",
    "def getLength(v1):\n",
    "    '''\n",
    "    returns length/magniture of the given vector\n",
    "    '''\n",
    "    return Decimal(sqrt(sum(x*x for x in v1)))\n",
    "\n",
    "def scalarMultiply(v1, c):\n",
    "    '''\n",
    "    performs scalar multiplication over given vector v1\n",
    "    '''\n",
    "    return [round(Decimal(x*c),3) for x in v1]\n",
    "\n",
    "def normalize(v1):\n",
    "    '''\n",
    "    returns the unit vector of given vector v1\n",
    "    '''\n",
    "    l = getLength(v1)\n",
    "    if(l == 0):\n",
    "        return 0; # TO DO - Raise Exception\n",
    "    \n",
    "    return scalarMultiply(v1,(Decimal(1.0)/l))\n",
    "\n",
    "def cosine_similarity(v1,v2):\n",
    "    '''\n",
    "    returns consine similarity between vectors v1 and v2\n",
    "    '''\n",
    "    numerator = dot_product(v1, v2)\n",
    "    denominator = getLength(v1) * getLength(v2)\n",
    "    return round(Decimal(numerator / denominator), 3)"
   ]
  },
  {
   "cell_type": "code",
   "execution_count": 8,
   "metadata": {},
   "outputs": [
    {
     "name": "stdout",
     "output_type": "stream",
     "text": [
      "Euclidean_Distance(a,b):  4.123\n",
      "Unit Vecor of a:  [Decimal('0.857'), Decimal('0.514')]\n",
      "Unit Vecor of b:  [Decimal('0.243'), Decimal('0.970')]\n",
      "cos_similarity(a,b):  0.707\n"
     ]
    }
   ],
   "source": [
    "# Validation\n",
    "\n",
    "a = [5,3]\n",
    "b = [1,4]\n",
    "\n",
    "print('Euclidean_Distance(a,b): ', eucd_dist(a,b))\n",
    "print('Unit Vecor of a: ', normalize(a))\n",
    "print('Unit Vecor of b: ', normalize(b))\n",
    "print('cos_similarity(a,b): ', cosine_similarity(a,b))"
   ]
  },
  {
   "cell_type": "code",
   "execution_count": 9,
   "metadata": {},
   "outputs": [
    {
     "name": "stdout",
     "output_type": "stream",
     "text": [
      "0.5\n",
      "0.25\n"
     ]
    }
   ],
   "source": [
    "# https://masongallo.github.io/machine/learning,/python/2016/07/29/cosine-similarity.html\n",
    "import numpy as np\n",
    "\n",
    "def cos_sim(a, b):\n",
    "    \"\"\"Takes 2 vectors a, b and returns the cosine similarity according \n",
    "    to the definition of the dot product\n",
    "    \"\"\"\n",
    "    dot_product = np.dot(a, b)\n",
    "    norm_a = np.linalg.norm(a)\n",
    "    norm_b = np.linalg.norm(b)\n",
    "    return dot_product / (norm_a * norm_b)\n",
    "\n",
    "# the counts we computed above\n",
    "sentence_m = np.array([1, 1, 1, 1, 0, 0, 0, 0, 0]) \n",
    "sentence_h = np.array([0, 0, 1, 1, 1, 1, 0, 0, 0])\n",
    "sentence_w = np.array([0, 0, 0, 1, 0, 0, 1, 1, 1])\n",
    "\n",
    "# We should expect sentence_m and sentence_h to be more similar\n",
    "print(cos_sim(sentence_m, sentence_h)) # 0.5\n",
    "print(cos_sim(sentence_m, sentence_w)) # 0.25"
   ]
  },
  {
   "cell_type": "markdown",
   "metadata": {},
   "source": [
    "### Cosine Dissimlarity\n",
    "\n",
    "\\begin{equation*}\n",
    "1 - cosine\\_similarity(x,y)\n",
    "\\end{equation*}"
   ]
  },
  {
   "cell_type": "code",
   "execution_count": 10,
   "metadata": {},
   "outputs": [],
   "source": [
    "def consine_dissimilarity(v1, v2):\n",
    "    '''\n",
    "    returns cosine dissimilarity between vectors v1 and v2\n",
    "    '''\n",
    "    return (1-cosine_similarity(v1,v2))"
   ]
  },
  {
   "cell_type": "code",
   "execution_count": 11,
   "metadata": {},
   "outputs": [
    {
     "name": "stdout",
     "output_type": "stream",
     "text": [
      "cos_similarity(a,b):  0.293\n"
     ]
    }
   ],
   "source": [
    "print('cos_similarity(a,b): ', consine_dissimilarity(a,b))"
   ]
  },
  {
   "cell_type": "markdown",
   "metadata": {},
   "source": [
    "## k-NN Implementation (for Iris DataSet)"
   ]
  },
  {
   "cell_type": "markdown",
   "metadata": {},
   "source": [
    "## Calculating Accuracy"
   ]
  },
  {
   "cell_type": "markdown",
   "metadata": {},
   "source": [
    "# Iris Data Set"
   ]
  },
  {
   "cell_type": "markdown",
   "metadata": {},
   "source": [
    "## Load DataSet"
   ]
  },
  {
   "cell_type": "code",
   "execution_count": 12,
   "metadata": {},
   "outputs": [
    {
     "data": {
      "text/html": [
       "<div>\n",
       "<style scoped>\n",
       "    .dataframe tbody tr th:only-of-type {\n",
       "        vertical-align: middle;\n",
       "    }\n",
       "\n",
       "    .dataframe tbody tr th {\n",
       "        vertical-align: top;\n",
       "    }\n",
       "\n",
       "    .dataframe thead th {\n",
       "        text-align: right;\n",
       "    }\n",
       "</style>\n",
       "<table border=\"1\" class=\"dataframe\">\n",
       "  <thead>\n",
       "    <tr style=\"text-align: right;\">\n",
       "      <th></th>\n",
       "      <th>sepal_length</th>\n",
       "      <th>sepal_width</th>\n",
       "      <th>petal_length</th>\n",
       "      <th>petal_width</th>\n",
       "      <th>species</th>\n",
       "    </tr>\n",
       "  </thead>\n",
       "  <tbody>\n",
       "    <tr>\n",
       "      <th>0</th>\n",
       "      <td>5.1</td>\n",
       "      <td>3.5</td>\n",
       "      <td>1.4</td>\n",
       "      <td>0.2</td>\n",
       "      <td>setosa</td>\n",
       "    </tr>\n",
       "    <tr>\n",
       "      <th>1</th>\n",
       "      <td>4.9</td>\n",
       "      <td>3.0</td>\n",
       "      <td>1.4</td>\n",
       "      <td>0.2</td>\n",
       "      <td>setosa</td>\n",
       "    </tr>\n",
       "    <tr>\n",
       "      <th>2</th>\n",
       "      <td>4.7</td>\n",
       "      <td>3.2</td>\n",
       "      <td>1.3</td>\n",
       "      <td>0.2</td>\n",
       "      <td>setosa</td>\n",
       "    </tr>\n",
       "    <tr>\n",
       "      <th>3</th>\n",
       "      <td>4.6</td>\n",
       "      <td>3.1</td>\n",
       "      <td>1.5</td>\n",
       "      <td>0.2</td>\n",
       "      <td>setosa</td>\n",
       "    </tr>\n",
       "    <tr>\n",
       "      <th>4</th>\n",
       "      <td>5.0</td>\n",
       "      <td>3.6</td>\n",
       "      <td>1.4</td>\n",
       "      <td>0.2</td>\n",
       "      <td>setosa</td>\n",
       "    </tr>\n",
       "  </tbody>\n",
       "</table>\n",
       "</div>"
      ],
      "text/plain": [
       "   sepal_length  sepal_width  petal_length  petal_width species\n",
       "0           5.1          3.5           1.4          0.2  setosa\n",
       "1           4.9          3.0           1.4          0.2  setosa\n",
       "2           4.7          3.2           1.3          0.2  setosa\n",
       "3           4.6          3.1           1.5          0.2  setosa\n",
       "4           5.0          3.6           1.4          0.2  setosa"
      ]
     },
     "execution_count": 12,
     "metadata": {},
     "output_type": "execute_result"
    }
   ],
   "source": [
    "df = pd.read_csv('./iris.data')\n",
    "df.head()"
   ]
  },
  {
   "cell_type": "markdown",
   "metadata": {},
   "source": [
    "## Split DataSet"
   ]
  },
  {
   "cell_type": "code",
   "execution_count": 13,
   "metadata": {},
   "outputs": [],
   "source": [
    "# Split the data and labels for easy handling\n",
    "# 80% training\n",
    "# 20% for testing\n",
    "df_train, df_test = train_test_split(df, test_size=0.3)\n",
    "\n",
    "#df_data = df[['sepal_length', 'sepal_width', 'petal_length', 'petal_width']]\n",
    "#df_labels = df[['species']]\n",
    "#print(df_data.head())\n",
    "#print(df_labels.head())"
   ]
  },
  {
   "cell_type": "code",
   "execution_count": 14,
   "metadata": {},
   "outputs": [
    {
     "name": "stdout",
     "output_type": "stream",
     "text": [
      "Training Dataset:\n",
      "(105, 5)\n",
      "     sepal_length  sepal_width  petal_length  petal_width     species\n",
      "85            6.0          3.4           4.5          1.6  versicolor\n",
      "38            4.4          3.0           1.3          0.2      setosa\n",
      "103           6.3          2.9           5.6          1.8   virginica\n",
      "44            5.1          3.8           1.9          0.4      setosa\n",
      "140           6.7          3.1           5.6          2.4   virginica\n",
      "       sepal_length  sepal_width  petal_length  petal_width\n",
      "count    105.000000   105.000000    105.000000   105.000000\n",
      "mean       5.853333     3.014286      3.812381     1.206667\n",
      "std        0.828932     0.415662      1.737798     0.749136\n",
      "min        4.400000     2.000000      1.300000     0.100000\n",
      "25%        5.100000     2.800000      1.600000     0.300000\n",
      "50%        5.800000     3.000000      4.400000     1.300000\n",
      "75%        6.400000     3.200000      5.100000     1.800000\n",
      "max        7.900000     4.200000      6.900000     2.500000\n"
     ]
    }
   ],
   "source": [
    "print('Training Dataset:')\n",
    "print(df_train.shape)\n",
    "print(df_train.head())\n",
    "print(df_train.describe())"
   ]
  },
  {
   "cell_type": "code",
   "execution_count": 15,
   "metadata": {},
   "outputs": [
    {
     "name": "stdout",
     "output_type": "stream",
     "text": [
      "Test Dataset:\n",
      "(45, 5)\n",
      "     sepal_length  sepal_width  petal_length  petal_width     species\n",
      "76            6.8          2.8           4.8          1.4  versicolor\n",
      "53            5.5          2.3           4.0          1.3  versicolor\n",
      "113           5.7          2.5           5.0          2.0   virginica\n",
      "87            6.3          2.3           4.4          1.3  versicolor\n",
      "117           7.7          3.8           6.7          2.2   virginica\n",
      "       sepal_length  sepal_width  petal_length  petal_width\n",
      "count      45.00000    45.000000     45.000000    45.000000\n",
      "mean        5.82000     3.146667      3.633333     1.180000\n",
      "std         0.83492     0.464465      1.838848     0.803289\n",
      "min         4.30000     2.200000      1.000000     0.100000\n",
      "25%         5.10000     2.900000      1.500000     0.300000\n",
      "50%         5.80000     3.100000      4.200000     1.300000\n",
      "75%         6.40000     3.400000      5.100000     1.900000\n",
      "max         7.70000     4.400000      6.700000     2.500000\n"
     ]
    }
   ],
   "source": [
    "print('Test Dataset:')\n",
    "print(df_test.shape)\n",
    "print(df_test.head())\n",
    "print(df_test.describe())"
   ]
  },
  {
   "cell_type": "markdown",
   "metadata": {},
   "source": [
    "## Calculating Neighbors"
   ]
  },
  {
   "cell_type": "code",
   "execution_count": 16,
   "metadata": {},
   "outputs": [],
   "source": [
    "def getNeighbours(training_data_set, query_point, k, algo='euct', p=3):\n",
    "    '''\n",
    "    returns list having k neighbors to the given query data point\n",
    "    input:\n",
    "        training_data_set: Pandas DataFrame\n",
    "        query_point: Pandas DataSeries\n",
    "        k: Number of Neighbors to calculate\n",
    "        algo: type of distance algorithm to use\n",
    "            euct (euclidean distance default)\n",
    "            maht (manhattan)\n",
    "            mink (minkowski)\n",
    "            coss (cosine similarity)\n",
    "            cods (cosine dissimilarity/ cosine distance)\n",
    "        p: minkowski required p norm (default 3)\n",
    "    Output:\n",
    "        List of nearest data points\n",
    "    '''\n",
    "    distances = [] # list to hold all the neighbors\n",
    "    \n",
    "    # calcualte distance between query_point and every point in data set\n",
    "    # create a list\n",
    "    for x in range(len(training_data_set)):\n",
    "        # stip non-numeric label - in training data\n",
    "        v1 = training_data_set.iloc[x]\n",
    "        v1 = v1[['sepal_length', 'sepal_width', 'petal_length', 'petal_width']]\n",
    "        #print(type(v1), v1)\n",
    "        \n",
    "        # stip non-numeric label - in query data\n",
    "        q_v = query_point[['sepal_length', 'sepal_width', 'petal_length', 'petal_width']]\n",
    "        if algo == 'maht':\n",
    "            dist = manhanttan_dist(q_v, v1)\n",
    "        elif algo == 'mink':\n",
    "            dist = minkowski_dist(q_v, v1, p)\n",
    "        elif algo == 'coss':\n",
    "            dist = cosine_similarity(q_v, v1)\n",
    "        elif algo == 'cods':\n",
    "            dist = consine_dissimilarity(q_v, v1)\n",
    "        else:\n",
    "            dist = eucd_dist(q_v, v1)\n",
    "        distances.append((dist, training_data_set.iloc[x]))\n",
    "        \n",
    "    # sort the list in ascending order\n",
    "    distances.sort(key=lambda tup:tup[0])\n",
    "    #print(distances)\n",
    "    \n",
    "    # select k nearest neighbors and return it\n",
    "    neighbors = []\n",
    "    for i in range(k):\n",
    "        neighbors.append(distances[i][1])\n",
    "    return neighbors"
   ]
  },
  {
   "cell_type": "markdown",
   "metadata": {},
   "source": [
    "## Calculating Responses"
   ]
  },
  {
   "cell_type": "code",
   "execution_count": 17,
   "metadata": {},
   "outputs": [],
   "source": [
    "def getClassLabel(neighbors):\n",
    "    '''\n",
    "    returns the class label having majority vote\n",
    "    Note that it doesn't handle 'Not Sure' case yet\n",
    "    '''\n",
    "    class_votes = {} # dictionary keys are flowers, values are its counts\n",
    "    for x in range(len(neighbors)):\n",
    "        class_label = neighbors[x][-1]\n",
    "        if class_label in class_votes:\n",
    "            class_votes[class_label] += 1\n",
    "        else:\n",
    "            class_votes[class_label] = 1\n",
    "    \n",
    "    response = max(class_votes.items(), key=operator.itemgetter(1))[0]\n",
    "    return response"
   ]
  },
  {
   "cell_type": "markdown",
   "metadata": {},
   "source": [
    "## Accuracy of Predictions\n",
    "\n",
    "- Try to check accuray for k in range 1 to 9\n",
    "    - Euclidean Distance\n",
    "    - Cosine Similarity\n",
    "    - Manhattan Distance\n",
    "    - L_3 Norm (minkowski distance)"
   ]
  },
  {
   "cell_type": "code",
   "execution_count": 18,
   "metadata": {},
   "outputs": [],
   "source": [
    "# Max number of k that need to be tried\n",
    "max_k = 11"
   ]
  },
  {
   "cell_type": "markdown",
   "metadata": {},
   "source": [
    "### Euclidean Distance"
   ]
  },
  {
   "cell_type": "code",
   "execution_count": 19,
   "metadata": {},
   "outputs": [
    {
     "name": "stdout",
     "output_type": "stream",
     "text": [
      "k= 1  Accuracy:  100.0 , Total correct predictions:  45  out of  45\n",
      "k= 2  Accuracy:  100.0 , Total correct predictions:  45  out of  45\n",
      "k= 3  Accuracy:  97.778 , Total correct predictions:  44  out of  45\n",
      "k= 4  Accuracy:  97.778 , Total correct predictions:  44  out of  45\n",
      "k= 5  Accuracy:  97.778 , Total correct predictions:  44  out of  45\n",
      "k= 6  Accuracy:  97.778 , Total correct predictions:  44  out of  45\n",
      "k= 7  Accuracy:  97.778 , Total correct predictions:  44  out of  45\n",
      "k= 8  Accuracy:  97.778 , Total correct predictions:  44  out of  45\n",
      "k= 9  Accuracy:  95.556 , Total correct predictions:  43  out of  45\n",
      "k= 10  Accuracy:  97.778 , Total correct predictions:  44  out of  45\n",
      "['Euclidean-Distance', 100.0, 100.0, 97.778, 97.778, 97.778, 97.778, 97.778, 97.778, 95.556, 97.778]\n",
      "Wall time: 1min 15s\n"
     ]
    }
   ],
   "source": [
    "%%time\n",
    "\n",
    "ecut_dist_results = ['Euclidean-Distance']\n",
    "for k in range(1,max_k):\n",
    "    correct_predictions = 0\n",
    "    for t_index in range(len(df_test)):\n",
    "        test_data_point = df_test.iloc[t_index]\n",
    "        neighbors = getNeighbours(df_train, test_data_point, k)\n",
    "        predicted_class = getClassLabel(neighbors)\n",
    "        if predicted_class == test_data_point['species']:\n",
    "            correct_predictions += 1\n",
    "        #print('Predicted: ', predicted_class, ' Actual: ', test_data_point['species'])\n",
    "\n",
    "    accuracy = round((correct_predictions/len(df_test)) * 100,3)\n",
    "    print('k=',k,' Accuracy: ', accuracy,', Total correct predictions: ', correct_predictions, ' out of ', len(df_test))\n",
    "    ecut_dist_results.append(accuracy)\n",
    "    \n",
    "print(ecut_dist_results)"
   ]
  },
  {
   "cell_type": "markdown",
   "metadata": {},
   "source": [
    "### Cosine Similarity"
   ]
  },
  {
   "cell_type": "code",
   "execution_count": 20,
   "metadata": {},
   "outputs": [
    {
     "name": "stdout",
     "output_type": "stream",
     "text": [
      "k= 1  Accuracy:  0.0 , Total correct predictions:  0  out of  45\n",
      "k= 2  Accuracy:  0.0 , Total correct predictions:  0  out of  45\n",
      "k= 3  Accuracy:  0.0 , Total correct predictions:  0  out of  45\n",
      "k= 4  Accuracy:  0.0 , Total correct predictions:  0  out of  45\n",
      "k= 5  Accuracy:  0.0 , Total correct predictions:  0  out of  45\n",
      "k= 6  Accuracy:  0.0 , Total correct predictions:  0  out of  45\n",
      "k= 7  Accuracy:  0.0 , Total correct predictions:  0  out of  45\n",
      "k= 8  Accuracy:  0.0 , Total correct predictions:  0  out of  45\n",
      "k= 9  Accuracy:  0.0 , Total correct predictions:  0  out of  45\n",
      "k= 10  Accuracy:  0.0 , Total correct predictions:  0  out of  45\n",
      "['Cosine-Similarity', 0.0, 0.0, 0.0, 0.0, 0.0, 0.0, 0.0, 0.0, 0.0, 0.0]\n",
      "Wall time: 1min 17s\n"
     ]
    }
   ],
   "source": [
    "%%time\n",
    "\n",
    "# TO-DO\n",
    "# Standardize the Data\n",
    "#standardized_data = StandardScaler().fit_transform(final_counts.toarray().astype(np.float64)) #, with_mean=False\n",
    "#print('Shape of Standardized data', standardized_data.shape)\n",
    "\n",
    "coss_sim_results = ['Cosine-Similarity']\n",
    "for k in range(1,max_k):\n",
    "    correct_predictions = 0\n",
    "    for t_index in range(len(df_test)):\n",
    "        test_data_point = df_test.iloc[t_index]\n",
    "        neighbors = getNeighbours(df_train, test_data_point, k, 'coss')\n",
    "        predicted_class = getClassLabel(neighbors)\n",
    "        if predicted_class == test_data_point['species']:\n",
    "            correct_predictions += 1\n",
    "        #print('Predicted: ', predicted_class, ' Actual: ', test_data_point['species'])\n",
    "\n",
    "    accuracy = round((correct_predictions/len(df_test)) * 100,3)\n",
    "    print('k=',k,' Accuracy: ', accuracy,', Total correct predictions: ', correct_predictions, ' out of ', len(df_test))\n",
    "    coss_sim_results.append(accuracy)\n",
    "    \n",
    "print(coss_sim_results)"
   ]
  },
  {
   "cell_type": "markdown",
   "metadata": {},
   "source": [
    "### Cosine Distance"
   ]
  },
  {
   "cell_type": "code",
   "execution_count": 21,
   "metadata": {},
   "outputs": [
    {
     "name": "stdout",
     "output_type": "stream",
     "text": [
      "k= 1  Accuracy:  95.556 , Total correct predictions:  43  out of  45\n",
      "k= 2  Accuracy:  95.556 , Total correct predictions:  43  out of  45\n",
      "k= 3  Accuracy:  100.0 , Total correct predictions:  45  out of  45\n",
      "k= 4  Accuracy:  100.0 , Total correct predictions:  45  out of  45\n",
      "k= 5  Accuracy:  100.0 , Total correct predictions:  45  out of  45\n",
      "k= 6  Accuracy:  100.0 , Total correct predictions:  45  out of  45\n",
      "k= 7  Accuracy:  100.0 , Total correct predictions:  45  out of  45\n",
      "k= 8  Accuracy:  100.0 , Total correct predictions:  45  out of  45\n",
      "k= 9  Accuracy:  100.0 , Total correct predictions:  45  out of  45\n",
      "k= 10  Accuracy:  100.0 , Total correct predictions:  45  out of  45\n",
      "['Cosine-Dissimilarity', 95.556, 95.556, 100.0, 100.0, 100.0, 100.0, 100.0, 100.0, 100.0, 100.0]\n",
      "Wall time: 1min 17s\n"
     ]
    }
   ],
   "source": [
    "%%time\n",
    "\n",
    "# TO-DO\n",
    "# Standardize the Data\n",
    "#standardized_data = StandardScaler().fit_transform(final_counts.toarray().astype(np.float64)) #, with_mean=False\n",
    "#print('Shape of Standardized data', standardized_data.shape)\n",
    "\n",
    "coss_dissim_results = ['Cosine-Dissimilarity']\n",
    "for k in range(1,max_k):\n",
    "    correct_predictions = 0\n",
    "    for t_index in range(len(df_test)):\n",
    "        test_data_point = df_test.iloc[t_index]\n",
    "        neighbors = getNeighbours(df_train, test_data_point, k, 'cods')\n",
    "        predicted_class = getClassLabel(neighbors)\n",
    "        if predicted_class == test_data_point['species']:\n",
    "            correct_predictions += 1\n",
    "        #print('Predicted: ', predicted_class, ' Actual: ', test_data_point['species'])\n",
    "\n",
    "    accuracy = round((correct_predictions/len(df_test)) * 100,3)\n",
    "    print('k=',k,' Accuracy: ', accuracy,', Total correct predictions: ', correct_predictions, ' out of ', len(df_test))\n",
    "    coss_dissim_results.append(accuracy)\n",
    "    \n",
    "print(coss_dissim_results)"
   ]
  },
  {
   "cell_type": "markdown",
   "metadata": {},
   "source": [
    "### Manhattan Distance"
   ]
  },
  {
   "cell_type": "code",
   "execution_count": 22,
   "metadata": {},
   "outputs": [
    {
     "name": "stdout",
     "output_type": "stream",
     "text": [
      "k= 1  Accuracy:  100.0 , Total correct predictions:  45  out of  45\n",
      "k= 2  Accuracy:  100.0 , Total correct predictions:  45  out of  45\n",
      "k= 3  Accuracy:  97.778 , Total correct predictions:  44  out of  45\n",
      "k= 4  Accuracy:  97.778 , Total correct predictions:  44  out of  45\n",
      "k= 5  Accuracy:  97.778 , Total correct predictions:  44  out of  45\n",
      "k= 6  Accuracy:  97.778 , Total correct predictions:  44  out of  45\n",
      "k= 7  Accuracy:  97.778 , Total correct predictions:  44  out of  45\n",
      "k= 8  Accuracy:  97.778 , Total correct predictions:  44  out of  45\n",
      "k= 9  Accuracy:  95.556 , Total correct predictions:  43  out of  45\n",
      "k= 10  Accuracy:  97.778 , Total correct predictions:  44  out of  45\n",
      "['Manhattan', 100.0, 100.0, 97.778, 97.778, 97.778, 97.778, 97.778, 97.778, 95.556, 97.778]\n",
      "Wall time: 1min 15s\n"
     ]
    }
   ],
   "source": [
    "%%time\n",
    "\n",
    "manhattan_results = ['Manhattan']\n",
    "for k in range(1,max_k):\n",
    "    correct_predictions = 0\n",
    "    for t_index in range(len(df_test)):\n",
    "        test_data_point = df_test.iloc[t_index]\n",
    "        neighbors = getNeighbours(df_train, test_data_point, k, 'maht')\n",
    "        predicted_class = getClassLabel(neighbors)\n",
    "        if predicted_class == test_data_point['species']:\n",
    "            correct_predictions += 1\n",
    "        #print('Predicted: ', predicted_class, ' Actual: ', test_data_point['species'])\n",
    "\n",
    "    accuracy = round((correct_predictions/len(df_test)) * 100,3)\n",
    "    print('k=',k,' Accuracy: ', accuracy,', Total correct predictions: ', correct_predictions, ' out of ', len(df_test))\n",
    "    manhattan_results.append(accuracy)\n",
    "    \n",
    "print(manhattan_results)"
   ]
  },
  {
   "cell_type": "markdown",
   "metadata": {},
   "source": [
    "### Minkowski Distance with p=3"
   ]
  },
  {
   "cell_type": "code",
   "execution_count": 23,
   "metadata": {},
   "outputs": [
    {
     "name": "stdout",
     "output_type": "stream",
     "text": [
      "k= 1  Accuracy:  100.0 , Total correct predictions:  45  out of  45\n",
      "k= 2  Accuracy:  100.0 , Total correct predictions:  45  out of  45\n",
      "k= 3  Accuracy:  97.778 , Total correct predictions:  44  out of  45\n",
      "k= 4  Accuracy:  97.778 , Total correct predictions:  44  out of  45\n",
      "k= 5  Accuracy:  97.778 , Total correct predictions:  44  out of  45\n",
      "k= 6  Accuracy:  100.0 , Total correct predictions:  45  out of  45\n",
      "k= 7  Accuracy:  97.778 , Total correct predictions:  44  out of  45\n",
      "k= 8  Accuracy:  97.778 , Total correct predictions:  44  out of  45\n",
      "k= 9  Accuracy:  97.778 , Total correct predictions:  44  out of  45\n",
      "k= 10  Accuracy:  97.778 , Total correct predictions:  44  out of  45\n",
      "['Minkowski p=3', 100.0, 100.0, 97.778, 97.778, 97.778, 100.0, 97.778, 97.778, 97.778, 97.778]\n",
      "Wall time: 1min 25s\n"
     ]
    }
   ],
   "source": [
    "%%time\n",
    "\n",
    "minkowsi_results_3 = ['Minkowski p=3']\n",
    "for k in range(1,max_k):\n",
    "    correct_predictions = 0\n",
    "    for t_index in range(len(df_test)):\n",
    "        test_data_point = df_test.iloc[t_index]\n",
    "        neighbors = getNeighbours(df_train, test_data_point, k, 'mink')\n",
    "        predicted_class = getClassLabel(neighbors)\n",
    "        if predicted_class == test_data_point['species']:\n",
    "            correct_predictions += 1\n",
    "        #print('Predicted: ', predicted_class, ' Actual: ', test_data_point['species'])\n",
    "\n",
    "    accuracy = round((correct_predictions/len(df_test)) * 100,3)\n",
    "    print('k=',k,' Accuracy: ', accuracy,', Total correct predictions: ', correct_predictions, ' out of ', len(df_test))\n",
    "    minkowsi_results_3.append(accuracy)\n",
    "    \n",
    "print(minkowsi_results_3)"
   ]
  },
  {
   "cell_type": "markdown",
   "metadata": {},
   "source": [
    "### Minkowski Distance with p=4"
   ]
  },
  {
   "cell_type": "code",
   "execution_count": 24,
   "metadata": {},
   "outputs": [
    {
     "name": "stdout",
     "output_type": "stream",
     "text": [
      "k= 1  Accuracy:  100.0 , Total correct predictions:  45  out of  45\n",
      "k= 2  Accuracy:  100.0 , Total correct predictions:  45  out of  45\n",
      "k= 3  Accuracy:  97.778 , Total correct predictions:  44  out of  45\n",
      "k= 4  Accuracy:  97.778 , Total correct predictions:  44  out of  45\n",
      "k= 5  Accuracy:  97.778 , Total correct predictions:  44  out of  45\n",
      "k= 6  Accuracy:  100.0 , Total correct predictions:  45  out of  45\n",
      "k= 7  Accuracy:  97.778 , Total correct predictions:  44  out of  45\n",
      "k= 8  Accuracy:  97.778 , Total correct predictions:  44  out of  45\n",
      "k= 9  Accuracy:  97.778 , Total correct predictions:  44  out of  45\n",
      "k= 10  Accuracy:  97.778 , Total correct predictions:  44  out of  45\n",
      "['Minkowski p=4', 100.0, 100.0, 97.778, 97.778, 97.778, 100.0, 97.778, 97.778, 97.778, 97.778]\n",
      "Wall time: 1min 25s\n"
     ]
    }
   ],
   "source": [
    "%%time\n",
    "\n",
    "minkowsi_results_4 = ['Minkowski p=4']\n",
    "for k in range(1,max_k):\n",
    "    correct_predictions = 0\n",
    "    for t_index in range(len(df_test)):\n",
    "        test_data_point = df_test.iloc[t_index]\n",
    "        neighbors = getNeighbours(df_train, test_data_point, k, 'mink')\n",
    "        predicted_class = getClassLabel(neighbors)\n",
    "        if predicted_class == test_data_point['species']:\n",
    "            correct_predictions += 1\n",
    "        #print('Predicted: ', predicted_class, ' Actual: ', test_data_point['species'])\n",
    "\n",
    "    accuracy = round((correct_predictions/len(df_test)) * 100,3)\n",
    "    print('k=',k,' Accuracy: ', accuracy,', Total correct predictions: ', correct_predictions, ' out of ', len(df_test))\n",
    "    minkowsi_results_4.append(accuracy)\n",
    "    \n",
    "print(minkowsi_results_4)"
   ]
  },
  {
   "cell_type": "markdown",
   "metadata": {},
   "source": [
    "## Accuracy Result"
   ]
  },
  {
   "cell_type": "code",
   "execution_count": 25,
   "metadata": {},
   "outputs": [
    {
     "data": {
      "text/html": [
       "<div>\n",
       "<style scoped>\n",
       "    .dataframe tbody tr th:only-of-type {\n",
       "        vertical-align: middle;\n",
       "    }\n",
       "\n",
       "    .dataframe tbody tr th {\n",
       "        vertical-align: top;\n",
       "    }\n",
       "\n",
       "    .dataframe thead th {\n",
       "        text-align: right;\n",
       "    }\n",
       "</style>\n",
       "<table border=\"1\" class=\"dataframe\">\n",
       "  <thead>\n",
       "    <tr style=\"text-align: right;\">\n",
       "      <th></th>\n",
       "      <th>Method</th>\n",
       "      <th>1</th>\n",
       "      <th>2</th>\n",
       "      <th>3</th>\n",
       "      <th>4</th>\n",
       "      <th>5</th>\n",
       "      <th>6</th>\n",
       "      <th>7</th>\n",
       "      <th>8</th>\n",
       "      <th>9</th>\n",
       "      <th>10</th>\n",
       "    </tr>\n",
       "  </thead>\n",
       "  <tbody>\n",
       "    <tr>\n",
       "      <th>0</th>\n",
       "      <td>Euclidean-Distance</td>\n",
       "      <td>100.000</td>\n",
       "      <td>100.000</td>\n",
       "      <td>97.778</td>\n",
       "      <td>97.778</td>\n",
       "      <td>97.778</td>\n",
       "      <td>97.778</td>\n",
       "      <td>97.778</td>\n",
       "      <td>97.778</td>\n",
       "      <td>95.556</td>\n",
       "      <td>97.778</td>\n",
       "    </tr>\n",
       "    <tr>\n",
       "      <th>1</th>\n",
       "      <td>Cosine-Similarity</td>\n",
       "      <td>0.000</td>\n",
       "      <td>0.000</td>\n",
       "      <td>0.000</td>\n",
       "      <td>0.000</td>\n",
       "      <td>0.000</td>\n",
       "      <td>0.000</td>\n",
       "      <td>0.000</td>\n",
       "      <td>0.000</td>\n",
       "      <td>0.000</td>\n",
       "      <td>0.000</td>\n",
       "    </tr>\n",
       "    <tr>\n",
       "      <th>2</th>\n",
       "      <td>Cosine-Dissimilarity</td>\n",
       "      <td>95.556</td>\n",
       "      <td>95.556</td>\n",
       "      <td>100.000</td>\n",
       "      <td>100.000</td>\n",
       "      <td>100.000</td>\n",
       "      <td>100.000</td>\n",
       "      <td>100.000</td>\n",
       "      <td>100.000</td>\n",
       "      <td>100.000</td>\n",
       "      <td>100.000</td>\n",
       "    </tr>\n",
       "    <tr>\n",
       "      <th>3</th>\n",
       "      <td>Manhattan</td>\n",
       "      <td>100.000</td>\n",
       "      <td>100.000</td>\n",
       "      <td>97.778</td>\n",
       "      <td>97.778</td>\n",
       "      <td>97.778</td>\n",
       "      <td>97.778</td>\n",
       "      <td>97.778</td>\n",
       "      <td>97.778</td>\n",
       "      <td>95.556</td>\n",
       "      <td>97.778</td>\n",
       "    </tr>\n",
       "    <tr>\n",
       "      <th>4</th>\n",
       "      <td>Minkowski p=3</td>\n",
       "      <td>100.000</td>\n",
       "      <td>100.000</td>\n",
       "      <td>97.778</td>\n",
       "      <td>97.778</td>\n",
       "      <td>97.778</td>\n",
       "      <td>100.000</td>\n",
       "      <td>97.778</td>\n",
       "      <td>97.778</td>\n",
       "      <td>97.778</td>\n",
       "      <td>97.778</td>\n",
       "    </tr>\n",
       "    <tr>\n",
       "      <th>5</th>\n",
       "      <td>Minkowski p=4</td>\n",
       "      <td>100.000</td>\n",
       "      <td>100.000</td>\n",
       "      <td>97.778</td>\n",
       "      <td>97.778</td>\n",
       "      <td>97.778</td>\n",
       "      <td>100.000</td>\n",
       "      <td>97.778</td>\n",
       "      <td>97.778</td>\n",
       "      <td>97.778</td>\n",
       "      <td>97.778</td>\n",
       "    </tr>\n",
       "  </tbody>\n",
       "</table>\n",
       "</div>"
      ],
      "text/plain": [
       "                 Method        1        2        3        4        5        6  \\\n",
       "0    Euclidean-Distance  100.000  100.000   97.778   97.778   97.778   97.778   \n",
       "1     Cosine-Similarity    0.000    0.000    0.000    0.000    0.000    0.000   \n",
       "2  Cosine-Dissimilarity   95.556   95.556  100.000  100.000  100.000  100.000   \n",
       "3             Manhattan  100.000  100.000   97.778   97.778   97.778   97.778   \n",
       "4         Minkowski p=3  100.000  100.000   97.778   97.778   97.778  100.000   \n",
       "5         Minkowski p=4  100.000  100.000   97.778   97.778   97.778  100.000   \n",
       "\n",
       "         7        8        9       10  \n",
       "0   97.778   97.778   95.556   97.778  \n",
       "1    0.000    0.000    0.000    0.000  \n",
       "2  100.000  100.000  100.000  100.000  \n",
       "3   97.778   97.778   95.556   97.778  \n",
       "4   97.778   97.778   97.778   97.778  \n",
       "5   97.778   97.778   97.778   97.778  "
      ]
     },
     "execution_count": 25,
     "metadata": {},
     "output_type": "execute_result"
    }
   ],
   "source": [
    "col_names = ['Method']\n",
    "[col_names.append(k) for k in range(1,max_k)]\n",
    "disp_df = pd.DataFrame([ecut_dist_results, coss_sim_results, coss_dissim_results, manhattan_results, minkowsi_results_3,minkowsi_results_4], columns=col_names)\n",
    "disp_df.head(len(disp_df))"
   ]
  },
  {
   "cell_type": "markdown",
   "metadata": {},
   "source": [
    "# Observation\n",
    "\n",
    "- Training Data highly influences the prediction accuracy\n",
    "    - if we rerun this test multiple times, you can see differences in accuracy for each test\n",
    "    - High Sample Variability seen (Variance)\n",
    "- Low Bias observered (most prediction matches with actual class)\n",
    "- Cosine Similairy\n",
    "    - almost no correct prediction is expected for this dataset\n",
    "    - Since we are using ordinal values, the magnitude (that is we are using length, which is an ordinal measure) also need to be considered\n",
    "    - but cosine similarity dont consider magnitude, it consideres only angle between vectors\n",
    "    - so we are having almost incorrect predictions\n",
    "- Cosine Dissimilarity\n",
    "    - Yet to understand this observation\n",
    "- on multiple trials, it can be observed that prediction performenece is very good\n",
    "    - but still K is chosen based on above table means, it is a overfitting.\n",
    "    - That is trying to find proper K in K-NN based on test data point. Making test data point indirectly as training data, because it is the deciding factor for K value.\n",
    "        - THis will not perform well with actual unseen data"
   ]
  },
  {
   "cell_type": "markdown",
   "metadata": {},
   "source": [
    "# Some plotting of data for more understanding on observation"
   ]
  },
  {
   "cell_type": "code",
   "execution_count": 26,
   "metadata": {},
   "outputs": [
    {
     "data": {
      "text/plain": [
       "<matplotlib.axes._subplots.AxesSubplot at 0x2722b1f0fd0>"
      ]
     },
     "execution_count": 26,
     "metadata": {},
     "output_type": "execute_result"
    }
   ],
   "source": [
    "# Checking how images are classifiable \n",
    "ax = df[df['species'] == 'setosa'].plot.scatter(x='sepal_length', y='sepal_width', c = 'blue', label='setosa')\n",
    "ax = df[df['species'] == 'versicolor'].plot.scatter(x='sepal_length', y='sepal_width', c = 'orange', label='versicolor', ax=ax)\n",
    "ax = df[df['species'] == 'virginica'].plot.scatter(x='sepal_length', y='sepal_width', c = 'green', label='virginica', ax=ax)\n",
    "ax"
   ]
  },
  {
   "cell_type": "code",
   "execution_count": 27,
   "metadata": {},
   "outputs": [
    {
     "data": {
      "text/plain": [
       "<matplotlib.axes._subplots.AxesSubplot at 0x2722b50be48>"
      ]
     },
     "execution_count": 27,
     "metadata": {},
     "output_type": "execute_result"
    },
    {
     "data": {
      "image/png": "[encoded data removed]",
      "text/plain": [
       "<Figure size 432x288 with 1 Axes>"
      ]
     },
     "metadata": {
      "needs_background": "light"
     },
     "output_type": "display_data"
    }
   ],
   "source": [
    "# Checking how images are classifiable \n",
    "ax = df[df['species'] == 'setosa'].plot.scatter(x='petal_length', y='petal_width', c = 'blue', label='setosa')\n",
    "ax = df[df['species'] == 'versicolor'].plot.scatter(x='petal_length', y='petal_width', c = 'orange', label='versicolor', ax=ax)\n",
    "ax = df[df['species'] == 'virginica'].plot.scatter(x='petal_length', y='petal_width', c = 'green', label='virginica', ax=ax)\n",
    "ax"
   ]
  },
  {
   "cell_type": "code",
   "execution_count": null,
   "metadata": {},
   "outputs": [],
   "source": []
  }
 ],
 "metadata": {
  "kernelspec": {
   "display_name": "Python 3",
   "language": "python",
   "name": "python3"
  },
  "language_info": {
   "codemirror_mode": {
    "name": "ipython",
    "version": 3
   },
   "file_extension": ".py",
   "mimetype": "text/x-python",
   "name": "python",
   "nbconvert_exporter": "python",
   "pygments_lexer": "ipython3",
   "version": "3.6.7"
  },
  "toc-autonumbering": true
 },
 "nbformat": 4,
 "nbformat_minor": 2
}
